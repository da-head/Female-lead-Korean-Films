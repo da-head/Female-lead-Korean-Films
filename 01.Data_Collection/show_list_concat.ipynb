{
 "cells": [
  {
   "cell_type": "code",
   "execution_count": 1,
   "metadata": {},
   "outputs": [],
   "source": [
    "import pandas as pd\n",
    "import numpy as np\n",
    "# import matplotlib\n",
    "# import matplotlib.pyplot as plt\n",
    "# import seaborn as sns\n",
    "# import plotly.express as px\n",
    "# import plotly.graph_objects as go\n",
    "\n",
    "# 전체 컬럼, 전체 행, 전체 숫자 출력\n",
    "pd.set_option('display.max_columns', None)\n",
    "pd.set_option('display.max_rows', None)\n",
    "pd.set_option('float_format', '{:f}'.format)\n",
    "\n",
    "# # plot 출력\n",
    "# %matplotlib inline\n",
    "\n",
    "# # plot 한글출력\n",
    "# import matplotlib.font_manager as fm\n",
    "\n",
    "# for font in fm.fontManager.ttflist:\n",
    "#     if font.name in ['AppleGothic', 'NanumGothic']:\n",
    "#         plt.rcParams['font.family'] = font.name\n",
    "#     break\n",
    "\n",
    "# warning message 제거\n",
    "import warnings\n",
    "warnings.filterwarnings('ignore')"
   ]
  },
  {
   "cell_type": "code",
   "execution_count": 2,
   "metadata": {
    "scrolled": true
   },
   "outputs": [
    {
     "name": "stdout",
     "output_type": "stream",
     "text": [
      "(685, 38)\n"
     ]
    },
    {
     "data": {
      "text/html": [
       "<div>\n",
       "<style scoped>\n",
       "    .dataframe tbody tr th:only-of-type {\n",
       "        vertical-align: middle;\n",
       "    }\n",
       "\n",
       "    .dataframe tbody tr th {\n",
       "        vertical-align: top;\n",
       "    }\n",
       "\n",
       "    .dataframe thead th {\n",
       "        text-align: right;\n",
       "    }\n",
       "</style>\n",
       "<table border=\"1\" class=\"dataframe\">\n",
       "  <thead>\n",
       "    <tr style=\"text-align: right;\">\n",
       "      <th></th>\n",
       "      <th>영화명</th>\n",
       "      <th>영화코드</th>\n",
       "      <th>개봉일</th>\n",
       "      <th>대표국적</th>\n",
       "      <th>국적</th>\n",
       "      <th>장르</th>\n",
       "      <th>등급</th>\n",
       "      <th>영화형태</th>\n",
       "      <th>영화구분</th>\n",
       "      <th>제작사</th>\n",
       "      <th>배급사</th>\n",
       "      <th>상영횟수</th>\n",
       "      <th>전국스크린수</th>\n",
       "      <th>전국매출액</th>\n",
       "      <th>전국관객수</th>\n",
       "      <th>서울매출액</th>\n",
       "      <th>서울관객수</th>\n",
       "      <th>F-rated</th>\n",
       "      <th>감독</th>\n",
       "      <th>대표감독</th>\n",
       "      <th>감독코드</th>\n",
       "      <th>감독성별</th>\n",
       "      <th>감독_대표역할</th>\n",
       "      <th>감독필모</th>\n",
       "      <th>작가</th>\n",
       "      <th>대표작가</th>\n",
       "      <th>대표작가(필명)</th>\n",
       "      <th>작가코드</th>\n",
       "      <th>작가성별</th>\n",
       "      <th>작가_대표역할</th>\n",
       "      <th>작가필모</th>\n",
       "      <th>배우</th>\n",
       "      <th>주연배우</th>\n",
       "      <th>배역명</th>\n",
       "      <th>배우코드</th>\n",
       "      <th>배우성별</th>\n",
       "      <th>배우_대표역할</th>\n",
       "      <th>배우필모</th>\n",
       "    </tr>\n",
       "  </thead>\n",
       "  <tbody>\n",
       "    <tr>\n",
       "      <th>73</th>\n",
       "      <td>협녀, 칼의 기억</td>\n",
       "      <td>20130021</td>\n",
       "      <td>2015-08-13</td>\n",
       "      <td>한국</td>\n",
       "      <td>한국</td>\n",
       "      <td>사극,액션</td>\n",
       "      <td>15세이상관람가</td>\n",
       "      <td>장편</td>\n",
       "      <td>일반영화</td>\n",
       "      <td>(주)티피에스컴퍼니</td>\n",
       "      <td>롯데컬처웍스(주)롯데엔터테인먼트</td>\n",
       "      <td>16099</td>\n",
       "      <td>572</td>\n",
       "      <td>3360045489.000000</td>\n",
       "      <td>431310</td>\n",
       "      <td>999537689</td>\n",
       "      <td>123013</td>\n",
       "      <td>0</td>\n",
       "      <td>박흥식</td>\n",
       "      <td>박흥식</td>\n",
       "      <td>20110989</td>\n",
       "      <td>남자</td>\n",
       "      <td>감독</td>\n",
       "      <td>해어화|협녀, 칼의 기억|천국의 아이들|사랑해, 말순씨|인어 공주|나도 아내가 있었...</td>\n",
       "      <td>박흥식, 최아름</td>\n",
       "      <td>박흥식</td>\n",
       "      <td>박흥식</td>\n",
       "      <td>20110989</td>\n",
       "      <td>남자</td>\n",
       "      <td>감독</td>\n",
       "      <td>해어화|협녀, 칼의 기억|천국의 아이들|사랑해, 말순씨|인어 공주|나도 아내가 있었...</td>\n",
       "      <td>이병헌,전도연,김고은,이경영,김태우,이준호,배수빈,문성근,박슬기,장윤성,장은태,강풍...</td>\n",
       "      <td>이병헌</td>\n",
       "      <td>강타</td>\n",
       "      <td>10055626</td>\n",
       "      <td>남자</td>\n",
       "      <td>배우</td>\n",
       "      <td>비상선언|백두산|남산의 부장들|그것만이 내 세상|남한산성|싱글라이더|마스터|매그니피...</td>\n",
       "    </tr>\n",
       "  </tbody>\n",
       "</table>\n",
       "</div>"
      ],
      "text/plain": [
       "          영화명      영화코드         개봉일 대표국적  국적     장르        등급 영화형태  영화구분  \\\n",
       "73  협녀, 칼의 기억  20130021  2015-08-13   한국  한국  사극,액션  15세이상관람가   장편  일반영화   \n",
       "\n",
       "           제작사                배급사   상영횟수  전국스크린수             전국매출액   전국관객수  \\\n",
       "73  (주)티피에스컴퍼니  롯데컬처웍스(주)롯데엔터테인먼트  16099     572 3360045489.000000  431310   \n",
       "\n",
       "        서울매출액   서울관객수  F-rated   감독 대표감독      감독코드 감독성별 감독_대표역할  \\\n",
       "73  999537689  123013        0  박흥식  박흥식  20110989   남자      감독   \n",
       "\n",
       "                                                 감독필모        작가 대표작가 대표작가(필명)  \\\n",
       "73  해어화|협녀, 칼의 기억|천국의 아이들|사랑해, 말순씨|인어 공주|나도 아내가 있었...  박흥식, 최아름  박흥식      박흥식   \n",
       "\n",
       "        작가코드 작가성별 작가_대표역할                                               작가필모  \\\n",
       "73  20110989   남자      감독  해어화|협녀, 칼의 기억|천국의 아이들|사랑해, 말순씨|인어 공주|나도 아내가 있었...   \n",
       "\n",
       "                                                   배우 주연배우 배역명      배우코드 배우성별  \\\n",
       "73  이병헌,전도연,김고은,이경영,김태우,이준호,배수빈,문성근,박슬기,장윤성,장은태,강풍...  이병헌  강타  10055626   남자   \n",
       "\n",
       "   배우_대표역할                                               배우필모  \n",
       "73      배우  비상선언|백두산|남산의 부장들|그것만이 내 세상|남한산성|싱글라이더|마스터|매그니피...  "
      ]
     },
     "execution_count": 2,
     "metadata": {},
     "output_type": "execute_result"
    }
   ],
   "source": [
    "boxoffice = pd.read_csv('films_updated.csv')\n",
    "print(boxoffice.shape)\n",
    "boxoffice.sample()"
   ]
  },
  {
   "cell_type": "code",
   "execution_count": 3,
   "metadata": {},
   "outputs": [
    {
     "data": {
      "text/plain": [
       "685"
      ]
     },
     "execution_count": 3,
     "metadata": {},
     "output_type": "execute_result"
    }
   ],
   "source": [
    "k_movie_list = list(boxoffice['영화명'])\n",
    "\n",
    "len(k_movie_list)"
   ]
  },
  {
   "cell_type": "code",
   "execution_count": null,
   "metadata": {},
   "outputs": [],
   "source": []
  },
  {
   "cell_type": "code",
   "execution_count": 136,
   "metadata": {
    "collapsed": true
   },
   "outputs": [
    {
     "ename": "IndexError",
     "evalue": "('list index out of range', 'occurred at index 1회')",
     "output_type": "error",
     "traceback": [
      "\u001b[1;31m---------------------------------------------------------------------------\u001b[0m",
      "\u001b[1;31mIndexError\u001b[0m                                Traceback (most recent call last)",
      "\u001b[1;32m<ipython-input-136-c7484422caee>\u001b[0m in \u001b[0;36m<module>\u001b[1;34m\u001b[0m\n\u001b[0;32m      1\u001b[0m \u001b[1;31m# df.iloc[:, 2:-1] = df.iloc[:, 2:-1].astype(str).applymap(lambda x: x if x.split(',')[1].split('(')[0].strip() in ko_movie_list else '-')\u001b[0m\u001b[1;33m\u001b[0m\u001b[1;33m\u001b[0m\u001b[1;33m\u001b[0m\u001b[0m\n\u001b[1;32m----> 2\u001b[1;33m \u001b[0mdf\u001b[0m\u001b[1;33m.\u001b[0m\u001b[0miloc\u001b[0m\u001b[1;33m[\u001b[0m\u001b[1;33m:\u001b[0m\u001b[1;33m,\u001b[0m \u001b[1;36m2\u001b[0m\u001b[1;33m:\u001b[0m\u001b[1;33m-\u001b[0m\u001b[1;36m1\u001b[0m\u001b[1;33m]\u001b[0m\u001b[1;33m.\u001b[0m\u001b[0mastype\u001b[0m\u001b[1;33m(\u001b[0m\u001b[0mstr\u001b[0m\u001b[1;33m)\u001b[0m\u001b[1;33m.\u001b[0m\u001b[0mapplymap\u001b[0m\u001b[1;33m(\u001b[0m\u001b[1;32mlambda\u001b[0m \u001b[0mx\u001b[0m\u001b[1;33m:\u001b[0m \u001b[0mx\u001b[0m \u001b[1;32mif\u001b[0m \u001b[0mx\u001b[0m\u001b[1;33m.\u001b[0m\u001b[0msplit\u001b[0m\u001b[1;33m(\u001b[0m\u001b[1;34m','\u001b[0m\u001b[1;33m)\u001b[0m\u001b[1;33m[\u001b[0m\u001b[1;36m1\u001b[0m\u001b[1;33m]\u001b[0m\u001b[1;33m.\u001b[0m\u001b[0msplit\u001b[0m\u001b[1;33m(\u001b[0m\u001b[1;34m'('\u001b[0m\u001b[1;33m)\u001b[0m\u001b[1;33m[\u001b[0m\u001b[1;36m0\u001b[0m\u001b[1;33m]\u001b[0m\u001b[1;33m.\u001b[0m\u001b[0mstrip\u001b[0m\u001b[1;33m(\u001b[0m\u001b[1;33m)\u001b[0m \u001b[1;32min\u001b[0m \u001b[0mko_movie_list\u001b[0m \u001b[1;32melse\u001b[0m \u001b[1;34m'-'\u001b[0m\u001b[1;33m)\u001b[0m\u001b[1;33m\u001b[0m\u001b[1;33m\u001b[0m\u001b[0m\n\u001b[0m\u001b[0;32m      3\u001b[0m \u001b[1;33m\u001b[0m\u001b[0m\n\u001b[0;32m      4\u001b[0m \u001b[1;31m# showtimes = [''.join(df.iloc[i, 2:-1]) for i in range(len(df))]\u001b[0m\u001b[1;33m\u001b[0m\u001b[1;33m\u001b[0m\u001b[1;33m\u001b[0m\u001b[0m\n\u001b[0;32m      5\u001b[0m \u001b[1;33m\u001b[0m\u001b[0m\n",
      "\u001b[1;32m~\\Anaconda3\\lib\\site-packages\\pandas\\core\\frame.py\u001b[0m in \u001b[0;36mapplymap\u001b[1;34m(self, func)\u001b[0m\n\u001b[0;32m   6551\u001b[0m             \u001b[1;32mreturn\u001b[0m \u001b[0mlib\u001b[0m\u001b[1;33m.\u001b[0m\u001b[0mmap_infer\u001b[0m\u001b[1;33m(\u001b[0m\u001b[0mx\u001b[0m\u001b[1;33m.\u001b[0m\u001b[0mastype\u001b[0m\u001b[1;33m(\u001b[0m\u001b[0mobject\u001b[0m\u001b[1;33m)\u001b[0m\u001b[1;33m.\u001b[0m\u001b[0mvalues\u001b[0m\u001b[1;33m,\u001b[0m \u001b[0mfunc\u001b[0m\u001b[1;33m)\u001b[0m\u001b[1;33m\u001b[0m\u001b[1;33m\u001b[0m\u001b[0m\n\u001b[0;32m   6552\u001b[0m \u001b[1;33m\u001b[0m\u001b[0m\n\u001b[1;32m-> 6553\u001b[1;33m         \u001b[1;32mreturn\u001b[0m \u001b[0mself\u001b[0m\u001b[1;33m.\u001b[0m\u001b[0mapply\u001b[0m\u001b[1;33m(\u001b[0m\u001b[0minfer\u001b[0m\u001b[1;33m)\u001b[0m\u001b[1;33m\u001b[0m\u001b[1;33m\u001b[0m\u001b[0m\n\u001b[0m\u001b[0;32m   6554\u001b[0m \u001b[1;33m\u001b[0m\u001b[0m\n\u001b[0;32m   6555\u001b[0m     \u001b[1;31m# ----------------------------------------------------------------------\u001b[0m\u001b[1;33m\u001b[0m\u001b[1;33m\u001b[0m\u001b[1;33m\u001b[0m\u001b[0m\n",
      "\u001b[1;32m~\\Anaconda3\\lib\\site-packages\\pandas\\core\\frame.py\u001b[0m in \u001b[0;36mapply\u001b[1;34m(self, func, axis, broadcast, raw, reduce, result_type, args, **kwds)\u001b[0m\n\u001b[0;32m   6485\u001b[0m                          \u001b[0margs\u001b[0m\u001b[1;33m=\u001b[0m\u001b[0margs\u001b[0m\u001b[1;33m,\u001b[0m\u001b[1;33m\u001b[0m\u001b[1;33m\u001b[0m\u001b[0m\n\u001b[0;32m   6486\u001b[0m                          kwds=kwds)\n\u001b[1;32m-> 6487\u001b[1;33m         \u001b[1;32mreturn\u001b[0m \u001b[0mop\u001b[0m\u001b[1;33m.\u001b[0m\u001b[0mget_result\u001b[0m\u001b[1;33m(\u001b[0m\u001b[1;33m)\u001b[0m\u001b[1;33m\u001b[0m\u001b[1;33m\u001b[0m\u001b[0m\n\u001b[0m\u001b[0;32m   6488\u001b[0m \u001b[1;33m\u001b[0m\u001b[0m\n\u001b[0;32m   6489\u001b[0m     \u001b[1;32mdef\u001b[0m \u001b[0mapplymap\u001b[0m\u001b[1;33m(\u001b[0m\u001b[0mself\u001b[0m\u001b[1;33m,\u001b[0m \u001b[0mfunc\u001b[0m\u001b[1;33m)\u001b[0m\u001b[1;33m:\u001b[0m\u001b[1;33m\u001b[0m\u001b[1;33m\u001b[0m\u001b[0m\n",
      "\u001b[1;32m~\\Anaconda3\\lib\\site-packages\\pandas\\core\\apply.py\u001b[0m in \u001b[0;36mget_result\u001b[1;34m(self)\u001b[0m\n\u001b[0;32m    149\u001b[0m             \u001b[1;32mreturn\u001b[0m \u001b[0mself\u001b[0m\u001b[1;33m.\u001b[0m\u001b[0mapply_raw\u001b[0m\u001b[1;33m(\u001b[0m\u001b[1;33m)\u001b[0m\u001b[1;33m\u001b[0m\u001b[1;33m\u001b[0m\u001b[0m\n\u001b[0;32m    150\u001b[0m \u001b[1;33m\u001b[0m\u001b[0m\n\u001b[1;32m--> 151\u001b[1;33m         \u001b[1;32mreturn\u001b[0m \u001b[0mself\u001b[0m\u001b[1;33m.\u001b[0m\u001b[0mapply_standard\u001b[0m\u001b[1;33m(\u001b[0m\u001b[1;33m)\u001b[0m\u001b[1;33m\u001b[0m\u001b[1;33m\u001b[0m\u001b[0m\n\u001b[0m\u001b[0;32m    152\u001b[0m \u001b[1;33m\u001b[0m\u001b[0m\n\u001b[0;32m    153\u001b[0m     \u001b[1;32mdef\u001b[0m \u001b[0mapply_empty_result\u001b[0m\u001b[1;33m(\u001b[0m\u001b[0mself\u001b[0m\u001b[1;33m)\u001b[0m\u001b[1;33m:\u001b[0m\u001b[1;33m\u001b[0m\u001b[1;33m\u001b[0m\u001b[0m\n",
      "\u001b[1;32m~\\Anaconda3\\lib\\site-packages\\pandas\\core\\apply.py\u001b[0m in \u001b[0;36mapply_standard\u001b[1;34m(self)\u001b[0m\n\u001b[0;32m    255\u001b[0m \u001b[1;33m\u001b[0m\u001b[0m\n\u001b[0;32m    256\u001b[0m         \u001b[1;31m# compute the result using the series generator\u001b[0m\u001b[1;33m\u001b[0m\u001b[1;33m\u001b[0m\u001b[1;33m\u001b[0m\u001b[0m\n\u001b[1;32m--> 257\u001b[1;33m         \u001b[0mself\u001b[0m\u001b[1;33m.\u001b[0m\u001b[0mapply_series_generator\u001b[0m\u001b[1;33m(\u001b[0m\u001b[1;33m)\u001b[0m\u001b[1;33m\u001b[0m\u001b[1;33m\u001b[0m\u001b[0m\n\u001b[0m\u001b[0;32m    258\u001b[0m \u001b[1;33m\u001b[0m\u001b[0m\n\u001b[0;32m    259\u001b[0m         \u001b[1;31m# wrap results\u001b[0m\u001b[1;33m\u001b[0m\u001b[1;33m\u001b[0m\u001b[1;33m\u001b[0m\u001b[0m\n",
      "\u001b[1;32m~\\Anaconda3\\lib\\site-packages\\pandas\\core\\apply.py\u001b[0m in \u001b[0;36mapply_series_generator\u001b[1;34m(self)\u001b[0m\n\u001b[0;32m    284\u001b[0m             \u001b[1;32mtry\u001b[0m\u001b[1;33m:\u001b[0m\u001b[1;33m\u001b[0m\u001b[1;33m\u001b[0m\u001b[0m\n\u001b[0;32m    285\u001b[0m                 \u001b[1;32mfor\u001b[0m \u001b[0mi\u001b[0m\u001b[1;33m,\u001b[0m \u001b[0mv\u001b[0m \u001b[1;32min\u001b[0m \u001b[0menumerate\u001b[0m\u001b[1;33m(\u001b[0m\u001b[0mseries_gen\u001b[0m\u001b[1;33m)\u001b[0m\u001b[1;33m:\u001b[0m\u001b[1;33m\u001b[0m\u001b[1;33m\u001b[0m\u001b[0m\n\u001b[1;32m--> 286\u001b[1;33m                     \u001b[0mresults\u001b[0m\u001b[1;33m[\u001b[0m\u001b[0mi\u001b[0m\u001b[1;33m]\u001b[0m \u001b[1;33m=\u001b[0m \u001b[0mself\u001b[0m\u001b[1;33m.\u001b[0m\u001b[0mf\u001b[0m\u001b[1;33m(\u001b[0m\u001b[0mv\u001b[0m\u001b[1;33m)\u001b[0m\u001b[1;33m\u001b[0m\u001b[1;33m\u001b[0m\u001b[0m\n\u001b[0m\u001b[0;32m    287\u001b[0m                     \u001b[0mkeys\u001b[0m\u001b[1;33m.\u001b[0m\u001b[0mappend\u001b[0m\u001b[1;33m(\u001b[0m\u001b[0mv\u001b[0m\u001b[1;33m.\u001b[0m\u001b[0mname\u001b[0m\u001b[1;33m)\u001b[0m\u001b[1;33m\u001b[0m\u001b[1;33m\u001b[0m\u001b[0m\n\u001b[0;32m    288\u001b[0m             \u001b[1;32mexcept\u001b[0m \u001b[0mException\u001b[0m \u001b[1;32mas\u001b[0m \u001b[0me\u001b[0m\u001b[1;33m:\u001b[0m\u001b[1;33m\u001b[0m\u001b[1;33m\u001b[0m\u001b[0m\n",
      "\u001b[1;32m~\\Anaconda3\\lib\\site-packages\\pandas\\core\\frame.py\u001b[0m in \u001b[0;36minfer\u001b[1;34m(x)\u001b[0m\n\u001b[0;32m   6549\u001b[0m             \u001b[1;32mif\u001b[0m \u001b[0mx\u001b[0m\u001b[1;33m.\u001b[0m\u001b[0mempty\u001b[0m\u001b[1;33m:\u001b[0m\u001b[1;33m\u001b[0m\u001b[1;33m\u001b[0m\u001b[0m\n\u001b[0;32m   6550\u001b[0m                 \u001b[1;32mreturn\u001b[0m \u001b[0mlib\u001b[0m\u001b[1;33m.\u001b[0m\u001b[0mmap_infer\u001b[0m\u001b[1;33m(\u001b[0m\u001b[0mx\u001b[0m\u001b[1;33m,\u001b[0m \u001b[0mfunc\u001b[0m\u001b[1;33m)\u001b[0m\u001b[1;33m\u001b[0m\u001b[1;33m\u001b[0m\u001b[0m\n\u001b[1;32m-> 6551\u001b[1;33m             \u001b[1;32mreturn\u001b[0m \u001b[0mlib\u001b[0m\u001b[1;33m.\u001b[0m\u001b[0mmap_infer\u001b[0m\u001b[1;33m(\u001b[0m\u001b[0mx\u001b[0m\u001b[1;33m.\u001b[0m\u001b[0mastype\u001b[0m\u001b[1;33m(\u001b[0m\u001b[0mobject\u001b[0m\u001b[1;33m)\u001b[0m\u001b[1;33m.\u001b[0m\u001b[0mvalues\u001b[0m\u001b[1;33m,\u001b[0m \u001b[0mfunc\u001b[0m\u001b[1;33m)\u001b[0m\u001b[1;33m\u001b[0m\u001b[1;33m\u001b[0m\u001b[0m\n\u001b[0m\u001b[0;32m   6552\u001b[0m \u001b[1;33m\u001b[0m\u001b[0m\n\u001b[0;32m   6553\u001b[0m         \u001b[1;32mreturn\u001b[0m \u001b[0mself\u001b[0m\u001b[1;33m.\u001b[0m\u001b[0mapply\u001b[0m\u001b[1;33m(\u001b[0m\u001b[0minfer\u001b[0m\u001b[1;33m)\u001b[0m\u001b[1;33m\u001b[0m\u001b[1;33m\u001b[0m\u001b[0m\n",
      "\u001b[1;32mpandas/_libs/lib.pyx\u001b[0m in \u001b[0;36mpandas._libs.lib.map_infer\u001b[1;34m()\u001b[0m\n",
      "\u001b[1;32m<ipython-input-136-c7484422caee>\u001b[0m in \u001b[0;36m<lambda>\u001b[1;34m(x)\u001b[0m\n\u001b[0;32m      1\u001b[0m \u001b[1;31m# df.iloc[:, 2:-1] = df.iloc[:, 2:-1].astype(str).applymap(lambda x: x if x.split(',')[1].split('(')[0].strip() in ko_movie_list else '-')\u001b[0m\u001b[1;33m\u001b[0m\u001b[1;33m\u001b[0m\u001b[1;33m\u001b[0m\u001b[0m\n\u001b[1;32m----> 2\u001b[1;33m \u001b[0mdf\u001b[0m\u001b[1;33m.\u001b[0m\u001b[0miloc\u001b[0m\u001b[1;33m[\u001b[0m\u001b[1;33m:\u001b[0m\u001b[1;33m,\u001b[0m \u001b[1;36m2\u001b[0m\u001b[1;33m:\u001b[0m\u001b[1;33m-\u001b[0m\u001b[1;36m1\u001b[0m\u001b[1;33m]\u001b[0m\u001b[1;33m.\u001b[0m\u001b[0mastype\u001b[0m\u001b[1;33m(\u001b[0m\u001b[0mstr\u001b[0m\u001b[1;33m)\u001b[0m\u001b[1;33m.\u001b[0m\u001b[0mapplymap\u001b[0m\u001b[1;33m(\u001b[0m\u001b[1;32mlambda\u001b[0m \u001b[0mx\u001b[0m\u001b[1;33m:\u001b[0m \u001b[0mx\u001b[0m \u001b[1;32mif\u001b[0m \u001b[0mx\u001b[0m\u001b[1;33m.\u001b[0m\u001b[0msplit\u001b[0m\u001b[1;33m(\u001b[0m\u001b[1;34m','\u001b[0m\u001b[1;33m)\u001b[0m\u001b[1;33m[\u001b[0m\u001b[1;36m1\u001b[0m\u001b[1;33m]\u001b[0m\u001b[1;33m.\u001b[0m\u001b[0msplit\u001b[0m\u001b[1;33m(\u001b[0m\u001b[1;34m'('\u001b[0m\u001b[1;33m)\u001b[0m\u001b[1;33m[\u001b[0m\u001b[1;36m0\u001b[0m\u001b[1;33m]\u001b[0m\u001b[1;33m.\u001b[0m\u001b[0mstrip\u001b[0m\u001b[1;33m(\u001b[0m\u001b[1;33m)\u001b[0m \u001b[1;32min\u001b[0m \u001b[0mko_movie_list\u001b[0m \u001b[1;32melse\u001b[0m \u001b[1;34m'-'\u001b[0m\u001b[1;33m)\u001b[0m\u001b[1;33m\u001b[0m\u001b[1;33m\u001b[0m\u001b[0m\n\u001b[0m\u001b[0;32m      3\u001b[0m \u001b[1;33m\u001b[0m\u001b[0m\n\u001b[0;32m      4\u001b[0m \u001b[1;31m# showtimes = [''.join(df.iloc[i, 2:-1]) for i in range(len(df))]\u001b[0m\u001b[1;33m\u001b[0m\u001b[1;33m\u001b[0m\u001b[1;33m\u001b[0m\u001b[0m\n\u001b[0;32m      5\u001b[0m \u001b[1;33m\u001b[0m\u001b[0m\n",
      "\u001b[1;31mIndexError\u001b[0m: ('list index out of range', 'occurred at index 1회')"
     ]
    }
   ],
   "source": [
    "# df.iloc[:, 2:-1] = df.iloc[:, 2:-1].astype(str).applymap(lambda x: x if x.split(',')[1].split('(')[0].strip() in ko_movie_list else '-')\n",
    "df.iloc[:, 2:-1].astype(str).applymap(lambda x: x if x.split(', ')[1].split('(')[0].strip() in ko_movie_list else '-')\n",
    "\n",
    "# showtimes = [''.join(df.iloc[i, 2:-1]) for i in range(len(df))]\n",
    "# df['상영시간'] = showtimes"
   ]
  },
  {
   "cell_type": "markdown",
   "metadata": {},
   "source": [
    "# 상영내역 파일 확인"
   ]
  },
  {
   "cell_type": "code",
   "execution_count": 125,
   "metadata": {},
   "outputs": [
    {
     "name": "stdout",
     "output_type": "stream",
     "text": [
      "(10743, 14)\n"
     ]
    },
    {
     "data": {
      "text/html": [
       "<div>\n",
       "<style scoped>\n",
       "    .dataframe tbody tr th:only-of-type {\n",
       "        vertical-align: middle;\n",
       "    }\n",
       "\n",
       "    .dataframe tbody tr th {\n",
       "        vertical-align: top;\n",
       "    }\n",
       "\n",
       "    .dataframe thead th {\n",
       "        text-align: right;\n",
       "    }\n",
       "</style>\n",
       "<table border=\"1\" class=\"dataframe\">\n",
       "  <thead>\n",
       "    <tr style=\"text-align: right;\">\n",
       "      <th></th>\n",
       "      <th>상영일자</th>\n",
       "      <th>상영관</th>\n",
       "      <th>1회</th>\n",
       "      <th>2회</th>\n",
       "      <th>3회</th>\n",
       "      <th>4회</th>\n",
       "      <th>5회</th>\n",
       "      <th>6회</th>\n",
       "      <th>7회</th>\n",
       "      <th>8회</th>\n",
       "      <th>9회</th>\n",
       "      <th>10회</th>\n",
       "      <th>11회</th>\n",
       "      <th>좌석수</th>\n",
       "    </tr>\n",
       "  </thead>\n",
       "  <tbody>\n",
       "    <tr>\n",
       "      <th>10166</th>\n",
       "      <td>2019-08-10</td>\n",
       "      <td>IMAX</td>\n",
       "      <td>06:35,  봉오동 전투(디지털),  8,000원</td>\n",
       "      <td>09:15,  봉오동 전투(디지털),  8,000원</td>\n",
       "      <td>11:55,  봉오동 전투(디지털),  13,000원</td>\n",
       "      <td>14:35,  봉오동 전투(디지털),  13,000원</td>\n",
       "      <td>17:15,  봉오동 전투(디지털),  13,000원</td>\n",
       "      <td>19:55,  봉오동 전투(디지털),  13,000원</td>\n",
       "      <td>22:35,  봉오동 전투(디지털),  13,000원</td>\n",
       "      <td>25:15,  봉오동 전투(디지털),  13,000원</td>\n",
       "      <td>NaN</td>\n",
       "      <td>NaN</td>\n",
       "      <td>NaN</td>\n",
       "      <td>297</td>\n",
       "    </tr>\n",
       "  </tbody>\n",
       "</table>\n",
       "</div>"
      ],
      "text/plain": [
       "             상영일자   상영관                            1회  \\\n",
       "10166  2019-08-10  IMAX  06:35,  봉오동 전투(디지털),  8,000원   \n",
       "\n",
       "                                 2회                             3회  \\\n",
       "10166  09:15,  봉오동 전투(디지털),  8,000원  11:55,  봉오동 전투(디지털),  13,000원   \n",
       "\n",
       "                                  4회                             5회  \\\n",
       "10166  14:35,  봉오동 전투(디지털),  13,000원  17:15,  봉오동 전투(디지털),  13,000원   \n",
       "\n",
       "                                  6회                             7회  \\\n",
       "10166  19:55,  봉오동 전투(디지털),  13,000원  22:35,  봉오동 전투(디지털),  13,000원   \n",
       "\n",
       "                                  8회   9회  10회  11회  좌석수  \n",
       "10166  25:15,  봉오동 전투(디지털),  13,000원  NaN  NaN  NaN  297  "
      ]
     },
     "execution_count": 125,
     "metadata": {},
     "output_type": "execute_result"
    }
   ],
   "source": [
    "df = pd.read_csv('Theaters_merged_files/CGV%20판교.csv')\n",
    "print(df.shape)\n",
    "df.sample()"
   ]
  },
  {
   "cell_type": "code",
   "execution_count": 10,
   "metadata": {},
   "outputs": [],
   "source": [
    "theaters = pd.read_csv('Theaters_crawled_files/theaters_191128.csv')\n",
    "theater_list = theaters['영화상영관명']"
   ]
  },
  {
   "cell_type": "markdown",
   "metadata": {},
   "source": [
    "# 크롤링 안되었던 파일 다시 받아서 concat"
   ]
  },
  {
   "cell_type": "code",
   "execution_count": 7,
   "metadata": {},
   "outputs": [],
   "source": [
    "uncrawled_theater = ['메가박스 세종',\n",
    " '롯데시네마 병점',\n",
    " '롯데시네마 인천터미널',\n",
    " '롯데시네마 독산',\n",
    " '메가박스 화곡',\n",
    " '영화의전당',\n",
    "#  'CGV 오산중앙', # 최근 개관\n",
    " '롯데시네마 창원',\n",
    " '롯데시네마 대전둔산',\n",
    " '롯데시네마 전주평화',\n",
    " '롯데시네마 진주혁신',\n",
    " '메가박스군자',\n",
    " '롯데시네마 평촌_샤롯데',\n",
    "#  '메가박스 성수점', # 최근 개관\n",
    " '메가박스 영종',\n",
    " '롯데시네마 대구광장',\n",
    " 'CGV 순천',\n",
    " '롯데시네마 동부산(아울렛)',\n",
    " '롯데시네마 해운대',\n",
    " '롯데시네마 라페스타(일산)',\n",
    " 'CGV 여수웅천',\n",
    " '메가박스 천안',\n",
    "#  '화성시문화재단 모두누림센터 누림아트홀',# 데이터 없음\n",
    " 'CGV 울산신천',\n",
    " 'CGV 용산아이파크몰',\n",
    " '롯데시네마 광주광산',\n",
    " '롯데시네마 주엽(일산)',\n",
    " '롯데시네마 부산본점(백화점)',\n",
    " '메가박스 구미강동',\n",
    " 'CGV 송파',\n",
    " '롯데시네마 용인기흥',\n",
    " 'CGV 영등포',\n",
    " '롯데시네마 마산터미널',\n",
    " '메가박스진천점',\n",
    " 'CGV 목포평화광장',\n",
    " '이봄씨어터',\n",
    " '롯데시네마 진해',\n",
    " 'CGV 청주(서문)',\n",
    " '롯데시네마 안성',\n",
    " '롯데시네마 청량리',\n",
    "#  '롯데시네마 대전관저', # 최근 개관\n",
    " '메가박스송도',\n",
    " '롯데시네마 동래',\n",
    " '롯데시네마 부천(신중동역)',\n",
    " '롯데시네마 제주삼화',\n",
    "#  '양평시네마', # 데이터 없음\n",
    " '롯데시네마 진접']"
   ]
  },
  {
   "cell_type": "code",
   "execution_count": 11,
   "metadata": {},
   "outputs": [
    {
     "data": {
      "text/plain": [
       "42"
      ]
     },
     "execution_count": 11,
     "metadata": {},
     "output_type": "execute_result"
    }
   ],
   "source": [
    "theaters = theaters[theaters.isin({'영화상영관명':uncrawled_theater})['영화상영관명']]\n",
    "len(theaters)"
   ]
  },
  {
   "cell_type": "code",
   "execution_count": 23,
   "metadata": {
    "scrolled": true
   },
   "outputs": [
    {
     "data": {
      "text/html": [
       "<div>\n",
       "<style scoped>\n",
       "    .dataframe tbody tr th:only-of-type {\n",
       "        vertical-align: middle;\n",
       "    }\n",
       "\n",
       "    .dataframe tbody tr th {\n",
       "        vertical-align: top;\n",
       "    }\n",
       "\n",
       "    .dataframe thead th {\n",
       "        text-align: right;\n",
       "    }\n",
       "</style>\n",
       "<table border=\"1\" class=\"dataframe\">\n",
       "  <thead>\n",
       "    <tr style=\"text-align: right;\">\n",
       "      <th></th>\n",
       "      <th>광역단체</th>\n",
       "      <th>기초단체</th>\n",
       "      <th>영화상영관코드</th>\n",
       "      <th>영화상영관명</th>\n",
       "      <th>총 스크린수</th>\n",
       "      <th>총 좌석수</th>\n",
       "      <th>필름 상영관수</th>\n",
       "      <th>2D 상영관수</th>\n",
       "      <th>3D 상영관수</th>\n",
       "      <th>4D 상영관수</th>\n",
       "      <th>IMAX 상영관수</th>\n",
       "      <th>상설여부</th>\n",
       "      <th>특별관운영여부</th>\n",
       "      <th>가입여부</th>\n",
       "      <th>전송사업자명</th>\n",
       "      <th>개관일</th>\n",
       "      <th>영업상태</th>\n",
       "      <th>운영형태</th>\n",
       "      <th>주소</th>\n",
       "      <th>전화번호</th>\n",
       "      <th>홈페이지</th>\n",
       "    </tr>\n",
       "  </thead>\n",
       "  <tbody>\n",
       "    <tr>\n",
       "      <th>413</th>\n",
       "      <td>부산시</td>\n",
       "      <td>기장군</td>\n",
       "      <td>11056</td>\n",
       "      <td>롯데시네마 동부산(아울렛)</td>\n",
       "      <td>6</td>\n",
       "      <td>1,014</td>\n",
       "      <td>0</td>\n",
       "      <td>6</td>\n",
       "      <td>2</td>\n",
       "      <td>0</td>\n",
       "      <td>0</td>\n",
       "      <td>상설</td>\n",
       "      <td>nan</td>\n",
       "      <td>가입</td>\n",
       "      <td>롯데컬처웍스(주)롯데시네마</td>\n",
       "      <td>2014-12-23</td>\n",
       "      <td>영업</td>\n",
       "      <td>직영</td>\n",
       "      <td>부산광역시 기장군 기장읍 당사리 64 번지 동부산 롯데몰 3층 롯데시네마 동부산</td>\n",
       "      <td>1544-8855</td>\n",
       "      <td>http://www.lottecinema.co.kr/</td>\n",
       "    </tr>\n",
       "  </tbody>\n",
       "</table>\n",
       "</div>"
      ],
      "text/plain": [
       "    광역단체 기초단체  영화상영관코드          영화상영관명  총 스크린수  총 좌석수  필름 상영관수  2D 상영관수  \\\n",
       "413  부산시  기장군    11056  롯데시네마 동부산(아울렛)       6  1,014        0        6   \n",
       "\n",
       "     3D 상영관수  4D 상영관수  IMAX 상영관수 상설여부  특별관운영여부 가입여부          전송사업자명  \\\n",
       "413        2        0          0   상설      nan   가입  롯데컬처웍스(주)롯데시네마   \n",
       "\n",
       "            개관일 영업상태 운영형태                                            주소  \\\n",
       "413  2014-12-23   영업   직영  부산광역시 기장군 기장읍 당사리 64 번지 동부산 롯데몰 3층 롯데시네마 동부산   \n",
       "\n",
       "          전화번호                           홈페이지  \n",
       "413  1544-8855  http://www.lottecinema.co.kr/  "
      ]
     },
     "execution_count": 23,
     "metadata": {},
     "output_type": "execute_result"
    }
   ],
   "source": [
    "theaters.sample()"
   ]
  },
  {
   "cell_type": "code",
   "execution_count": 8,
   "metadata": {},
   "outputs": [
    {
     "data": {
      "text/html": [
       "<div>\n",
       "<style scoped>\n",
       "    .dataframe tbody tr th:only-of-type {\n",
       "        vertical-align: middle;\n",
       "    }\n",
       "\n",
       "    .dataframe tbody tr th {\n",
       "        vertical-align: top;\n",
       "    }\n",
       "\n",
       "    .dataframe thead th {\n",
       "        text-align: right;\n",
       "    }\n",
       "</style>\n",
       "<table border=\"1\" class=\"dataframe\">\n",
       "  <thead>\n",
       "    <tr style=\"text-align: right;\">\n",
       "      <th></th>\n",
       "      <th>광역단체</th>\n",
       "      <th>기초단체</th>\n",
       "      <th>영화상영관코드</th>\n",
       "      <th>영화상영관명</th>\n",
       "      <th>총 스크린수</th>\n",
       "      <th>총 좌석수</th>\n",
       "      <th>필름 상영관수</th>\n",
       "      <th>2D 상영관수</th>\n",
       "      <th>3D 상영관수</th>\n",
       "      <th>4D 상영관수</th>\n",
       "      <th>IMAX 상영관수</th>\n",
       "      <th>상설여부</th>\n",
       "      <th>특별관운영여부</th>\n",
       "      <th>가입여부</th>\n",
       "      <th>전송사업자명</th>\n",
       "      <th>개관일</th>\n",
       "      <th>영업상태</th>\n",
       "      <th>운영형태</th>\n",
       "      <th>주소</th>\n",
       "      <th>전화번호</th>\n",
       "      <th>홈페이지</th>\n",
       "    </tr>\n",
       "  </thead>\n",
       "  <tbody>\n",
       "    <tr>\n",
       "      <th>461</th>\n",
       "      <td>광주시</td>\n",
       "      <td>동구</td>\n",
       "      <td>16037</td>\n",
       "      <td>롯데시네마 광주(롯데백화점)_샤롯데</td>\n",
       "      <td>1</td>\n",
       "      <td>30</td>\n",
       "      <td>0</td>\n",
       "      <td>1</td>\n",
       "      <td>0</td>\n",
       "      <td>0</td>\n",
       "      <td>0</td>\n",
       "      <td>상설</td>\n",
       "      <td>nan</td>\n",
       "      <td>가입</td>\n",
       "      <td>롯데컬처웍스(주)롯데시네마</td>\n",
       "      <td>2000-07-01</td>\n",
       "      <td>영업</td>\n",
       "      <td>직영</td>\n",
       "      <td>광주광역시 동구 대인동 7-1 번지</td>\n",
       "      <td>1544-8855</td>\n",
       "      <td>http://www.lottecinema.co.kr/</td>\n",
       "    </tr>\n",
       "  </tbody>\n",
       "</table>\n",
       "</div>"
      ],
      "text/plain": [
       "    광역단체 기초단체  영화상영관코드               영화상영관명  총 스크린수 총 좌석수  필름 상영관수  2D 상영관수  \\\n",
       "461  광주시   동구    16037  롯데시네마 광주(롯데백화점)_샤롯데       1    30        0        1   \n",
       "\n",
       "     3D 상영관수  4D 상영관수  IMAX 상영관수 상설여부  특별관운영여부 가입여부          전송사업자명  \\\n",
       "461        0        0          0   상설      nan   가입  롯데컬처웍스(주)롯데시네마   \n",
       "\n",
       "            개관일 영업상태 운영형태                   주소       전화번호  \\\n",
       "461  2000-07-01   영업   직영  광주광역시 동구 대인동 7-1 번지  1544-8855   \n",
       "\n",
       "                              홈페이지  \n",
       "461  http://www.lottecinema.co.kr/  "
      ]
     },
     "execution_count": 8,
     "metadata": {},
     "output_type": "execute_result"
    }
   ],
   "source": [
    "# 파일 수정\n",
    "# cgv 압구정 165\n",
    "# cgv 신촌아트레온, 15\n",
    "# 롯데시네마 광주(롯데백화점), 432\n",
    "# 롯데시네마 광주(롯데백화점)_샤롯데 461\n",
    "theaters[theaters['영화상영관명'] == '롯데시네마 광주(롯데백화점)_샤롯데']"
   ]
  },
  {
   "cell_type": "code",
   "execution_count": 172,
   "metadata": {
    "scrolled": true
   },
   "outputs": [
    {
     "name": "stdout",
     "output_type": "stream",
     "text": [
      "(1, 11)\n"
     ]
    },
    {
     "data": {
      "text/html": [
       "<div>\n",
       "<style scoped>\n",
       "    .dataframe tbody tr th:only-of-type {\n",
       "        vertical-align: middle;\n",
       "    }\n",
       "\n",
       "    .dataframe tbody tr th {\n",
       "        vertical-align: top;\n",
       "    }\n",
       "\n",
       "    .dataframe thead th {\n",
       "        text-align: right;\n",
       "    }\n",
       "</style>\n",
       "<table border=\"1\" class=\"dataframe\">\n",
       "  <thead>\n",
       "    <tr style=\"text-align: right;\">\n",
       "      <th></th>\n",
       "      <th>상영일자</th>\n",
       "      <th>상영관</th>\n",
       "      <th>1회</th>\n",
       "      <th>2회</th>\n",
       "      <th>3회</th>\n",
       "      <th>4회</th>\n",
       "      <th>5회</th>\n",
       "      <th>6회</th>\n",
       "      <th>7회</th>\n",
       "      <th>8회</th>\n",
       "      <th>좌석수</th>\n",
       "    </tr>\n",
       "  </thead>\n",
       "  <tbody>\n",
       "    <tr>\n",
       "      <th>0</th>\n",
       "      <td>검색된 데이터가 존재하지 않습니다.</td>\n",
       "      <td>검색된 데이터가 존재하지 않습니다.</td>\n",
       "      <td>검색된 데이터가 존재하지 않습니다.</td>\n",
       "      <td>검색된 데이터가 존재하지 않습니다.</td>\n",
       "      <td>검색된 데이터가 존재하지 않습니다.</td>\n",
       "      <td>검색된 데이터가 존재하지 않습니다.</td>\n",
       "      <td>검색된 데이터가 존재하지 않습니다.</td>\n",
       "      <td>검색된 데이터가 존재하지 않습니다.</td>\n",
       "      <td>검색된 데이터가 존재하지 않습니다.</td>\n",
       "      <td>검색된 데이터가 존재하지 않습니다.</td>\n",
       "      <td>nan</td>\n",
       "    </tr>\n",
       "  </tbody>\n",
       "</table>\n",
       "</div>"
      ],
      "text/plain": [
       "                  상영일자                  상영관                   1회  \\\n",
       "0  검색된 데이터가 존재하지 않습니다.  검색된 데이터가 존재하지 않습니다.  검색된 데이터가 존재하지 않습니다.   \n",
       "\n",
       "                    2회                   3회                   4회  \\\n",
       "0  검색된 데이터가 존재하지 않습니다.  검색된 데이터가 존재하지 않습니다.  검색된 데이터가 존재하지 않습니다.   \n",
       "\n",
       "                    5회                   6회                   7회  \\\n",
       "0  검색된 데이터가 존재하지 않습니다.  검색된 데이터가 존재하지 않습니다.  검색된 데이터가 존재하지 않습니다.   \n",
       "\n",
       "                    8회  좌석수  \n",
       "0  검색된 데이터가 존재하지 않습니다.  nan  "
      ]
     },
     "execution_count": 172,
     "metadata": {},
     "output_type": "execute_result"
    }
   ],
   "source": [
    "test = pd.read_csv('Theaters_merged_files/강릉자동차극장.csv'\n",
    "# #                    , encoding='utf-8'\n",
    "                  )\n",
    "print(test.shape)\n",
    "test.sample()"
   ]
  },
  {
   "cell_type": "code",
   "execution_count": 133,
   "metadata": {},
   "outputs": [
    {
     "data": {
      "text/plain": [
       "['1회', '2회', '3회', '4회', '5회', '6회', '7회', '8회']"
      ]
     },
     "execution_count": 133,
     "metadata": {},
     "output_type": "execute_result"
    }
   ],
   "source": [
    "list(test.columns)[2:-1]"
   ]
  },
  {
   "cell_type": "code",
   "execution_count": 10,
   "metadata": {},
   "outputs": [
    {
     "data": {
      "text/plain": [
       "'협녀'"
      ]
     },
     "execution_count": 10,
     "metadata": {},
     "output_type": "execute_result"
    }
   ],
   "source": [
    "', '.join('13:00, 협녀, 10,000원'.split(', ')[1:-1])"
   ]
  },
  {
   "cell_type": "code",
   "execution_count": 12,
   "metadata": {},
   "outputs": [],
   "source": [
    "def timetable_preprocessing(name):\n",
    "    file_name = name.replace(' ', '%20').replace('(', '%28').replace(')', '%29')\n",
    "    df = pd.read_csv(f'Theaters_merged_files/{file_name}.csv')\n",
    "\n",
    "    # 변환 시작\n",
    "    timetable_spread = list() # 리스트\n",
    "\n",
    "    df_dict = df.T.to_dict()\n",
    "\n",
    "    for i in df_dict: # row 를 dict 로, 컬럼도 추려서\n",
    "\n",
    "        row = df_dict[i]\n",
    "        # 컬럼명에서 따오기\n",
    "        for column in list(df.columns)[2:-1]:\n",
    "            if pd.isna(row[f'{column}']):\n",
    "                continue\n",
    "\n",
    "            detail = row[f'{column}'].split(', ')\n",
    "            \n",
    "            # 튜플이나 딕셔너리\n",
    "            data = dict()\n",
    "            \n",
    "            # 가격 있고 제목에 콤마 -> 4 ~ 5\n",
    "            # 가격 있고 -> 3\n",
    "            if detail[-1][-2:] == '0원':\n",
    "                data['영화명'] = ', '.join(detail[1:-1])\n",
    "                data['가격'] = detail[-1]\n",
    "            # 가격 없고 제목에 콤마 -> 3 ~ 4\n",
    "            # 가격 없고 -> 2\n",
    "            else :\n",
    "                data['영화명'] = ', '.join(detail[1:])\n",
    "                data['가격'] = np.nan\n",
    "                \n",
    "            data['상영관'] = row['상영관']\n",
    "            data['상영일자'] = row['상영일자']\n",
    "            data['상영시각'] = detail[0].strip()\n",
    "            data['좌석수'] = row['좌석수']\n",
    "\n",
    "            # 리스트에 append\n",
    "            timetable_spread.append(data)\n",
    "\n",
    "#     print(f'*** {name} 테이블 변환 완료 ***')\n",
    "    \n",
    "    timetable_spread = pd.DataFrame(timetable_spread)\n",
    "    timetable_spread['영화관'] = name\n",
    "    \n",
    "    # # 한국영화만 가져오기\n",
    "    timetable_spread['상영분류'] = timetable_spread['영화명']\n",
    "    timetable_spread['상영분류'] = timetable_spread['상영분류'].apply(lambda x: x.split('(')[1].replace(')', '') if len(x.split('(')) > 1 else np.nan)\n",
    "    timetable_spread['영화명'] = timetable_spread['영화명'].apply(lambda x: x.strip().split('(')[0])\n",
    "    \n",
    "#     k_index = list(timetable_spread[timetable_spread.isin({'영화명': k_movie_list})]['영화명'].dropna().index)\n",
    "#     timetable_spread = timetable_spread.iloc[k_index]\n",
    "    return timetable_spread[timetable_spread.isin({'영화명': k_movie_list})['영화명'] == True]\n",
    "    \n",
    "#     return timetable_spread # concat 을 위해 반환\n",
    "#     timetable_spread.to_csv(f'Theaters_merged_files/{name}_timetable_spread.csv', index=False)"
   ]
  },
  {
   "cell_type": "code",
   "execution_count": 13,
   "metadata": {
    "scrolled": true
   },
   "outputs": [
    {
     "name": "stdout",
     "output_type": "stream",
     "text": [
      "CGV 울산신천 처리 시도 중...\n",
      "CGV 청주(서문) 처리 시도 중...\n",
      "CGV 용산아이파크몰 처리 시도 중...\n",
      "CGV 송파 처리 시도 중...\n",
      "CGV 영등포 처리 시도 중...\n",
      "영화의전당 처리 시도 중...\n",
      "롯데시네마 해운대 처리 시도 중...\n",
      "CGV 여수웅천 처리 시도 중...\n",
      "CGV 순천 처리 시도 중...\n",
      "CGV 목포평화광장 처리 시도 중...\n",
      "이봄씨어터 처리 시도 중...\n",
      "메가박스진천점 처리 시도 중...\n",
      "메가박스 영종 처리 시도 중...\n",
      "메가박스송도 처리 시도 중...\n",
      "메가박스 세종 처리 시도 중...\n",
      "메가박스 화곡 처리 시도 중...\n",
      "메가박스 천안 처리 시도 중...\n",
      "롯데시네마 제주삼화 처리 시도 중...\n",
      "메가박스 구미강동 처리 시도 중...\n",
      "롯데시네마 청량리 처리 시도 중...\n",
      "롯데시네마 창원 처리 시도 중...\n",
      "롯데시네마 진해 처리 시도 중...\n",
      "롯데시네마 진주혁신 처리 시도 중...\n",
      "롯데시네마 진접 처리 시도 중...\n",
      "롯데시네마 주엽(일산) 처리 시도 중...\n",
      "롯데시네마 전주평화 처리 시도 중...\n",
      "롯데시네마 인천터미널 처리 시도 중...\n",
      "메가박스군자 처리 시도 중...\n",
      "롯데시네마 부천(신중동역) 처리 시도 중...\n",
      "롯데시네마 부산본점(백화점) 처리 시도 중...\n",
      "롯데시네마 병점 처리 시도 중...\n",
      "롯데시네마 라페스타(일산) 처리 시도 중...\n",
      "롯데시네마 동부산(아울렛) 처리 시도 중...\n",
      "롯데시네마 동래 처리 시도 중...\n",
      "롯데시네마 독산 처리 시도 중...\n",
      "롯데시네마 대전둔산 처리 시도 중...\n",
      "롯데시네마 용인기흥 처리 시도 중...\n",
      "롯데시네마 대구광장 처리 시도 중...\n",
      "롯데시네마 안성 처리 시도 중...\n",
      "롯데시네마 광주광산 처리 시도 중...\n",
      "롯데시네마 평촌_샤롯데 처리 시도 중...\n",
      "롯데시네마 마산터미널 처리 시도 중...\n",
      "*** 완료!!! ***\n"
     ]
    }
   ],
   "source": [
    "# 위에서 지정해준 인덱스 숫자 n과 m을 사용해 code['영화상영관명'][n:m] 으로 변경\n",
    "\n",
    "data = pd.DataFrame() # concat 을 위해 미리 dataframe 만듦 # 중간에 다시 시작할 때는 빼고 돌리기\n",
    "# for name in theater_list[:150]: \n",
    "# for name in theater_list[4:150]: # 1 CGV 울산신천 2 CGV 오산중앙 3 롯데시네마 대전관저 다음부터\n",
    "# for name in theater_list[10:150]: # 9 메가박스 성수점 다음부터 \n",
    "# for name in theater_list[73:150]: # 72 포천자동차극장 다음부터\n",
    "# for name in theater_list[150:300]:\n",
    "# for name in theater_list[193:300]: # 192 영화의전당 다음부터\n",
    "# for name in theater_list[216:300]: # 215 롯데시네마 해운대 다음부터\n",
    "# for name in theater_list[236:300]: # 233 CGV 여수웅천 234 CGV 순천, 235 CGV 목포평화광장 다음부터\n",
    "# for name in theater_list[291:300]: # 290 이봄씨어터 다음부터\n",
    "# for name in theater_list[300:450]: # 다영님 merge 중\n",
    "# for name in theater_list[306:450]: # 305 메가박스 영종 다음부터\n",
    "# for name in theater_list[306:450]: #  다음부터\n",
    "# for name in theater_list[450:]: \n",
    "# for name in theater_list[481:]: # 480 강릉자동차극장 다음부터\n",
    "# for name in theater_list[484:]: # 483 여수자동차극장 다음부터\n",
    "# for name in theater_list[495:]: # 491 용봉산시네마자동차극장, 492 무비마운틴자동차극장 493, 494, 495 다음부터 \n",
    "# for name in theater_list[504:]: # 503 양평자동차극장 다음부터 \n",
    "# for name in theater_list[514:]: # 513 양평시네마 다음부터 \n",
    "# for name in theater_list[520:]: # 519 롯데시네마 평촌_샤롯데 다음부터 \n",
    "# for name in theater_list[525:]: # 523 롯데시네마 마산터미널, 524로드시네마자동차극장 다음부터 \n",
    "# for name in theater_list[527:]: # 526 블루마씨네자동차극장 다음부터 \n",
    "\n",
    "# null 값 있었던 파일만 다시 concat\n",
    "# cgv 압구정 165 \n",
    "# cgv 신촌아트레온, 15 \n",
    "# 롯데시네마 광주(롯데백화점), 432\n",
    "# 롯데시네마 광주(롯데백화점)_샤롯데 461\n",
    "# for name in theater_list[461:462]:\n",
    "\n",
    "# 크롤링 안되었던 파일 다시 받아서 concat\n",
    "for name in theaters['영화상영관명']:\n",
    "    try:\n",
    "        print(name, '처리 시도 중...')\n",
    "        timetable_spread = timetable_preprocessing(name) # concat\n",
    "#         timetable_preprocessing(name) # 저장할 때 \n",
    "\n",
    "        data = pd.concat([data, timetable_spread]) # concat \n",
    "    \n",
    "#         print(name, '완료')\n",
    "    except ValueError as e:\n",
    "        print('[Error]', e)\n",
    "print('*** 완료!!! ***')"
   ]
  },
  {
   "cell_type": "code",
   "execution_count": 52,
   "metadata": {},
   "outputs": [
    {
     "name": "stdout",
     "output_type": "stream",
     "text": [
      "(1659550, 8)\n",
      "85\n"
     ]
    },
    {
     "data": {
      "text/html": [
       "<div>\n",
       "<style scoped>\n",
       "    .dataframe tbody tr th:only-of-type {\n",
       "        vertical-align: middle;\n",
       "    }\n",
       "\n",
       "    .dataframe tbody tr th {\n",
       "        vertical-align: top;\n",
       "    }\n",
       "\n",
       "    .dataframe thead th {\n",
       "        text-align: right;\n",
       "    }\n",
       "</style>\n",
       "<table border=\"1\" class=\"dataframe\">\n",
       "  <thead>\n",
       "    <tr style=\"text-align: right;\">\n",
       "      <th></th>\n",
       "      <th>가격</th>\n",
       "      <th>상영관</th>\n",
       "      <th>상영시각</th>\n",
       "      <th>상영일자</th>\n",
       "      <th>영화명</th>\n",
       "      <th>좌석수</th>\n",
       "      <th>영화관</th>\n",
       "      <th>상영분류</th>\n",
       "    </tr>\n",
       "  </thead>\n",
       "  <tbody>\n",
       "    <tr>\n",
       "      <th>45495</th>\n",
       "      <td>9,000원</td>\n",
       "      <td>01관</td>\n",
       "      <td>17:50</td>\n",
       "      <td>2018-04-19</td>\n",
       "      <td>나를 기억해</td>\n",
       "      <td>126.000000</td>\n",
       "      <td>롯데시네마 프리미엄칠곡</td>\n",
       "      <td>디지털</td>\n",
       "    </tr>\n",
       "    <tr>\n",
       "      <th>40967</th>\n",
       "      <td>9,000원</td>\n",
       "      <td>02관</td>\n",
       "      <td>24:30</td>\n",
       "      <td>2017-01-24</td>\n",
       "      <td>더 킹</td>\n",
       "      <td>104.000000</td>\n",
       "      <td>CGV 동백</td>\n",
       "      <td>디지털</td>\n",
       "    </tr>\n",
       "    <tr>\n",
       "      <th>31405</th>\n",
       "      <td>9,000원</td>\n",
       "      <td>01관</td>\n",
       "      <td>14:20</td>\n",
       "      <td>2016-12-08</td>\n",
       "      <td>미씽: 사라진 여자</td>\n",
       "      <td>158.000000</td>\n",
       "      <td>메가박스 공주</td>\n",
       "      <td>디지털</td>\n",
       "    </tr>\n",
       "    <tr>\n",
       "      <th>8717</th>\n",
       "      <td>10,000원</td>\n",
       "      <td>03관</td>\n",
       "      <td>19:40</td>\n",
       "      <td>2015-06-05</td>\n",
       "      <td>은밀한 유혹</td>\n",
       "      <td>180.000000</td>\n",
       "      <td>롯데시네마 강동</td>\n",
       "      <td>디지털</td>\n",
       "    </tr>\n",
       "    <tr>\n",
       "      <th>19367</th>\n",
       "      <td>6,000원</td>\n",
       "      <td>02관</td>\n",
       "      <td>23:20</td>\n",
       "      <td>2017-06-09</td>\n",
       "      <td>악녀</td>\n",
       "      <td>94.000000</td>\n",
       "      <td>메가박스 남원</td>\n",
       "      <td>디지털</td>\n",
       "    </tr>\n",
       "  </tbody>\n",
       "</table>\n",
       "</div>"
      ],
      "text/plain": [
       "             가격  상영관   상영시각        상영일자         영화명        좌석수           영화관  \\\n",
       "45495    9,000원  01관  17:50  2018-04-19      나를 기억해 126.000000  롯데시네마 프리미엄칠곡   \n",
       "40967    9,000원  02관  24:30  2017-01-24         더 킹 104.000000        CGV 동백   \n",
       "31405    9,000원  01관  14:20  2016-12-08  미씽: 사라진 여자 158.000000       메가박스 공주   \n",
       "8717    10,000원  03관  19:40  2015-06-05      은밀한 유혹 180.000000      롯데시네마 강동   \n",
       "19367    6,000원  02관  23:20  2017-06-09          악녀  94.000000       메가박스 남원   \n",
       "\n",
       "      상영분류  \n",
       "45495  디지털  \n",
       "40967  디지털  \n",
       "31405  디지털  \n",
       "8717   디지털  \n",
       "19367  디지털  "
      ]
     },
     "execution_count": 52,
     "metadata": {},
     "output_type": "execute_result"
    }
   ],
   "source": [
    "print(data.shape)\n",
    "print(len(data['영화관'].unique()))\n",
    "data.sample(5)"
   ]
  },
  {
   "cell_type": "code",
   "execution_count": 16,
   "metadata": {
    "scrolled": true
   },
   "outputs": [
    {
     "data": {
      "text/html": [
       "<div>\n",
       "<style scoped>\n",
       "    .dataframe tbody tr th:only-of-type {\n",
       "        vertical-align: middle;\n",
       "    }\n",
       "\n",
       "    .dataframe tbody tr th {\n",
       "        vertical-align: top;\n",
       "    }\n",
       "\n",
       "    .dataframe thead th {\n",
       "        text-align: right;\n",
       "    }\n",
       "</style>\n",
       "<table border=\"1\" class=\"dataframe\">\n",
       "  <thead>\n",
       "    <tr style=\"text-align: right;\">\n",
       "      <th></th>\n",
       "      <th>가격</th>\n",
       "      <th>상영관</th>\n",
       "      <th>상영시각</th>\n",
       "      <th>상영일자</th>\n",
       "      <th>영화명</th>\n",
       "      <th>좌석수</th>\n",
       "      <th>영화관</th>\n",
       "      <th>상영분류</th>\n",
       "    </tr>\n",
       "  </thead>\n",
       "  <tbody>\n",
       "    <tr>\n",
       "      <th>91670</th>\n",
       "      <td>10,000원</td>\n",
       "      <td>02관</td>\n",
       "      <td>22:50</td>\n",
       "      <td>2015-08-15</td>\n",
       "      <td>협녀, 칼의 기억</td>\n",
       "      <td>161.000000</td>\n",
       "      <td>롯데시네마 독산</td>\n",
       "      <td>디지털</td>\n",
       "    </tr>\n",
       "  </tbody>\n",
       "</table>\n",
       "</div>"
      ],
      "text/plain": [
       "             가격  상영관   상영시각        상영일자        영화명        좌석수       영화관 상영분류\n",
       "91670   10,000원  02관  22:50  2015-08-15  협녀, 칼의 기억 161.000000  롯데시네마 독산  디지털"
      ]
     },
     "execution_count": 16,
     "metadata": {},
     "output_type": "execute_result"
    }
   ],
   "source": [
    "data.loc[data['영화명'] == '협녀, 칼의 기억'].sample()"
   ]
  },
  {
   "cell_type": "code",
   "execution_count": 18,
   "metadata": {},
   "outputs": [],
   "source": [
    "# 기존 파일과 concat\n",
    "df = pd.concat([pd.read_csv('Theaters_merged_files/show_timetable.csv'), data])"
   ]
  },
  {
   "cell_type": "code",
   "execution_count": 31,
   "metadata": {},
   "outputs": [
    {
     "name": "stdout",
     "output_type": "stream",
     "text": [
      "(13146299, 8)\n"
     ]
    }
   ],
   "source": [
    "print(df.shape)"
   ]
  },
  {
   "cell_type": "code",
   "execution_count": 15,
   "metadata": {
    "scrolled": true
   },
   "outputs": [
    {
     "name": "stdout",
     "output_type": "stream",
     "text": [
      "(665, 38)\n"
     ]
    },
    {
     "data": {
      "text/html": [
       "<div>\n",
       "<style scoped>\n",
       "    .dataframe tbody tr th:only-of-type {\n",
       "        vertical-align: middle;\n",
       "    }\n",
       "\n",
       "    .dataframe tbody tr th {\n",
       "        vertical-align: top;\n",
       "    }\n",
       "\n",
       "    .dataframe thead th {\n",
       "        text-align: right;\n",
       "    }\n",
       "</style>\n",
       "<table border=\"1\" class=\"dataframe\">\n",
       "  <thead>\n",
       "    <tr style=\"text-align: right;\">\n",
       "      <th></th>\n",
       "      <th>영화명</th>\n",
       "      <th>영화코드</th>\n",
       "      <th>개봉일</th>\n",
       "      <th>대표국적</th>\n",
       "      <th>국적</th>\n",
       "      <th>장르</th>\n",
       "      <th>등급</th>\n",
       "      <th>영화형태</th>\n",
       "      <th>영화구분</th>\n",
       "      <th>제작사</th>\n",
       "      <th>배급사</th>\n",
       "      <th>상영횟수</th>\n",
       "      <th>전국스크린수</th>\n",
       "      <th>전국매출액</th>\n",
       "      <th>전국관객수</th>\n",
       "      <th>서울매출액</th>\n",
       "      <th>서울관객수</th>\n",
       "      <th>F-rated</th>\n",
       "      <th>감독</th>\n",
       "      <th>대표감독</th>\n",
       "      <th>감독코드</th>\n",
       "      <th>감독성별</th>\n",
       "      <th>감독_대표역할</th>\n",
       "      <th>감독필모</th>\n",
       "      <th>작가</th>\n",
       "      <th>대표작가</th>\n",
       "      <th>대표작가(필명)</th>\n",
       "      <th>작가코드</th>\n",
       "      <th>작가성별</th>\n",
       "      <th>작가_대표역할</th>\n",
       "      <th>작가필모</th>\n",
       "      <th>배우</th>\n",
       "      <th>주연배우</th>\n",
       "      <th>배역명</th>\n",
       "      <th>배우코드</th>\n",
       "      <th>배우성별</th>\n",
       "      <th>배우_대표역할</th>\n",
       "      <th>배우필모</th>\n",
       "    </tr>\n",
       "  </thead>\n",
       "  <tbody>\n",
       "    <tr>\n",
       "      <th>520</th>\n",
       "      <td>명당</td>\n",
       "      <td>20172204</td>\n",
       "      <td>2018-09-19</td>\n",
       "      <td>한국</td>\n",
       "      <td>한국</td>\n",
       "      <td>사극</td>\n",
       "      <td>12세이상관람가</td>\n",
       "      <td>장편</td>\n",
       "      <td>일반영화</td>\n",
       "      <td>(주)주피터필름</td>\n",
       "      <td>메가박스중앙(주)플러스엠</td>\n",
       "      <td>58450</td>\n",
       "      <td>1117</td>\n",
       "      <td>17900775524.000000</td>\n",
       "      <td>2087474</td>\n",
       "      <td>4530609774</td>\n",
       "      <td>518726</td>\n",
       "      <td>0</td>\n",
       "      <td>박희곤</td>\n",
       "      <td>박희곤</td>\n",
       "      <td>10029586</td>\n",
       "      <td>남자</td>\n",
       "      <td>감독</td>\n",
       "      <td>명당|챔피언|퍼펙트 게임|인사동 스캔들|아 유 레디?</td>\n",
       "      <td>정자영</td>\n",
       "      <td>정자영</td>\n",
       "      <td>정자영</td>\n",
       "      <td>20281969</td>\n",
       "      <td>남자</td>\n",
       "      <td>시나리오(각본)</td>\n",
       "      <td>명당</td>\n",
       "      <td>조승우,지성,김성균,백윤식,문채원,유재명,박충선,이원근,김민재,강태오,이가희,이규섭...</td>\n",
       "      <td>조승우</td>\n",
       "      <td>박재상</td>\n",
       "      <td>10066380</td>\n",
       "      <td>남자</td>\n",
       "      <td>배우</td>\n",
       "      <td>명당|내부자들: 디 오리지널|내부자들|암살|복숭아나무|퍼펙트 게임|불꽃처럼 나비처럼...</td>\n",
       "    </tr>\n",
       "  </tbody>\n",
       "</table>\n",
       "</div>"
      ],
      "text/plain": [
       "    영화명      영화코드         개봉일 대표국적  국적  장르        등급 영화형태  영화구분       제작사  \\\n",
       "520  명당  20172204  2018-09-19   한국  한국  사극  12세이상관람가   장편  일반영화  (주)주피터필름   \n",
       "\n",
       "               배급사   상영횟수  전국스크린수              전국매출액    전국관객수       서울매출액  \\\n",
       "520  메가박스중앙(주)플러스엠  58450    1117 17900775524.000000  2087474  4530609774   \n",
       "\n",
       "      서울관객수  F-rated   감독 대표감독      감독코드 감독성별 감독_대표역할  \\\n",
       "520  518726        0  박희곤  박희곤  10029586   남자      감독   \n",
       "\n",
       "                              감독필모   작가 대표작가 대표작가(필명)      작가코드 작가성별  \\\n",
       "520  명당|챔피언|퍼펙트 게임|인사동 스캔들|아 유 레디?  정자영  정자영      정자영  20281969   남자   \n",
       "\n",
       "      작가_대표역할 작가필모                                                 배우 주연배우  \\\n",
       "520  시나리오(각본)   명당  조승우,지성,김성균,백윤식,문채원,유재명,박충선,이원근,김민재,강태오,이가희,이규섭...  조승우   \n",
       "\n",
       "     배역명      배우코드 배우성별 배우_대표역할  \\\n",
       "520  박재상  10066380   남자      배우   \n",
       "\n",
       "                                                  배우필모  \n",
       "520  명당|내부자들: 디 오리지널|내부자들|암살|복숭아나무|퍼펙트 게임|불꽃처럼 나비처럼...  "
      ]
     },
     "execution_count": 15,
     "metadata": {},
     "output_type": "execute_result"
    }
   ],
   "source": [
    "final = pd.read_csv('../../../../Downloads/films_updated_대표감독컬럼있음.csv')\n",
    "print(final.shape)\n",
    "final.sample()"
   ]
  },
  {
   "cell_type": "code",
   "execution_count": 28,
   "metadata": {},
   "outputs": [
    {
     "data": {
      "text/plain": [
       "674"
      ]
     },
     "execution_count": 28,
     "metadata": {},
     "output_type": "execute_result"
    }
   ],
   "source": [
    "len(df['영화명'].unique())"
   ]
  },
  {
   "cell_type": "code",
   "execution_count": 29,
   "metadata": {},
   "outputs": [
    {
     "data": {
      "text/html": [
       "<div>\n",
       "<style scoped>\n",
       "    .dataframe tbody tr th:only-of-type {\n",
       "        vertical-align: middle;\n",
       "    }\n",
       "\n",
       "    .dataframe tbody tr th {\n",
       "        vertical-align: top;\n",
       "    }\n",
       "\n",
       "    .dataframe thead th {\n",
       "        text-align: right;\n",
       "    }\n",
       "</style>\n",
       "<table border=\"1\" class=\"dataframe\">\n",
       "  <thead>\n",
       "    <tr style=\"text-align: right;\">\n",
       "      <th></th>\n",
       "      <th>가격</th>\n",
       "      <th>상영관</th>\n",
       "      <th>상영시각</th>\n",
       "      <th>상영일자</th>\n",
       "      <th>영화명</th>\n",
       "      <th>좌석수</th>\n",
       "      <th>영화관</th>\n",
       "      <th>상영분류</th>\n",
       "    </tr>\n",
       "  </thead>\n",
       "  <tbody>\n",
       "    <tr>\n",
       "      <th>568</th>\n",
       "      <td>10,000원</td>\n",
       "      <td>03관</td>\n",
       "      <td>14:40</td>\n",
       "      <td>2019-01-12</td>\n",
       "      <td>내안의 그놈</td>\n",
       "      <td>133.000000</td>\n",
       "      <td>CGV 여수웅천</td>\n",
       "      <td>디지털</td>\n",
       "    </tr>\n",
       "  </tbody>\n",
       "</table>\n",
       "</div>"
      ],
      "text/plain": [
       "           가격  상영관   상영시각        상영일자     영화명        좌석수       영화관 상영분류\n",
       "568   10,000원  03관  14:40  2019-01-12  내안의 그놈 133.000000  CGV 여수웅천  디지털"
      ]
     },
     "execution_count": 29,
     "metadata": {},
     "output_type": "execute_result"
    }
   ],
   "source": [
    "df[df.isin({'영화명':final['영화명']})['영화명']].sample()"
   ]
  },
  {
   "cell_type": "code",
   "execution_count": 30,
   "metadata": {},
   "outputs": [],
   "source": [
    "df.to_csv('Theaters_merged_files/show_timetable.csv', index=False)"
   ]
  },
  {
   "cell_type": "code",
   "execution_count": 24,
   "metadata": {},
   "outputs": [
    {
     "name": "stdout",
     "output_type": "stream",
     "text": [
      "(14, 8)\n"
     ]
    },
    {
     "data": {
      "text/html": [
       "<div>\n",
       "<style scoped>\n",
       "    .dataframe tbody tr th:only-of-type {\n",
       "        vertical-align: middle;\n",
       "    }\n",
       "\n",
       "    .dataframe tbody tr th {\n",
       "        vertical-align: top;\n",
       "    }\n",
       "\n",
       "    .dataframe thead th {\n",
       "        text-align: right;\n",
       "    }\n",
       "</style>\n",
       "<table border=\"1\" class=\"dataframe\">\n",
       "  <thead>\n",
       "    <tr style=\"text-align: right;\">\n",
       "      <th></th>\n",
       "      <th>가격</th>\n",
       "      <th>상영관</th>\n",
       "      <th>상영시각</th>\n",
       "      <th>상영일자</th>\n",
       "      <th>영화명</th>\n",
       "      <th>좌석수</th>\n",
       "      <th>영화관</th>\n",
       "      <th>상영분류</th>\n",
       "    </tr>\n",
       "  </thead>\n",
       "  <tbody>\n",
       "    <tr>\n",
       "      <th>569</th>\n",
       "      <td>5,000원</td>\n",
       "      <td>04관</td>\n",
       "      <td>18:30</td>\n",
       "      <td>2019-01-17</td>\n",
       "      <td>말모이</td>\n",
       "      <td>93.000000</td>\n",
       "      <td>메가박스진천점</td>\n",
       "      <td>디지털</td>\n",
       "    </tr>\n",
       "  </tbody>\n",
       "</table>\n",
       "</div>"
      ],
      "text/plain": [
       "          가격  상영관   상영시각        상영일자  영화명       좌석수      영화관 상영분류\n",
       "569   5,000원  04관  18:30  2019-01-17  말모이 93.000000  메가박스진천점  디지털"
      ]
     },
     "execution_count": 24,
     "metadata": {},
     "output_type": "execute_result"
    }
   ],
   "source": [
    "# 업데이트된 final 영화명 리스트 반영\n",
    "temp = df[df.isin({'영화명':final['영화명']})['영화명']]\n",
    "print(temp.shape)\n",
    "temp.sample()"
   ]
  },
  {
   "cell_type": "code",
   "execution_count": 22,
   "metadata": {},
   "outputs": [
    {
     "data": {
      "text/plain": [
       "가격      13146299\n",
       "상영관     13146299\n",
       "상영시각    13146299\n",
       "상영일자    13146299\n",
       "영화명     13146285\n",
       "좌석수     13146299\n",
       "영화관     13146299\n",
       "상영분류    13146299\n",
       "dtype: int64"
      ]
     },
     "execution_count": 22,
     "metadata": {},
     "output_type": "execute_result"
    }
   ],
   "source": [
    "temp.isnull().sum()"
   ]
  },
  {
   "cell_type": "code",
   "execution_count": 54,
   "metadata": {},
   "outputs": [],
   "source": [
    "# data.to_csv('Theaters_merged_files/show_timetable_0-150.csv', index=False) # 완료\n",
    "# data.to_csv('Theaters_merged_files/show_timetable_150-300.csv', index=False) # 300만개\n",
    "# data.to_csv('Theaters_merged_files/show_timetable_300-450.csv', index=False)\n",
    "# data.to_csv('Theaters_merged_files/show_timetable_450-.csv', index=False)\n",
    "# data.to_csv('Theaters_merged_files/show_timetable_seat_error_modified.csv', index=False)"
   ]
  },
  {
   "cell_type": "code",
   "execution_count": null,
   "metadata": {},
   "outputs": [],
   "source": [
    "# 에러\n",
    "\n",
    "# 파일 없음\n",
    "# CGV 청주(서문), CGV 용산아이파크몰, CGV 송파, \n",
    "# CGV 영등포\n",
    "# 롯데시네마 광주광산, 화성시문화재단 모두누림센터 누림아트홀\n",
    "\n",
    "# 데이터 없음\n",
    "# 1 CGV 울산신천, 2 CGV 오산중앙, 3 롯데시네마 대전관저, 9 메가박스 성수점, 72 포천자동차극장,\n",
    "# 192 영화의 전당, 215 롯데시네마 해운대, 233 CGV 여수웅천, 234 CGV 순천, 235 CGV 목포평화광장, 290 이봄씨어터,  \n"
   ]
  },
  {
   "cell_type": "code",
   "execution_count": 75,
   "metadata": {},
   "outputs": [],
   "source": [
    "k_data = data.copy()"
   ]
  },
  {
   "cell_type": "code",
   "execution_count": 80,
   "metadata": {},
   "outputs": [],
   "source": [
    "test = data[:10]"
   ]
  },
  {
   "cell_type": "code",
   "execution_count": 95,
   "metadata": {},
   "outputs": [
    {
     "data": {
      "text/plain": [
       "True"
      ]
     },
     "execution_count": 95,
     "metadata": {},
     "output_type": "execute_result"
    }
   ],
   "source": [
    "'연평해전' in k_movie_list"
   ]
  },
  {
   "cell_type": "code",
   "execution_count": 107,
   "metadata": {},
   "outputs": [
    {
     "data": {
      "text/html": [
       "<div>\n",
       "<style scoped>\n",
       "    .dataframe tbody tr th:only-of-type {\n",
       "        vertical-align: middle;\n",
       "    }\n",
       "\n",
       "    .dataframe tbody tr th {\n",
       "        vertical-align: top;\n",
       "    }\n",
       "\n",
       "    .dataframe thead th {\n",
       "        text-align: right;\n",
       "    }\n",
       "</style>\n",
       "<table border=\"1\" class=\"dataframe\">\n",
       "  <thead>\n",
       "    <tr style=\"text-align: right;\">\n",
       "      <th></th>\n",
       "      <th>가격</th>\n",
       "      <th>상영관</th>\n",
       "      <th>상영시각</th>\n",
       "      <th>상영일자</th>\n",
       "      <th>영화명</th>\n",
       "      <th>좌석수</th>\n",
       "      <th>영화관</th>\n",
       "      <th>상영분류</th>\n",
       "    </tr>\n",
       "  </thead>\n",
       "  <tbody>\n",
       "    <tr>\n",
       "      <th>0</th>\n",
       "      <td>NaN</td>\n",
       "      <td>01관</td>\n",
       "      <td>13:20</td>\n",
       "      <td>2015-08-19</td>\n",
       "      <td>매드 맥스: 분노의 도로</td>\n",
       "      <td>206.000000</td>\n",
       "      <td>CGV 판교</td>\n",
       "      <td>nan</td>\n",
       "    </tr>\n",
       "    <tr>\n",
       "      <th>1</th>\n",
       "      <td>NaN</td>\n",
       "      <td>02관(SCREENX)</td>\n",
       "      <td>14:50</td>\n",
       "      <td>2015-08-19</td>\n",
       "      <td>차이나타운</td>\n",
       "      <td>214.000000</td>\n",
       "      <td>CGV 판교</td>\n",
       "      <td>nan</td>\n",
       "    </tr>\n",
       "    <tr>\n",
       "      <th>2</th>\n",
       "      <td>NaN</td>\n",
       "      <td>03관</td>\n",
       "      <td>12:20</td>\n",
       "      <td>2015-08-19</td>\n",
       "      <td>뷰티 인사이드</td>\n",
       "      <td>203.000000</td>\n",
       "      <td>CGV 판교</td>\n",
       "      <td>nan</td>\n",
       "    </tr>\n",
       "    <tr>\n",
       "      <th>3</th>\n",
       "      <td>NaN</td>\n",
       "      <td>03관</td>\n",
       "      <td>15:20</td>\n",
       "      <td>2015-08-19</td>\n",
       "      <td>치외법권</td>\n",
       "      <td>203.000000</td>\n",
       "      <td>CGV 판교</td>\n",
       "      <td>nan</td>\n",
       "    </tr>\n",
       "    <tr>\n",
       "      <th>4</th>\n",
       "      <td>NaN</td>\n",
       "      <td>04관</td>\n",
       "      <td>13:50</td>\n",
       "      <td>2015-08-19</td>\n",
       "      <td>극비수사</td>\n",
       "      <td>180.000000</td>\n",
       "      <td>CGV 판교</td>\n",
       "      <td>nan</td>\n",
       "    </tr>\n",
       "    <tr>\n",
       "      <th>5</th>\n",
       "      <td>NaN</td>\n",
       "      <td>04관</td>\n",
       "      <td>16:20</td>\n",
       "      <td>2015-08-19</td>\n",
       "      <td>연평해전</td>\n",
       "      <td>180.000000</td>\n",
       "      <td>CGV 판교</td>\n",
       "      <td>nan</td>\n",
       "    </tr>\n",
       "    <tr>\n",
       "      <th>6</th>\n",
       "      <td>NaN</td>\n",
       "      <td>IMAX</td>\n",
       "      <td>11:50</td>\n",
       "      <td>2015-08-19</td>\n",
       "      <td>인터스텔라</td>\n",
       "      <td>297.000000</td>\n",
       "      <td>CGV 판교</td>\n",
       "      <td>nan</td>\n",
       "    </tr>\n",
       "    <tr>\n",
       "      <th>7</th>\n",
       "      <td>NaN</td>\n",
       "      <td>4DX</td>\n",
       "      <td>12:50</td>\n",
       "      <td>2015-08-19</td>\n",
       "      <td>샌 안드레아스</td>\n",
       "      <td>148.000000</td>\n",
       "      <td>CGV 판교</td>\n",
       "      <td>nan</td>\n",
       "    </tr>\n",
       "    <tr>\n",
       "      <th>8</th>\n",
       "      <td>NaN</td>\n",
       "      <td>4DX</td>\n",
       "      <td>15:50</td>\n",
       "      <td>2015-08-19</td>\n",
       "      <td>매드 맥스: 분노의 도로</td>\n",
       "      <td>148.000000</td>\n",
       "      <td>CGV 판교</td>\n",
       "      <td>nan</td>\n",
       "    </tr>\n",
       "    <tr>\n",
       "      <th>9</th>\n",
       "      <td>NaN</td>\n",
       "      <td>07관</td>\n",
       "      <td>14:20</td>\n",
       "      <td>2015-08-19</td>\n",
       "      <td>퇴마: 무녀굴</td>\n",
       "      <td>184.000000</td>\n",
       "      <td>CGV 판교</td>\n",
       "      <td>nan</td>\n",
       "    </tr>\n",
       "  </tbody>\n",
       "</table>\n",
       "</div>"
      ],
      "text/plain": [
       "    가격           상영관   상영시각        상영일자            영화명        좌석수     영화관  \\\n",
       "0  NaN           01관  13:20  2015-08-19  매드 맥스: 분노의 도로 206.000000  CGV 판교   \n",
       "1  NaN  02관(SCREENX)  14:50  2015-08-19          차이나타운 214.000000  CGV 판교   \n",
       "2  NaN           03관  12:20  2015-08-19        뷰티 인사이드 203.000000  CGV 판교   \n",
       "3  NaN           03관  15:20  2015-08-19           치외법권 203.000000  CGV 판교   \n",
       "4  NaN           04관  13:50  2015-08-19           극비수사 180.000000  CGV 판교   \n",
       "5  NaN           04관  16:20  2015-08-19           연평해전 180.000000  CGV 판교   \n",
       "6  NaN          IMAX  11:50  2015-08-19          인터스텔라 297.000000  CGV 판교   \n",
       "7  NaN           4DX  12:50  2015-08-19        샌 안드레아스 148.000000  CGV 판교   \n",
       "8  NaN           4DX  15:50  2015-08-19  매드 맥스: 분노의 도로 148.000000  CGV 판교   \n",
       "9  NaN           07관  14:20  2015-08-19        퇴마: 무녀굴 184.000000  CGV 판교   \n",
       "\n",
       "   상영분류  \n",
       "0   nan  \n",
       "1   nan  \n",
       "2   nan  \n",
       "3   nan  \n",
       "4   nan  \n",
       "5   nan  \n",
       "6   nan  \n",
       "7   nan  \n",
       "8   nan  \n",
       "9   nan  "
      ]
     },
     "execution_count": 107,
     "metadata": {},
     "output_type": "execute_result"
    }
   ],
   "source": [
    "test\n",
    "\n",
    "test['상영분류'] = test['영화명']\n",
    "test['상영분류'] = test['상영분류'].apply(lambda x: x.split('(')[1].replace(')', '') if len(x.split('(')) > 1 else np.nan)\n",
    "test['영화명'] = test['영화명'].apply(lambda x: x.strip().split('(')[0])\n",
    "test"
   ]
  },
  {
   "cell_type": "code",
   "execution_count": 122,
   "metadata": {},
   "outputs": [
    {
     "data": {
      "text/html": [
       "<div>\n",
       "<style scoped>\n",
       "    .dataframe tbody tr th:only-of-type {\n",
       "        vertical-align: middle;\n",
       "    }\n",
       "\n",
       "    .dataframe tbody tr th {\n",
       "        vertical-align: top;\n",
       "    }\n",
       "\n",
       "    .dataframe thead th {\n",
       "        text-align: right;\n",
       "    }\n",
       "</style>\n",
       "<table border=\"1\" class=\"dataframe\">\n",
       "  <thead>\n",
       "    <tr style=\"text-align: right;\">\n",
       "      <th></th>\n",
       "      <th>가격</th>\n",
       "      <th>상영관</th>\n",
       "      <th>상영시각</th>\n",
       "      <th>상영일자</th>\n",
       "      <th>영화명</th>\n",
       "      <th>좌석수</th>\n",
       "      <th>영화관</th>\n",
       "      <th>상영분류</th>\n",
       "    </tr>\n",
       "  </thead>\n",
       "  <tbody>\n",
       "    <tr>\n",
       "      <th>1</th>\n",
       "      <td>NaN</td>\n",
       "      <td>02관(SCREENX)</td>\n",
       "      <td>14:50</td>\n",
       "      <td>2015-08-19</td>\n",
       "      <td>차이나타운</td>\n",
       "      <td>214.000000</td>\n",
       "      <td>CGV 판교</td>\n",
       "      <td>nan</td>\n",
       "    </tr>\n",
       "    <tr>\n",
       "      <th>2</th>\n",
       "      <td>NaN</td>\n",
       "      <td>03관</td>\n",
       "      <td>12:20</td>\n",
       "      <td>2015-08-19</td>\n",
       "      <td>뷰티 인사이드</td>\n",
       "      <td>203.000000</td>\n",
       "      <td>CGV 판교</td>\n",
       "      <td>nan</td>\n",
       "    </tr>\n",
       "    <tr>\n",
       "      <th>3</th>\n",
       "      <td>NaN</td>\n",
       "      <td>03관</td>\n",
       "      <td>15:20</td>\n",
       "      <td>2015-08-19</td>\n",
       "      <td>치외법권</td>\n",
       "      <td>203.000000</td>\n",
       "      <td>CGV 판교</td>\n",
       "      <td>nan</td>\n",
       "    </tr>\n",
       "    <tr>\n",
       "      <th>4</th>\n",
       "      <td>NaN</td>\n",
       "      <td>04관</td>\n",
       "      <td>13:50</td>\n",
       "      <td>2015-08-19</td>\n",
       "      <td>극비수사</td>\n",
       "      <td>180.000000</td>\n",
       "      <td>CGV 판교</td>\n",
       "      <td>nan</td>\n",
       "    </tr>\n",
       "    <tr>\n",
       "      <th>5</th>\n",
       "      <td>NaN</td>\n",
       "      <td>04관</td>\n",
       "      <td>16:20</td>\n",
       "      <td>2015-08-19</td>\n",
       "      <td>연평해전</td>\n",
       "      <td>180.000000</td>\n",
       "      <td>CGV 판교</td>\n",
       "      <td>nan</td>\n",
       "    </tr>\n",
       "    <tr>\n",
       "      <th>9</th>\n",
       "      <td>NaN</td>\n",
       "      <td>07관</td>\n",
       "      <td>14:20</td>\n",
       "      <td>2015-08-19</td>\n",
       "      <td>퇴마: 무녀굴</td>\n",
       "      <td>184.000000</td>\n",
       "      <td>CGV 판교</td>\n",
       "      <td>nan</td>\n",
       "    </tr>\n",
       "  </tbody>\n",
       "</table>\n",
       "</div>"
      ],
      "text/plain": [
       "    가격           상영관   상영시각        상영일자      영화명        좌석수     영화관  상영분류\n",
       "1  NaN  02관(SCREENX)  14:50  2015-08-19    차이나타운 214.000000  CGV 판교   nan\n",
       "2  NaN           03관  12:20  2015-08-19  뷰티 인사이드 203.000000  CGV 판교   nan\n",
       "3  NaN           03관  15:20  2015-08-19     치외법권 203.000000  CGV 판교   nan\n",
       "4  NaN           04관  13:50  2015-08-19     극비수사 180.000000  CGV 판교   nan\n",
       "5  NaN           04관  16:20  2015-08-19     연평해전 180.000000  CGV 판교   nan\n",
       "9  NaN           07관  14:20  2015-08-19  퇴마: 무녀굴 184.000000  CGV 판교   nan"
      ]
     },
     "execution_count": 122,
     "metadata": {},
     "output_type": "execute_result"
    }
   ],
   "source": [
    "k_index = list(test[test.isin({'영화명': k_movie_list})]['영화명'].dropna().index)\n",
    "test.iloc[k_index]\n",
    "# test[test.isin({'영화명': k_movie_list})]"
   ]
  },
  {
   "cell_type": "code",
   "execution_count": 124,
   "metadata": {},
   "outputs": [
    {
     "name": "stdout",
     "output_type": "stream",
     "text": [
      "(6601770, 8)\n"
     ]
    },
    {
     "data": {
      "text/html": [
       "<div>\n",
       "<style scoped>\n",
       "    .dataframe tbody tr th:only-of-type {\n",
       "        vertical-align: middle;\n",
       "    }\n",
       "\n",
       "    .dataframe tbody tr th {\n",
       "        vertical-align: top;\n",
       "    }\n",
       "\n",
       "    .dataframe thead th {\n",
       "        text-align: right;\n",
       "    }\n",
       "</style>\n",
       "<table border=\"1\" class=\"dataframe\">\n",
       "  <thead>\n",
       "    <tr style=\"text-align: right;\">\n",
       "      <th></th>\n",
       "      <th>가격</th>\n",
       "      <th>상영관</th>\n",
       "      <th>상영시각</th>\n",
       "      <th>상영일자</th>\n",
       "      <th>영화명</th>\n",
       "      <th>좌석수</th>\n",
       "      <th>영화관</th>\n",
       "      <th>상영분류</th>\n",
       "    </tr>\n",
       "  </thead>\n",
       "  <tbody>\n",
       "    <tr>\n",
       "      <th>12458</th>\n",
       "      <td>17,000원</td>\n",
       "      <td>IMAX</td>\n",
       "      <td>12:50</td>\n",
       "      <td>2016-04-28</td>\n",
       "      <td>캡틴 아메리카: 시빌 워</td>\n",
       "      <td>297.000000</td>\n",
       "      <td>CGV 판교</td>\n",
       "      <td>IMAX 3D</td>\n",
       "    </tr>\n",
       "  </tbody>\n",
       "</table>\n",
       "</div>"
      ],
      "text/plain": [
       "             가격   상영관   상영시각        상영일자            영화명        좌석수     영화관  \\\n",
       "12458   17,000원  IMAX  12:50  2016-04-28  캡틴 아메리카: 시빌 워 297.000000  CGV 판교   \n",
       "\n",
       "          상영분류  \n",
       "12458  IMAX 3D  "
      ]
     },
     "execution_count": 124,
     "metadata": {},
     "output_type": "execute_result"
    }
   ],
   "source": [
    "# 한국영화만 남기기\n",
    "# k_data['상영분류'] = k_data['영화명']\n",
    "# k_data['상영분류'] = k_data['상영분류'].apply(lambda x: x.split('(')[1].replace(')', '') if len(x.split('(')) > 1 else np.nan)\n",
    "# k_data['영화명'] = k_data['영화명'].apply(lambda x: x.strip().split('(')[0])\n",
    "\n",
    "# k_index = list(k_data[k_data.isin({'영화명': k_movie_list})]['영화명'].dropna().index)\n",
    "\n",
    "k_data = k_data.iloc[k_index]\n",
    "\n",
    "print(k_data.shape)\n",
    "k_data.sample()"
   ]
  },
  {
   "cell_type": "markdown",
   "metadata": {},
   "source": [
    "# 전체 concat"
   ]
  },
  {
   "cell_type": "code",
   "execution_count": 55,
   "metadata": {},
   "outputs": [],
   "source": [
    "df1 = pd.read_csv('Theaters_merged_files/show_timetable_0-150.csv').drop_duplicates()\n",
    "df2 = pd.read_csv('Theaters_merged_files/show_timetable_150-300.csv').drop_duplicates()\n",
    "df3 = pd.read_csv('Theaters_merged_files/show_timetable_300-450.csv').drop_duplicates()\n",
    "df4 = pd.read_csv('Theaters_merged_files/show_timetable_450-.csv').drop_duplicates()"
   ]
  },
  {
   "cell_type": "code",
   "execution_count": 56,
   "metadata": {},
   "outputs": [
    {
     "name": "stdout",
     "output_type": "stream",
     "text": [
      "(11874284, 8)\n"
     ]
    },
    {
     "data": {
      "text/html": [
       "<div>\n",
       "<style scoped>\n",
       "    .dataframe tbody tr th:only-of-type {\n",
       "        vertical-align: middle;\n",
       "    }\n",
       "\n",
       "    .dataframe tbody tr th {\n",
       "        vertical-align: top;\n",
       "    }\n",
       "\n",
       "    .dataframe thead th {\n",
       "        text-align: right;\n",
       "    }\n",
       "</style>\n",
       "<table border=\"1\" class=\"dataframe\">\n",
       "  <thead>\n",
       "    <tr style=\"text-align: right;\">\n",
       "      <th></th>\n",
       "      <th>가격</th>\n",
       "      <th>상영관</th>\n",
       "      <th>상영시각</th>\n",
       "      <th>상영일자</th>\n",
       "      <th>영화명</th>\n",
       "      <th>좌석수</th>\n",
       "      <th>영화관</th>\n",
       "      <th>상영분류</th>\n",
       "    </tr>\n",
       "  </thead>\n",
       "  <tbody>\n",
       "    <tr>\n",
       "      <th>1992761</th>\n",
       "      <td>10,000원</td>\n",
       "      <td>01관</td>\n",
       "      <td>15:10</td>\n",
       "      <td>2019-03-25</td>\n",
       "      <td>돈</td>\n",
       "      <td>169.000000</td>\n",
       "      <td>CGV광양</td>\n",
       "      <td>디지털</td>\n",
       "    </tr>\n",
       "  </tbody>\n",
       "</table>\n",
       "</div>"
      ],
      "text/plain": [
       "               가격  상영관   상영시각        상영일자 영화명        좌석수    영화관 상영분류\n",
       "1992761   10,000원  01관  15:10  2019-03-25   돈 169.000000  CGV광양  디지털"
      ]
     },
     "execution_count": 56,
     "metadata": {},
     "output_type": "execute_result"
    }
   ],
   "source": [
    "df = pd.concat([df1, df2, df3, df4])\n",
    "print(df.shape)\n",
    "df.sample()"
   ]
  },
  {
   "cell_type": "code",
   "execution_count": 57,
   "metadata": {},
   "outputs": [
    {
     "data": {
      "text/plain": [
       "가격      468915\n",
       "상영관          0\n",
       "상영시각         0\n",
       "상영일자         0\n",
       "영화명          0\n",
       "좌석수       7183\n",
       "영화관          0\n",
       "상영분류         0\n",
       "dtype: int64"
      ]
     },
     "execution_count": 57,
     "metadata": {},
     "output_type": "execute_result"
    }
   ],
   "source": [
    "df.isnull().sum()"
   ]
  },
  {
   "cell_type": "code",
   "execution_count": 58,
   "metadata": {},
   "outputs": [
    {
     "data": {
      "text/plain": [
       "서울극장                   3295\n",
       "CGV 산본                 2306\n",
       "롯데시네마 안산고잔              923\n",
       "메가박스 센트럴                187\n",
       "CGV 명동역 씨네라이브러리         177\n",
       "조이앤시네마 전주점              164\n",
       "CGV 안산                   61\n",
       "롯데시네마 광복                 46\n",
       "롯데시네마 광주(롯데백화점)_샤롯데      24\n",
       "Name: 영화관, dtype: int64"
      ]
     },
     "execution_count": 58,
     "metadata": {},
     "output_type": "execute_result"
    }
   ],
   "source": [
    "df.loc[df['좌석수'].isnull(), '영화관'].value_counts()"
   ]
  },
  {
   "cell_type": "code",
   "execution_count": 59,
   "metadata": {},
   "outputs": [],
   "source": [
    "df.to_csv('Theaters_merged_files/show_timetable.csv', index=False)"
   ]
  },
  {
   "cell_type": "markdown",
   "metadata": {},
   "source": [
    "# error 다시 concat"
   ]
  },
  {
   "cell_type": "code",
   "execution_count": 4,
   "metadata": {},
   "outputs": [
    {
     "name": "stdout",
     "output_type": "stream",
     "text": [
      "(11671656, 8)\n"
     ]
    },
    {
     "data": {
      "text/html": [
       "<div>\n",
       "<style scoped>\n",
       "    .dataframe tbody tr th:only-of-type {\n",
       "        vertical-align: middle;\n",
       "    }\n",
       "\n",
       "    .dataframe tbody tr th {\n",
       "        vertical-align: top;\n",
       "    }\n",
       "\n",
       "    .dataframe thead th {\n",
       "        text-align: right;\n",
       "    }\n",
       "</style>\n",
       "<table border=\"1\" class=\"dataframe\">\n",
       "  <thead>\n",
       "    <tr style=\"text-align: right;\">\n",
       "      <th></th>\n",
       "      <th>가격</th>\n",
       "      <th>상영관</th>\n",
       "      <th>상영시각</th>\n",
       "      <th>상영일자</th>\n",
       "      <th>영화명</th>\n",
       "      <th>좌석수</th>\n",
       "      <th>영화관</th>\n",
       "      <th>상영분류</th>\n",
       "    </tr>\n",
       "  </thead>\n",
       "  <tbody>\n",
       "    <tr>\n",
       "      <th>8349063</th>\n",
       "      <td>11,000원</td>\n",
       "      <td>04관</td>\n",
       "      <td>19:30</td>\n",
       "      <td>2016-11-05</td>\n",
       "      <td>럭키</td>\n",
       "      <td>155.000000</td>\n",
       "      <td>롯데시네마 울산성남</td>\n",
       "      <td>디지털</td>\n",
       "    </tr>\n",
       "  </tbody>\n",
       "</table>\n",
       "</div>"
      ],
      "text/plain": [
       "               가격  상영관   상영시각        상영일자 영화명        좌석수         영화관 상영분류\n",
       "8349063   11,000원  04관  19:30  2016-11-05  럭키 155.000000  롯데시네마 울산성남  디지털"
      ]
     },
     "execution_count": 4,
     "metadata": {},
     "output_type": "execute_result"
    }
   ],
   "source": [
    "df = pd.read_csv('Theaters_merged_files/show_timetable.csv')\n",
    "print(df.shape)\n",
    "df.sample()"
   ]
  },
  {
   "cell_type": "code",
   "execution_count": 5,
   "metadata": {},
   "outputs": [],
   "source": [
    "errored_list = ['CGV 압구정', 'CGV 신촌아트레온', '롯데시네마 광주(롯데백화점)', '롯데시네마 광주(롯데백화점)_샤롯데']"
   ]
  },
  {
   "cell_type": "code",
   "execution_count": 13,
   "metadata": {},
   "outputs": [
    {
     "data": {
      "text/plain": [
       "11559251"
      ]
     },
     "execution_count": 13,
     "metadata": {},
     "output_type": "execute_result"
    }
   ],
   "source": [
    "len(df[df.isin({'영화관': errored_list})['영화관'] == False])\n",
    "\n",
    "# error_index = list(df.isin({'영화관': errored_list})['영화관'].dropna().index)\n",
    "# len(error_index)\n",
    "# df = df.drop(error_index)\n",
    "\n",
    "# k_index = list(timetable_spread[timetable_spread.isin({'영화명': k_movie_list})]['영화명'].dropna().index)\n",
    "# timetable_spread = timetable_spread.iloc[k_index]"
   ]
  },
  {
   "cell_type": "code",
   "execution_count": 15,
   "metadata": {},
   "outputs": [
    {
     "data": {
      "text/plain": [
       "(112405, 8)"
      ]
     },
     "execution_count": 15,
     "metadata": {},
     "output_type": "execute_result"
    }
   ],
   "source": [
    "data = pd.read_csv('Theaters_merged_files/show_timetable_seat_error_modified.csv')\n",
    "data.shape"
   ]
  },
  {
   "cell_type": "code",
   "execution_count": 16,
   "metadata": {
    "scrolled": true
   },
   "outputs": [
    {
     "data": {
      "text/plain": [
       "11671656"
      ]
     },
     "execution_count": 16,
     "metadata": {},
     "output_type": "execute_result"
    }
   ],
   "source": [
    "11559251+112405"
   ]
  },
  {
   "cell_type": "code",
   "execution_count": 17,
   "metadata": {},
   "outputs": [],
   "source": [
    "pd.concat([df[df.isin({'영화관': errored_list})['영화관'] == False], data]).to_csv('Theaters_merged_files/show_timetable.csv', index=False)"
   ]
  },
  {
   "cell_type": "code",
   "execution_count": null,
   "metadata": {},
   "outputs": [],
   "source": [
    "# concat 후에 할 작업\n",
    "# 영화명 뒤에 붙어있는 (디지털), (IMAX) 등 따로 떼기\n",
    "#     timetable_spread['상영분류'] = timetable_spread['영화명']\n",
    "#     timetable_spread['상영분류'] = timetable_spread['상영분류'].apply(lambda x: x.split('(')[1].replace(')', '') if len(x.split('(')) > 1 else np.nan)\n",
    "#     timetable_spread['영화명'] = timetable_spread['영화명'].apply(lambda x: x.split('(')[0])\n",
    "\n",
    "    # 상영일자에서 요일 정보 컬럼 만들기 -> 주중(월화수목) 주말(금토일) 로 나누기\n",
    "    timetable_spread['상영일자'] = pd.to_datetime(timetable_spread['상영일자'])\n",
    "    timetable_spread['year'] = timetable_spread['상영일자'].dt.year\n",
    "    timetable_spread['month'] = timetable_spread['상영일자'].dt.month\n",
    "    timetable_spread['day'] = timetable_spread['상영일자'].dt.day\n",
    "    timetable_spread['dayofweek'] = timetable_spread['상영일자'].dt.dayofweek\n",
    "\n",
    "    timetable_spread['주말'] = 0\n",
    "    # timetable_spread.loc[timetable_spread['dayofweek'] == 4, '주말'] = 1 # 금요일도 주중이니까 시간대 분류를 위해\n",
    "    timetable_spread.loc[timetable_spread['dayofweek'] == 5, '주말'] = 1 \n",
    "    timetable_spread.loc[timetable_spread['dayofweek'] == 6, '주말'] = 1 \n",
    "\n",
    "    timetable_spread[['상영일자', 'year', 'month', 'day', 'dayofweek', '주말']]\n",
    "    \n",
    "    # 상영시각 등급\n",
    "    timetable_spread.loc[timetable_spread['상영시각'] > '24:00', '상영시각등급'] = '나이트'\n",
    "    timetable_spread.loc[timetable_spread['상영시각'] <= '24:00', '상영시각등급'] = '문라이트'\n",
    "    timetable_spread.loc[timetable_spread['상영시각'] <= '22:00', '상영시각등급'] = '프라임'\n",
    "    timetable_spread.loc[timetable_spread['상영시각'] <= '16:00', '상영시각등급'] = '데이라이트'\n",
    "    timetable_spread.loc[timetable_spread['상영시각'] <= '13:00', '상영시각등급'] = '브런치'\n",
    "    timetable_spread.loc[timetable_spread['상영시각'] <= '10:00', '상영시각등급'] = '모닝'\n"
   ]
  }
 ],
 "metadata": {
  "kernelspec": {
   "display_name": "Python 3",
   "language": "python",
   "name": "python3"
  },
  "language_info": {
   "codemirror_mode": {
    "name": "ipython",
    "version": 3
   },
   "file_extension": ".py",
   "mimetype": "text/x-python",
   "name": "python",
   "nbconvert_exporter": "python",
   "pygments_lexer": "ipython3",
   "version": "3.7.3"
  }
 },
 "nbformat": 4,
 "nbformat_minor": 2
}
