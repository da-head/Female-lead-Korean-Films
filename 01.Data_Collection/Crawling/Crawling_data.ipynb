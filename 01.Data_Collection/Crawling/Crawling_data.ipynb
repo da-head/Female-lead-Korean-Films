{
 "cells": [
  {
   "cell_type": "code",
   "execution_count": 1,
   "metadata": {},
   "outputs": [],
   "source": [
    "import os\n",
    "import datetime\n",
    "import pandas as pd\n",
    "import sqlite3"
   ]
  },
  {
   "cell_type": "markdown",
   "metadata": {},
   "source": [
    "# 일별 좌석점유율"
   ]
  },
  {
   "cell_type": "code",
   "execution_count": null,
   "metadata": {},
   "outputs": [],
   "source": [
    "# 일별 좌석점유율 http://www.kobis.or.kr/kobis/business/stat/boxs/findDailySeatTicketList.do\n",
    "    \n",
    "NAME = 'findDailySeatTicketList'\n",
    "URL = f'http://www.kobis.or.kr/kobis/business/stat/boxs/{NAME}.do'\n",
    "\n",
    "date = datetime.date(2015, 1, 1)\n",
    "\n",
    "# while date < datetime.date(2015, 1, 15): # 테스트용\n",
    "while date < datetime.date(2019, 11, 1):\n",
    "    start_date = date.isoformat()\n",
    "    end_date = (date + datetime.timedelta(days=6)).isoformat()\n",
    "    print(start_date, '~', end_date)\n",
    "    os.system(f'curl \"{URL}?loadEnd=0&dmlMode=excel&' \\\n",
    "              f'startDate={start_date}&endDate={end_date}&repNationCd=1&searchType=2\"' \\\n",
    "              f' > 일별좌석점유율-{start_date}.html')\n",
    "    date += datetime.timedelta(days=7)"
   ]
  },
  {
   "cell_type": "code",
   "execution_count": null,
   "metadata": {},
   "outputs": [],
   "source": [
    "df = pd.DataFrame()\n",
    "\n",
    "date = datetime.date(2015, 1, 1)\n",
    "\n",
    "# while date < datetime.date(2015, 1, 15): # 테스트용\n",
    "while date < datetime.date(2019, 11, 1):\n",
    "    start_date = date.isoformat()\n",
    "\n",
    "    seat = pd.read_html(f'일별좌석점유율-{start_date}.html', encoding='utf-8')\n",
    "\n",
    "    for i in range(1,8)[::-1]:\n",
    "         df2 = seat[i][:-1]\n",
    "         df = pd.concat([df, df2])\n",
    "        \n",
    "    date += datetime.timedelta(days=7)"
   ]
  },
  {
   "cell_type": "code",
   "execution_count": null,
   "metadata": {
    "scrolled": true
   },
   "outputs": [],
   "source": [
    "connection = sqlite3.connect('seat.db')\n",
    "df.to_sql('seat_daily_propotion', connection, index=False\n",
    "#           , if_exists='replace' # 같은 db 에 덮어쓰는 코드\n",
    "         )\n",
    "pd.read_sql('select * from seat_daily_propotion', connection)"
   ]
  },
  {
   "cell_type": "markdown",
   "metadata": {},
   "source": [
    "# 일별 상영점유율"
   ]
  },
  {
   "cell_type": "code",
   "execution_count": null,
   "metadata": {},
   "outputs": [],
   "source": [
    "# 일별 상영점유율 http://www.kobis.or.kr/kobis/business/stat/boxs/findDailyShowTicketList.do\n",
    "\n",
    "NAME = 'findDailyShowTicketList'\n",
    "URL = f'http://www.kobis.or.kr/kobis/business/stat/boxs/{NAME}.do'\n",
    "\n",
    "date = datetime.date(2015, 1, 1)\n",
    "\n",
    "# while date < datetime.date(2015, 1, 15): # 테스트용\n",
    "while date < datetime.date(2019, 11, 1):\n",
    "    start_date = date.isoformat()\n",
    "    end_date = (date + datetime.timedelta(days=6)).isoformat()\n",
    "    print(start_date, '~', end_date)\n",
    "    os.system(f'curl \"{URL}?loadEnd=0&dmlMode=excel&' \\\n",
    "              f'startDate={start_date}&endDate={end_date}&repNationCd=1\"' \\\n",
    "              f' > 일별상영점유율-{start_date}.html')\n",
    "    date += datetime.timedelta(days=7)"
   ]
  },
  {
   "cell_type": "code",
   "execution_count": null,
   "metadata": {},
   "outputs": [],
   "source": [
    "df = pd.DataFrame()\n",
    "\n",
    "date = datetime.date(2015, 1, 1)\n",
    "\n",
    "# while date < datetime.date(2015, 1, 15): # 테스트용\n",
    "while date < datetime.date(2019, 11, 1):\n",
    "    start_date = date.isoformat()\n",
    "\n",
    "    seat = pd.read_html(f'일별상영점유율-{start_date}.html', encoding='utf-8')\n",
    "\n",
    "    for i in range(1,8)[::-1]:\n",
    "         df2 = seat[i][:-1]\n",
    "         df = pd.concat([df, df2])\n",
    "        \n",
    "    date += datetime.timedelta(days=7)"
   ]
  },
  {
   "cell_type": "code",
   "execution_count": null,
   "metadata": {},
   "outputs": [],
   "source": [
    "connection = sqlite3.connect('show.db')\n",
    "df.to_sql('show_daily_propotion', connection, index=False\n",
    "#           , if_exists='replace' # 같은 db 에 덮어쓰는 코드\n",
    "         )\n",
    "pd.read_sql('select * from show_daily_propotion', connection)"
   ]
  },
  {
   "cell_type": "markdown",
   "metadata": {},
   "source": [
    "# 일별 스크린점유율"
   ]
  },
  {
   "cell_type": "code",
   "execution_count": null,
   "metadata": {},
   "outputs": [],
   "source": [
    "# 일별 스크린점유율 http://www.kobis.or.kr/kobis/business/stat/boxs/findDailyScreenTicketList.do\n",
    "NAME = 'findDailyScreenTicketList'\n",
    "URL = f'http://www.kobis.or.kr/kobis/business/stat/boxs/{NAME}.do'\n",
    "\n",
    "date = datetime.date(2015, 1, 1)\n",
    "\n",
    "while date < datetime.date(2015, 1, 15): # 테스트용\n",
    "# while date < datetime.date(2019, 11, 1):\n",
    "    start_date = date.isoformat()\n",
    "    end_date = (date + datetime.timedelta(days=6)).isoformat()\n",
    "    print(start_date, '~', end_date)\n",
    "    os.system(f'curl \"{URL}?loadEnd=0&dmlMode=excel&' \\\n",
    "              f'startDate={start_date}&endDate={end_date}&repNationCd=1\"' \\\n",
    "              f' > 일별스크린점유율-{start_date}.html')\n",
    "    date += datetime.timedelta(days=7)"
   ]
  },
  {
   "cell_type": "code",
   "execution_count": null,
   "metadata": {},
   "outputs": [],
   "source": [
    "df = pd.DataFrame()\n",
    "\n",
    "date = datetime.date(2015, 1, 1)\n",
    "\n",
    "while date < datetime.date(2015, 1, 15): # 테스트용\n",
    "# while date < datetime.date(2019, 11, 1):\n",
    "    start_date = date.isoformat()\n",
    "\n",
    "    seat = pd.read_html(f'일별스크린점유율-{start_date}.html', encoding='utf-8')\n",
    "\n",
    "    for i in range(1,8)[::-1]:\n",
    "         df2 = seat[i][:-1]\n",
    "         df = pd.concat([df, df2])\n",
    "        \n",
    "    date += datetime.timedelta(days=7)"
   ]
  },
  {
   "cell_type": "code",
   "execution_count": null,
   "metadata": {
    "scrolled": true
   },
   "outputs": [],
   "source": [
    "connection = sqlite3.connect('screen.db')\n",
    "df.to_sql('show_daily_propotion', connection, index=False\n",
    "#           , if_exists='replace' # 같은 db 에 덮어쓰는 코드\n",
    "         )\n",
    "pd.read_sql('select * from show_daily_propotion', connection)"
   ]
  }
 ],
 "metadata": {
  "kernelspec": {
   "display_name": "Python 3",
   "language": "python",
   "name": "python3"
  },
  "language_info": {
   "codemirror_mode": {
    "name": "ipython",
    "version": 3
   },
   "file_extension": ".py",
   "mimetype": "text/x-python",
   "name": "python",
   "nbconvert_exporter": "python",
   "pygments_lexer": "ipython3",
   "version": "3.7.3"
  }
 },
 "nbformat": 4,
 "nbformat_minor": 2
}
