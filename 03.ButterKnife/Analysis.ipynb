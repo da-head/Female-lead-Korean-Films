{
 "cells": [
  {
   "cell_type": "code",
   "execution_count": 1,
   "metadata": {},
   "outputs": [],
   "source": [
    "import pandas as pd\n",
    "import numpy as np\n",
    "import matplotlib\n",
    "import matplotlib.pyplot as plt\n",
    "import seaborn as sns\n",
    "import warnings\n",
    "\n",
    "%matplotlib inline\n",
    "plt.rcParams['font.family'] = 'NanumGothic'\n",
    "pd.set_option('display.max_columns', None)\n",
    "pd.set_option('display.max_rows', None)\n",
    "pd.set_option('float_format', '{:f}'.format)\n",
    "warnings.filterwarnings('ignore')"
   ]
  },
  {
   "cell_type": "code",
   "execution_count": 2,
   "metadata": {},
   "outputs": [],
   "source": [
    "df = pd.read_csv('../01.Data_Collection/films_updated.csv')"
   ]
  },
  {
   "cell_type": "code",
   "execution_count": 3,
   "metadata": {},
   "outputs": [
    {
     "data": {
      "text/plain": [
       "(687, 38)"
      ]
     },
     "execution_count": 3,
     "metadata": {},
     "output_type": "execute_result"
    }
   ],
   "source": [
    "df.shape"
   ]
  },
  {
   "cell_type": "code",
   "execution_count": 4,
   "metadata": {
    "collapsed": true
   },
   "outputs": [
    {
     "data": {
      "text/plain": [
       "영화명           0\n",
       "영화코드          0\n",
       "개봉일           0\n",
       "대표국적          0\n",
       "국적            0\n",
       "장르            0\n",
       "등급            0\n",
       "영화형태          0\n",
       "영화구분          0\n",
       "제작사          17\n",
       "배급사           0\n",
       "상영횟수          0\n",
       "전국스크린수        0\n",
       "전국매출액         0\n",
       "전국관객수         0\n",
       "서울매출액         0\n",
       "서울관객수         0\n",
       "F-rated       0\n",
       "감독            0\n",
       "대표감독          0\n",
       "감독코드          0\n",
       "감독성별          0\n",
       "감독_대표역할       0\n",
       "감독필모          0\n",
       "작가           42\n",
       "대표작가         42\n",
       "대표작가(필명)     42\n",
       "작가코드         42\n",
       "작가성별         68\n",
       "작가_대표역할      42\n",
       "작가필모         42\n",
       "배우            0\n",
       "주연배우          0\n",
       "배역명         166\n",
       "배우코드          0\n",
       "배우성별          0\n",
       "배우_대표역할       0\n",
       "배우필모          0\n",
       "dtype: int64"
      ]
     },
     "execution_count": 4,
     "metadata": {},
     "output_type": "execute_result"
    }
   ],
   "source": [
    "df.isnull().sum()"
   ]
  },
  {
   "cell_type": "code",
   "execution_count": 5,
   "metadata": {
    "collapsed": true
   },
   "outputs": [
    {
     "data": {
      "text/plain": [
       "179                     해어화\n",
       "188              극장판 안녕 자두야\n",
       "198                달에 부는 바람\n",
       "203               소주와 아이스크림\n",
       "204                  과대망상자들\n",
       "212                      사냥\n",
       "213                  빅뱅 메이드\n",
       "214                      경계\n",
       "215                  홀리워킹데이\n",
       "217       극장판 프리즘스톤 올스타 셀렉션\n",
       "234            브링 홈: 아버지의 땅\n",
       "246                할머니의 먼 집\n",
       "247                     돈 맛\n",
       "257            무현, 두 도시 이야기\n",
       "265           제자도 - 제자,옥한흠2\n",
       "274               나의 살던 고향은\n",
       "286                     위켄즈\n",
       "295        터닝메카드W: 블랙미러의 부활\n",
       "297        뚜르: 내 생애 최고의 49일\n",
       "304                   레이디버그\n",
       "311               비정규직 특수요원\n",
       "322                    더 플랜\n",
       "323               마리안느와 마가렛\n",
       "326           서서평, 천천히 평온하게\n",
       "337          고려 아리랑: 천산의 디바\n",
       "349        청춘 합창단 - 또 하나의 꿈\n",
       "358                  파밍 보이즈\n",
       "369             밤섬해적단 서울불바다\n",
       "372    무현, 두 도시 이야기 : 파이널 컷\n",
       "373                     소나기\n",
       "375                  저수지 게임\n",
       "376                  안녕 히어로\n",
       "385                    땐뽀걸즈\n",
       "386              다시 태어나도 우리\n",
       "404                  올드마린보이\n",
       "422         뽀로로 극장판 공룡섬 대모험\n",
       "446     터닝메카드W: 반다인의 비밀 특별판\n",
       "451                      라라\n",
       "476                     스파키\n",
       "493                 다이빙벨 그후\n",
       "505                 안나 카레니나\n",
       "508                    속닥속닥\n",
       "514                 해적왕 작스톰\n",
       "516       극장판 헬로카봇 : 백악기 시대\n",
       "528                    미친도시\n",
       "538                      명당\n",
       "540                 나부야 나부야\n",
       "550                  집의 시간들\n",
       "553                 1991, 봄\n",
       "562          번 더 스테이지: 더 무비\n",
       "567                 국가부도의 날\n",
       "568                    리스펙트\n",
       "572           런닝맨 : 풀룰루의 역습\n",
       "575                     다영씨\n",
       "588     극장판 공룡메카드: 타이니소어의 섬\n",
       "598    극장판 헬로카봇: 옴파로스 섬의 비밀\n",
       "608                 칠곡 가시나들\n",
       "613                1919 유관순\n",
       "630                      왓칭\n",
       "633                노무현과 바보들\n",
       "641                    교회오빠\n",
       "653         롱 리브 더 킹: 목포 영웅\n",
       "670                  봉오동 전투\n",
       "671          브링 더 소울 : 더 무비\n",
       "672         캐리tv 러브콘서트 더 무비\n",
       "673                     김복동\n",
       "674                      려행\n",
       "675        안녕, 티라노: 영원히, 함께\n",
       "Name: 영화명, dtype: object"
      ]
     },
     "execution_count": 5,
     "metadata": {},
     "output_type": "execute_result"
    }
   ],
   "source": [
    "df[df['작가성별'].isnull()]['영화명']"
   ]
  },
  {
   "cell_type": "code",
   "execution_count": 6,
   "metadata": {},
   "outputs": [
    {
     "data": {
      "text/plain": [
       "0    357\n",
       "1    228\n",
       "2     60\n",
       "3     42\n",
       "Name: F-rated, dtype: int64"
      ]
     },
     "execution_count": 6,
     "metadata": {},
     "output_type": "execute_result"
    }
   ],
   "source": [
    "df['F-rated'].value_counts()"
   ]
  },
  {
   "cell_type": "code",
   "execution_count": 7,
   "metadata": {},
   "outputs": [],
   "source": [
    "# F-rated 다시 구하기\n",
    "f_rated = []\n",
    "for i, row in df.iterrows():\n",
    "    answer = 0\n",
    "    if row['배우성별'] == '여자' : answer += 1\n",
    "    if row['작가성별'] == '여자' : answer += 1\n",
    "    if row['감독성별'] == '여자' : answer += 1\n",
    "    f_rated.append(answer)\n",
    "df['F-rated'] = f_rated"
   ]
  },
  {
   "cell_type": "code",
   "execution_count": 8,
   "metadata": {},
   "outputs": [
    {
     "data": {
      "text/plain": [
       "0    354\n",
       "1    228\n",
       "2     61\n",
       "3     44\n",
       "Name: F-rated, dtype: int64"
      ]
     },
     "execution_count": 8,
     "metadata": {},
     "output_type": "execute_result"
    }
   ],
   "source": [
    "df['F-rated'].value_counts()"
   ]
  },
  {
   "cell_type": "code",
   "execution_count": 10,
   "metadata": {},
   "outputs": [],
   "source": [
    "# csv 파일에 F-rated 업데이트\n",
    "# df.to_csv('../01.Data_Collection/films_updated.csv', index=False)"
   ]
  },
  {
   "cell_type": "code",
   "execution_count": 11,
   "metadata": {},
   "outputs": [],
   "source": [
    "df = pd.read_csv('../01.Data_Collection/films_updated.csv')"
   ]
  },
  {
   "cell_type": "markdown",
   "metadata": {},
   "source": [
    "1. 대형 배급사의  F-rated 영화 배급 비율\n",
    "2. 회당 매출액 [매출액/상영횟수? 관객수/상영횟수?] 로 구한 지표와 F-rated 등급을 포함한 다른 컬럼들과의 상관관계 ",
    "\n",
    "3. F-rated 등급과 상관계수 높은 피쳐가 무엇인지"
   ]
  },
  {
   "cell_type": "code",
   "execution_count": null,
   "metadata": {
    "scrolled": true
   },
   "outputs": [],
   "source": [
    "df.sample()"
   ]
  },
  {
   "cell_type": "code",
   "execution_count": null,
   "metadata": {},
   "outputs": [],
   "source": [
    "# "
   ]
  },
  {
   "cell_type": "code",
   "execution_count": null,
   "metadata": {},
   "outputs": [],
   "source": [
    "df.groupby('F-rated')['전국매출액'].mean()"
   ]
  },
  {
   "cell_type": "code",
   "execution_count": null,
   "metadata": {},
   "outputs": [],
   "source": [
    "df.groupby('F-rated')['전국매출액'].describe()"
   ]
  },
  {
   "cell_type": "code",
   "execution_count": null,
   "metadata": {},
   "outputs": [],
   "source": [
    "plt.figure(figsize=[20,15])\n",
    "sns.catplot(x='F-rated', y='전국매출액', data=df, kind='swarm')"
   ]
  },
  {
   "cell_type": "code",
   "execution_count": null,
   "metadata": {},
   "outputs": [],
   "source": [
    "df.groupby('F-rated')['전국매출액'].median()"
   ]
  },
  {
   "cell_type": "code",
   "execution_count": null,
   "metadata": {},
   "outputs": [],
   "source": [
    "df.groupby('F-rated')['상영횟수'].median()"
   ]
  },
  {
   "cell_type": "code",
   "execution_count": null,
   "metadata": {},
   "outputs": [],
   "source": [
    "df['회당 평균 매출액'] = df['전국매출액'] / df['상영횟수']\n",
    "df.groupby('F-rated')['회당 평균 매출액'].mean()"
   ]
  },
  {
   "cell_type": "code",
   "execution_count": null,
   "metadata": {},
   "outputs": [],
   "source": [
    "df['회당 평균 매출액'] = df['전국매출액'] / df['상영횟수']\n",
    "df.groupby('F-rated')['회당 평균 매출액'].median()"
   ]
  },
  {
   "cell_type": "code",
   "execution_count": null,
   "metadata": {},
   "outputs": [],
   "source": [
    "df['스크린수 대비 매출액'] = df['전국매출액'] / df['전국스크린수']\n",
    "df.groupby('F-rated')['스크린수 대비 매출액'].mean()"
   ]
  },
  {
   "cell_type": "code",
   "execution_count": null,
   "metadata": {},
   "outputs": [],
   "source": [
    "df.groupby('F-rated')['스크린수 대비 매출액'].mean()"
   ]
  },
  {
   "cell_type": "markdown",
   "metadata": {},
   "source": [
    "스크린마다 수용가능 관객수가 다르고 특정 영화만 대형관에 상영되는 것이 문제임은 어떻게 말하지?  \n",
    "-> 각 영화가 어떤 스크린에서 상영했는지에 대한 데이터, 스크린별 수용인원 데이터 추가로 필요"
   ]
  },
  {
   "cell_type": "code",
   "execution_count": null,
   "metadata": {},
   "outputs": [],
   "source": [
    "df.groupby('F-rated')['전국관객수'].mean()"
   ]
  },
  {
   "cell_type": "code",
   "execution_count": null,
   "metadata": {},
   "outputs": [],
   "source": [
    "df['상영횟수 대비 관객수'] = df['전국관객수'] / df['상영횟수']\n",
    "df.groupby('F-rated')['상영횟수 대비 관객수'].mean()"
   ]
  },
  {
   "cell_type": "code",
   "execution_count": null,
   "metadata": {},
   "outputs": [],
   "source": [
    "df['스크린수 대비 관객수'] = df['전국관객수'] / df['전국스크린수']\n",
    "df.groupby('F-rated')['스크린수 대비 관객수'].mean()"
   ]
  },
  {
   "cell_type": "code",
   "execution_count": null,
   "metadata": {},
   "outputs": [],
   "source": []
  },
  {
   "cell_type": "code",
   "execution_count": null,
   "metadata": {},
   "outputs": [],
   "source": []
  }
 ],
 "metadata": {
  "kernelspec": {
   "display_name": "Python 3",
   "language": "python",
   "name": "python3"
  },
  "language_info": {
   "codemirror_mode": {
    "name": "ipython",
    "version": 3
   },
   "file_extension": ".py",
   "mimetype": "text/x-python",
   "name": "python",
   "nbconvert_exporter": "python",
   "pygments_lexer": "ipython3",
   "version": "3.7.3"
  }
 },
 "nbformat": 4,
 "nbformat_minor": 2
}
