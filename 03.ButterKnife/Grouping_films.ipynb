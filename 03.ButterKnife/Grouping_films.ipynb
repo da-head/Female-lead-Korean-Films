{
 "cells": [
  {
   "cell_type": "code",
   "execution_count": 1,
   "metadata": {},
   "outputs": [],
   "source": [
    "import pandas as pd\n",
    "import numpy as np\n",
    "import matplotlib\n",
    "import matplotlib.pyplot as plt\n",
    "import seaborn as sns\n",
    "import plotly.express as px\n",
    "import warnings\n",
    "\n",
    "pd.set_option('display.max_columns', None)\n",
    "pd.set_option('display.max_rows', None)\n",
    "pd.set_option('float_format', '{:f}'.format)\n",
    "\n",
    "plt.rc('font', family='AppleGothic') \n",
    "plt.rc('axes', unicode_minus=False)\n",
    "\n",
    "warnings.filterwarnings('ignore')"
   ]
  },
  {
   "cell_type": "code",
   "execution_count": 2,
   "metadata": {},
   "outputs": [],
   "source": [
    "show = pd.read_csv('../01.Data_Collection/show_timetable.csv')"
   ]
  },
  {
   "cell_type": "code",
   "execution_count": 3,
   "metadata": {},
   "outputs": [
    {
     "data": {
      "text/plain": [
       "(13135726, 8)"
      ]
     },
     "execution_count": 3,
     "metadata": {},
     "output_type": "execute_result"
    }
   ],
   "source": [
    "show.shape"
   ]
  },
  {
   "cell_type": "code",
   "execution_count": 4,
   "metadata": {},
   "outputs": [
    {
     "data": {
      "text/html": [
       "<div>\n",
       "<style scoped>\n",
       "    .dataframe tbody tr th:only-of-type {\n",
       "        vertical-align: middle;\n",
       "    }\n",
       "\n",
       "    .dataframe tbody tr th {\n",
       "        vertical-align: top;\n",
       "    }\n",
       "\n",
       "    .dataframe thead th {\n",
       "        text-align: right;\n",
       "    }\n",
       "</style>\n",
       "<table border=\"1\" class=\"dataframe\">\n",
       "  <thead>\n",
       "    <tr style=\"text-align: right;\">\n",
       "      <th></th>\n",
       "      <th>가격</th>\n",
       "      <th>상영관</th>\n",
       "      <th>상영시각</th>\n",
       "      <th>상영일자</th>\n",
       "      <th>영화명</th>\n",
       "      <th>좌석수</th>\n",
       "      <th>영화관</th>\n",
       "      <th>상영분류</th>\n",
       "    </tr>\n",
       "  </thead>\n",
       "  <tbody>\n",
       "    <tr>\n",
       "      <th>0</th>\n",
       "      <td>0원</td>\n",
       "      <td>01관</td>\n",
       "      <td>11:00</td>\n",
       "      <td>2017-06-29</td>\n",
       "      <td>해빙</td>\n",
       "      <td>143.000000</td>\n",
       "      <td>롯데시네마 원주무실</td>\n",
       "      <td>디지털</td>\n",
       "    </tr>\n",
       "    <tr>\n",
       "      <th>1</th>\n",
       "      <td>0원</td>\n",
       "      <td>02관</td>\n",
       "      <td>10:00</td>\n",
       "      <td>2017-06-29</td>\n",
       "      <td>당신, 거기 있어줄래요</td>\n",
       "      <td>119.000000</td>\n",
       "      <td>롯데시네마 원주무실</td>\n",
       "      <td>디지털</td>\n",
       "    </tr>\n",
       "    <tr>\n",
       "      <th>2</th>\n",
       "      <td>0원</td>\n",
       "      <td>03관</td>\n",
       "      <td>12:00</td>\n",
       "      <td>2017-06-29</td>\n",
       "      <td>동주</td>\n",
       "      <td>119.000000</td>\n",
       "      <td>롯데시네마 원주무실</td>\n",
       "      <td>디지털</td>\n",
       "    </tr>\n",
       "    <tr>\n",
       "      <th>3</th>\n",
       "      <td>0원</td>\n",
       "      <td>04관</td>\n",
       "      <td>17:00</td>\n",
       "      <td>2017-06-29</td>\n",
       "      <td>프리즌</td>\n",
       "      <td>144.000000</td>\n",
       "      <td>롯데시네마 원주무실</td>\n",
       "      <td>디지털</td>\n",
       "    </tr>\n",
       "    <tr>\n",
       "      <th>4</th>\n",
       "      <td>0원</td>\n",
       "      <td>05관</td>\n",
       "      <td>13:00</td>\n",
       "      <td>2017-06-29</td>\n",
       "      <td>터널</td>\n",
       "      <td>119.000000</td>\n",
       "      <td>롯데시네마 원주무실</td>\n",
       "      <td>디지털</td>\n",
       "    </tr>\n",
       "  </tbody>\n",
       "</table>\n",
       "</div>"
      ],
      "text/plain": [
       "    가격  상영관   상영시각        상영일자           영화명        좌석수         영화관 상영분류\n",
       "0   0원  01관  11:00  2017-06-29            해빙 143.000000  롯데시네마 원주무실  디지털\n",
       "1   0원  02관  10:00  2017-06-29  당신, 거기 있어줄래요 119.000000  롯데시네마 원주무실  디지털\n",
       "2   0원  03관  12:00  2017-06-29            동주 119.000000  롯데시네마 원주무실  디지털\n",
       "3   0원  04관  17:00  2017-06-29           프리즌 144.000000  롯데시네마 원주무실  디지털\n",
       "4   0원  05관  13:00  2017-06-29            터널 119.000000  롯데시네마 원주무실  디지털"
      ]
     },
     "execution_count": 4,
     "metadata": {},
     "output_type": "execute_result"
    }
   ],
   "source": [
    "show.head()"
   ]
  },
  {
   "cell_type": "code",
   "execution_count": 5,
   "metadata": {},
   "outputs": [
    {
     "data": {
      "text/plain": [
       "524"
      ]
     },
     "execution_count": 5,
     "metadata": {},
     "output_type": "execute_result"
    }
   ],
   "source": [
    "# 전국 524개 영화관 대상\n",
    "show['영화관'].nunique()"
   ]
  },
  {
   "cell_type": "markdown",
   "metadata": {},
   "source": [
    "# 분석 영화 리스트에 있는데 상영내역에서 안 가져와진 영화 제목들 확인"
   ]
  },
  {
   "cell_type": "code",
   "execution_count": 6,
   "metadata": {},
   "outputs": [
    {
     "data": {
      "text/plain": [
       "662"
      ]
     },
     "execution_count": 6,
     "metadata": {},
     "output_type": "execute_result"
    }
   ],
   "source": [
    "show['영화명'].nunique()"
   ]
  },
  {
   "cell_type": "code",
   "execution_count": 7,
   "metadata": {},
   "outputs": [],
   "source": [
    "film = pd.read_csv('../01.Data_Collection/films_final.csv')"
   ]
  },
  {
   "cell_type": "code",
   "execution_count": 8,
   "metadata": {},
   "outputs": [
    {
     "data": {
      "text/plain": [
       "665"
      ]
     },
     "execution_count": 8,
     "metadata": {},
     "output_type": "execute_result"
    }
   ],
   "source": [
    "len(film)"
   ]
  },
  {
   "cell_type": "code",
   "execution_count": 9,
   "metadata": {},
   "outputs": [
    {
     "data": {
      "text/plain": [
       "227    인천상륙작전 : 익스텐디드 에디션(확장판)\n",
       "332       드래곤빌리지<화이트니스타운을 구하라>\n",
       "417               돌아와요 부산항애(愛)\n",
       "Name: 영화명, dtype: object"
      ]
     },
     "execution_count": 9,
     "metadata": {},
     "output_type": "execute_result"
    }
   ],
   "source": [
    "film[~film['영화명'].isin(show['영화명'])]['영화명']"
   ]
  },
  {
   "cell_type": "code",
   "execution_count": 11,
   "metadata": {},
   "outputs": [
    {
     "data": {
      "text/plain": [
       "{'돌아와요 부산항애(愛)', '드래곤빌리지<화이트니스타운을 구하라>', '인천상륙작전 : 익스텐디드 에디션(확장판)'}"
      ]
     },
     "execution_count": 11,
     "metadata": {},
     "output_type": "execute_result"
    }
   ],
   "source": [
    "set(film['영화명']) - set(show['영화명'])"
   ]
  },
  {
   "cell_type": "code",
   "execution_count": null,
   "metadata": {},
   "outputs": [],
   "source": [
    "# film[~film['영화명'].isin(show_titles)].to_csv('film_add.csv', index=False)"
   ]
  },
  {
   "cell_type": "markdown",
   "metadata": {},
   "source": [
    "# 영화별로 상영시각(시)와 총 공급 좌석수(좌석수*상영횟수) 비교"
   ]
  },
  {
   "cell_type": "code",
   "execution_count": null,
   "metadata": {},
   "outputs": [],
   "source": [
    "show['상영시각_시'] = show['상영시각'].apply(lambda x: x.split(':')[0])"
   ]
  },
  {
   "cell_type": "code",
   "execution_count": null,
   "metadata": {},
   "outputs": [],
   "source": [
    "show.head()"
   ]
  },
  {
   "cell_type": "code",
   "execution_count": null,
   "metadata": {},
   "outputs": [],
   "source": [
    "scale = pd.DataFrame(show.groupby(['영화명', '상영시각_시'])['좌석수'].value_counts()).rename(columns={'좌석수':'횟수'}).reset_index()\n",
    "scale.head(10)"
   ]
  },
  {
   "cell_type": "code",
   "execution_count": null,
   "metadata": {},
   "outputs": [],
   "source": [
    "scale['총공급좌석수'] = scale['좌석수'] * scale['횟수']"
   ]
  },
  {
   "cell_type": "code",
   "execution_count": null,
   "metadata": {},
   "outputs": [],
   "source": [
    "by_film = scale.groupby(['영화명', '상영시각_시'])['총공급좌석수'].sum().reset_index()\n",
    "by_film.head()"
   ]
  },
  {
   "cell_type": "code",
   "execution_count": null,
   "metadata": {},
   "outputs": [],
   "source": [
    "fig = px.line(by_film, x='상영시각_시', y='총공급좌석수', color='영화명', range_x=[6,28])\n",
    "fig.show()"
   ]
  },
  {
   "cell_type": "markdown",
   "metadata": {},
   "source": [
    "# 프라임시간대 총 공급 좌석수 합계로 클러스터링\n",
    "전체 상영영화 수: 652개  \n",
    "상영시간: 16~22시"
   ]
  },
  {
   "cell_type": "code",
   "execution_count": null,
   "metadata": {},
   "outputs": [],
   "source": [
    "by_film['상영시각_시'] = by_film['상영시각_시'].astype(int)"
   ]
  },
  {
   "cell_type": "code",
   "execution_count": null,
   "metadata": {},
   "outputs": [],
   "source": [
    "prime = by_film[(by_film['상영시각_시']>=16) & (by_film['상영시각_시']<=22)]"
   ]
  },
  {
   "cell_type": "code",
   "execution_count": null,
   "metadata": {},
   "outputs": [],
   "source": [
    "prime.sample()"
   ]
  },
  {
   "cell_type": "code",
   "execution_count": null,
   "metadata": {},
   "outputs": [],
   "source": [
    "prime = prime.groupby('영화명')['총공급좌석수'].sum().reset_index()\n",
    "prime.sample()"
   ]
  },
  {
   "cell_type": "code",
   "execution_count": null,
   "metadata": {},
   "outputs": [],
   "source": [
    "fig = px.histogram(prime, x=\"총공급좌석수\")\n",
    "fig.show()"
   ]
  },
  {
   "cell_type": "code",
   "execution_count": null,
   "metadata": {},
   "outputs": [],
   "source": [
    "prime.describe()"
   ]
  },
  {
   "cell_type": "code",
   "execution_count": null,
   "metadata": {},
   "outputs": [],
   "source": [
    "prime_500k = prime[prime['총공급좌석수']<500000]\n",
    "\n",
    "fig = px.histogram(prime_500k, x=\"총공급좌석수\", hover_name='영화명')\n",
    "fig.show()"
   ]
  },
  {
   "cell_type": "code",
   "execution_count": null,
   "metadata": {},
   "outputs": [],
   "source": [
    "prime_40k = prime[prime['총공급좌석수']<40000]\n",
    "\n",
    "fig = px.histogram(prime_40k, x=\"총공급좌석수\", hover_name='영화명')\n",
    "fig.show()"
   ]
  },
  {
   "cell_type": "code",
   "execution_count": null,
   "metadata": {
    "scrolled": true
   },
   "outputs": [],
   "source": [
    "# 총 공급 좌석수 40000 미만 (~39999) : 1그룹\n",
    "print(len(prime_40k))\n",
    "prime_40k.sort_values('총공급좌석수', ascending=False)"
   ]
  },
  {
   "cell_type": "code",
   "execution_count": null,
   "metadata": {
    "scrolled": true
   },
   "outputs": [],
   "source": [
    "# 총 공급 좌석수 40000~459999 : 2그룹\n",
    "print(len(prime[(prime['총공급좌석수']>=40000) & (prime['총공급좌석수']<460000)]))\n",
    "prime[(prime['총공급좌석수']>=40000) & (prime['총공급좌석수']<460000)].sort_values('총공급좌석수', ascending=False)"
   ]
  },
  {
   "cell_type": "code",
   "execution_count": null,
   "metadata": {},
   "outputs": [],
   "source": [
    "prime_700k = prime[(prime['총공급좌석수']>=460000) & (prime['총공급좌석수']<7000000)]\n",
    "\n",
    "fig = px.histogram(prime_700k, x=\"총공급좌석수\", hover_name='영화명')\n",
    "fig.show()"
   ]
  },
  {
   "cell_type": "code",
   "execution_count": null,
   "metadata": {
    "scrolled": true
   },
   "outputs": [],
   "source": [
    "# 총 공급 좌석수 460000~3999999 : 3그룹\n",
    "print(len(prime[(prime['총공급좌석수']>=460000) & (prime['총공급좌석수']<4000000)]))\n",
    "prime[(prime['총공급좌석수']>=460000) & (prime['총공급좌석수']<4000000)].sort_values('총공급좌석수', ascending=False)"
   ]
  },
  {
   "cell_type": "code",
   "execution_count": null,
   "metadata": {
    "scrolled": true
   },
   "outputs": [],
   "source": [
    "# 총 공급 좌석수 4000000~6999999 : 4그룹\n",
    "print(len(prime[(prime['총공급좌석수']>=4000000) & (prime['총공급좌석수']<7000000)]))\n",
    "prime[(prime['총공급좌석수']>=4000000) & (prime['총공급좌석수']<7000000)].sort_values('총공급좌석수', ascending=False)"
   ]
  },
  {
   "cell_type": "code",
   "execution_count": null,
   "metadata": {
    "scrolled": true
   },
   "outputs": [],
   "source": [
    "# 총 공급 좌석수 7000000~15000000 : 5그룹\n",
    "print(len(prime[prime['총공급좌석수']>=7000000]))\n",
    "prime[prime['총공급좌석수']>=7000000].sort_values('총공급좌석수', ascending=False)"
   ]
  },
  {
   "cell_type": "code",
   "execution_count": null,
   "metadata": {},
   "outputs": [],
   "source": [
    "len(prime)"
   ]
  },
  {
   "cell_type": "markdown",
   "metadata": {},
   "source": [
    "1그룹 (239개): 총 공급 좌석수 0~39999   \n",
    "2그룹 (195개) : 총 공급 좌석수 40000~459999  \n",
    "3그룹 (154개) : 총 공급 좌석수 460000~3999999  \n",
    "4그룹 (38개) : 총 공급 좌석수 4000000~6999999  \n",
    "5그룹 (35개) : 총 공급 좌석수 7000000~15000000  \n",
    "(아웃라이어: 극한직업 총 공급 좌석수 22523026)"
   ]
  },
  {
   "cell_type": "code",
   "execution_count": null,
   "metadata": {},
   "outputs": [],
   "source": [
    "prime.to_csv('prime_new.csv', index=False)\n",
    "# prime[prime['총공급좌석수']<40000].to_csv('prime_group1.csv', index=False)\n",
    "prime[(prime['총공급좌석수']>=40000) & (prime['총공급좌석수']<460000)].to_csv('prime_group2_new.csv', index=False)\n",
    "# prime[(prime['총공급좌석수']>=460000) & (prime['총공급좌석수']<4000000)].to_csv('prime_group3.csv', index=False)\n",
    "# prime[(prime['총공급좌석수']>=4000000) & (prime['총공급좌석수']<7000000)].to_csv('prime_group4.csv', index=False)\n",
    "prime[(prime['총공급좌석수']>=7000000) & (prime['총공급좌석수']<15000000)].to_csv('prime_group5_new.csv', index=False)"
   ]
  },
  {
   "cell_type": "markdown",
   "metadata": {},
   "source": [
    "---\n",
    "# 5그룹 EDA\n",
    "총 공급 좌석수 7000000~15000000"
   ]
  },
  {
   "cell_type": "code",
   "execution_count": null,
   "metadata": {
    "scrolled": true
   },
   "outputs": [],
   "source": [
    "g5 = pd.read_csv('prime_group5_new.csv')\n",
    "g5"
   ]
  },
  {
   "cell_type": "code",
   "execution_count": null,
   "metadata": {},
   "outputs": [],
   "source": [
    "film = pd.read_csv('../01.Data_Collection/films_final.csv')\n",
    "film.sample()"
   ]
  },
  {
   "cell_type": "code",
   "execution_count": null,
   "metadata": {},
   "outputs": [],
   "source": [
    "screen = pd.read_csv('../01.Data_Collection/screens_final.csv')\n",
    "screen.sample()"
   ]
  },
  {
   "cell_type": "code",
   "execution_count": null,
   "metadata": {},
   "outputs": [],
   "source": [
    "g5 = g5.merge(film, how='left', on='영화명')\n",
    "g5.sample()"
   ]
  },
  {
   "cell_type": "code",
   "execution_count": null,
   "metadata": {
    "scrolled": false
   },
   "outputs": [],
   "source": [
    "g5['F-rated'].hist()"
   ]
  },
  {
   "cell_type": "markdown",
   "metadata": {},
   "source": [
    "총 공급 좌석수 7,500,001 이상인 5 그룹에 F-3인 영화가 하나도 없다.  \n",
    "F-2 1개, F-1 4개, F-0 21개  "
   ]
  },
  {
   "cell_type": "code",
   "execution_count": null,
   "metadata": {},
   "outputs": [],
   "source": [
    "len(group5[group5['F-rated']==0])"
   ]
  },
  {
   "cell_type": "markdown",
   "metadata": {},
   "source": [
    "# 2그룹 EDA\n",
    "총 공급 좌석수 40,001~321,000"
   ]
  },
  {
   "cell_type": "code",
   "execution_count": null,
   "metadata": {},
   "outputs": [],
   "source": [
    "group2 = pd.read_csv('prime_group2.csv').merge(film, how='left', on='영화명')"
   ]
  },
  {
   "cell_type": "code",
   "execution_count": null,
   "metadata": {},
   "outputs": [],
   "source": [
    "group2.corr()"
   ]
  },
  {
   "cell_type": "code",
   "execution_count": null,
   "metadata": {},
   "outputs": [],
   "source": [
    "len(group2)"
   ]
  },
  {
   "cell_type": "code",
   "execution_count": null,
   "metadata": {},
   "outputs": [],
   "source": [
    "group2['F-rated'].value_counts()"
   ]
  },
  {
   "cell_type": "code",
   "execution_count": null,
   "metadata": {},
   "outputs": [],
   "source": [
    "rate = pd.read_csv('../01.Data_Collection/screen_show_seat_with_filtered_film.csv')\n",
    "rate.sample()"
   ]
  },
  {
   "cell_type": "code",
   "execution_count": null,
   "metadata": {
    "scrolled": true
   },
   "outputs": [],
   "source": [
    "group2 = group2.merge(rate, how='left', on='영화명')\n",
    "group2.sample()"
   ]
  },
  {
   "cell_type": "code",
   "execution_count": null,
   "metadata": {
    "scrolled": true
   },
   "outputs": [],
   "source": [
    "group2 = group2.drop(['개봉일_y', 'Unnamed: 0'], axis=1).rename(columns={'개봉일_x':'개봉일', '상영횟수_x':'상영횟수', '상영횟수_y':'일일상영횟수'})\n",
    "group2.sample()"
   ]
  },
  {
   "cell_type": "code",
   "execution_count": null,
   "metadata": {},
   "outputs": [],
   "source": [
    "group2['개봉n일차'] = group2['개봉n일차'].apply(lambda x: int(x.split(' ')[0]))"
   ]
  },
  {
   "cell_type": "code",
   "execution_count": null,
   "metadata": {},
   "outputs": [],
   "source": [
    "group2['장르'] = group2['장르'].apply(lambda x: x.split(',')[0])"
   ]
  },
  {
   "cell_type": "markdown",
   "metadata": {},
   "source": [
    "총공급좌석수와 전국관객수"
   ]
  },
  {
   "cell_type": "code",
   "execution_count": null,
   "metadata": {},
   "outputs": [],
   "source": [
    "px.scatter(group2, x='총공급좌석수', y='전국관객수', color='F-rated', hover_name='영화명', trendline='ols')"
   ]
  },
  {
   "cell_type": "code",
   "execution_count": null,
   "metadata": {},
   "outputs": [],
   "source": [
    "group2['장르'].unique()"
   ]
  },
  {
   "cell_type": "markdown",
   "metadata": {},
   "source": [
    "총공급좌석수에 비해 전국관객수가 많은 영화들은 대부분 애니메이션이다.  \n",
    "좌석판매율이 엄청 높겠지?"
   ]
  },
  {
   "cell_type": "code",
   "execution_count": null,
   "metadata": {},
   "outputs": [],
   "source": [
    "group2['장르'].value_counts()"
   ]
  },
  {
   "cell_type": "code",
   "execution_count": null,
   "metadata": {},
   "outputs": [],
   "source": []
  },
  {
   "cell_type": "markdown",
   "metadata": {},
   "source": [
    "애니메이션 제외하고 보기"
   ]
  },
  {
   "cell_type": "code",
   "execution_count": null,
   "metadata": {},
   "outputs": [],
   "source": [
    "group2_except_ani.corr()"
   ]
  },
  {
   "cell_type": "code",
   "execution_count": null,
   "metadata": {},
   "outputs": [],
   "source": [
    "group2_except_ani['F-rated'].value_counts()"
   ]
  },
  {
   "cell_type": "code",
   "execution_count": null,
   "metadata": {},
   "outputs": [],
   "source": [
    "px.scatter(group2_except_ani, x='총공급좌석수', y='전국관객수', color='F-rated', hover_name='영화명', trendline='ols')"
   ]
  },
  {
   "cell_type": "markdown",
   "metadata": {},
   "source": [
    "벌새"
   ]
  },
  {
   "cell_type": "code",
   "execution_count": null,
   "metadata": {},
   "outputs": [],
   "source": []
  },
  {
   "cell_type": "code",
   "execution_count": null,
   "metadata": {},
   "outputs": [],
   "source": [
    "rate['개봉n일차'].dtype"
   ]
  },
  {
   "cell_type": "code",
   "execution_count": null,
   "metadata": {},
   "outputs": [],
   "source": [
    "hummingbird = rate[rate['영화명']=='벌새']\n",
    "hummingbird"
   ]
  },
  {
   "cell_type": "code",
   "execution_count": null,
   "metadata": {},
   "outputs": [],
   "source": [
    "px.bar(hummingbird, x='개봉n일차', y='좌석판매율', range_x=[0,100])"
   ]
  },
  {
   "cell_type": "code",
   "execution_count": null,
   "metadata": {},
   "outputs": [],
   "source": [
    "group2[group2['F-rated']==3]"
   ]
  },
  {
   "cell_type": "code",
   "execution_count": null,
   "metadata": {},
   "outputs": [],
   "source": [
    "px.bar(rate[rate['영화명']=='소공녀'], x='개봉n일차', y='좌석판매율', color='스크린수', range_x=[0,150])"
   ]
  },
  {
   "cell_type": "code",
   "execution_count": null,
   "metadata": {},
   "outputs": [],
   "source": [
    "data = rate[rate['영화명']=='소공녀']\n",
    "plt.figure(figsize=[16, 6])\n",
    "sns.barplot(x='개봉n일차', y='좌석판매율', data=data, color='black').set(xlim=(0,100))\n",
    "sns.barplot(x='개봉n일차', y='스크린수', data=data).set(xlim=(0,100))\n",
    "plt.show()"
   ]
  },
  {
   "cell_type": "code",
   "execution_count": null,
   "metadata": {},
   "outputs": [],
   "source": []
  }
 ],
 "metadata": {
  "kernelspec": {
   "display_name": "Python 3",
   "language": "python",
   "name": "python3"
  },
  "language_info": {
   "codemirror_mode": {
    "name": "ipython",
    "version": 3
   },
   "file_extension": ".py",
   "mimetype": "text/x-python",
   "name": "python",
   "nbconvert_exporter": "python",
   "pygments_lexer": "ipython3",
   "version": "3.7.3"
  }
 },
 "nbformat": 4,
 "nbformat_minor": 2
}
