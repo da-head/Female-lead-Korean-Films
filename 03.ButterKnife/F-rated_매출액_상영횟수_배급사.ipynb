{
 "cells": [
  {
   "cell_type": "code",
   "execution_count": 1,
   "metadata": {},
   "outputs": [],
   "source": [
    "import pandas as pd\n",
    "import numpy as np\n",
    "import matplotlib\n",
    "import matplotlib.pyplot as plt\n",
    "import seaborn as sns\n",
    "import warnings\n",
    "\n",
    "%matplotlib inline\n",
    "plt.rcParams['font.family'] = 'NanumGothic'\n",
    "pd.set_option('display.max_columns', None)\n",
    "pd.set_option('display.max_rows', None)\n",
    "pd.set_option('float_format', '{:f}'.format)\n",
    "warnings.filterwarnings('ignore')"
   ]
  },
  {
   "cell_type": "code",
   "execution_count": 2,
   "metadata": {},
   "outputs": [],
   "source": [
    "df = pd.read_csv('../01.Data_Collection/films_updated.csv')"
   ]
  },
  {
   "cell_type": "code",
   "execution_count": 3,
   "metadata": {},
   "outputs": [
    {
     "data": {
      "text/plain": [
       "(686, 38)"
      ]
     },
     "execution_count": 3,
     "metadata": {},
     "output_type": "execute_result"
    }
   ],
   "source": [
    "df.shape"
   ]
  },
  {
   "cell_type": "code",
   "execution_count": 4,
   "metadata": {
    "scrolled": true
   },
   "outputs": [
    {
     "data": {
      "text/plain": [
       "영화명           0\n",
       "영화코드          0\n",
       "개봉일           0\n",
       "대표국적          0\n",
       "국적            0\n",
       "장르            0\n",
       "등급            0\n",
       "영화형태          0\n",
       "영화구분          0\n",
       "제작사          17\n",
       "배급사           0\n",
       "상영횟수          0\n",
       "전국스크린수        0\n",
       "전국매출액         0\n",
       "전국관객수         0\n",
       "서울매출액         0\n",
       "서울관객수         0\n",
       "F-rated       0\n",
       "감독            0\n",
       "대표감독          0\n",
       "감독코드          0\n",
       "감독성별          0\n",
       "감독_대표역할       0\n",
       "감독필모          0\n",
       "작가            0\n",
       "대표작가          0\n",
       "대표작가(필명)      0\n",
       "작가코드          0\n",
       "작가성별          0\n",
       "작가_대표역할       0\n",
       "작가필모          0\n",
       "배우            0\n",
       "주연배우          0\n",
       "배역명         166\n",
       "배우코드          0\n",
       "배우성별          0\n",
       "배우_대표역할       0\n",
       "배우필모          0\n",
       "dtype: int64"
      ]
     },
     "execution_count": 4,
     "metadata": {},
     "output_type": "execute_result"
    }
   ],
   "source": [
    "df.isnull().sum()"
   ]
  },
  {
   "cell_type": "code",
   "execution_count": 5,
   "metadata": {},
   "outputs": [
    {
     "data": {
      "text/plain": [
       "0    349\n",
       "1    225\n",
       "2     62\n",
       "3     50\n",
       "Name: F-rated, dtype: int64"
      ]
     },
     "execution_count": 5,
     "metadata": {},
     "output_type": "execute_result"
    }
   ],
   "source": [
    "df['F-rated'].value_counts()"
   ]
  },
  {
   "cell_type": "markdown",
   "metadata": {
    "scrolled": true
   },
   "source": [
    "11/23 14:36 film_updated.csv\n",
    "* 작가성별 결측치 처리 완료\n",
    "* F-rated 재계산 완료\n",
    "* Shape: (686, 38)"
   ]
  },
  {
   "cell_type": "markdown",
   "metadata": {},
   "source": [
    "#  F등급별 매출액 비교"
   ]
  },
  {
   "cell_type": "markdown",
   "metadata": {},
   "source": [
    "## 1. 전국매출액 단순 비교\n",
    "* F등급 0인 영화의 분포는 분산이 매우 크다. \n",
    "    * 특히 2019년 개봉작 '극한직업'의 상영횟수와 매출액은 눈에 띄는 아웃라이어: 이전 해에도 이런 천만영화는 있긴 했을텐데 얘가 유난히 큰 걸 보면 몰아주기 현상이 최근으로 올 수록 점점 더 심해지는 것 아닐까?\n",
    "    * 극한직업은 현재 매출액 2위\n",
    "    * 극한직업의 전국관객수 = 95UBD (1위 명량 = 100UBD)\n",
    "* 최대값 비교: 0-F가 3-F의 15.72배\n",
    "* 평균값 비교: 0-F가 3-F의 13.45배\n",
    "* 중간값 비교: 0-F가 3-F의 7.03배"
   ]
  },
  {
   "cell_type": "code",
   "execution_count": 6,
   "metadata": {},
   "outputs": [
    {
     "data": {
      "text/html": [
       "<div>\n",
       "<style scoped>\n",
       "    .dataframe tbody tr th:only-of-type {\n",
       "        vertical-align: middle;\n",
       "    }\n",
       "\n",
       "    .dataframe tbody tr th {\n",
       "        vertical-align: top;\n",
       "    }\n",
       "\n",
       "    .dataframe thead th {\n",
       "        text-align: right;\n",
       "    }\n",
       "</style>\n",
       "<table border=\"1\" class=\"dataframe\">\n",
       "  <thead>\n",
       "    <tr style=\"text-align: right;\">\n",
       "      <th></th>\n",
       "      <th>count</th>\n",
       "      <th>mean</th>\n",
       "      <th>std</th>\n",
       "      <th>min</th>\n",
       "      <th>25%</th>\n",
       "      <th>50%</th>\n",
       "      <th>75%</th>\n",
       "      <th>max</th>\n",
       "    </tr>\n",
       "    <tr>\n",
       "      <th>F-rated</th>\n",
       "      <th></th>\n",
       "      <th></th>\n",
       "      <th></th>\n",
       "      <th></th>\n",
       "      <th></th>\n",
       "      <th></th>\n",
       "      <th></th>\n",
       "      <th></th>\n",
       "    </tr>\n",
       "  </thead>\n",
       "  <tbody>\n",
       "    <tr>\n",
       "      <th>0</th>\n",
       "      <td>349.000000</td>\n",
       "      <td>8443828671.498568</td>\n",
       "      <td>19296622914.554569</td>\n",
       "      <td>2237000.000000</td>\n",
       "      <td>19563000.000000</td>\n",
       "      <td>284650500.000000</td>\n",
       "      <td>6440492657.000000</td>\n",
       "      <td>139647979516.000000</td>\n",
       "    </tr>\n",
       "    <tr>\n",
       "      <th>1</th>\n",
       "      <td>225.000000</td>\n",
       "      <td>4416241416.057777</td>\n",
       "      <td>12245289357.006899</td>\n",
       "      <td>3389900.000000</td>\n",
       "      <td>37782300.000000</td>\n",
       "      <td>233916700.000000</td>\n",
       "      <td>2671391900.000000</td>\n",
       "      <td>98463132781.000000</td>\n",
       "    </tr>\n",
       "    <tr>\n",
       "      <th>2</th>\n",
       "      <td>62.000000</td>\n",
       "      <td>3659068263.209677</td>\n",
       "      <td>6641032538.450189</td>\n",
       "      <td>4166700.000000</td>\n",
       "      <td>25002862.500000</td>\n",
       "      <td>192326780.000000</td>\n",
       "      <td>3541716761.000000</td>\n",
       "      <td>28869614062.000000</td>\n",
       "    </tr>\n",
       "    <tr>\n",
       "      <th>3</th>\n",
       "      <td>50.000000</td>\n",
       "      <td>627730950.460000</td>\n",
       "      <td>1738309404.087977</td>\n",
       "      <td>6701500.000000</td>\n",
       "      <td>17332850.000000</td>\n",
       "      <td>40494700.000000</td>\n",
       "      <td>317282407.500000</td>\n",
       "      <td>8881616256.000000</td>\n",
       "    </tr>\n",
       "  </tbody>\n",
       "</table>\n",
       "</div>"
      ],
      "text/plain": [
       "             count              mean                std            min  \\\n",
       "F-rated                                                                  \n",
       "0       349.000000 8443828671.498568 19296622914.554569 2237000.000000   \n",
       "1       225.000000 4416241416.057777 12245289357.006899 3389900.000000   \n",
       "2        62.000000 3659068263.209677  6641032538.450189 4166700.000000   \n",
       "3        50.000000  627730950.460000  1738309404.087977 6701500.000000   \n",
       "\n",
       "                    25%              50%               75%                 max  \n",
       "F-rated                                                                         \n",
       "0       19563000.000000 284650500.000000 6440492657.000000 139647979516.000000  \n",
       "1       37782300.000000 233916700.000000 2671391900.000000  98463132781.000000  \n",
       "2       25002862.500000 192326780.000000 3541716761.000000  28869614062.000000  \n",
       "3       17332850.000000  40494700.000000  317282407.500000   8881616256.000000  "
      ]
     },
     "execution_count": 6,
     "metadata": {},
     "output_type": "execute_result"
    }
   ],
   "source": [
    "sales_des = df.groupby('F-rated')['전국매출액'].describe()\n",
    "sales_des"
   ]
  },
  {
   "cell_type": "code",
   "execution_count": 7,
   "metadata": {},
   "outputs": [
    {
     "data": {
      "text/plain": [
       "0.49552236105636377"
      ]
     },
     "execution_count": 7,
     "metadata": {},
     "output_type": "execute_result"
    }
   ],
   "source": [
    "# Cohen's d : 이걸로 비교 못할 것 같다\n",
    "(sales_des.iloc[0,1] - sales_des.iloc[3,1]) / df['전국매출액'].std()"
   ]
  },
  {
   "cell_type": "code",
   "execution_count": 21,
   "metadata": {},
   "outputs": [
    {
     "data": {
      "text/plain": [
       "15.7232620157013"
      ]
     },
     "execution_count": 21,
     "metadata": {},
     "output_type": "execute_result"
    }
   ],
   "source": [
    "# 최대값 비교: 0-F가 3-F의 15.72배\n",
    "sales_des.iloc[0,-1] / sales_des.iloc[3,-1]"
   ]
  },
  {
   "cell_type": "code",
   "execution_count": 18,
   "metadata": {},
   "outputs": [
    {
     "data": {
      "text/plain": [
       "13.451349921986395"
      ]
     },
     "execution_count": 18,
     "metadata": {},
     "output_type": "execute_result"
    }
   ],
   "source": [
    "# 평균값 비교: 0-F가 3-F의 13.45배\n",
    "sales_des.iloc[0,1] / sales_des.iloc[3,1]"
   ]
  },
  {
   "cell_type": "code",
   "execution_count": 20,
   "metadata": {
    "scrolled": true
   },
   "outputs": [
    {
     "data": {
      "text/plain": [
       "7.029327294683008"
      ]
     },
     "execution_count": 20,
     "metadata": {},
     "output_type": "execute_result"
    }
   ],
   "source": [
    "# 중간값 비교: 0-F가 3-F의 7.03배\n",
    "sales_des.iloc[0,-3] / sales_des.iloc[3,-3]"
   ]
  },
  {
   "cell_type": "code",
   "execution_count": 22,
   "metadata": {},
   "outputs": [
    {
     "data": {
      "text/plain": [
       "<seaborn.axisgrid.FacetGrid at 0x1a1ae1fb38>"
      ]
     },
     "execution_count": 22,
     "metadata": {},
     "output_type": "execute_result"
    },
    {
     "data": {
      "text/plain": [
       "<Figure size 1440x1080 with 0 Axes>"
      ]
     },
     "metadata": {},
     "output_type": "display_data"
    },
    {
     "data": {
      "image/png": "[encoded data removed]",
      "text/plain": [
       "<Figure size 360x360 with 1 Axes>"
      ]
     },
     "metadata": {
      "needs_background": "light"
     },
     "output_type": "display_data"
    }
   ],
   "source": [
    "plt.figure(figsize=[20,15])\n",
    "sns.catplot(x='F-rated', y='전국매출액', data=df, kind='box')"
   ]
  },
  {
   "cell_type": "code",
   "execution_count": 23,
   "metadata": {
    "scrolled": true
   },
   "outputs": [
    {
     "data": {
      "text/html": [
       "<div>\n",
       "<style scoped>\n",
       "    .dataframe tbody tr th:only-of-type {\n",
       "        vertical-align: middle;\n",
       "    }\n",
       "\n",
       "    .dataframe tbody tr th {\n",
       "        vertical-align: top;\n",
       "    }\n",
       "\n",
       "    .dataframe thead th {\n",
       "        text-align: right;\n",
       "    }\n",
       "</style>\n",
       "<table border=\"1\" class=\"dataframe\">\n",
       "  <thead>\n",
       "    <tr style=\"text-align: right;\">\n",
       "      <th></th>\n",
       "      <th>영화명</th>\n",
       "      <th>영화코드</th>\n",
       "      <th>개봉일</th>\n",
       "      <th>대표국적</th>\n",
       "      <th>국적</th>\n",
       "      <th>장르</th>\n",
       "      <th>등급</th>\n",
       "      <th>영화형태</th>\n",
       "      <th>영화구분</th>\n",
       "      <th>제작사</th>\n",
       "      <th>배급사</th>\n",
       "      <th>상영횟수</th>\n",
       "      <th>전국스크린수</th>\n",
       "      <th>전국매출액</th>\n",
       "      <th>전국관객수</th>\n",
       "      <th>서울매출액</th>\n",
       "      <th>서울관객수</th>\n",
       "      <th>F-rated</th>\n",
       "      <th>감독</th>\n",
       "      <th>대표감독</th>\n",
       "      <th>감독코드</th>\n",
       "      <th>감독성별</th>\n",
       "      <th>감독_대표역할</th>\n",
       "      <th>감독필모</th>\n",
       "      <th>작가</th>\n",
       "      <th>대표작가</th>\n",
       "      <th>대표작가(필명)</th>\n",
       "      <th>작가코드</th>\n",
       "      <th>작가성별</th>\n",
       "      <th>작가_대표역할</th>\n",
       "      <th>작가필모</th>\n",
       "      <th>배우</th>\n",
       "      <th>주연배우</th>\n",
       "      <th>배역명</th>\n",
       "      <th>배우코드</th>\n",
       "      <th>배우성별</th>\n",
       "      <th>배우_대표역할</th>\n",
       "      <th>배우필모</th>\n",
       "    </tr>\n",
       "  </thead>\n",
       "  <tbody>\n",
       "    <tr>\n",
       "      <th>592</th>\n",
       "      <td>극한직업</td>\n",
       "      <td>20182530</td>\n",
       "      <td>2019-01-23</td>\n",
       "      <td>한국</td>\n",
       "      <td>한국</td>\n",
       "      <td>코미디</td>\n",
       "      <td>15세이상관람가</td>\n",
       "      <td>장편</td>\n",
       "      <td>일반영화</td>\n",
       "      <td>(주)어바웃필름,영화사 해그림 주식회사,씨제이이앤엠(주)</td>\n",
       "      <td>씨제이이앤엠(주)</td>\n",
       "      <td>292578</td>\n",
       "      <td>1978</td>\n",
       "      <td>139647979516.000000</td>\n",
       "      <td>16264944</td>\n",
       "      <td>31858660536</td>\n",
       "      <td>3638287</td>\n",
       "      <td>0</td>\n",
       "      <td>이병헌</td>\n",
       "      <td>이병헌</td>\n",
       "      <td>20125862</td>\n",
       "      <td>남자</td>\n",
       "      <td>감독</td>\n",
       "      <td>드림(가제)|극한직업|레슬러|바람 바람 바람|스물|오늘의 연애|타짜-신의 손|힘내세...</td>\n",
       "      <td>문충일</td>\n",
       "      <td>문충일</td>\n",
       "      <td>문충일</td>\n",
       "      <td>20303529</td>\n",
       "      <td>남자</td>\n",
       "      <td>시나리오(각본)</td>\n",
       "      <td>극한직업</td>\n",
       "      <td>류승룡,이하늬,진선규,이동휘,공명,양현민,장진희,허준석,한준우,김명준,나철,정재광</td>\n",
       "      <td>류승룡</td>\n",
       "      <td>고반장</td>\n",
       "      <td>10019065</td>\n",
       "      <td>남자</td>\n",
       "      <td>배우</td>\n",
       "      <td>입술은 안돼요(가제)|인생은 아름다워(가제)|극한직업|7년의 밤|염력|제5열|서울역...</td>\n",
       "    </tr>\n",
       "  </tbody>\n",
       "</table>\n",
       "</div>"
      ],
      "text/plain": [
       "      영화명      영화코드         개봉일 대표국적  국적   장르        등급 영화형태  영화구분  \\\n",
       "592  극한직업  20182530  2019-01-23   한국  한국  코미디  15세이상관람가   장편  일반영화   \n",
       "\n",
       "                                 제작사        배급사    상영횟수  전국스크린수  \\\n",
       "592  (주)어바웃필름,영화사 해그림 주식회사,씨제이이앤엠(주)  씨제이이앤엠(주)  292578    1978   \n",
       "\n",
       "                  전국매출액     전국관객수        서울매출액    서울관객수  F-rated   감독 대표감독  \\\n",
       "592 139647979516.000000  16264944  31858660536  3638287        0  이병헌  이병헌   \n",
       "\n",
       "         감독코드 감독성별 감독_대표역할                                               감독필모  \\\n",
       "592  20125862   남자      감독  드림(가제)|극한직업|레슬러|바람 바람 바람|스물|오늘의 연애|타짜-신의 손|힘내세...   \n",
       "\n",
       "      작가 대표작가 대표작가(필명)      작가코드 작가성별   작가_대표역할  작가필모  \\\n",
       "592  문충일  문충일      문충일  20303529   남자  시나리오(각본)  극한직업   \n",
       "\n",
       "                                                배우 주연배우  배역명      배우코드 배우성별  \\\n",
       "592  류승룡,이하늬,진선규,이동휘,공명,양현민,장진희,허준석,한준우,김명준,나철,정재광  류승룡  고반장  10019065   남자   \n",
       "\n",
       "    배우_대표역할                                               배우필모  \n",
       "592      배우  입술은 안돼요(가제)|인생은 아름다워(가제)|극한직업|7년의 밤|염력|제5열|서울역...  "
      ]
     },
     "execution_count": 23,
     "metadata": {},
     "output_type": "execute_result"
    }
   ],
   "source": [
    "# 엄청난 아웃라이어가 있어서 확인해봤더니 극한직업\n",
    "df[df['전국매출액']==139647979516]"
   ]
  },
  {
   "cell_type": "code",
   "execution_count": 24,
   "metadata": {},
   "outputs": [
    {
     "data": {
      "text/plain": [
       "95.6761411764706"
      ]
     },
     "execution_count": 24,
     "metadata": {},
     "output_type": "execute_result"
    }
   ],
   "source": [
    "# 극한직업 UBD\n",
    "16264944 / 170000"
   ]
  },
  {
   "cell_type": "markdown",
   "metadata": {},
   "source": [
    "## 2. 상영횟수 비교\n",
    "* 최대값 비교: 0-F가 3-F의 6.97배\n",
    "* 평균값 비교: 0-F가 3-F의 6.4배\n",
    "* 중간값 비교: 0-F가 3-F의 5.22배"
   ]
  },
  {
   "cell_type": "code",
   "execution_count": 25,
   "metadata": {
    "scrolled": true
   },
   "outputs": [
    {
     "data": {
      "text/html": [
       "<div>\n",
       "<style scoped>\n",
       "    .dataframe tbody tr th:only-of-type {\n",
       "        vertical-align: middle;\n",
       "    }\n",
       "\n",
       "    .dataframe tbody tr th {\n",
       "        vertical-align: top;\n",
       "    }\n",
       "\n",
       "    .dataframe thead th {\n",
       "        text-align: right;\n",
       "    }\n",
       "</style>\n",
       "<table border=\"1\" class=\"dataframe\">\n",
       "  <thead>\n",
       "    <tr style=\"text-align: right;\">\n",
       "      <th></th>\n",
       "      <th>count</th>\n",
       "      <th>mean</th>\n",
       "      <th>std</th>\n",
       "      <th>min</th>\n",
       "      <th>25%</th>\n",
       "      <th>50%</th>\n",
       "      <th>75%</th>\n",
       "      <th>max</th>\n",
       "    </tr>\n",
       "    <tr>\n",
       "      <th>F-rated</th>\n",
       "      <th></th>\n",
       "      <th></th>\n",
       "      <th></th>\n",
       "      <th></th>\n",
       "      <th></th>\n",
       "      <th></th>\n",
       "      <th></th>\n",
       "      <th></th>\n",
       "    </tr>\n",
       "  </thead>\n",
       "  <tbody>\n",
       "    <tr>\n",
       "      <th>0</th>\n",
       "      <td>349.000000</td>\n",
       "      <td>25572.765043</td>\n",
       "      <td>44192.492902</td>\n",
       "      <td>41.000000</td>\n",
       "      <td>393.000000</td>\n",
       "      <td>3189.000000</td>\n",
       "      <td>32618.000000</td>\n",
       "      <td>292578.000000</td>\n",
       "    </tr>\n",
       "    <tr>\n",
       "      <th>1</th>\n",
       "      <td>225.000000</td>\n",
       "      <td>15901.488889</td>\n",
       "      <td>30435.793473</td>\n",
       "      <td>45.000000</td>\n",
       "      <td>572.000000</td>\n",
       "      <td>2560.000000</td>\n",
       "      <td>17414.000000</td>\n",
       "      <td>184198.000000</td>\n",
       "    </tr>\n",
       "    <tr>\n",
       "      <th>2</th>\n",
       "      <td>62.000000</td>\n",
       "      <td>17167.532258</td>\n",
       "      <td>27534.009084</td>\n",
       "      <td>96.000000</td>\n",
       "      <td>516.500000</td>\n",
       "      <td>1885.000000</td>\n",
       "      <td>19525.750000</td>\n",
       "      <td>120808.000000</td>\n",
       "    </tr>\n",
       "    <tr>\n",
       "      <th>3</th>\n",
       "      <td>50.000000</td>\n",
       "      <td>3997.580000</td>\n",
       "      <td>8921.958084</td>\n",
       "      <td>140.000000</td>\n",
       "      <td>409.500000</td>\n",
       "      <td>610.500000</td>\n",
       "      <td>3188.000000</td>\n",
       "      <td>41970.000000</td>\n",
       "    </tr>\n",
       "  </tbody>\n",
       "</table>\n",
       "</div>"
      ],
      "text/plain": [
       "             count         mean          std        min        25%  \\\n",
       "F-rated                                                              \n",
       "0       349.000000 25572.765043 44192.492902  41.000000 393.000000   \n",
       "1       225.000000 15901.488889 30435.793473  45.000000 572.000000   \n",
       "2        62.000000 17167.532258 27534.009084  96.000000 516.500000   \n",
       "3        50.000000  3997.580000  8921.958084 140.000000 409.500000   \n",
       "\n",
       "                50%          75%           max  \n",
       "F-rated                                         \n",
       "0       3189.000000 32618.000000 292578.000000  \n",
       "1       2560.000000 17414.000000 184198.000000  \n",
       "2       1885.000000 19525.750000 120808.000000  \n",
       "3        610.500000  3188.000000  41970.000000  "
      ]
     },
     "execution_count": 25,
     "metadata": {},
     "output_type": "execute_result"
    }
   ],
   "source": [
    "show_des = df.groupby('F-rated')['상영횟수'].describe()\n",
    "show_des"
   ]
  },
  {
   "cell_type": "code",
   "execution_count": 27,
   "metadata": {
    "scrolled": true
   },
   "outputs": [
    {
     "data": {
      "text/plain": [
       "6.971122230164403"
      ]
     },
     "execution_count": 27,
     "metadata": {},
     "output_type": "execute_result"
    }
   ],
   "source": [
    "# 최대값 비교: 0-F가 3-F의 6.97배\n",
    "show_des.iloc[0,-1] / show_des.iloc[3,-1]"
   ]
  },
  {
   "cell_type": "code",
   "execution_count": 28,
   "metadata": {},
   "outputs": [
    {
     "data": {
      "text/plain": [
       "6.397061482942166"
      ]
     },
     "execution_count": 28,
     "metadata": {},
     "output_type": "execute_result"
    }
   ],
   "source": [
    "# 평균값 비교: 0-F가 3-F의 6.4배\n",
    "show_des.iloc[0,1] / show_des.iloc[3,1]"
   ]
  },
  {
   "cell_type": "code",
   "execution_count": 29,
   "metadata": {
    "scrolled": true
   },
   "outputs": [
    {
     "data": {
      "text/plain": [
       "5.223587223587224"
      ]
     },
     "execution_count": 29,
     "metadata": {},
     "output_type": "execute_result"
    }
   ],
   "source": [
    "# 중간값 비교: 0-F가 3-F의 5.22배\n",
    "show_des.iloc[0,-3] / show_des.iloc[3,-3]"
   ]
  },
  {
   "cell_type": "code",
   "execution_count": 30,
   "metadata": {
    "scrolled": false
   },
   "outputs": [
    {
     "data": {
      "text/plain": [
       "<seaborn.axisgrid.FacetGrid at 0x105266b70>"
      ]
     },
     "execution_count": 30,
     "metadata": {},
     "output_type": "execute_result"
    },
    {
     "data": {
      "text/plain": [
       "<Figure size 1440x1080 with 0 Axes>"
      ]
     },
     "metadata": {},
     "output_type": "display_data"
    },
    {
     "data": {
      "image/png": "[encoded data removed]",
      "text/plain": [
       "<Figure size 360x360 with 1 Axes>"
      ]
     },
     "metadata": {
      "needs_background": "light"
     },
     "output_type": "display_data"
    }
   ],
   "source": [
    "plt.figure(figsize=[20,15])\n",
    "sns.catplot(x='F-rated', y='상영횟수', data=df, kind='box')"
   ]
  },
  {
   "cell_type": "markdown",
   "metadata": {},
   "source": [
    "## 3. 스크린수 (개봉 첫 주 최대 스크린수) 비교\n",
    "* 최대값 비교: 0-F가 3-F의 2.83배\n",
    "* 평균값 비교: 0-F가 3-F의 3.41배\n",
    "* 중간값 비교: 0-F가 3-F의 6.76배"
   ]
  },
  {
   "cell_type": "code",
   "execution_count": 39,
   "metadata": {},
   "outputs": [
    {
     "data": {
      "text/html": [
       "<div>\n",
       "<style scoped>\n",
       "    .dataframe tbody tr th:only-of-type {\n",
       "        vertical-align: middle;\n",
       "    }\n",
       "\n",
       "    .dataframe tbody tr th {\n",
       "        vertical-align: top;\n",
       "    }\n",
       "\n",
       "    .dataframe thead th {\n",
       "        text-align: right;\n",
       "    }\n",
       "</style>\n",
       "<table border=\"1\" class=\"dataframe\">\n",
       "  <thead>\n",
       "    <tr style=\"text-align: right;\">\n",
       "      <th></th>\n",
       "      <th>count</th>\n",
       "      <th>mean</th>\n",
       "      <th>std</th>\n",
       "      <th>min</th>\n",
       "      <th>25%</th>\n",
       "      <th>50%</th>\n",
       "      <th>75%</th>\n",
       "      <th>max</th>\n",
       "    </tr>\n",
       "    <tr>\n",
       "      <th>F-rated</th>\n",
       "      <th></th>\n",
       "      <th></th>\n",
       "      <th></th>\n",
       "      <th></th>\n",
       "      <th></th>\n",
       "      <th></th>\n",
       "      <th></th>\n",
       "      <th></th>\n",
       "    </tr>\n",
       "  </thead>\n",
       "  <tbody>\n",
       "    <tr>\n",
       "      <th>0</th>\n",
       "      <td>349.000000</td>\n",
       "      <td>425.765043</td>\n",
       "      <td>481.700767</td>\n",
       "      <td>1.000000</td>\n",
       "      <td>25.000000</td>\n",
       "      <td>223.000000</td>\n",
       "      <td>763.000000</td>\n",
       "      <td>2235.000000</td>\n",
       "    </tr>\n",
       "    <tr>\n",
       "      <th>1</th>\n",
       "      <td>225.000000</td>\n",
       "      <td>332.248889</td>\n",
       "      <td>366.404880</td>\n",
       "      <td>1.000000</td>\n",
       "      <td>41.000000</td>\n",
       "      <td>190.000000</td>\n",
       "      <td>536.000000</td>\n",
       "      <td>1906.000000</td>\n",
       "    </tr>\n",
       "    <tr>\n",
       "      <th>2</th>\n",
       "      <td>62.000000</td>\n",
       "      <td>348.725806</td>\n",
       "      <td>385.979281</td>\n",
       "      <td>3.000000</td>\n",
       "      <td>24.000000</td>\n",
       "      <td>118.500000</td>\n",
       "      <td>588.000000</td>\n",
       "      <td>1431.000000</td>\n",
       "    </tr>\n",
       "    <tr>\n",
       "      <th>3</th>\n",
       "      <td>50.000000</td>\n",
       "      <td>124.940000</td>\n",
       "      <td>190.798046</td>\n",
       "      <td>9.000000</td>\n",
       "      <td>18.000000</td>\n",
       "      <td>33.000000</td>\n",
       "      <td>135.250000</td>\n",
       "      <td>790.000000</td>\n",
       "    </tr>\n",
       "  </tbody>\n",
       "</table>\n",
       "</div>"
      ],
      "text/plain": [
       "             count       mean        std      min       25%        50%  \\\n",
       "F-rated                                                                  \n",
       "0       349.000000 425.765043 481.700767 1.000000 25.000000 223.000000   \n",
       "1       225.000000 332.248889 366.404880 1.000000 41.000000 190.000000   \n",
       "2        62.000000 348.725806 385.979281 3.000000 24.000000 118.500000   \n",
       "3        50.000000 124.940000 190.798046 9.000000 18.000000  33.000000   \n",
       "\n",
       "               75%         max  \n",
       "F-rated                         \n",
       "0       763.000000 2235.000000  \n",
       "1       536.000000 1906.000000  \n",
       "2       588.000000 1431.000000  \n",
       "3       135.250000  790.000000  "
      ]
     },
     "execution_count": 39,
     "metadata": {},
     "output_type": "execute_result"
    }
   ],
   "source": [
    "screen_des = df.groupby('F-rated')['전국스크린수'].describe()\n",
    "screen_des"
   ]
  },
  {
   "cell_type": "code",
   "execution_count": 40,
   "metadata": {
    "scrolled": true
   },
   "outputs": [
    {
     "data": {
      "text/plain": [
       "2.829113924050633"
      ]
     },
     "execution_count": 40,
     "metadata": {},
     "output_type": "execute_result"
    }
   ],
   "source": [
    "# 최대값 비교: 0-F가 3-F의 2.83배\n",
    "screen_des.iloc[0,-1] / screen_des.iloc[3,-1]"
   ]
  },
  {
   "cell_type": "code",
   "execution_count": 41,
   "metadata": {},
   "outputs": [
    {
     "data": {
      "text/plain": [
       "3.407756066751582"
      ]
     },
     "execution_count": 41,
     "metadata": {},
     "output_type": "execute_result"
    }
   ],
   "source": [
    "# 평균값 비교: 0-F가 3-F의 3.41배\n",
    "screen_des.iloc[0,1] / screen_des.iloc[3,1]"
   ]
  },
  {
   "cell_type": "code",
   "execution_count": 42,
   "metadata": {
    "scrolled": true
   },
   "outputs": [
    {
     "data": {
      "text/plain": [
       "6.757575757575758"
      ]
     },
     "execution_count": 42,
     "metadata": {},
     "output_type": "execute_result"
    }
   ],
   "source": [
    "# 중간값 비교: 0-F가 3-F의 6.76배\n",
    "screen_des.iloc[0,-3] / screen_des.iloc[3,-3]"
   ]
  },
  {
   "cell_type": "code",
   "execution_count": 43,
   "metadata": {
    "scrolled": false
   },
   "outputs": [
    {
     "data": {
      "text/plain": [
       "<seaborn.axisgrid.FacetGrid at 0x1a1b589860>"
      ]
     },
     "execution_count": 43,
     "metadata": {},
     "output_type": "execute_result"
    },
    {
     "data": {
      "text/plain": [
       "<Figure size 1440x1080 with 0 Axes>"
      ]
     },
     "metadata": {},
     "output_type": "display_data"
    },
    {
     "data": {
      "image/png": "[encoded data removed]",
      "text/plain": [
       "<Figure size 360x360 with 1 Axes>"
      ]
     },
     "metadata": {
      "needs_background": "light"
     },
     "output_type": "display_data"
    }
   ],
   "source": [
    "plt.figure(figsize=[20,15])\n",
    "sns.catplot(x='F-rated', y='전국스크린수', data=df, kind='box')"
   ]
  },
  {
   "cell_type": "markdown",
   "metadata": {},
   "source": [
    "## 4. 상영횟수 대비 매출액 (회당 평균 매출액) 비교 \n",
    "* 최대값 비교: 0-F가 3-F의 2.92배\n",
    "* 평균값 비교: 0-F가 3-F의 1.93배\n",
    "* 중간값 비교: 0-F가 3-F의 1.68배\n",
    "* 매출액을 단순비교했을 때는 최대값이 15.72배, 평균값이 13.45배, 중간값이 7.03배였는데 차이가 아주 많이 작아짐 -> 여성영화가 상영기회가 적은 것에 비해 좋은 결과를 내고 있음"
   ]
  },
  {
   "cell_type": "code",
   "execution_count": 31,
   "metadata": {},
   "outputs": [],
   "source": [
    "df['회당 평균 매출액'] = df['전국매출액'] / df['상영횟수']"
   ]
  },
  {
   "cell_type": "code",
   "execution_count": 32,
   "metadata": {},
   "outputs": [
    {
     "data": {
      "text/html": [
       "<div>\n",
       "<style scoped>\n",
       "    .dataframe tbody tr th:only-of-type {\n",
       "        vertical-align: middle;\n",
       "    }\n",
       "\n",
       "    .dataframe tbody tr th {\n",
       "        vertical-align: top;\n",
       "    }\n",
       "\n",
       "    .dataframe thead th {\n",
       "        text-align: right;\n",
       "    }\n",
       "</style>\n",
       "<table border=\"1\" class=\"dataframe\">\n",
       "  <thead>\n",
       "    <tr style=\"text-align: right;\">\n",
       "      <th></th>\n",
       "      <th>count</th>\n",
       "      <th>mean</th>\n",
       "      <th>std</th>\n",
       "      <th>min</th>\n",
       "      <th>25%</th>\n",
       "      <th>50%</th>\n",
       "      <th>75%</th>\n",
       "      <th>max</th>\n",
       "    </tr>\n",
       "    <tr>\n",
       "      <th>F-rated</th>\n",
       "      <th></th>\n",
       "      <th></th>\n",
       "      <th></th>\n",
       "      <th></th>\n",
       "      <th></th>\n",
       "      <th></th>\n",
       "      <th></th>\n",
       "      <th></th>\n",
       "    </tr>\n",
       "  </thead>\n",
       "  <tbody>\n",
       "    <tr>\n",
       "      <th>0</th>\n",
       "      <td>349.000000</td>\n",
       "      <td>155540.729377</td>\n",
       "      <td>130550.907331</td>\n",
       "      <td>16898.285714</td>\n",
       "      <td>53692.105263</td>\n",
       "      <td>111269.702842</td>\n",
       "      <td>226292.536063</td>\n",
       "      <td>707758.081588</td>\n",
       "    </tr>\n",
       "    <tr>\n",
       "      <th>1</th>\n",
       "      <td>225.000000</td>\n",
       "      <td>134106.185869</td>\n",
       "      <td>107799.196562</td>\n",
       "      <td>12607.660455</td>\n",
       "      <td>53483.918813</td>\n",
       "      <td>95928.555121</td>\n",
       "      <td>179533.700787</td>\n",
       "      <td>566693.232923</td>\n",
       "    </tr>\n",
       "    <tr>\n",
       "      <th>2</th>\n",
       "      <td>62.000000</td>\n",
       "      <td>127020.998213</td>\n",
       "      <td>86527.101199</td>\n",
       "      <td>20012.500000</td>\n",
       "      <td>50720.432237</td>\n",
       "      <td>118052.061786</td>\n",
       "      <td>176729.343906</td>\n",
       "      <td>404414.606255</td>\n",
       "    </tr>\n",
       "    <tr>\n",
       "      <th>3</th>\n",
       "      <td>50.000000</td>\n",
       "      <td>80636.964443</td>\n",
       "      <td>53594.890722</td>\n",
       "      <td>16052.380952</td>\n",
       "      <td>41535.657832</td>\n",
       "      <td>66291.389137</td>\n",
       "      <td>100268.054881</td>\n",
       "      <td>242314.261272</td>\n",
       "    </tr>\n",
       "  </tbody>\n",
       "</table>\n",
       "</div>"
      ],
      "text/plain": [
       "             count          mean           std          min          25%  \\\n",
       "F-rated                                                                    \n",
       "0       349.000000 155540.729377 130550.907331 16898.285714 53692.105263   \n",
       "1       225.000000 134106.185869 107799.196562 12607.660455 53483.918813   \n",
       "2        62.000000 127020.998213  86527.101199 20012.500000 50720.432237   \n",
       "3        50.000000  80636.964443  53594.890722 16052.380952 41535.657832   \n",
       "\n",
       "                  50%           75%           max  \n",
       "F-rated                                            \n",
       "0       111269.702842 226292.536063 707758.081588  \n",
       "1        95928.555121 179533.700787 566693.232923  \n",
       "2       118052.061786 176729.343906 404414.606255  \n",
       "3        66291.389137 100268.054881 242314.261272  "
      ]
     },
     "execution_count": 32,
     "metadata": {},
     "output_type": "execute_result"
    }
   ],
   "source": [
    "sales_avg_des = df.groupby('F-rated')['회당 평균 매출액'].describe()\n",
    "sales_avg_des"
   ]
  },
  {
   "cell_type": "code",
   "execution_count": 35,
   "metadata": {},
   "outputs": [
    {
     "data": {
      "text/plain": [
       "2.9208271847999474"
      ]
     },
     "execution_count": 35,
     "metadata": {},
     "output_type": "execute_result"
    }
   ],
   "source": [
    "# 최대값 비교: 0-F가 3-F의 2.92배\n",
    "sales_avg_des.iloc[0,-1] / sales_avg_des.iloc[3,-1]"
   ]
  },
  {
   "cell_type": "code",
   "execution_count": 36,
   "metadata": {},
   "outputs": [
    {
     "data": {
      "text/plain": [
       "1.9289010995234876"
      ]
     },
     "execution_count": 36,
     "metadata": {},
     "output_type": "execute_result"
    }
   ],
   "source": [
    "# 평균값 비교: 0-F가 3-F의 1.93배\n",
    "sales_avg_des.iloc[0,1] / sales_avg_des.iloc[3,1]"
   ]
  },
  {
   "cell_type": "code",
   "execution_count": 37,
   "metadata": {
    "scrolled": true
   },
   "outputs": [
    {
     "data": {
      "text/plain": [
       "1.6784940592051072"
      ]
     },
     "execution_count": 37,
     "metadata": {},
     "output_type": "execute_result"
    }
   ],
   "source": [
    "# 중간값 비교: 0-F가 3-F의 1.68배\n",
    "sales_avg_des.iloc[0,-3] / sales_avg_des.iloc[3,-3]"
   ]
  },
  {
   "cell_type": "code",
   "execution_count": 38,
   "metadata": {
    "scrolled": false
   },
   "outputs": [
    {
     "data": {
      "text/plain": [
       "<seaborn.axisgrid.FacetGrid at 0x1a19425518>"
      ]
     },
     "execution_count": 38,
     "metadata": {},
     "output_type": "execute_result"
    },
    {
     "data": {
      "text/plain": [
       "<Figure size 1440x1080 with 0 Axes>"
      ]
     },
     "metadata": {},
     "output_type": "display_data"
    },
    {
     "data": {
      "image/png": "[encoded data removed]",
      "text/plain": [
       "<Figure size 360x360 with 1 Axes>"
      ]
     },
     "metadata": {
      "needs_background": "light"
     },
     "output_type": "display_data"
    }
   ],
   "source": [
    "plt.figure(figsize=[20,15])\n",
    "sns.catplot(x='F-rated', y='회당 평균 매출액', data=df, kind='box')"
   ]
  },
  {
   "cell_type": "markdown",
   "metadata": {},
   "source": [
    "스크린마다 수용가능 관객수가 다르고 특정 영화만 대형관에 상영되는 것, 프라임 시간대에 배정되는 것이 중요한 feature 될 수 있음  \n",
    "-> 각 영화가 어떤 스크린에서 상영했는지에 대한 데이터, 스크린별 수용인원 데이터, 상영시간표 데이터 추가로 필요"
   ]
  },
  {
   "cell_type": "markdown",
   "metadata": {},
   "source": [
    "## 5. 스크린수 대비 매출액 (스크린당 평균 매출액) 비교 \n",
    "* 최대값 비교: 0-F가 3-F의 8.78배\n",
    "* 평균값 비교: 0-F가 3-F의 3.67배\n",
    "* 중간값 비교: 0-F가 3-F의 1.31배\n",
    "* 매출액을 단순비교했을 때는 최대값이 15.72배, 평균값이 13.45배, 중간값이 7.03배였는데 차이가 아주 많이 작아짐 -> 여성영화가 상영기회가 적은 것(적은 스크린을 배당받고 있는 것)에 비해 좋은 결과를 내고 있음"
   ]
  },
  {
   "cell_type": "code",
   "execution_count": 44,
   "metadata": {},
   "outputs": [],
   "source": [
    "df['스크린당 평균 매출액'] = df['전국매출액'] / df['전국스크린수']"
   ]
  },
  {
   "cell_type": "code",
   "execution_count": 45,
   "metadata": {},
   "outputs": [
    {
     "data": {
      "text/html": [
       "<div>\n",
       "<style scoped>\n",
       "    .dataframe tbody tr th:only-of-type {\n",
       "        vertical-align: middle;\n",
       "    }\n",
       "\n",
       "    .dataframe tbody tr th {\n",
       "        vertical-align: top;\n",
       "    }\n",
       "\n",
       "    .dataframe thead th {\n",
       "        text-align: right;\n",
       "    }\n",
       "</style>\n",
       "<table border=\"1\" class=\"dataframe\">\n",
       "  <thead>\n",
       "    <tr style=\"text-align: right;\">\n",
       "      <th></th>\n",
       "      <th>count</th>\n",
       "      <th>mean</th>\n",
       "      <th>std</th>\n",
       "      <th>min</th>\n",
       "      <th>25%</th>\n",
       "      <th>50%</th>\n",
       "      <th>75%</th>\n",
       "      <th>max</th>\n",
       "    </tr>\n",
       "    <tr>\n",
       "      <th>F-rated</th>\n",
       "      <th></th>\n",
       "      <th></th>\n",
       "      <th></th>\n",
       "      <th></th>\n",
       "      <th></th>\n",
       "      <th></th>\n",
       "      <th></th>\n",
       "      <th></th>\n",
       "    </tr>\n",
       "  </thead>\n",
       "  <tbody>\n",
       "    <tr>\n",
       "      <th>0</th>\n",
       "      <td>349.000000</td>\n",
       "      <td>8173501.787248</td>\n",
       "      <td>13607153.328351</td>\n",
       "      <td>165650.000000</td>\n",
       "      <td>738703.921569</td>\n",
       "      <td>1822680.000000</td>\n",
       "      <td>9425564.078363</td>\n",
       "      <td>98707706.766917</td>\n",
       "    </tr>\n",
       "    <tr>\n",
       "      <th>1</th>\n",
       "      <td>225.000000</td>\n",
       "      <td>5544535.147880</td>\n",
       "      <td>9272414.636843</td>\n",
       "      <td>171095.121951</td>\n",
       "      <td>724685.321101</td>\n",
       "      <td>1822815.804598</td>\n",
       "      <td>5779303.054187</td>\n",
       "      <td>64821022.238973</td>\n",
       "    </tr>\n",
       "    <tr>\n",
       "      <th>2</th>\n",
       "      <td>62.000000</td>\n",
       "      <td>5021844.480149</td>\n",
       "      <td>6139341.381359</td>\n",
       "      <td>409959.803922</td>\n",
       "      <td>876995.790960</td>\n",
       "      <td>1506687.215370</td>\n",
       "      <td>7208715.099360</td>\n",
       "      <td>24927032.609568</td>\n",
       "    </tr>\n",
       "    <tr>\n",
       "      <th>3</th>\n",
       "      <td>50.000000</td>\n",
       "      <td>2225764.882455</td>\n",
       "      <td>2487232.162176</td>\n",
       "      <td>364889.583333</td>\n",
       "      <td>770374.621212</td>\n",
       "      <td>1386302.777778</td>\n",
       "      <td>2175343.452381</td>\n",
       "      <td>11242552.222785</td>\n",
       "    </tr>\n",
       "  </tbody>\n",
       "</table>\n",
       "</div>"
      ],
      "text/plain": [
       "             count           mean             std           min           25%  \\\n",
       "F-rated                                                                         \n",
       "0       349.000000 8173501.787248 13607153.328351 165650.000000 738703.921569   \n",
       "1       225.000000 5544535.147880  9272414.636843 171095.121951 724685.321101   \n",
       "2        62.000000 5021844.480149  6139341.381359 409959.803922 876995.790960   \n",
       "3        50.000000 2225764.882455  2487232.162176 364889.583333 770374.621212   \n",
       "\n",
       "                   50%            75%             max  \n",
       "F-rated                                                \n",
       "0       1822680.000000 9425564.078363 98707706.766917  \n",
       "1       1822815.804598 5779303.054187 64821022.238973  \n",
       "2       1506687.215370 7208715.099360 24927032.609568  \n",
       "3       1386302.777778 2175343.452381 11242552.222785  "
      ]
     },
     "execution_count": 45,
     "metadata": {},
     "output_type": "execute_result"
    }
   ],
   "source": [
    "sales_avg_des2 = df.groupby('F-rated')['스크린당 평균 매출액'].describe()\n",
    "sales_avg_des2"
   ]
  },
  {
   "cell_type": "code",
   "execution_count": 46,
   "metadata": {},
   "outputs": [
    {
     "data": {
      "text/plain": [
       "8.779830843646918"
      ]
     },
     "execution_count": 46,
     "metadata": {},
     "output_type": "execute_result"
    }
   ],
   "source": [
    "# 최대값 비교: 0-F가 3-F의 8.78배\n",
    "sales_avg_des2.iloc[0,-1] / sales_avg_des2.iloc[3,-1]"
   ]
  },
  {
   "cell_type": "code",
   "execution_count": 47,
   "metadata": {},
   "outputs": [
    {
     "data": {
      "text/plain": [
       "3.672221559284236"
      ]
     },
     "execution_count": 47,
     "metadata": {},
     "output_type": "execute_result"
    }
   ],
   "source": [
    "# 평균값 비교: 0-F가 3-F의 3.67배\n",
    "sales_avg_des2.iloc[0,1] / sales_avg_des2.iloc[3,1]"
   ]
  },
  {
   "cell_type": "code",
   "execution_count": 48,
   "metadata": {
    "scrolled": true
   },
   "outputs": [
    {
     "data": {
      "text/plain": [
       "1.3147777161073917"
      ]
     },
     "execution_count": 48,
     "metadata": {},
     "output_type": "execute_result"
    }
   ],
   "source": [
    "# 중간값 비교: 0-F가 3-F의 1.31배\n",
    "sales_avg_des2.iloc[0,-3] / sales_avg_des2.iloc[3,-3]"
   ]
  },
  {
   "cell_type": "code",
   "execution_count": 49,
   "metadata": {
    "scrolled": false
   },
   "outputs": [
    {
     "data": {
      "text/plain": [
       "<seaborn.axisgrid.FacetGrid at 0x1a1b737048>"
      ]
     },
     "execution_count": 49,
     "metadata": {},
     "output_type": "execute_result"
    },
    {
     "data": {
      "text/plain": [
       "<Figure size 1440x1080 with 0 Axes>"
      ]
     },
     "metadata": {},
     "output_type": "display_data"
    },
    {
     "data": {
      "image/png": "[encoded data removed]",
      "text/plain": [
       "<Figure size 360x360 with 1 Axes>"
      ]
     },
     "metadata": {
      "needs_background": "light"
     },
     "output_type": "display_data"
    }
   ],
   "source": [
    "plt.figure(figsize=[20,15])\n",
    "sns.catplot(x='F-rated', y='스크린당 평균 매출액', data=df, kind='box')"
   ]
  },
  {
   "cell_type": "markdown",
   "metadata": {},
   "source": [
    "# 배급사별 F등급 영화 비율"
   ]
  },
  {
   "cell_type": "markdown",
   "metadata": {},
   "source": [
    "배급사명 전처리 완료된 파일임  \n",
    ": 롯데엔터테인먼트는 2018년 5월 31일까지는 롯데쇼핑 소속, 2018년 6월 1일 이후 롯데컬처웍스 소속으로 배급사 이름이 나눠져 있었으나 모두 '롯데컬처웍스(주)롯데엔터테인먼트'로 통일했음"
   ]
  },
  {
   "cell_type": "markdown",
   "metadata": {},
   "source": [
    "## 1. 배급사별 총 상영횟수 현황\n",
    "4대 배급사 'CJ E&M', '쇼박스', 'NEW', '롯데엔터테인먼트'는 투자까지도 하고 있는 '투자/배급사'로 한국영화산업에 매우 큰 영향력을 발휘한다.  \n",
    "이들이 배급한 영화의 상영이 전체 영화 상영의 78%를 차지하고 있다.  "
   ]
  },
  {
   "cell_type": "code",
   "execution_count": 55,
   "metadata": {},
   "outputs": [
    {
     "data": {
      "text/plain": [
       "<matplotlib.axes._subplots.AxesSubplot at 0x1a1bdc2cc0>"
      ]
     },
     "execution_count": 55,
     "metadata": {},
     "output_type": "execute_result"
    },
    {
     "data": {
      "image/png": "[encoded data removed]",
      "text/plain": [
       "<Figure size 1440x720 with 1 Axes>"
      ]
     },
     "metadata": {},
     "output_type": "display_data"
    }
   ],
   "source": [
    "plt.rcParams[\"figure.figsize\"] = (20,10)\n",
    "df.groupby('배급사')['상영횟수'].sum().sort_values(ascending=False).plot(kind='pie', label='', autopct='%.2f%%')"
   ]
  },
  {
   "cell_type": "code",
   "execution_count": 57,
   "metadata": {},
   "outputs": [
    {
     "data": {
      "text/plain": [
       "72.41"
      ]
     },
     "execution_count": 57,
     "metadata": {},
     "output_type": "execute_result"
    }
   ],
   "source": [
    "27.15 + 18.08 + 14.87 + 12.31"
   ]
  },
  {
   "cell_type": "code",
   "execution_count": 78,
   "metadata": {},
   "outputs": [
    {
     "data": {
      "text/plain": [
       "87.40999999999998"
      ]
     },
     "execution_count": 78,
     "metadata": {},
     "output_type": "execute_result"
    }
   ],
   "source": [
    "72.41 + 5.49 + 3.01 + 2.71 + 1.46 + 1.23 + 1.1"
   ]
  },
  {
   "cell_type": "markdown",
   "metadata": {},
   "source": [
    "## 2. 총 상영횟수 기준 Top 10 배급사의 F등급 영화 배급 비율\n",
    "대형배급사가 차지하는 파이가 이렇게 크므로 이들로부터 배급되는 것이 영화 흥행의 주요요인이 된다.  \n",
    "이런 대형배급사들이 여성주도영화를 얼마나 배급하고 있는지 알아보자."
   ]
  },
  {
   "cell_type": "code",
   "execution_count": 58,
   "metadata": {},
   "outputs": [],
   "source": [
    "# 배급사별로 F등급별 영화 개수 구하기\n",
    "\n",
    "f_counting = pd.DataFrame({'F-rated': [0, 1, 2, 3]})\n",
    "\n",
    "for cp in df['배급사'].unique():\n",
    "    dist = df[df['배급사'] == cp]\n",
    "    by_dist = dist.groupby('F-rated')['영화명'].count().reset_index().rename(columns = {'영화명':cp})\n",
    "    f_counting = f_counting.merge(by_dist, how='left', on='F-rated')\n",
    "\n",
    "f_counting = f_counting.T.drop('F-rated', axis=0) "
   ]
  },
  {
   "cell_type": "code",
   "execution_count": 59,
   "metadata": {},
   "outputs": [
    {
     "data": {
      "text/html": [
       "<div>\n",
       "<style scoped>\n",
       "    .dataframe tbody tr th:only-of-type {\n",
       "        vertical-align: middle;\n",
       "    }\n",
       "\n",
       "    .dataframe tbody tr th {\n",
       "        vertical-align: top;\n",
       "    }\n",
       "\n",
       "    .dataframe thead th {\n",
       "        text-align: right;\n",
       "    }\n",
       "</style>\n",
       "<table border=\"1\" class=\"dataframe\">\n",
       "  <thead>\n",
       "    <tr style=\"text-align: right;\">\n",
       "      <th></th>\n",
       "      <th>0</th>\n",
       "      <th>1</th>\n",
       "      <th>2</th>\n",
       "      <th>3</th>\n",
       "    </tr>\n",
       "  </thead>\n",
       "  <tbody>\n",
       "    <tr>\n",
       "      <th>메가박스중앙(주)플러스엠</th>\n",
       "      <td>9.000000</td>\n",
       "      <td>9.000000</td>\n",
       "      <td>4.000000</td>\n",
       "      <td>1.000000</td>\n",
       "    </tr>\n",
       "    <tr>\n",
       "      <th>(주)마인스 엔터테인먼트,주식회사 마운틴픽쳐스</th>\n",
       "      <td>1.000000</td>\n",
       "      <td>nan</td>\n",
       "      <td>nan</td>\n",
       "      <td>nan</td>\n",
       "    </tr>\n",
       "    <tr>\n",
       "      <th>씨제이이앤엠(주)</th>\n",
       "      <td>30.000000</td>\n",
       "      <td>18.000000</td>\n",
       "      <td>3.000000</td>\n",
       "      <td>2.000000</td>\n",
       "    </tr>\n",
       "    <tr>\n",
       "      <th>(주)넥스트엔터테인먼트월드(NEW)</th>\n",
       "      <td>31.000000</td>\n",
       "      <td>13.000000</td>\n",
       "      <td>4.000000</td>\n",
       "      <td>1.000000</td>\n",
       "    </tr>\n",
       "    <tr>\n",
       "      <th>(주)인디플러그</th>\n",
       "      <td>6.000000</td>\n",
       "      <td>7.000000</td>\n",
       "      <td>2.000000</td>\n",
       "      <td>3.000000</td>\n",
       "    </tr>\n",
       "  </tbody>\n",
       "</table>\n",
       "</div>"
      ],
      "text/plain": [
       "                                  0         1        2        3\n",
       "메가박스중앙(주)플러스엠              9.000000  9.000000 4.000000 1.000000\n",
       "(주)마인스 엔터테인먼트,주식회사 마운틴픽쳐스  1.000000       nan      nan      nan\n",
       "씨제이이앤엠(주)                 30.000000 18.000000 3.000000 2.000000\n",
       "(주)넥스트엔터테인먼트월드(NEW)       31.000000 13.000000 4.000000 1.000000\n",
       "(주)인디플러그                   6.000000  7.000000 2.000000 3.000000"
      ]
     },
     "execution_count": 59,
     "metadata": {},
     "output_type": "execute_result"
    }
   ],
   "source": [
    "f_counting.head()"
   ]
  },
  {
   "cell_type": "code",
   "execution_count": 60,
   "metadata": {},
   "outputs": [
    {
     "data": {
      "text/plain": [
       "190"
      ]
     },
     "execution_count": 60,
     "metadata": {},
     "output_type": "execute_result"
    }
   ],
   "source": [
    "len(f_counting)"
   ]
  },
  {
   "cell_type": "code",
   "execution_count": 61,
   "metadata": {},
   "outputs": [],
   "source": [
    "# 배급사별 전체 영화개수 구하기\n",
    "\n",
    "f_counting = f_counting.fillna(0)\n",
    "f_counting['영화개수'] = f_counting.sum(axis=1)"
   ]
  },
  {
   "cell_type": "code",
   "execution_count": 62,
   "metadata": {},
   "outputs": [
    {
     "data": {
      "text/html": [
       "<div>\n",
       "<style scoped>\n",
       "    .dataframe tbody tr th:only-of-type {\n",
       "        vertical-align: middle;\n",
       "    }\n",
       "\n",
       "    .dataframe tbody tr th {\n",
       "        vertical-align: top;\n",
       "    }\n",
       "\n",
       "    .dataframe thead th {\n",
       "        text-align: right;\n",
       "    }\n",
       "</style>\n",
       "<table border=\"1\" class=\"dataframe\">\n",
       "  <thead>\n",
       "    <tr style=\"text-align: right;\">\n",
       "      <th></th>\n",
       "      <th>0</th>\n",
       "      <th>1</th>\n",
       "      <th>2</th>\n",
       "      <th>3</th>\n",
       "      <th>영화개수</th>\n",
       "    </tr>\n",
       "  </thead>\n",
       "  <tbody>\n",
       "    <tr>\n",
       "      <th>메가박스중앙(주)플러스엠</th>\n",
       "      <td>9.000000</td>\n",
       "      <td>9.000000</td>\n",
       "      <td>4.000000</td>\n",
       "      <td>1.000000</td>\n",
       "      <td>23.000000</td>\n",
       "    </tr>\n",
       "    <tr>\n",
       "      <th>(주)마인스 엔터테인먼트,주식회사 마운틴픽쳐스</th>\n",
       "      <td>1.000000</td>\n",
       "      <td>0.000000</td>\n",
       "      <td>0.000000</td>\n",
       "      <td>0.000000</td>\n",
       "      <td>1.000000</td>\n",
       "    </tr>\n",
       "    <tr>\n",
       "      <th>씨제이이앤엠(주)</th>\n",
       "      <td>30.000000</td>\n",
       "      <td>18.000000</td>\n",
       "      <td>3.000000</td>\n",
       "      <td>2.000000</td>\n",
       "      <td>53.000000</td>\n",
       "    </tr>\n",
       "    <tr>\n",
       "      <th>(주)넥스트엔터테인먼트월드(NEW)</th>\n",
       "      <td>31.000000</td>\n",
       "      <td>13.000000</td>\n",
       "      <td>4.000000</td>\n",
       "      <td>1.000000</td>\n",
       "      <td>49.000000</td>\n",
       "    </tr>\n",
       "    <tr>\n",
       "      <th>(주)인디플러그</th>\n",
       "      <td>6.000000</td>\n",
       "      <td>7.000000</td>\n",
       "      <td>2.000000</td>\n",
       "      <td>3.000000</td>\n",
       "      <td>18.000000</td>\n",
       "    </tr>\n",
       "  </tbody>\n",
       "</table>\n",
       "</div>"
      ],
      "text/plain": [
       "                                  0         1        2        3      영화개수\n",
       "메가박스중앙(주)플러스엠              9.000000  9.000000 4.000000 1.000000 23.000000\n",
       "(주)마인스 엔터테인먼트,주식회사 마운틴픽쳐스  1.000000  0.000000 0.000000 0.000000  1.000000\n",
       "씨제이이앤엠(주)                 30.000000 18.000000 3.000000 2.000000 53.000000\n",
       "(주)넥스트엔터테인먼트월드(NEW)       31.000000 13.000000 4.000000 1.000000 49.000000\n",
       "(주)인디플러그                   6.000000  7.000000 2.000000 3.000000 18.000000"
      ]
     },
     "execution_count": 62,
     "metadata": {},
     "output_type": "execute_result"
    }
   ],
   "source": [
    "f_counting.head()"
   ]
  },
  {
   "cell_type": "code",
   "execution_count": 63,
   "metadata": {},
   "outputs": [
    {
     "data": {
      "text/plain": [
       "190"
      ]
     },
     "execution_count": 63,
     "metadata": {},
     "output_type": "execute_result"
    }
   ],
   "source": [
    "# 배급사별 총 상영횟수 구하기\n",
    "\n",
    "show_numbers = df.groupby('배급사')['상영횟수'].sum().reset_index().set_index('배급사')\n",
    "del show_numbers.index.name\n",
    "f_counting = f_counting.merge(show_numbers, how='inner', left_index=True, right_index=True).sort_values('상영횟수')\n",
    "len(f_counting)"
   ]
  },
  {
   "cell_type": "code",
   "execution_count": 68,
   "metadata": {},
   "outputs": [
    {
     "data": {
      "text/html": [
       "<div>\n",
       "<style scoped>\n",
       "    .dataframe tbody tr th:only-of-type {\n",
       "        vertical-align: middle;\n",
       "    }\n",
       "\n",
       "    .dataframe tbody tr th {\n",
       "        vertical-align: top;\n",
       "    }\n",
       "\n",
       "    .dataframe thead th {\n",
       "        text-align: right;\n",
       "    }\n",
       "</style>\n",
       "<table border=\"1\" class=\"dataframe\">\n",
       "  <thead>\n",
       "    <tr style=\"text-align: right;\">\n",
       "      <th></th>\n",
       "      <th>0</th>\n",
       "      <th>1</th>\n",
       "      <th>2</th>\n",
       "      <th>3</th>\n",
       "      <th>영화개수</th>\n",
       "      <th>상영횟수</th>\n",
       "    </tr>\n",
       "  </thead>\n",
       "  <tbody>\n",
       "    <tr>\n",
       "      <th>CGV아트하우스,영화사 풀</th>\n",
       "      <td>1.000000</td>\n",
       "      <td>0.000000</td>\n",
       "      <td>0.000000</td>\n",
       "      <td>0.000000</td>\n",
       "      <td>1.000000</td>\n",
       "      <td>61332</td>\n",
       "    </tr>\n",
       "    <tr>\n",
       "      <th>(주)메리크리스마스,TCO(주)더콘텐츠온</th>\n",
       "      <td>1.000000</td>\n",
       "      <td>0.000000</td>\n",
       "      <td>0.000000</td>\n",
       "      <td>0.000000</td>\n",
       "      <td>1.000000</td>\n",
       "      <td>61749</td>\n",
       "    </tr>\n",
       "    <tr>\n",
       "      <th>(주)에이스메이커무비웍스</th>\n",
       "      <td>0.000000</td>\n",
       "      <td>1.000000</td>\n",
       "      <td>0.000000</td>\n",
       "      <td>0.000000</td>\n",
       "      <td>1.000000</td>\n",
       "      <td>63205</td>\n",
       "    </tr>\n",
       "    <tr>\n",
       "      <th>오퍼스픽쳐스(유)</th>\n",
       "      <td>5.000000</td>\n",
       "      <td>3.000000</td>\n",
       "      <td>0.000000</td>\n",
       "      <td>0.000000</td>\n",
       "      <td>8.000000</td>\n",
       "      <td>77984</td>\n",
       "    </tr>\n",
       "    <tr>\n",
       "      <th>(주)엣나인필름</th>\n",
       "      <td>7.000000</td>\n",
       "      <td>3.000000</td>\n",
       "      <td>2.000000</td>\n",
       "      <td>1.000000</td>\n",
       "      <td>13.000000</td>\n",
       "      <td>85810</td>\n",
       "    </tr>\n",
       "    <tr>\n",
       "      <th>오퍼스픽쳐스(유),CGV아트하우스</th>\n",
       "      <td>1.000000</td>\n",
       "      <td>1.000000</td>\n",
       "      <td>0.000000</td>\n",
       "      <td>0.000000</td>\n",
       "      <td>2.000000</td>\n",
       "      <td>86150</td>\n",
       "    </tr>\n",
       "    <tr>\n",
       "      <th>(주)와우픽쳐스</th>\n",
       "      <td>0.000000</td>\n",
       "      <td>1.000000</td>\n",
       "      <td>0.000000</td>\n",
       "      <td>0.000000</td>\n",
       "      <td>1.000000</td>\n",
       "      <td>90288</td>\n",
       "    </tr>\n",
       "    <tr>\n",
       "      <th>롯데쇼핑㈜롯데엔터테인먼트,(주)리틀빅픽쳐스</th>\n",
       "      <td>0.000000</td>\n",
       "      <td>0.000000</td>\n",
       "      <td>1.000000</td>\n",
       "      <td>0.000000</td>\n",
       "      <td>1.000000</td>\n",
       "      <td>93066</td>\n",
       "    </tr>\n",
       "    <tr>\n",
       "      <th>(주)에이스메이커무비웍스,(주)키위미디어그룹</th>\n",
       "      <td>1.000000</td>\n",
       "      <td>0.000000</td>\n",
       "      <td>0.000000</td>\n",
       "      <td>0.000000</td>\n",
       "      <td>1.000000</td>\n",
       "      <td>97351</td>\n",
       "    </tr>\n",
       "    <tr>\n",
       "      <th>메가박스중앙(주)플러스엠,(주)키위미디어그룹</th>\n",
       "      <td>1.000000</td>\n",
       "      <td>0.000000</td>\n",
       "      <td>0.000000</td>\n",
       "      <td>0.000000</td>\n",
       "      <td>1.000000</td>\n",
       "      <td>149389</td>\n",
       "    </tr>\n",
       "    <tr>\n",
       "      <th>씨네그루(주)키다리이엔티</th>\n",
       "      <td>5.000000</td>\n",
       "      <td>6.000000</td>\n",
       "      <td>0.000000</td>\n",
       "      <td>0.000000</td>\n",
       "      <td>11.000000</td>\n",
       "      <td>151844</td>\n",
       "    </tr>\n",
       "    <tr>\n",
       "      <th>이십세기폭스코리아(주)</th>\n",
       "      <td>3.000000</td>\n",
       "      <td>0.000000</td>\n",
       "      <td>0.000000</td>\n",
       "      <td>0.000000</td>\n",
       "      <td>3.000000</td>\n",
       "      <td>169247</td>\n",
       "    </tr>\n",
       "    <tr>\n",
       "      <th>(주)리틀빅픽쳐스</th>\n",
       "      <td>19.000000</td>\n",
       "      <td>9.000000</td>\n",
       "      <td>4.000000</td>\n",
       "      <td>4.000000</td>\n",
       "      <td>36.000000</td>\n",
       "      <td>201092</td>\n",
       "    </tr>\n",
       "    <tr>\n",
       "      <th>CGV아트하우스</th>\n",
       "      <td>11.000000</td>\n",
       "      <td>10.000000</td>\n",
       "      <td>2.000000</td>\n",
       "      <td>2.000000</td>\n",
       "      <td>25.000000</td>\n",
       "      <td>373143</td>\n",
       "    </tr>\n",
       "    <tr>\n",
       "      <th>워너브러더스 코리아(주)</th>\n",
       "      <td>6.000000</td>\n",
       "      <td>1.000000</td>\n",
       "      <td>1.000000</td>\n",
       "      <td>0.000000</td>\n",
       "      <td>8.000000</td>\n",
       "      <td>414979</td>\n",
       "    </tr>\n",
       "    <tr>\n",
       "      <th>메가박스중앙(주)플러스엠</th>\n",
       "      <td>9.000000</td>\n",
       "      <td>9.000000</td>\n",
       "      <td>4.000000</td>\n",
       "      <td>1.000000</td>\n",
       "      <td>23.000000</td>\n",
       "      <td>755542</td>\n",
       "    </tr>\n",
       "    <tr>\n",
       "      <th>롯데컬처웍스(주)롯데엔터테인먼트</th>\n",
       "      <td>18.000000</td>\n",
       "      <td>15.000000</td>\n",
       "      <td>4.000000</td>\n",
       "      <td>1.000000</td>\n",
       "      <td>38.000000</td>\n",
       "      <td>1694051</td>\n",
       "    </tr>\n",
       "    <tr>\n",
       "      <th>(주)넥스트엔터테인먼트월드(NEW)</th>\n",
       "      <td>31.000000</td>\n",
       "      <td>13.000000</td>\n",
       "      <td>4.000000</td>\n",
       "      <td>1.000000</td>\n",
       "      <td>49.000000</td>\n",
       "      <td>2046846</td>\n",
       "    </tr>\n",
       "    <tr>\n",
       "      <th>(주)쇼박스</th>\n",
       "      <td>19.000000</td>\n",
       "      <td>9.000000</td>\n",
       "      <td>4.000000</td>\n",
       "      <td>0.000000</td>\n",
       "      <td>32.000000</td>\n",
       "      <td>2488690</td>\n",
       "    </tr>\n",
       "    <tr>\n",
       "      <th>씨제이이앤엠(주)</th>\n",
       "      <td>30.000000</td>\n",
       "      <td>18.000000</td>\n",
       "      <td>3.000000</td>\n",
       "      <td>2.000000</td>\n",
       "      <td>53.000000</td>\n",
       "      <td>3737539</td>\n",
       "    </tr>\n",
       "  </tbody>\n",
       "</table>\n",
       "</div>"
      ],
      "text/plain": [
       "                                 0         1        2        3      영화개수  \\\n",
       "CGV아트하우스,영화사 풀            1.000000  0.000000 0.000000 0.000000  1.000000   \n",
       "(주)메리크리스마스,TCO(주)더콘텐츠온    1.000000  0.000000 0.000000 0.000000  1.000000   \n",
       "(주)에이스메이커무비웍스             0.000000  1.000000 0.000000 0.000000  1.000000   \n",
       "오퍼스픽쳐스(유)                 5.000000  3.000000 0.000000 0.000000  8.000000   \n",
       "(주)엣나인필름                  7.000000  3.000000 2.000000 1.000000 13.000000   \n",
       "오퍼스픽쳐스(유),CGV아트하우스        1.000000  1.000000 0.000000 0.000000  2.000000   \n",
       "(주)와우픽쳐스                  0.000000  1.000000 0.000000 0.000000  1.000000   \n",
       "롯데쇼핑㈜롯데엔터테인먼트,(주)리틀빅픽쳐스   0.000000  0.000000 1.000000 0.000000  1.000000   \n",
       "(주)에이스메이커무비웍스,(주)키위미디어그룹  1.000000  0.000000 0.000000 0.000000  1.000000   \n",
       "메가박스중앙(주)플러스엠,(주)키위미디어그룹  1.000000  0.000000 0.000000 0.000000  1.000000   \n",
       "씨네그루(주)키다리이엔티             5.000000  6.000000 0.000000 0.000000 11.000000   \n",
       "이십세기폭스코리아(주)              3.000000  0.000000 0.000000 0.000000  3.000000   \n",
       "(주)리틀빅픽쳐스                19.000000  9.000000 4.000000 4.000000 36.000000   \n",
       "CGV아트하우스                 11.000000 10.000000 2.000000 2.000000 25.000000   \n",
       "워너브러더스 코리아(주)             6.000000  1.000000 1.000000 0.000000  8.000000   \n",
       "메가박스중앙(주)플러스엠             9.000000  9.000000 4.000000 1.000000 23.000000   \n",
       "롯데컬처웍스(주)롯데엔터테인먼트        18.000000 15.000000 4.000000 1.000000 38.000000   \n",
       "(주)넥스트엔터테인먼트월드(NEW)      31.000000 13.000000 4.000000 1.000000 49.000000   \n",
       "(주)쇼박스                   19.000000  9.000000 4.000000 0.000000 32.000000   \n",
       "씨제이이앤엠(주)                30.000000 18.000000 3.000000 2.000000 53.000000   \n",
       "\n",
       "                             상영횟수  \n",
       "CGV아트하우스,영화사 풀              61332  \n",
       "(주)메리크리스마스,TCO(주)더콘텐츠온      61749  \n",
       "(주)에이스메이커무비웍스               63205  \n",
       "오퍼스픽쳐스(유)                   77984  \n",
       "(주)엣나인필름                    85810  \n",
       "오퍼스픽쳐스(유),CGV아트하우스          86150  \n",
       "(주)와우픽쳐스                    90288  \n",
       "롯데쇼핑㈜롯데엔터테인먼트,(주)리틀빅픽쳐스     93066  \n",
       "(주)에이스메이커무비웍스,(주)키위미디어그룹    97351  \n",
       "메가박스중앙(주)플러스엠,(주)키위미디어그룹   149389  \n",
       "씨네그루(주)키다리이엔티              151844  \n",
       "이십세기폭스코리아(주)               169247  \n",
       "(주)리틀빅픽쳐스                  201092  \n",
       "CGV아트하우스                   373143  \n",
       "워너브러더스 코리아(주)              414979  \n",
       "메가박스중앙(주)플러스엠              755542  \n",
       "롯데컬처웍스(주)롯데엔터테인먼트         1694051  \n",
       "(주)넥스트엔터테인먼트월드(NEW)       2046846  \n",
       "(주)쇼박스                    2488690  \n",
       "씨제이이앤엠(주)                 3737539  "
      ]
     },
     "execution_count": 68,
     "metadata": {},
     "output_type": "execute_result"
    }
   ],
   "source": [
    "f_counting.tail(20)"
   ]
  },
  {
   "cell_type": "markdown",
   "metadata": {},
   "source": [
    "배급한 영화 개수는 많아도 그 영화들이 모두 작은 영화라서 상영횟수 총합은 작은 배급사도 있다.  \n",
    "산업 내에서 영향력 있는 대형배급사인지를 판단하는 데에는 상영횟수가 더 적합한 지표다."
   ]
  },
  {
   "cell_type": "code",
   "execution_count": 65,
   "metadata": {},
   "outputs": [
    {
     "data": {
      "text/plain": [
       "Index(['아방가르드 필름', '(주)피터팬픽쳐스', '(주)에픽캔', '(주)영화사히트', '영화사 마그나',\n",
       "       '(주)씨에이씨엔터테인먼트', '(주)갤럭시컴퍼니', '퓨어웨이픽쳐스', '(주)로이테미디어', '㈜스토리셋',\n",
       "       ...\n",
       "       '씨네그루(주)키다리이엔티', '이십세기폭스코리아(주)', '(주)리틀빅픽쳐스', 'CGV아트하우스',\n",
       "       '워너브러더스 코리아(주)', '메가박스중앙(주)플러스엠', '롯데컬처웍스(주)롯데엔터테인먼트',\n",
       "       '(주)넥스트엔터테인먼트월드(NEW)', '(주)쇼박스', '씨제이이앤엠(주)'],\n",
       "      dtype='object', length=190)"
      ]
     },
     "execution_count": 65,
     "metadata": {},
     "output_type": "execute_result"
    }
   ],
   "source": [
    "f_counting.index"
   ]
  },
  {
   "cell_type": "code",
   "execution_count": 67,
   "metadata": {},
   "outputs": [
    {
     "data": {
      "text/plain": [
       "Index(['씨네그루(주)키다리이엔티', '이십세기폭스코리아(주)', '(주)리틀빅픽쳐스', 'CGV아트하우스',\n",
       "       '워너브러더스 코리아(주)', '메가박스중앙(주)플러스엠', '롯데컬처웍스(주)롯데엔터테인먼트',\n",
       "       '(주)넥스트엔터테인먼트월드(NEW)', '(주)쇼박스', '씨제이이앤엠(주)'],\n",
       "      dtype='object')"
      ]
     },
     "execution_count": 67,
     "metadata": {},
     "output_type": "execute_result"
    }
   ],
   "source": [
    "# 총 상영횟수 기준 배급사 Top 10\n",
    "\n",
    "top10 = f_counting[-10:].index\n",
    "top10"
   ]
  },
  {
   "cell_type": "code",
   "execution_count": 70,
   "metadata": {},
   "outputs": [],
   "source": [
    "# Top 10 배급사들이 다른 배급사와 공동배급한 경우 Top 10의 데이터에 각 사례의 '1 / 공동배급사 개수' 값을 더한다.\n",
    "\n",
    "for top in top10:\n",
    "    for i, row in f_counting.iterrows():\n",
    "        if (top in i) & (i != top):\n",
    "            f_counting.loc[top] = f_counting.loc[top] + (row / len(i.split(',')))"
   ]
  },
  {
   "cell_type": "code",
   "execution_count": 72,
   "metadata": {},
   "outputs": [
    {
     "data": {
      "text/html": [
       "<div>\n",
       "<style scoped>\n",
       "    .dataframe tbody tr th:only-of-type {\n",
       "        vertical-align: middle;\n",
       "    }\n",
       "\n",
       "    .dataframe tbody tr th {\n",
       "        vertical-align: top;\n",
       "    }\n",
       "\n",
       "    .dataframe thead th {\n",
       "        text-align: right;\n",
       "    }\n",
       "</style>\n",
       "<table border=\"1\" class=\"dataframe\">\n",
       "  <thead>\n",
       "    <tr style=\"text-align: right;\">\n",
       "      <th></th>\n",
       "      <th>0</th>\n",
       "      <th>1</th>\n",
       "      <th>2</th>\n",
       "      <th>3</th>\n",
       "      <th>영화개수</th>\n",
       "      <th>상영횟수</th>\n",
       "    </tr>\n",
       "  </thead>\n",
       "  <tbody>\n",
       "    <tr>\n",
       "      <th>CGV아트하우스,영화사 풀</th>\n",
       "      <td>1.000000</td>\n",
       "      <td>0.000000</td>\n",
       "      <td>0.000000</td>\n",
       "      <td>0.000000</td>\n",
       "      <td>1.000000</td>\n",
       "      <td>61332.000000</td>\n",
       "    </tr>\n",
       "    <tr>\n",
       "      <th>(주)메리크리스마스,TCO(주)더콘텐츠온</th>\n",
       "      <td>1.000000</td>\n",
       "      <td>0.000000</td>\n",
       "      <td>0.000000</td>\n",
       "      <td>0.000000</td>\n",
       "      <td>1.000000</td>\n",
       "      <td>61749.000000</td>\n",
       "    </tr>\n",
       "    <tr>\n",
       "      <th>(주)에이스메이커무비웍스</th>\n",
       "      <td>0.000000</td>\n",
       "      <td>1.000000</td>\n",
       "      <td>0.000000</td>\n",
       "      <td>0.000000</td>\n",
       "      <td>1.000000</td>\n",
       "      <td>63205.000000</td>\n",
       "    </tr>\n",
       "    <tr>\n",
       "      <th>오퍼스픽쳐스(유)</th>\n",
       "      <td>5.000000</td>\n",
       "      <td>3.000000</td>\n",
       "      <td>0.000000</td>\n",
       "      <td>0.000000</td>\n",
       "      <td>8.000000</td>\n",
       "      <td>77984.000000</td>\n",
       "    </tr>\n",
       "    <tr>\n",
       "      <th>(주)엣나인필름</th>\n",
       "      <td>7.000000</td>\n",
       "      <td>3.000000</td>\n",
       "      <td>2.000000</td>\n",
       "      <td>1.000000</td>\n",
       "      <td>13.000000</td>\n",
       "      <td>85810.000000</td>\n",
       "    </tr>\n",
       "    <tr>\n",
       "      <th>오퍼스픽쳐스(유),CGV아트하우스</th>\n",
       "      <td>1.000000</td>\n",
       "      <td>1.000000</td>\n",
       "      <td>0.000000</td>\n",
       "      <td>0.000000</td>\n",
       "      <td>2.000000</td>\n",
       "      <td>86150.000000</td>\n",
       "    </tr>\n",
       "    <tr>\n",
       "      <th>(주)와우픽쳐스</th>\n",
       "      <td>0.000000</td>\n",
       "      <td>1.000000</td>\n",
       "      <td>0.000000</td>\n",
       "      <td>0.000000</td>\n",
       "      <td>1.000000</td>\n",
       "      <td>90288.000000</td>\n",
       "    </tr>\n",
       "    <tr>\n",
       "      <th>롯데쇼핑㈜롯데엔터테인먼트,(주)리틀빅픽쳐스</th>\n",
       "      <td>0.000000</td>\n",
       "      <td>0.000000</td>\n",
       "      <td>1.000000</td>\n",
       "      <td>0.000000</td>\n",
       "      <td>1.000000</td>\n",
       "      <td>93066.000000</td>\n",
       "    </tr>\n",
       "    <tr>\n",
       "      <th>(주)에이스메이커무비웍스,(주)키위미디어그룹</th>\n",
       "      <td>1.000000</td>\n",
       "      <td>0.000000</td>\n",
       "      <td>0.000000</td>\n",
       "      <td>0.000000</td>\n",
       "      <td>1.000000</td>\n",
       "      <td>97351.000000</td>\n",
       "    </tr>\n",
       "    <tr>\n",
       "      <th>메가박스중앙(주)플러스엠,(주)키위미디어그룹</th>\n",
       "      <td>1.000000</td>\n",
       "      <td>0.000000</td>\n",
       "      <td>0.000000</td>\n",
       "      <td>0.000000</td>\n",
       "      <td>1.000000</td>\n",
       "      <td>149389.000000</td>\n",
       "    </tr>\n",
       "    <tr>\n",
       "      <th>이십세기폭스코리아(주)</th>\n",
       "      <td>3.000000</td>\n",
       "      <td>0.000000</td>\n",
       "      <td>0.000000</td>\n",
       "      <td>0.000000</td>\n",
       "      <td>3.000000</td>\n",
       "      <td>169247.000000</td>\n",
       "    </tr>\n",
       "    <tr>\n",
       "      <th>씨네그루(주)키다리이엔티</th>\n",
       "      <td>6.000000</td>\n",
       "      <td>6.000000</td>\n",
       "      <td>0.000000</td>\n",
       "      <td>0.000000</td>\n",
       "      <td>12.000000</td>\n",
       "      <td>185727.500000</td>\n",
       "    </tr>\n",
       "    <tr>\n",
       "      <th>(주)리틀빅픽쳐스</th>\n",
       "      <td>20.500000</td>\n",
       "      <td>10.000000</td>\n",
       "      <td>5.000000</td>\n",
       "      <td>4.500000</td>\n",
       "      <td>40.000000</td>\n",
       "      <td>277262.000000</td>\n",
       "    </tr>\n",
       "    <tr>\n",
       "      <th>워너브러더스 코리아(주)</th>\n",
       "      <td>6.000000</td>\n",
       "      <td>1.000000</td>\n",
       "      <td>1.000000</td>\n",
       "      <td>0.000000</td>\n",
       "      <td>8.000000</td>\n",
       "      <td>414979.000000</td>\n",
       "    </tr>\n",
       "    <tr>\n",
       "      <th>CGV아트하우스</th>\n",
       "      <td>13.000000</td>\n",
       "      <td>11.500000</td>\n",
       "      <td>2.000000</td>\n",
       "      <td>2.500000</td>\n",
       "      <td>29.000000</td>\n",
       "      <td>456688.500000</td>\n",
       "    </tr>\n",
       "    <tr>\n",
       "      <th>메가박스중앙(주)플러스엠</th>\n",
       "      <td>10.500000</td>\n",
       "      <td>9.500000</td>\n",
       "      <td>4.000000</td>\n",
       "      <td>1.000000</td>\n",
       "      <td>25.000000</td>\n",
       "      <td>878129.000000</td>\n",
       "    </tr>\n",
       "    <tr>\n",
       "      <th>롯데컬처웍스(주)롯데엔터테인먼트</th>\n",
       "      <td>18.500000</td>\n",
       "      <td>15.000000</td>\n",
       "      <td>4.000000</td>\n",
       "      <td>1.000000</td>\n",
       "      <td>38.500000</td>\n",
       "      <td>1717062.000000</td>\n",
       "    </tr>\n",
       "    <tr>\n",
       "      <th>(주)넥스트엔터테인먼트월드(NEW)</th>\n",
       "      <td>31.500000</td>\n",
       "      <td>13.000000</td>\n",
       "      <td>4.000000</td>\n",
       "      <td>1.000000</td>\n",
       "      <td>49.500000</td>\n",
       "      <td>2049410.500000</td>\n",
       "    </tr>\n",
       "    <tr>\n",
       "      <th>(주)쇼박스</th>\n",
       "      <td>19.500000</td>\n",
       "      <td>9.000000</td>\n",
       "      <td>4.000000</td>\n",
       "      <td>0.000000</td>\n",
       "      <td>32.500000</td>\n",
       "      <td>2494927.000000</td>\n",
       "    </tr>\n",
       "    <tr>\n",
       "      <th>씨제이이앤엠(주)</th>\n",
       "      <td>30.000000</td>\n",
       "      <td>18.000000</td>\n",
       "      <td>3.000000</td>\n",
       "      <td>2.000000</td>\n",
       "      <td>53.000000</td>\n",
       "      <td>3737539.000000</td>\n",
       "    </tr>\n",
       "  </tbody>\n",
       "</table>\n",
       "</div>"
      ],
      "text/plain": [
       "                                 0         1        2        3      영화개수  \\\n",
       "CGV아트하우스,영화사 풀            1.000000  0.000000 0.000000 0.000000  1.000000   \n",
       "(주)메리크리스마스,TCO(주)더콘텐츠온    1.000000  0.000000 0.000000 0.000000  1.000000   \n",
       "(주)에이스메이커무비웍스             0.000000  1.000000 0.000000 0.000000  1.000000   \n",
       "오퍼스픽쳐스(유)                 5.000000  3.000000 0.000000 0.000000  8.000000   \n",
       "(주)엣나인필름                  7.000000  3.000000 2.000000 1.000000 13.000000   \n",
       "오퍼스픽쳐스(유),CGV아트하우스        1.000000  1.000000 0.000000 0.000000  2.000000   \n",
       "(주)와우픽쳐스                  0.000000  1.000000 0.000000 0.000000  1.000000   \n",
       "롯데쇼핑㈜롯데엔터테인먼트,(주)리틀빅픽쳐스   0.000000  0.000000 1.000000 0.000000  1.000000   \n",
       "(주)에이스메이커무비웍스,(주)키위미디어그룹  1.000000  0.000000 0.000000 0.000000  1.000000   \n",
       "메가박스중앙(주)플러스엠,(주)키위미디어그룹  1.000000  0.000000 0.000000 0.000000  1.000000   \n",
       "이십세기폭스코리아(주)              3.000000  0.000000 0.000000 0.000000  3.000000   \n",
       "씨네그루(주)키다리이엔티             6.000000  6.000000 0.000000 0.000000 12.000000   \n",
       "(주)리틀빅픽쳐스                20.500000 10.000000 5.000000 4.500000 40.000000   \n",
       "워너브러더스 코리아(주)             6.000000  1.000000 1.000000 0.000000  8.000000   \n",
       "CGV아트하우스                 13.000000 11.500000 2.000000 2.500000 29.000000   \n",
       "메가박스중앙(주)플러스엠            10.500000  9.500000 4.000000 1.000000 25.000000   \n",
       "롯데컬처웍스(주)롯데엔터테인먼트        18.500000 15.000000 4.000000 1.000000 38.500000   \n",
       "(주)넥스트엔터테인먼트월드(NEW)      31.500000 13.000000 4.000000 1.000000 49.500000   \n",
       "(주)쇼박스                   19.500000  9.000000 4.000000 0.000000 32.500000   \n",
       "씨제이이앤엠(주)                30.000000 18.000000 3.000000 2.000000 53.000000   \n",
       "\n",
       "                                   상영횟수  \n",
       "CGV아트하우스,영화사 풀             61332.000000  \n",
       "(주)메리크리스마스,TCO(주)더콘텐츠온     61749.000000  \n",
       "(주)에이스메이커무비웍스              63205.000000  \n",
       "오퍼스픽쳐스(유)                  77984.000000  \n",
       "(주)엣나인필름                   85810.000000  \n",
       "오퍼스픽쳐스(유),CGV아트하우스         86150.000000  \n",
       "(주)와우픽쳐스                   90288.000000  \n",
       "롯데쇼핑㈜롯데엔터테인먼트,(주)리틀빅픽쳐스    93066.000000  \n",
       "(주)에이스메이커무비웍스,(주)키위미디어그룹   97351.000000  \n",
       "메가박스중앙(주)플러스엠,(주)키위미디어그룹  149389.000000  \n",
       "이십세기폭스코리아(주)              169247.000000  \n",
       "씨네그루(주)키다리이엔티             185727.500000  \n",
       "(주)리틀빅픽쳐스                 277262.000000  \n",
       "워너브러더스 코리아(주)             414979.000000  \n",
       "CGV아트하우스                  456688.500000  \n",
       "메가박스중앙(주)플러스엠             878129.000000  \n",
       "롯데컬처웍스(주)롯데엔터테인먼트        1717062.000000  \n",
       "(주)넥스트엔터테인먼트월드(NEW)      2049410.500000  \n",
       "(주)쇼박스                   2494927.000000  \n",
       "씨제이이앤엠(주)                3737539.000000  "
      ]
     },
     "execution_count": 72,
     "metadata": {},
     "output_type": "execute_result"
    }
   ],
   "source": [
    "f_counting = f_counting.sort_values('상영횟수')\n",
    "f_counting.tail(20)"
   ]
  },
  {
   "cell_type": "code",
   "execution_count": 74,
   "metadata": {},
   "outputs": [
    {
     "data": {
      "text/html": [
       "<div>\n",
       "<style scoped>\n",
       "    .dataframe tbody tr th:only-of-type {\n",
       "        vertical-align: middle;\n",
       "    }\n",
       "\n",
       "    .dataframe tbody tr th {\n",
       "        vertical-align: top;\n",
       "    }\n",
       "\n",
       "    .dataframe thead th {\n",
       "        text-align: right;\n",
       "    }\n",
       "</style>\n",
       "<table border=\"1\" class=\"dataframe\">\n",
       "  <thead>\n",
       "    <tr style=\"text-align: right;\">\n",
       "      <th></th>\n",
       "      <th>0</th>\n",
       "      <th>1</th>\n",
       "      <th>2</th>\n",
       "      <th>3</th>\n",
       "      <th>영화개수</th>\n",
       "      <th>상영횟수</th>\n",
       "      <th>F-0</th>\n",
       "      <th>F-1</th>\n",
       "      <th>F-2</th>\n",
       "      <th>F-3</th>\n",
       "    </tr>\n",
       "  </thead>\n",
       "  <tbody>\n",
       "    <tr>\n",
       "      <th>이십세기폭스코리아(주)</th>\n",
       "      <td>3.000000</td>\n",
       "      <td>0.000000</td>\n",
       "      <td>0.000000</td>\n",
       "      <td>0.000000</td>\n",
       "      <td>3.000000</td>\n",
       "      <td>169247.000000</td>\n",
       "      <td>100.000000</td>\n",
       "      <td>0.000000</td>\n",
       "      <td>0.000000</td>\n",
       "      <td>0.000000</td>\n",
       "    </tr>\n",
       "    <tr>\n",
       "      <th>씨네그루(주)키다리이엔티</th>\n",
       "      <td>6.000000</td>\n",
       "      <td>6.000000</td>\n",
       "      <td>0.000000</td>\n",
       "      <td>0.000000</td>\n",
       "      <td>12.000000</td>\n",
       "      <td>185727.500000</td>\n",
       "      <td>50.000000</td>\n",
       "      <td>50.000000</td>\n",
       "      <td>0.000000</td>\n",
       "      <td>0.000000</td>\n",
       "    </tr>\n",
       "    <tr>\n",
       "      <th>(주)리틀빅픽쳐스</th>\n",
       "      <td>20.500000</td>\n",
       "      <td>10.000000</td>\n",
       "      <td>5.000000</td>\n",
       "      <td>4.500000</td>\n",
       "      <td>40.000000</td>\n",
       "      <td>277262.000000</td>\n",
       "      <td>51.250000</td>\n",
       "      <td>25.000000</td>\n",
       "      <td>12.500000</td>\n",
       "      <td>11.250000</td>\n",
       "    </tr>\n",
       "    <tr>\n",
       "      <th>워너브러더스 코리아(주)</th>\n",
       "      <td>6.000000</td>\n",
       "      <td>1.000000</td>\n",
       "      <td>1.000000</td>\n",
       "      <td>0.000000</td>\n",
       "      <td>8.000000</td>\n",
       "      <td>414979.000000</td>\n",
       "      <td>75.000000</td>\n",
       "      <td>12.500000</td>\n",
       "      <td>12.500000</td>\n",
       "      <td>0.000000</td>\n",
       "    </tr>\n",
       "    <tr>\n",
       "      <th>CGV아트하우스</th>\n",
       "      <td>13.000000</td>\n",
       "      <td>11.500000</td>\n",
       "      <td>2.000000</td>\n",
       "      <td>2.500000</td>\n",
       "      <td>29.000000</td>\n",
       "      <td>456688.500000</td>\n",
       "      <td>44.827586</td>\n",
       "      <td>39.655172</td>\n",
       "      <td>6.896552</td>\n",
       "      <td>8.620690</td>\n",
       "    </tr>\n",
       "    <tr>\n",
       "      <th>메가박스중앙(주)플러스엠</th>\n",
       "      <td>10.500000</td>\n",
       "      <td>9.500000</td>\n",
       "      <td>4.000000</td>\n",
       "      <td>1.000000</td>\n",
       "      <td>25.000000</td>\n",
       "      <td>878129.000000</td>\n",
       "      <td>42.000000</td>\n",
       "      <td>38.000000</td>\n",
       "      <td>16.000000</td>\n",
       "      <td>4.000000</td>\n",
       "    </tr>\n",
       "    <tr>\n",
       "      <th>롯데컬처웍스(주)롯데엔터테인먼트</th>\n",
       "      <td>18.500000</td>\n",
       "      <td>15.000000</td>\n",
       "      <td>4.000000</td>\n",
       "      <td>1.000000</td>\n",
       "      <td>38.500000</td>\n",
       "      <td>1717062.000000</td>\n",
       "      <td>48.051948</td>\n",
       "      <td>38.961039</td>\n",
       "      <td>10.389610</td>\n",
       "      <td>2.597403</td>\n",
       "    </tr>\n",
       "    <tr>\n",
       "      <th>(주)넥스트엔터테인먼트월드(NEW)</th>\n",
       "      <td>31.500000</td>\n",
       "      <td>13.000000</td>\n",
       "      <td>4.000000</td>\n",
       "      <td>1.000000</td>\n",
       "      <td>49.500000</td>\n",
       "      <td>2049410.500000</td>\n",
       "      <td>63.636364</td>\n",
       "      <td>26.262626</td>\n",
       "      <td>8.080808</td>\n",
       "      <td>2.020202</td>\n",
       "    </tr>\n",
       "    <tr>\n",
       "      <th>(주)쇼박스</th>\n",
       "      <td>19.500000</td>\n",
       "      <td>9.000000</td>\n",
       "      <td>4.000000</td>\n",
       "      <td>0.000000</td>\n",
       "      <td>32.500000</td>\n",
       "      <td>2494927.000000</td>\n",
       "      <td>60.000000</td>\n",
       "      <td>27.692308</td>\n",
       "      <td>12.307692</td>\n",
       "      <td>0.000000</td>\n",
       "    </tr>\n",
       "    <tr>\n",
       "      <th>씨제이이앤엠(주)</th>\n",
       "      <td>30.000000</td>\n",
       "      <td>18.000000</td>\n",
       "      <td>3.000000</td>\n",
       "      <td>2.000000</td>\n",
       "      <td>53.000000</td>\n",
       "      <td>3737539.000000</td>\n",
       "      <td>56.603774</td>\n",
       "      <td>33.962264</td>\n",
       "      <td>5.660377</td>\n",
       "      <td>3.773585</td>\n",
       "    </tr>\n",
       "  </tbody>\n",
       "</table>\n",
       "</div>"
      ],
      "text/plain": [
       "                            0         1        2        3      영화개수  \\\n",
       "이십세기폭스코리아(주)         3.000000  0.000000 0.000000 0.000000  3.000000   \n",
       "씨네그루(주)키다리이엔티        6.000000  6.000000 0.000000 0.000000 12.000000   \n",
       "(주)리틀빅픽쳐스           20.500000 10.000000 5.000000 4.500000 40.000000   \n",
       "워너브러더스 코리아(주)        6.000000  1.000000 1.000000 0.000000  8.000000   \n",
       "CGV아트하우스            13.000000 11.500000 2.000000 2.500000 29.000000   \n",
       "메가박스중앙(주)플러스엠       10.500000  9.500000 4.000000 1.000000 25.000000   \n",
       "롯데컬처웍스(주)롯데엔터테인먼트   18.500000 15.000000 4.000000 1.000000 38.500000   \n",
       "(주)넥스트엔터테인먼트월드(NEW) 31.500000 13.000000 4.000000 1.000000 49.500000   \n",
       "(주)쇼박스              19.500000  9.000000 4.000000 0.000000 32.500000   \n",
       "씨제이이앤엠(주)           30.000000 18.000000 3.000000 2.000000 53.000000   \n",
       "\n",
       "                              상영횟수        F-0       F-1       F-2       F-3  \n",
       "이십세기폭스코리아(주)         169247.000000 100.000000  0.000000  0.000000  0.000000  \n",
       "씨네그루(주)키다리이엔티        185727.500000  50.000000 50.000000  0.000000  0.000000  \n",
       "(주)리틀빅픽쳐스            277262.000000  51.250000 25.000000 12.500000 11.250000  \n",
       "워너브러더스 코리아(주)        414979.000000  75.000000 12.500000 12.500000  0.000000  \n",
       "CGV아트하우스             456688.500000  44.827586 39.655172  6.896552  8.620690  \n",
       "메가박스중앙(주)플러스엠        878129.000000  42.000000 38.000000 16.000000  4.000000  \n",
       "롯데컬처웍스(주)롯데엔터테인먼트   1717062.000000  48.051948 38.961039 10.389610  2.597403  \n",
       "(주)넥스트엔터테인먼트월드(NEW) 2049410.500000  63.636364 26.262626  8.080808  2.020202  \n",
       "(주)쇼박스              2494927.000000  60.000000 27.692308 12.307692  0.000000  \n",
       "씨제이이앤엠(주)           3737539.000000  56.603774 33.962264  5.660377  3.773585  "
      ]
     },
     "execution_count": 74,
     "metadata": {},
     "output_type": "execute_result"
    }
   ],
   "source": [
    "# F등급별 비율 구하기\n",
    "\n",
    "f_counting[['F-0', 'F-1', 'F-2', 'F-3']] = f_counting[[0, 1, 2, 3]].apply(lambda x: x / f_counting['영화개수'] * 100)\n",
    "f_counting.tail(10)"
   ]
  },
  {
   "cell_type": "code",
   "execution_count": 77,
   "metadata": {},
   "outputs": [
    {
     "data": {
      "text/plain": [
       "<matplotlib.axes._subplots.AxesSubplot at 0x1a1cc66518>"
      ]
     },
     "execution_count": 77,
     "metadata": {},
     "output_type": "execute_result"
    },
    {
     "data": {
      "image/png": "[encoded data removed]",
      "text/plain": [
       "<Figure size 720x360 with 1 Axes>"
      ]
     },
     "metadata": {
      "needs_background": "light"
     },
     "output_type": "display_data"
    }
   ],
   "source": [
    "plt.rcParams[\"figure.figsize\"] = (10,5)\n",
    "f_counting.iloc[-10:, -4:].plot(kind='barh', stacked=True)"
   ]
  },
  {
   "cell_type": "markdown",
   "metadata": {},
   "source": [
    "가장 많은 상영횟수를 차지하고 있는 10개의 대형배급사가 F-0 영화를 42% 이상 배급하고 있다.  \n",
    "F-3(트리플 F등급) 영화는 8개의 대형배급사에서 5%도 차지하지 못했으며, F-1, F-2까지 확장해도 대부분 50%를 넘지 못한다.  \n",
    "이 10개의 배급사가 한국영화 상영 전체 횟수의 87%를 차지하고 있는 와중에 이들이 남성영화의 배급을 훨씬 많이 하고 있으니 여성영화들은 대중에게 선보일 기회를 적게 갖게 되고, 흥행으로 이어지지 못하는 것은 당연한 결과다."
   ]
  },
  {
   "cell_type": "markdown",
   "metadata": {},
   "source": [
    "(제작사로도 비교해봤데 가장 많이 만든 곳이 10개의 영화를 만들었고 '한국영상아카데미'. 배급사만큼 몇몇 대형제작사가 아주 많은 영화를 제작하는 현상이 없어서 비교가 어려움.)"
   ]
  }
 ],
 "metadata": {
  "kernelspec": {
   "display_name": "Python 3",
   "language": "python",
   "name": "python3"
  },
  "language_info": {
   "codemirror_mode": {
    "name": "ipython",
    "version": 3
   },
   "file_extension": ".py",
   "mimetype": "text/x-python",
   "name": "python",
   "nbconvert_exporter": "python",
   "pygments_lexer": "ipython3",
   "version": "3.7.3"
  }
 },
 "nbformat": 4,
 "nbformat_minor": 2
}
