{
 "cells": [
  {
   "cell_type": "code",
   "execution_count": 1,
   "metadata": {},
   "outputs": [],
   "source": [
    "import pandas as pd"
   ]
  },
  {
   "cell_type": "code",
   "execution_count": 91,
   "metadata": {},
   "outputs": [],
   "source": [
    "import matplotlib.pyplot as plt\n",
    "import pylab\n",
    "import matplotlib.pyplot as plt\n",
    "from IPython.display import set_matplotlib_formats\n",
    "# Window 의 한글 폰트 설정\n",
    "# plt.rc('font',family='Malgun Gothic')\n",
    "# Mac 의 한글 폰트 설정\n",
    "plt.rc('font', family='AppleGothic') \n",
    "plt.rc('axes', unicode_minus=False)\n",
    "\n",
    "set_matplotlib_formats('retina')\n",
    "# plot 한글출력\n",
    "plt.rcParams['font.family'] = 'NanumGothic'"
   ]
  },
  {
   "cell_type": "code",
   "execution_count": 2,
   "metadata": {},
   "outputs": [],
   "source": [
    "# audits= pd.read_csv('./../audits.csv')\n",
    "# boxoffice= pd.read_csv('boxoffice.csv')\n",
    "# companys= pd.read_csv('companys.csv')\n",
    "# show_time= pd.read_csv('show_time.csv')"
   ]
  },
  {
   "cell_type": "code",
   "execution_count": 3,
   "metadata": {},
   "outputs": [],
   "source": [
    "# director에는 세개 파일이 있다. 전처리 후 merge가 필요하다.\n",
    "director_detail= pd.read_csv('./../01.Data_Collection/director_detail.csv')\n",
    "director_code= pd.read_csv('./../01.Data_Collection/director_code.csv')\n",
    "directors= pd.read_csv('./../01.Data_Collection/directors.csv')"
   ]
  },
  {
   "cell_type": "markdown",
   "metadata": {},
   "source": [
    "전체적으로 확인"
   ]
  },
  {
   "cell_type": "code",
   "execution_count": 27,
   "metadata": {},
   "outputs": [
    {
     "name": "stdout",
     "output_type": "stream",
     "text": [
      "13084\n",
      "889\n",
      "889\n"
     ]
    }
   ],
   "source": [
    "# 각자 길이 확인\n",
    "print(len(director_detail))\n",
    "print(len(directors))\n",
    "print(len(director_code))"
   ]
  },
  {
   "cell_type": "code",
   "execution_count": 38,
   "metadata": {},
   "outputs": [
    {
     "data": {
      "text/html": [
       "<div>\n",
       "<style scoped>\n",
       "    .dataframe tbody tr th:only-of-type {\n",
       "        vertical-align: middle;\n",
       "    }\n",
       "\n",
       "    .dataframe tbody tr th {\n",
       "        vertical-align: top;\n",
       "    }\n",
       "\n",
       "    .dataframe thead th {\n",
       "        text-align: right;\n",
       "    }\n",
       "</style>\n",
       "<table border=\"1\" class=\"dataframe\">\n",
       "  <thead>\n",
       "    <tr style=\"text-align: right;\">\n",
       "      <th></th>\n",
       "      <th>movieCd</th>\n",
       "      <th>movieNm</th>\n",
       "      <th>moviePartNm</th>\n",
       "      <th>peopleCd</th>\n",
       "      <th>peopleNm</th>\n",
       "      <th>sex</th>\n",
       "    </tr>\n",
       "  </thead>\n",
       "  <tbody>\n",
       "    <tr>\n",
       "      <th>4952</th>\n",
       "      <td>20158821</td>\n",
       "      <td>삼례</td>\n",
       "      <td>시나리오(각본)</td>\n",
       "      <td>20168120</td>\n",
       "      <td>이현정</td>\n",
       "      <td>여자</td>\n",
       "    </tr>\n",
       "  </tbody>\n",
       "</table>\n",
       "</div>"
      ],
      "text/plain": [
       "       movieCd movieNm moviePartNm  peopleCd peopleNm sex\n",
       "4952  20158821      삼례    시나리오(각본)  20168120      이현정  여자"
      ]
     },
     "execution_count": 38,
     "metadata": {},
     "output_type": "execute_result"
    }
   ],
   "source": [
    "director_detail.sample()"
   ]
  },
  {
   "cell_type": "code",
   "execution_count": 7,
   "metadata": {},
   "outputs": [
    {
     "data": {
      "text/html": [
       "<div>\n",
       "<style scoped>\n",
       "    .dataframe tbody tr th:only-of-type {\n",
       "        vertical-align: middle;\n",
       "    }\n",
       "\n",
       "    .dataframe tbody tr th {\n",
       "        vertical-align: top;\n",
       "    }\n",
       "\n",
       "    .dataframe thead th {\n",
       "        text-align: right;\n",
       "    }\n",
       "</style>\n",
       "<table border=\"1\" class=\"dataframe\">\n",
       "  <thead>\n",
       "    <tr style=\"text-align: right;\">\n",
       "      <th></th>\n",
       "      <th>filmoNames</th>\n",
       "      <th>movieNm</th>\n",
       "      <th>peopleCd</th>\n",
       "      <th>peopleNm</th>\n",
       "      <th>repRoleNm</th>\n",
       "    </tr>\n",
       "  </thead>\n",
       "  <tbody>\n",
       "    <tr>\n",
       "      <th>432</th>\n",
       "      <td>우리마을|근본주의자|고봉수 감독 단편선|갈까부다|다영씨|튼튼이의 모험|델타 보이즈|...</td>\n",
       "      <td>델타 보이즈</td>\n",
       "      <td>20210668</td>\n",
       "      <td>고봉수</td>\n",
       "      <td>감독</td>\n",
       "    </tr>\n",
       "  </tbody>\n",
       "</table>\n",
       "</div>"
      ],
      "text/plain": [
       "                                            filmoNames movieNm  peopleCd  \\\n",
       "432  우리마을|근본주의자|고봉수 감독 단편선|갈까부다|다영씨|튼튼이의 모험|델타 보이즈|...  델타 보이즈  20210668   \n",
       "\n",
       "    peopleNm repRoleNm  \n",
       "432      고봉수        감독  "
      ]
     },
     "execution_count": 7,
     "metadata": {},
     "output_type": "execute_result"
    }
   ],
   "source": [
    "director_code.sample()"
   ]
  },
  {
   "cell_type": "code",
   "execution_count": 35,
   "metadata": {},
   "outputs": [
    {
     "data": {
      "text/html": [
       "<div>\n",
       "<style scoped>\n",
       "    .dataframe tbody tr th:only-of-type {\n",
       "        vertical-align: middle;\n",
       "    }\n",
       "\n",
       "    .dataframe tbody tr th {\n",
       "        vertical-align: top;\n",
       "    }\n",
       "\n",
       "    .dataframe thead th {\n",
       "        text-align: right;\n",
       "    }\n",
       "</style>\n",
       "<table border=\"1\" class=\"dataframe\">\n",
       "  <thead>\n",
       "    <tr style=\"text-align: right;\">\n",
       "      <th></th>\n",
       "      <th>movieCd</th>\n",
       "      <th>movieNm</th>\n",
       "      <th>peopleNm</th>\n",
       "      <th>repRoleNm</th>\n",
       "    </tr>\n",
       "  </thead>\n",
       "  <tbody>\n",
       "    <tr>\n",
       "      <th>285</th>\n",
       "      <td>20148384</td>\n",
       "      <td>그림자들의 섬</td>\n",
       "      <td>김정근</td>\n",
       "      <td>감독</td>\n",
       "    </tr>\n",
       "  </tbody>\n",
       "</table>\n",
       "</div>"
      ],
      "text/plain": [
       "      movieCd  movieNm peopleNm repRoleNm\n",
       "285  20148384  그림자들의 섬      김정근        감독"
      ]
     },
     "execution_count": 35,
     "metadata": {},
     "output_type": "execute_result"
    }
   ],
   "source": [
    "directors.sample()"
   ]
  },
  {
   "cell_type": "markdown",
   "metadata": {},
   "source": [
    "- directors 와 director_detail 은 movieCd 기준으로 합칠수 있음. detail 을 메인으로, directors 의 repRoleNm 만 추가하면 됨\n",
    "- director_code 는 중복되는 movieNm 있는지 확인 후 merge 가능"
   ]
  },
  {
   "cell_type": "markdown",
   "metadata": {},
   "source": [
    "null 값 확인"
   ]
  },
  {
   "cell_type": "code",
   "execution_count": 28,
   "metadata": {},
   "outputs": [
    {
     "name": "stdout",
     "output_type": "stream",
     "text": [
      "detail movieCd         0\n",
      "movieNm         0\n",
      "moviePartNm     0\n",
      "peopleCd        0\n",
      "peopleNm        0\n",
      "sex            62\n",
      "dtype: int64\n",
      "code filmoNames    0\n",
      "movieNm       0\n",
      "peopleCd      0\n",
      "peopleNm      0\n",
      "repRoleNm     0\n",
      "dtype: int64\n",
      "directors movieCd      0\n",
      "movieNm      0\n",
      "peopleNm     0\n",
      "repRoleNm    0\n",
      "dtype: int64\n"
     ]
    }
   ],
   "source": [
    "print('detail',director_detail.isnull().sum())\n",
    "print('code',director_code.isnull().sum())\n",
    "print('directors',directors.isnull().sum())\n",
    "#detail 의 sex만 비어있음"
   ]
  },
  {
   "cell_type": "markdown",
   "metadata": {},
   "source": [
    "### 디렉터 디테일 null 값 채우기"
   ]
  },
  {
   "cell_type": "code",
   "execution_count": 23,
   "metadata": {},
   "outputs": [
    {
     "data": {
      "text/html": [
       "<div>\n",
       "<style scoped>\n",
       "    .dataframe tbody tr th:only-of-type {\n",
       "        vertical-align: middle;\n",
       "    }\n",
       "\n",
       "    .dataframe tbody tr th {\n",
       "        vertical-align: top;\n",
       "    }\n",
       "\n",
       "    .dataframe thead th {\n",
       "        text-align: right;\n",
       "    }\n",
       "</style>\n",
       "<table border=\"1\" class=\"dataframe\">\n",
       "  <thead>\n",
       "    <tr style=\"text-align: right;\">\n",
       "      <th></th>\n",
       "      <th>movieCd</th>\n",
       "      <th>movieNm</th>\n",
       "      <th>moviePartNm</th>\n",
       "      <th>peopleCd</th>\n",
       "      <th>peopleNm</th>\n",
       "      <th>sex</th>\n",
       "    </tr>\n",
       "  </thead>\n",
       "  <tbody>\n",
       "    <tr>\n",
       "      <th>3383</th>\n",
       "      <td>20179230</td>\n",
       "      <td>도어락</td>\n",
       "      <td>VFX 아티스트</td>\n",
       "      <td>20200534</td>\n",
       "      <td>조성희</td>\n",
       "      <td>NaN</td>\n",
       "    </tr>\n",
       "    <tr>\n",
       "      <th>3384</th>\n",
       "      <td>20156554</td>\n",
       "      <td>물괴</td>\n",
       "      <td>VFX 아티스트</td>\n",
       "      <td>20200534</td>\n",
       "      <td>조성희</td>\n",
       "      <td>NaN</td>\n",
       "    </tr>\n",
       "    <tr>\n",
       "      <th>3385</th>\n",
       "      <td>20142406</td>\n",
       "      <td>탐정 홍길동: 사라진 마을</td>\n",
       "      <td>VFX 아티스트</td>\n",
       "      <td>20200534</td>\n",
       "      <td>조성희</td>\n",
       "      <td>NaN</td>\n",
       "    </tr>\n",
       "    <tr>\n",
       "      <th>3386</th>\n",
       "      <td>20132799</td>\n",
       "      <td>족구왕</td>\n",
       "      <td>VFX 아티스트</td>\n",
       "      <td>20200534</td>\n",
       "      <td>조성희</td>\n",
       "      <td>NaN</td>\n",
       "    </tr>\n",
       "  </tbody>\n",
       "</table>\n",
       "</div>"
      ],
      "text/plain": [
       "       movieCd         movieNm moviePartNm  peopleCd peopleNm  sex\n",
       "3383  20179230             도어락    VFX 아티스트  20200534      조성희  NaN\n",
       "3384  20156554              물괴    VFX 아티스트  20200534      조성희  NaN\n",
       "3385  20142406  탐정 홍길동: 사라진 마을    VFX 아티스트  20200534      조성희  NaN\n",
       "3386  20132799             족구왕    VFX 아티스트  20200534      조성희  NaN"
      ]
     },
     "execution_count": 23,
     "metadata": {},
     "output_type": "execute_result"
    }
   ],
   "source": [
    "# 해당 people 의 기록에 전혀 성별이 있지 않은지 확인\n",
    "director_detail[director_detail['peopleCd']==20200534]"
   ]
  },
  {
   "cell_type": "code",
   "execution_count": 28,
   "metadata": {},
   "outputs": [
    {
     "data": {
      "text/html": [
       "<div>\n",
       "<style scoped>\n",
       "    .dataframe tbody tr th:only-of-type {\n",
       "        vertical-align: middle;\n",
       "    }\n",
       "\n",
       "    .dataframe tbody tr th {\n",
       "        vertical-align: top;\n",
       "    }\n",
       "\n",
       "    .dataframe thead th {\n",
       "        text-align: right;\n",
       "    }\n",
       "</style>\n",
       "<table border=\"1\" class=\"dataframe\">\n",
       "  <thead>\n",
       "    <tr style=\"text-align: right;\">\n",
       "      <th></th>\n",
       "      <th>movieCd</th>\n",
       "      <th>movieNm</th>\n",
       "      <th>moviePartNm</th>\n",
       "      <th>peopleCd</th>\n",
       "      <th>peopleNm</th>\n",
       "      <th>sex</th>\n",
       "    </tr>\n",
       "  </thead>\n",
       "  <tbody>\n",
       "    <tr>\n",
       "      <th>7891</th>\n",
       "      <td>20119383</td>\n",
       "      <td>What's the Truth?</td>\n",
       "      <td>감독</td>\n",
       "      <td>10060656</td>\n",
       "      <td>장호준</td>\n",
       "      <td>NaN</td>\n",
       "    </tr>\n",
       "    <tr>\n",
       "      <th>7892</th>\n",
       "      <td>20060683</td>\n",
       "      <td>돌아갈 귀</td>\n",
       "      <td>감독</td>\n",
       "      <td>10060656</td>\n",
       "      <td>장호준</td>\n",
       "      <td>NaN</td>\n",
       "    </tr>\n",
       "    <tr>\n",
       "      <th>7893</th>\n",
       "      <td>20060683</td>\n",
       "      <td>돌아갈 귀</td>\n",
       "      <td>제작</td>\n",
       "      <td>10060656</td>\n",
       "      <td>장호준</td>\n",
       "      <td>NaN</td>\n",
       "    </tr>\n",
       "    <tr>\n",
       "      <th>7894</th>\n",
       "      <td>20060683</td>\n",
       "      <td>돌아갈 귀</td>\n",
       "      <td>시나리오(각본)</td>\n",
       "      <td>10060656</td>\n",
       "      <td>장호준</td>\n",
       "      <td>NaN</td>\n",
       "    </tr>\n",
       "    <tr>\n",
       "      <th>7895</th>\n",
       "      <td>20113146</td>\n",
       "      <td>팝(Pop)</td>\n",
       "      <td>감독</td>\n",
       "      <td>10060656</td>\n",
       "      <td>장호준</td>\n",
       "      <td>NaN</td>\n",
       "    </tr>\n",
       "    <tr>\n",
       "      <th>7896</th>\n",
       "      <td>20173965</td>\n",
       "      <td>그리다</td>\n",
       "      <td>감독</td>\n",
       "      <td>10060656</td>\n",
       "      <td>장호준</td>\n",
       "      <td>NaN</td>\n",
       "    </tr>\n",
       "    <tr>\n",
       "      <th>7897</th>\n",
       "      <td>20173965</td>\n",
       "      <td>그리다</td>\n",
       "      <td>시나리오(각본)</td>\n",
       "      <td>10060656</td>\n",
       "      <td>장호준</td>\n",
       "      <td>NaN</td>\n",
       "    </tr>\n",
       "    <tr>\n",
       "      <th>8419</th>\n",
       "      <td>20191104</td>\n",
       "      <td>815사수작전</td>\n",
       "      <td>감독</td>\n",
       "      <td>20280671</td>\n",
       "      <td>손병조</td>\n",
       "      <td>NaN</td>\n",
       "    </tr>\n",
       "    <tr>\n",
       "      <th>8420</th>\n",
       "      <td>20170442</td>\n",
       "      <td>련희와 연희</td>\n",
       "      <td>감독</td>\n",
       "      <td>20280671</td>\n",
       "      <td>손병조</td>\n",
       "      <td>NaN</td>\n",
       "    </tr>\n",
       "    <tr>\n",
       "      <th>9444</th>\n",
       "      <td>20182781</td>\n",
       "      <td>아버지를 찾아서</td>\n",
       "      <td>감독</td>\n",
       "      <td>20303149</td>\n",
       "      <td>김무은</td>\n",
       "      <td>NaN</td>\n",
       "    </tr>\n",
       "    <tr>\n",
       "      <th>9445</th>\n",
       "      <td>20182781</td>\n",
       "      <td>아버지를 찾아서</td>\n",
       "      <td>시나리오(각본)</td>\n",
       "      <td>20303149</td>\n",
       "      <td>김무은</td>\n",
       "      <td>NaN</td>\n",
       "    </tr>\n",
       "    <tr>\n",
       "      <th>9446</th>\n",
       "      <td>20182781</td>\n",
       "      <td>아버지를 찾아서</td>\n",
       "      <td>편집</td>\n",
       "      <td>20303149</td>\n",
       "      <td>김무은</td>\n",
       "      <td>NaN</td>\n",
       "    </tr>\n",
       "    <tr>\n",
       "      <th>9499</th>\n",
       "      <td>20182221</td>\n",
       "      <td>스파키</td>\n",
       "      <td>감독</td>\n",
       "      <td>20315335</td>\n",
       "      <td>애론 우들리</td>\n",
       "      <td>NaN</td>\n",
       "    </tr>\n",
       "    <tr>\n",
       "      <th>9500</th>\n",
       "      <td>20182221</td>\n",
       "      <td>스파키</td>\n",
       "      <td>시나리오(각본)</td>\n",
       "      <td>20315335</td>\n",
       "      <td>애론 우들리</td>\n",
       "      <td>NaN</td>\n",
       "    </tr>\n",
       "    <tr>\n",
       "      <th>9674</th>\n",
       "      <td>20183381</td>\n",
       "      <td>5.18 힌츠페터 스토리</td>\n",
       "      <td>감독</td>\n",
       "      <td>20303829</td>\n",
       "      <td>장영주</td>\n",
       "      <td>NaN</td>\n",
       "    </tr>\n",
       "    <tr>\n",
       "      <th>9675</th>\n",
       "      <td>20183381</td>\n",
       "      <td>5.18 힌츠페터 스토리</td>\n",
       "      <td>배우</td>\n",
       "      <td>20303829</td>\n",
       "      <td>장영주</td>\n",
       "      <td>NaN</td>\n",
       "    </tr>\n",
       "    <tr>\n",
       "      <th>9676</th>\n",
       "      <td>20183381</td>\n",
       "      <td>5.18 힌츠페터 스토리</td>\n",
       "      <td>프로듀서</td>\n",
       "      <td>20303829</td>\n",
       "      <td>장영주</td>\n",
       "      <td>NaN</td>\n",
       "    </tr>\n",
       "    <tr>\n",
       "      <th>9677</th>\n",
       "      <td>20183381</td>\n",
       "      <td>5.18 힌츠페터 스토리</td>\n",
       "      <td>기획</td>\n",
       "      <td>20303829</td>\n",
       "      <td>장영주</td>\n",
       "      <td>NaN</td>\n",
       "    </tr>\n",
       "    <tr>\n",
       "      <th>10321</th>\n",
       "      <td>20188501</td>\n",
       "      <td>미친도시</td>\n",
       "      <td>감독</td>\n",
       "      <td>10060574</td>\n",
       "      <td>장태령</td>\n",
       "      <td>NaN</td>\n",
       "    </tr>\n",
       "    <tr>\n",
       "      <th>10322</th>\n",
       "      <td>20188501</td>\n",
       "      <td>미친도시</td>\n",
       "      <td>배우</td>\n",
       "      <td>10060574</td>\n",
       "      <td>장태령</td>\n",
       "      <td>NaN</td>\n",
       "    </tr>\n",
       "  </tbody>\n",
       "</table>\n",
       "</div>"
      ],
      "text/plain": [
       "        movieCd            movieNm moviePartNm  peopleCd peopleNm  sex\n",
       "7891   20119383  What's the Truth?          감독  10060656      장호준  NaN\n",
       "7892   20060683              돌아갈 귀          감독  10060656      장호준  NaN\n",
       "7893   20060683              돌아갈 귀          제작  10060656      장호준  NaN\n",
       "7894   20060683              돌아갈 귀    시나리오(각본)  10060656      장호준  NaN\n",
       "7895   20113146             팝(Pop)          감독  10060656      장호준  NaN\n",
       "7896   20173965                그리다          감독  10060656      장호준  NaN\n",
       "7897   20173965                그리다    시나리오(각본)  10060656      장호준  NaN\n",
       "8419   20191104            815사수작전          감독  20280671      손병조  NaN\n",
       "8420   20170442             련희와 연희          감독  20280671      손병조  NaN\n",
       "9444   20182781           아버지를 찾아서          감독  20303149      김무은  NaN\n",
       "9445   20182781           아버지를 찾아서    시나리오(각본)  20303149      김무은  NaN\n",
       "9446   20182781           아버지를 찾아서          편집  20303149      김무은  NaN\n",
       "9499   20182221                스파키          감독  20315335   애론 우들리  NaN\n",
       "9500   20182221                스파키    시나리오(각본)  20315335   애론 우들리  NaN\n",
       "9674   20183381      5.18 힌츠페터 스토리          감독  20303829      장영주  NaN\n",
       "9675   20183381      5.18 힌츠페터 스토리          배우  20303829      장영주  NaN\n",
       "9676   20183381      5.18 힌츠페터 스토리        프로듀서  20303829      장영주  NaN\n",
       "9677   20183381      5.18 힌츠페터 스토리          기획  20303829      장영주  NaN\n",
       "10321  20188501               미친도시          감독  10060574      장태령  NaN\n",
       "10322  20188501               미친도시          배우  10060574      장태령  NaN"
      ]
     },
     "execution_count": 28,
     "metadata": {},
     "output_type": "execute_result"
    }
   ],
   "source": [
    "# 채울 감독 위치 지정\n",
    "director_detail[director_detail['sex'].isnull()].iloc[40:60]"
   ]
  },
  {
   "cell_type": "code",
   "execution_count": 44,
   "metadata": {
    "collapsed": true
   },
   "outputs": [
    {
     "data": {
      "text/html": [
       "<div>\n",
       "<style scoped>\n",
       "    .dataframe tbody tr th:only-of-type {\n",
       "        vertical-align: middle;\n",
       "    }\n",
       "\n",
       "    .dataframe tbody tr th {\n",
       "        vertical-align: top;\n",
       "    }\n",
       "\n",
       "    .dataframe thead th {\n",
       "        text-align: right;\n",
       "    }\n",
       "</style>\n",
       "<table border=\"1\" class=\"dataframe\">\n",
       "  <thead>\n",
       "    <tr style=\"text-align: right;\">\n",
       "      <th></th>\n",
       "      <th>movieCd</th>\n",
       "      <th>movieNm</th>\n",
       "      <th>moviePartNm</th>\n",
       "      <th>peopleCd</th>\n",
       "      <th>peopleNm</th>\n",
       "      <th>sex</th>\n",
       "    </tr>\n",
       "  </thead>\n",
       "  <tbody>\n",
       "    <tr>\n",
       "      <th>1206</th>\n",
       "      <td>20141598</td>\n",
       "      <td>타이밍</td>\n",
       "      <td>감독</td>\n",
       "      <td>10028546</td>\n",
       "      <td>박대열</td>\n",
       "      <td>NaN</td>\n",
       "    </tr>\n",
       "    <tr>\n",
       "      <th>1207</th>\n",
       "      <td>20141598</td>\n",
       "      <td>타이밍</td>\n",
       "      <td>애니메이션팀</td>\n",
       "      <td>10028546</td>\n",
       "      <td>박대열</td>\n",
       "      <td>NaN</td>\n",
       "    </tr>\n",
       "    <tr>\n",
       "      <th>1208</th>\n",
       "      <td>20141598</td>\n",
       "      <td>타이밍</td>\n",
       "      <td>스토리보드</td>\n",
       "      <td>10028546</td>\n",
       "      <td>박대열</td>\n",
       "      <td>NaN</td>\n",
       "    </tr>\n",
       "    <tr>\n",
       "      <th>1209</th>\n",
       "      <td>20060378</td>\n",
       "      <td>애니 프란체스카</td>\n",
       "      <td>감독</td>\n",
       "      <td>10028546</td>\n",
       "      <td>박대열</td>\n",
       "      <td>NaN</td>\n",
       "    </tr>\n",
       "    <tr>\n",
       "      <th>1411</th>\n",
       "      <td>20189746</td>\n",
       "      <td>극장판 뽀잉: 슈퍼 변신의 비밀</td>\n",
       "      <td>기획</td>\n",
       "      <td>20214806</td>\n",
       "      <td>허선</td>\n",
       "      <td>NaN</td>\n",
       "    </tr>\n",
       "    <tr>\n",
       "      <th>1412</th>\n",
       "      <td>20189746</td>\n",
       "      <td>극장판 뽀잉: 슈퍼 변신의 비밀</td>\n",
       "      <td>제작</td>\n",
       "      <td>20214806</td>\n",
       "      <td>허선</td>\n",
       "      <td>NaN</td>\n",
       "    </tr>\n",
       "    <tr>\n",
       "      <th>1413</th>\n",
       "      <td>20154323</td>\n",
       "      <td>슈퍼레이서 엔지</td>\n",
       "      <td>감독</td>\n",
       "      <td>20214806</td>\n",
       "      <td>허선</td>\n",
       "      <td>NaN</td>\n",
       "    </tr>\n",
       "    <tr>\n",
       "      <th>1414</th>\n",
       "      <td>20154323</td>\n",
       "      <td>슈퍼레이서 엔지</td>\n",
       "      <td>기획</td>\n",
       "      <td>20214806</td>\n",
       "      <td>허선</td>\n",
       "      <td>NaN</td>\n",
       "    </tr>\n",
       "    <tr>\n",
       "      <th>1415</th>\n",
       "      <td>20154323</td>\n",
       "      <td>슈퍼레이서 엔지</td>\n",
       "      <td>시나리오(각본)</td>\n",
       "      <td>20214806</td>\n",
       "      <td>허선</td>\n",
       "      <td>NaN</td>\n",
       "    </tr>\n",
       "    <tr>\n",
       "      <th>1416</th>\n",
       "      <td>20154323</td>\n",
       "      <td>슈퍼레이서 엔지</td>\n",
       "      <td>프로듀서</td>\n",
       "      <td>20214806</td>\n",
       "      <td>허선</td>\n",
       "      <td>NaN</td>\n",
       "    </tr>\n",
       "    <tr>\n",
       "      <th>2628</th>\n",
       "      <td>20166441</td>\n",
       "      <td>외도</td>\n",
       "      <td>시나리오(각본)</td>\n",
       "      <td>20216886</td>\n",
       "      <td>최율권희</td>\n",
       "      <td>NaN</td>\n",
       "    </tr>\n",
       "    <tr>\n",
       "      <th>2629</th>\n",
       "      <td>20161324</td>\n",
       "      <td>위험한 중독 무삭제판</td>\n",
       "      <td>감독</td>\n",
       "      <td>20216886</td>\n",
       "      <td>최율권희</td>\n",
       "      <td>NaN</td>\n",
       "    </tr>\n",
       "    <tr>\n",
       "      <th>2630</th>\n",
       "      <td>20150666</td>\n",
       "      <td>위험한 중독</td>\n",
       "      <td>감독</td>\n",
       "      <td>20216886</td>\n",
       "      <td>최율권희</td>\n",
       "      <td>NaN</td>\n",
       "    </tr>\n",
       "    <tr>\n",
       "      <th>2631</th>\n",
       "      <td>20150666</td>\n",
       "      <td>위험한 중독</td>\n",
       "      <td>각색</td>\n",
       "      <td>20216886</td>\n",
       "      <td>최율권희</td>\n",
       "      <td>NaN</td>\n",
       "    </tr>\n",
       "    <tr>\n",
       "      <th>2632</th>\n",
       "      <td>20158463</td>\n",
       "      <td>포장마차-무삭제판</td>\n",
       "      <td>감독</td>\n",
       "      <td>20216886</td>\n",
       "      <td>최율권희</td>\n",
       "      <td>NaN</td>\n",
       "    </tr>\n",
       "    <tr>\n",
       "      <th>2633</th>\n",
       "      <td>20155845</td>\n",
       "      <td>포장마차</td>\n",
       "      <td>감독</td>\n",
       "      <td>20216886</td>\n",
       "      <td>최율권희</td>\n",
       "      <td>NaN</td>\n",
       "    </tr>\n",
       "    <tr>\n",
       "      <th>3383</th>\n",
       "      <td>20179230</td>\n",
       "      <td>도어락</td>\n",
       "      <td>VFX 아티스트</td>\n",
       "      <td>20200534</td>\n",
       "      <td>조성희</td>\n",
       "      <td>NaN</td>\n",
       "    </tr>\n",
       "    <tr>\n",
       "      <th>3384</th>\n",
       "      <td>20156554</td>\n",
       "      <td>물괴</td>\n",
       "      <td>VFX 아티스트</td>\n",
       "      <td>20200534</td>\n",
       "      <td>조성희</td>\n",
       "      <td>NaN</td>\n",
       "    </tr>\n",
       "    <tr>\n",
       "      <th>3385</th>\n",
       "      <td>20142406</td>\n",
       "      <td>탐정 홍길동: 사라진 마을</td>\n",
       "      <td>VFX 아티스트</td>\n",
       "      <td>20200534</td>\n",
       "      <td>조성희</td>\n",
       "      <td>NaN</td>\n",
       "    </tr>\n",
       "    <tr>\n",
       "      <th>3386</th>\n",
       "      <td>20132799</td>\n",
       "      <td>족구왕</td>\n",
       "      <td>VFX 아티스트</td>\n",
       "      <td>20200534</td>\n",
       "      <td>조성희</td>\n",
       "      <td>NaN</td>\n",
       "    </tr>\n",
       "    <tr>\n",
       "      <th>6257</th>\n",
       "      <td>20184442</td>\n",
       "      <td>어린 아내-무삭제판</td>\n",
       "      <td>감독</td>\n",
       "      <td>10089947</td>\n",
       "      <td>화니</td>\n",
       "      <td>NaN</td>\n",
       "    </tr>\n",
       "    <tr>\n",
       "      <th>6258</th>\n",
       "      <td>20182891</td>\n",
       "      <td>맛있는 유혹</td>\n",
       "      <td>촬영</td>\n",
       "      <td>10089947</td>\n",
       "      <td>화니</td>\n",
       "      <td>NaN</td>\n",
       "    </tr>\n",
       "    <tr>\n",
       "      <th>6259</th>\n",
       "      <td>20177103</td>\n",
       "      <td>섹스의 목적 - 감독판</td>\n",
       "      <td>촬영</td>\n",
       "      <td>10089947</td>\n",
       "      <td>화니</td>\n",
       "      <td>NaN</td>\n",
       "    </tr>\n",
       "    <tr>\n",
       "      <th>6260</th>\n",
       "      <td>20172665</td>\n",
       "      <td>바람난 아내</td>\n",
       "      <td>촬영</td>\n",
       "      <td>10089947</td>\n",
       "      <td>화니</td>\n",
       "      <td>NaN</td>\n",
       "    </tr>\n",
       "    <tr>\n",
       "      <th>6261</th>\n",
       "      <td>20179829</td>\n",
       "      <td>금지된 애욕</td>\n",
       "      <td>촬영</td>\n",
       "      <td>10089947</td>\n",
       "      <td>화니</td>\n",
       "      <td>NaN</td>\n",
       "    </tr>\n",
       "    <tr>\n",
       "      <th>6262</th>\n",
       "      <td>20178644</td>\n",
       "      <td>맛있는 섹스 그리고 여친</td>\n",
       "      <td>촬영</td>\n",
       "      <td>10089947</td>\n",
       "      <td>화니</td>\n",
       "      <td>NaN</td>\n",
       "    </tr>\n",
       "    <tr>\n",
       "      <th>6263</th>\n",
       "      <td>20178226</td>\n",
       "      <td>불륜의 유혹</td>\n",
       "      <td>촬영</td>\n",
       "      <td>10089947</td>\n",
       "      <td>화니</td>\n",
       "      <td>NaN</td>\n",
       "    </tr>\n",
       "    <tr>\n",
       "      <th>6264</th>\n",
       "      <td>20179694</td>\n",
       "      <td>맛있는 워킹걸</td>\n",
       "      <td>감독</td>\n",
       "      <td>10089947</td>\n",
       "      <td>화니</td>\n",
       "      <td>NaN</td>\n",
       "    </tr>\n",
       "    <tr>\n",
       "      <th>6265</th>\n",
       "      <td>20163963</td>\n",
       "      <td>어린 아내</td>\n",
       "      <td>감독</td>\n",
       "      <td>10089947</td>\n",
       "      <td>화니</td>\n",
       "      <td>NaN</td>\n",
       "    </tr>\n",
       "    <tr>\n",
       "      <th>6266</th>\n",
       "      <td>20168863</td>\n",
       "      <td>19 섹스 맛있는 속 궁합</td>\n",
       "      <td>촬영</td>\n",
       "      <td>10089947</td>\n",
       "      <td>화니</td>\n",
       "      <td>NaN</td>\n",
       "    </tr>\n",
       "    <tr>\n",
       "      <th>...</th>\n",
       "      <td>...</td>\n",
       "      <td>...</td>\n",
       "      <td>...</td>\n",
       "      <td>...</td>\n",
       "      <td>...</td>\n",
       "      <td>...</td>\n",
       "    </tr>\n",
       "    <tr>\n",
       "      <th>7175</th>\n",
       "      <td>20160746</td>\n",
       "      <td>파밍 보이즈</td>\n",
       "      <td>촬영</td>\n",
       "      <td>20189617</td>\n",
       "      <td>변시연</td>\n",
       "      <td>NaN</td>\n",
       "    </tr>\n",
       "    <tr>\n",
       "      <th>7176</th>\n",
       "      <td>20160746</td>\n",
       "      <td>파밍 보이즈</td>\n",
       "      <td>편집</td>\n",
       "      <td>20189617</td>\n",
       "      <td>변시연</td>\n",
       "      <td>NaN</td>\n",
       "    </tr>\n",
       "    <tr>\n",
       "      <th>7177</th>\n",
       "      <td>20149500</td>\n",
       "      <td>Water Puppet - 커튼 뒤의 비밀</td>\n",
       "      <td>감독</td>\n",
       "      <td>20189617</td>\n",
       "      <td>변시연</td>\n",
       "      <td>NaN</td>\n",
       "    </tr>\n",
       "    <tr>\n",
       "      <th>7886</th>\n",
       "      <td>19970033</td>\n",
       "      <td>낮은 목소리 2</td>\n",
       "      <td>동시녹음</td>\n",
       "      <td>10060656</td>\n",
       "      <td>장호준</td>\n",
       "      <td>NaN</td>\n",
       "    </tr>\n",
       "    <tr>\n",
       "      <th>7887</th>\n",
       "      <td>19950022</td>\n",
       "      <td>낮은 목소리 - 아시아에서 여성으로 산다는 것</td>\n",
       "      <td>사운드</td>\n",
       "      <td>10060656</td>\n",
       "      <td>장호준</td>\n",
       "      <td>NaN</td>\n",
       "    </tr>\n",
       "    <tr>\n",
       "      <th>7888</th>\n",
       "      <td>20173963</td>\n",
       "      <td>평양냉면</td>\n",
       "      <td>감독</td>\n",
       "      <td>10060656</td>\n",
       "      <td>장호준</td>\n",
       "      <td>NaN</td>\n",
       "    </tr>\n",
       "    <tr>\n",
       "      <th>7889</th>\n",
       "      <td>20173963</td>\n",
       "      <td>평양냉면</td>\n",
       "      <td>시나리오(각본)</td>\n",
       "      <td>10060656</td>\n",
       "      <td>장호준</td>\n",
       "      <td>NaN</td>\n",
       "    </tr>\n",
       "    <tr>\n",
       "      <th>7890</th>\n",
       "      <td>20173963</td>\n",
       "      <td>평양냉면</td>\n",
       "      <td>제작</td>\n",
       "      <td>10060656</td>\n",
       "      <td>장호준</td>\n",
       "      <td>NaN</td>\n",
       "    </tr>\n",
       "    <tr>\n",
       "      <th>7891</th>\n",
       "      <td>20119383</td>\n",
       "      <td>What's the Truth?</td>\n",
       "      <td>감독</td>\n",
       "      <td>10060656</td>\n",
       "      <td>장호준</td>\n",
       "      <td>NaN</td>\n",
       "    </tr>\n",
       "    <tr>\n",
       "      <th>7892</th>\n",
       "      <td>20060683</td>\n",
       "      <td>돌아갈 귀</td>\n",
       "      <td>감독</td>\n",
       "      <td>10060656</td>\n",
       "      <td>장호준</td>\n",
       "      <td>NaN</td>\n",
       "    </tr>\n",
       "    <tr>\n",
       "      <th>7893</th>\n",
       "      <td>20060683</td>\n",
       "      <td>돌아갈 귀</td>\n",
       "      <td>제작</td>\n",
       "      <td>10060656</td>\n",
       "      <td>장호준</td>\n",
       "      <td>NaN</td>\n",
       "    </tr>\n",
       "    <tr>\n",
       "      <th>7894</th>\n",
       "      <td>20060683</td>\n",
       "      <td>돌아갈 귀</td>\n",
       "      <td>시나리오(각본)</td>\n",
       "      <td>10060656</td>\n",
       "      <td>장호준</td>\n",
       "      <td>NaN</td>\n",
       "    </tr>\n",
       "    <tr>\n",
       "      <th>7895</th>\n",
       "      <td>20113146</td>\n",
       "      <td>팝(Pop)</td>\n",
       "      <td>감독</td>\n",
       "      <td>10060656</td>\n",
       "      <td>장호준</td>\n",
       "      <td>NaN</td>\n",
       "    </tr>\n",
       "    <tr>\n",
       "      <th>7896</th>\n",
       "      <td>20173965</td>\n",
       "      <td>그리다</td>\n",
       "      <td>감독</td>\n",
       "      <td>10060656</td>\n",
       "      <td>장호준</td>\n",
       "      <td>NaN</td>\n",
       "    </tr>\n",
       "    <tr>\n",
       "      <th>7897</th>\n",
       "      <td>20173965</td>\n",
       "      <td>그리다</td>\n",
       "      <td>시나리오(각본)</td>\n",
       "      <td>10060656</td>\n",
       "      <td>장호준</td>\n",
       "      <td>NaN</td>\n",
       "    </tr>\n",
       "    <tr>\n",
       "      <th>8419</th>\n",
       "      <td>20191104</td>\n",
       "      <td>815사수작전</td>\n",
       "      <td>감독</td>\n",
       "      <td>20280671</td>\n",
       "      <td>손병조</td>\n",
       "      <td>NaN</td>\n",
       "    </tr>\n",
       "    <tr>\n",
       "      <th>8420</th>\n",
       "      <td>20170442</td>\n",
       "      <td>련희와 연희</td>\n",
       "      <td>감독</td>\n",
       "      <td>20280671</td>\n",
       "      <td>손병조</td>\n",
       "      <td>NaN</td>\n",
       "    </tr>\n",
       "    <tr>\n",
       "      <th>9444</th>\n",
       "      <td>20182781</td>\n",
       "      <td>아버지를 찾아서</td>\n",
       "      <td>감독</td>\n",
       "      <td>20303149</td>\n",
       "      <td>김무은</td>\n",
       "      <td>NaN</td>\n",
       "    </tr>\n",
       "    <tr>\n",
       "      <th>9445</th>\n",
       "      <td>20182781</td>\n",
       "      <td>아버지를 찾아서</td>\n",
       "      <td>시나리오(각본)</td>\n",
       "      <td>20303149</td>\n",
       "      <td>김무은</td>\n",
       "      <td>NaN</td>\n",
       "    </tr>\n",
       "    <tr>\n",
       "      <th>9446</th>\n",
       "      <td>20182781</td>\n",
       "      <td>아버지를 찾아서</td>\n",
       "      <td>편집</td>\n",
       "      <td>20303149</td>\n",
       "      <td>김무은</td>\n",
       "      <td>NaN</td>\n",
       "    </tr>\n",
       "    <tr>\n",
       "      <th>9499</th>\n",
       "      <td>20182221</td>\n",
       "      <td>스파키</td>\n",
       "      <td>감독</td>\n",
       "      <td>20315335</td>\n",
       "      <td>애론 우들리</td>\n",
       "      <td>NaN</td>\n",
       "    </tr>\n",
       "    <tr>\n",
       "      <th>9500</th>\n",
       "      <td>20182221</td>\n",
       "      <td>스파키</td>\n",
       "      <td>시나리오(각본)</td>\n",
       "      <td>20315335</td>\n",
       "      <td>애론 우들리</td>\n",
       "      <td>NaN</td>\n",
       "    </tr>\n",
       "    <tr>\n",
       "      <th>9674</th>\n",
       "      <td>20183381</td>\n",
       "      <td>5.18 힌츠페터 스토리</td>\n",
       "      <td>감독</td>\n",
       "      <td>20303829</td>\n",
       "      <td>장영주</td>\n",
       "      <td>NaN</td>\n",
       "    </tr>\n",
       "    <tr>\n",
       "      <th>9675</th>\n",
       "      <td>20183381</td>\n",
       "      <td>5.18 힌츠페터 스토리</td>\n",
       "      <td>배우</td>\n",
       "      <td>20303829</td>\n",
       "      <td>장영주</td>\n",
       "      <td>NaN</td>\n",
       "    </tr>\n",
       "    <tr>\n",
       "      <th>9676</th>\n",
       "      <td>20183381</td>\n",
       "      <td>5.18 힌츠페터 스토리</td>\n",
       "      <td>프로듀서</td>\n",
       "      <td>20303829</td>\n",
       "      <td>장영주</td>\n",
       "      <td>NaN</td>\n",
       "    </tr>\n",
       "    <tr>\n",
       "      <th>9677</th>\n",
       "      <td>20183381</td>\n",
       "      <td>5.18 힌츠페터 스토리</td>\n",
       "      <td>기획</td>\n",
       "      <td>20303829</td>\n",
       "      <td>장영주</td>\n",
       "      <td>NaN</td>\n",
       "    </tr>\n",
       "    <tr>\n",
       "      <th>11044</th>\n",
       "      <td>20183495</td>\n",
       "      <td>리스펙트</td>\n",
       "      <td>감독</td>\n",
       "      <td>20311912</td>\n",
       "      <td>심재희</td>\n",
       "      <td>NaN</td>\n",
       "    </tr>\n",
       "    <tr>\n",
       "      <th>11162</th>\n",
       "      <td>20183650</td>\n",
       "      <td>번개맨의 비밀</td>\n",
       "      <td>감독</td>\n",
       "      <td>20311974</td>\n",
       "      <td>강유선</td>\n",
       "      <td>NaN</td>\n",
       "    </tr>\n",
       "    <tr>\n",
       "      <th>12107</th>\n",
       "      <td>20193013</td>\n",
       "      <td>극장판 샤이닝스타:새로운 루나퀸의 탄생!</td>\n",
       "      <td>감독</td>\n",
       "      <td>20230846</td>\n",
       "      <td>박일호</td>\n",
       "      <td>NaN</td>\n",
       "    </tr>\n",
       "    <tr>\n",
       "      <th>12108</th>\n",
       "      <td>20151186</td>\n",
       "      <td>치링치링 시크릿 쥬쥬 1기</td>\n",
       "      <td>감독</td>\n",
       "      <td>20230846</td>\n",
       "      <td>박일호</td>\n",
       "      <td>NaN</td>\n",
       "    </tr>\n",
       "  </tbody>\n",
       "</table>\n",
       "<p>62 rows × 6 columns</p>\n",
       "</div>"
      ],
      "text/plain": [
       "        movieCd                     movieNm moviePartNm  peopleCd peopleNm  \\\n",
       "1206   20141598                         타이밍          감독  10028546      박대열   \n",
       "1207   20141598                         타이밍      애니메이션팀  10028546      박대열   \n",
       "1208   20141598                         타이밍       스토리보드  10028546      박대열   \n",
       "1209   20060378                    애니 프란체스카          감독  10028546      박대열   \n",
       "1411   20189746           극장판 뽀잉: 슈퍼 변신의 비밀          기획  20214806       허선   \n",
       "1412   20189746           극장판 뽀잉: 슈퍼 변신의 비밀          제작  20214806       허선   \n",
       "1413   20154323                    슈퍼레이서 엔지          감독  20214806       허선   \n",
       "1414   20154323                    슈퍼레이서 엔지          기획  20214806       허선   \n",
       "1415   20154323                    슈퍼레이서 엔지    시나리오(각본)  20214806       허선   \n",
       "1416   20154323                    슈퍼레이서 엔지        프로듀서  20214806       허선   \n",
       "2628   20166441                          외도    시나리오(각본)  20216886     최율권희   \n",
       "2629   20161324                 위험한 중독 무삭제판          감독  20216886     최율권희   \n",
       "2630   20150666                      위험한 중독          감독  20216886     최율권희   \n",
       "2631   20150666                      위험한 중독          각색  20216886     최율권희   \n",
       "2632   20158463                   포장마차-무삭제판          감독  20216886     최율권희   \n",
       "2633   20155845                        포장마차          감독  20216886     최율권희   \n",
       "3383   20179230                         도어락    VFX 아티스트  20200534      조성희   \n",
       "3384   20156554                          물괴    VFX 아티스트  20200534      조성희   \n",
       "3385   20142406              탐정 홍길동: 사라진 마을    VFX 아티스트  20200534      조성희   \n",
       "3386   20132799                         족구왕    VFX 아티스트  20200534      조성희   \n",
       "6257   20184442                  어린 아내-무삭제판          감독  10089947       화니   \n",
       "6258   20182891                      맛있는 유혹          촬영  10089947       화니   \n",
       "6259   20177103                섹스의 목적 - 감독판          촬영  10089947       화니   \n",
       "6260   20172665                      바람난 아내          촬영  10089947       화니   \n",
       "6261   20179829                      금지된 애욕          촬영  10089947       화니   \n",
       "6262   20178644               맛있는 섹스 그리고 여친          촬영  10089947       화니   \n",
       "6263   20178226                      불륜의 유혹          촬영  10089947       화니   \n",
       "6264   20179694                     맛있는 워킹걸          감독  10089947       화니   \n",
       "6265   20163963                       어린 아내          감독  10089947       화니   \n",
       "6266   20168863              19 섹스 맛있는 속 궁합          촬영  10089947       화니   \n",
       "...         ...                         ...         ...       ...      ...   \n",
       "7175   20160746                      파밍 보이즈          촬영  20189617      변시연   \n",
       "7176   20160746                      파밍 보이즈          편집  20189617      변시연   \n",
       "7177   20149500     Water Puppet - 커튼 뒤의 비밀          감독  20189617      변시연   \n",
       "7886   19970033                    낮은 목소리 2        동시녹음  10060656      장호준   \n",
       "7887   19950022  낮은 목소리 - 아시아에서 여성으로 산다는 것          사운드  10060656      장호준   \n",
       "7888   20173963                        평양냉면          감독  10060656      장호준   \n",
       "7889   20173963                        평양냉면    시나리오(각본)  10060656      장호준   \n",
       "7890   20173963                        평양냉면          제작  10060656      장호준   \n",
       "7891   20119383           What's the Truth?          감독  10060656      장호준   \n",
       "7892   20060683                       돌아갈 귀          감독  10060656      장호준   \n",
       "7893   20060683                       돌아갈 귀          제작  10060656      장호준   \n",
       "7894   20060683                       돌아갈 귀    시나리오(각본)  10060656      장호준   \n",
       "7895   20113146                      팝(Pop)          감독  10060656      장호준   \n",
       "7896   20173965                         그리다          감독  10060656      장호준   \n",
       "7897   20173965                         그리다    시나리오(각본)  10060656      장호준   \n",
       "8419   20191104                     815사수작전          감독  20280671      손병조   \n",
       "8420   20170442                      련희와 연희          감독  20280671      손병조   \n",
       "9444   20182781                    아버지를 찾아서          감독  20303149      김무은   \n",
       "9445   20182781                    아버지를 찾아서    시나리오(각본)  20303149      김무은   \n",
       "9446   20182781                    아버지를 찾아서          편집  20303149      김무은   \n",
       "9499   20182221                         스파키          감독  20315335   애론 우들리   \n",
       "9500   20182221                         스파키    시나리오(각본)  20315335   애론 우들리   \n",
       "9674   20183381               5.18 힌츠페터 스토리          감독  20303829      장영주   \n",
       "9675   20183381               5.18 힌츠페터 스토리          배우  20303829      장영주   \n",
       "9676   20183381               5.18 힌츠페터 스토리        프로듀서  20303829      장영주   \n",
       "9677   20183381               5.18 힌츠페터 스토리          기획  20303829      장영주   \n",
       "11044  20183495                        리스펙트          감독  20311912      심재희   \n",
       "11162  20183650                     번개맨의 비밀          감독  20311974      강유선   \n",
       "12107  20193013      극장판 샤이닝스타:새로운 루나퀸의 탄생!          감독  20230846      박일호   \n",
       "12108  20151186              치링치링 시크릿 쥬쥬 1기          감독  20230846      박일호   \n",
       "\n",
       "       sex  \n",
       "1206   NaN  \n",
       "1207   NaN  \n",
       "1208   NaN  \n",
       "1209   NaN  \n",
       "1411   NaN  \n",
       "1412   NaN  \n",
       "1413   NaN  \n",
       "1414   NaN  \n",
       "1415   NaN  \n",
       "1416   NaN  \n",
       "2628   NaN  \n",
       "2629   NaN  \n",
       "2630   NaN  \n",
       "2631   NaN  \n",
       "2632   NaN  \n",
       "2633   NaN  \n",
       "3383   NaN  \n",
       "3384   NaN  \n",
       "3385   NaN  \n",
       "3386   NaN  \n",
       "6257   NaN  \n",
       "6258   NaN  \n",
       "6259   NaN  \n",
       "6260   NaN  \n",
       "6261   NaN  \n",
       "6262   NaN  \n",
       "6263   NaN  \n",
       "6264   NaN  \n",
       "6265   NaN  \n",
       "6266   NaN  \n",
       "...    ...  \n",
       "7175   NaN  \n",
       "7176   NaN  \n",
       "7177   NaN  \n",
       "7886   NaN  \n",
       "7887   NaN  \n",
       "7888   NaN  \n",
       "7889   NaN  \n",
       "7890   NaN  \n",
       "7891   NaN  \n",
       "7892   NaN  \n",
       "7893   NaN  \n",
       "7894   NaN  \n",
       "7895   NaN  \n",
       "7896   NaN  \n",
       "7897   NaN  \n",
       "8419   NaN  \n",
       "8420   NaN  \n",
       "9444   NaN  \n",
       "9445   NaN  \n",
       "9446   NaN  \n",
       "9499   NaN  \n",
       "9500   NaN  \n",
       "9674   NaN  \n",
       "9675   NaN  \n",
       "9676   NaN  \n",
       "9677   NaN  \n",
       "11044  NaN  \n",
       "11162  NaN  \n",
       "12107  NaN  \n",
       "12108  NaN  \n",
       "\n",
       "[62 rows x 6 columns]"
      ]
     },
     "execution_count": 44,
     "metadata": {},
     "output_type": "execute_result"
    }
   ],
   "source": [
    "director_detail[director_detail['sex'].isnull()]"
   ]
  },
  {
   "cell_type": "code",
   "execution_count": 51,
   "metadata": {},
   "outputs": [
    {
     "data": {
      "text/plain": [
       "7174    여자\n",
       "7175    여자\n",
       "7176    여자\n",
       "7177    여자\n",
       "Name: sex, dtype: object"
      ]
     },
     "execution_count": 51,
     "metadata": {},
     "output_type": "execute_result"
    }
   ],
   "source": [
    "director_detail[director_detail['peopleCd']=='20189617']['sex'].fillna('여자')\n",
    "# 이렇게 하면 왜 채워지지 않는지가 궁금하다"
   ]
  },
  {
   "cell_type": "markdown",
   "metadata": {},
   "source": [
    "### 검색 결과\n",
    "변시연 여자, 장호준 남자, 최율권희 남자, 허선 남자, 손병조 남자, 애론 우들리 남자, 장영주(20303829) 남자, 심재희 남자, 강유선 여자, 박일호 남자"
   ]
  },
  {
   "cell_type": "code",
   "execution_count": 68,
   "metadata": {},
   "outputs": [],
   "source": [
    "director_detail.loc[director_detail['peopleCd'] == '20189617', 'sex'] = '여자'\n",
    "director_detail.loc[director_detail['peopleCd'] == '10060656', 'sex'] = '남자'\n",
    "director_detail.loc[director_detail['peopleCd'] == '20216886', 'sex'] = '남자'\n",
    "director_detail.loc[director_detail['peopleCd'] == '20214806', 'sex'] = '남자'\n",
    "director_detail.loc[director_detail['peopleCd'] == '20303829', 'sex'] = '남자'\n",
    "director_detail.loc[director_detail['peopleCd'] == '20280671', 'sex'] = '남자'\n",
    "director_detail.loc[director_detail['peopleCd'] == '20311912', 'sex'] = '남자'\n",
    "director_detail.loc[director_detail['peopleCd'] == '20311974', 'sex'] = '여자'\n",
    "director_detail.loc[director_detail['peopleCd'] == '20230846', 'sex'] = '남자'"
   ]
  },
  {
   "cell_type": "markdown",
   "metadata": {},
   "source": [
    "외국인 아론 우들리 데이터 살펴보기"
   ]
  },
  {
   "cell_type": "code",
   "execution_count": 67,
   "metadata": {
    "scrolled": true
   },
   "outputs": [
    {
     "data": {
      "text/html": [
       "<div>\n",
       "<style scoped>\n",
       "    .dataframe tbody tr th:only-of-type {\n",
       "        vertical-align: middle;\n",
       "    }\n",
       "\n",
       "    .dataframe tbody tr th {\n",
       "        vertical-align: top;\n",
       "    }\n",
       "\n",
       "    .dataframe thead th {\n",
       "        text-align: right;\n",
       "    }\n",
       "</style>\n",
       "<table border=\"1\" class=\"dataframe\">\n",
       "  <thead>\n",
       "    <tr style=\"text-align: right;\">\n",
       "      <th></th>\n",
       "      <th>movieCd</th>\n",
       "      <th>movieNm</th>\n",
       "      <th>moviePartNm</th>\n",
       "      <th>peopleCd</th>\n",
       "      <th>peopleNm</th>\n",
       "      <th>sex</th>\n",
       "    </tr>\n",
       "  </thead>\n",
       "  <tbody>\n",
       "    <tr>\n",
       "      <th>9497</th>\n",
       "      <td>20182221</td>\n",
       "      <td>스파키</td>\n",
       "      <td>감독</td>\n",
       "      <td>10040004</td>\n",
       "      <td>아론 우들리</td>\n",
       "      <td>남자</td>\n",
       "    </tr>\n",
       "    <tr>\n",
       "      <th>9498</th>\n",
       "      <td>20177349</td>\n",
       "      <td>완전범죄: 키드냅</td>\n",
       "      <td>감독</td>\n",
       "      <td>10040004</td>\n",
       "      <td>아론 우들리</td>\n",
       "      <td>남자</td>\n",
       "    </tr>\n",
       "  </tbody>\n",
       "</table>\n",
       "</div>"
      ],
      "text/plain": [
       "       movieCd    movieNm moviePartNm  peopleCd peopleNm sex\n",
       "9497  20182221        스파키          감독  10040004   아론 우들리  남자\n",
       "9498  20177349  완전범죄: 키드냅          감독  10040004   아론 우들리  남자"
      ]
     },
     "execution_count": 67,
     "metadata": {},
     "output_type": "execute_result"
    }
   ],
   "source": [
    "director_detail[director_detail['peopleCd']=='10040004']"
   ]
  },
  {
   "cell_type": "code",
   "execution_count": 75,
   "metadata": {},
   "outputs": [
    {
     "data": {
      "text/html": [
       "<div>\n",
       "<style scoped>\n",
       "    .dataframe tbody tr th:only-of-type {\n",
       "        vertical-align: middle;\n",
       "    }\n",
       "\n",
       "    .dataframe tbody tr th {\n",
       "        vertical-align: top;\n",
       "    }\n",
       "\n",
       "    .dataframe thead th {\n",
       "        text-align: right;\n",
       "    }\n",
       "</style>\n",
       "<table border=\"1\" class=\"dataframe\">\n",
       "  <thead>\n",
       "    <tr style=\"text-align: right;\">\n",
       "      <th></th>\n",
       "      <th>movieCd</th>\n",
       "      <th>movieNm</th>\n",
       "      <th>moviePartNm</th>\n",
       "      <th>peopleCd</th>\n",
       "      <th>peopleNm</th>\n",
       "      <th>sex</th>\n",
       "    </tr>\n",
       "  </thead>\n",
       "  <tbody>\n",
       "    <tr>\n",
       "      <th>9499</th>\n",
       "      <td>20182221</td>\n",
       "      <td>스파키</td>\n",
       "      <td>감독</td>\n",
       "      <td>20315335</td>\n",
       "      <td>애론 우들리</td>\n",
       "      <td>NaN</td>\n",
       "    </tr>\n",
       "    <tr>\n",
       "      <th>9500</th>\n",
       "      <td>20182221</td>\n",
       "      <td>스파키</td>\n",
       "      <td>시나리오(각본)</td>\n",
       "      <td>20315335</td>\n",
       "      <td>애론 우들리</td>\n",
       "      <td>NaN</td>\n",
       "    </tr>\n",
       "  </tbody>\n",
       "</table>\n",
       "</div>"
      ],
      "text/plain": [
       "       movieCd movieNm moviePartNm  peopleCd peopleNm  sex\n",
       "9499  20182221     스파키          감독  20315335   애론 우들리  NaN\n",
       "9500  20182221     스파키    시나리오(각본)  20315335   애론 우들리  NaN"
      ]
     },
     "execution_count": 75,
     "metadata": {},
     "output_type": "execute_result"
    }
   ],
   "source": [
    "director_detail[director_detail['peopleCd']=='20315335']"
   ]
  },
  {
   "cell_type": "code",
   "execution_count": 66,
   "metadata": {},
   "outputs": [
    {
     "data": {
      "text/html": [
       "<div>\n",
       "<style scoped>\n",
       "    .dataframe tbody tr th:only-of-type {\n",
       "        vertical-align: middle;\n",
       "    }\n",
       "\n",
       "    .dataframe tbody tr th {\n",
       "        vertical-align: top;\n",
       "    }\n",
       "\n",
       "    .dataframe thead th {\n",
       "        text-align: right;\n",
       "    }\n",
       "</style>\n",
       "<table border=\"1\" class=\"dataframe\">\n",
       "  <thead>\n",
       "    <tr style=\"text-align: right;\">\n",
       "      <th></th>\n",
       "      <th>filmoNames</th>\n",
       "      <th>movieNm</th>\n",
       "      <th>peopleCd</th>\n",
       "      <th>peopleNm</th>\n",
       "      <th>repRoleNm</th>\n",
       "    </tr>\n",
       "  </thead>\n",
       "  <tbody>\n",
       "    <tr>\n",
       "      <th>598</th>\n",
       "      <td>스파키|완전범죄: 키드냅</td>\n",
       "      <td>스파키</td>\n",
       "      <td>10040004</td>\n",
       "      <td>아론 우들리</td>\n",
       "      <td>감독</td>\n",
       "    </tr>\n",
       "    <tr>\n",
       "      <th>599</th>\n",
       "      <td>스파키</td>\n",
       "      <td>스파키</td>\n",
       "      <td>20315335</td>\n",
       "      <td>애론 우들리</td>\n",
       "      <td>감독</td>\n",
       "    </tr>\n",
       "  </tbody>\n",
       "</table>\n",
       "</div>"
      ],
      "text/plain": [
       "        filmoNames movieNm  peopleCd peopleNm repRoleNm\n",
       "598  스파키|완전범죄: 키드냅     스파키  10040004   아론 우들리        감독\n",
       "599            스파키     스파키  20315335   애론 우들리        감독"
      ]
     },
     "execution_count": 66,
     "metadata": {},
     "output_type": "execute_result"
    }
   ],
   "source": [
    "# 엄청 특이한 데이터, 같은 영화인데 같은 감독을 오기하는 바람에 동명이인이 합작해 영화를 만든 것 처럼 나옴\n",
    "director_code[director_code['movieNm']=='스파키']\n",
    "# 아론 우들리(10040004) == 애론 우들리(20315335)== 남자"
   ]
  },
  {
   "cell_type": "code",
   "execution_count": 65,
   "metadata": {},
   "outputs": [
    {
     "data": {
      "text/html": [
       "<div>\n",
       "<style scoped>\n",
       "    .dataframe tbody tr th:only-of-type {\n",
       "        vertical-align: middle;\n",
       "    }\n",
       "\n",
       "    .dataframe tbody tr th {\n",
       "        vertical-align: top;\n",
       "    }\n",
       "\n",
       "    .dataframe thead th {\n",
       "        text-align: right;\n",
       "    }\n",
       "</style>\n",
       "<table border=\"1\" class=\"dataframe\">\n",
       "  <thead>\n",
       "    <tr style=\"text-align: right;\">\n",
       "      <th></th>\n",
       "      <th>movieCd</th>\n",
       "      <th>movieNm</th>\n",
       "      <th>peopleNm</th>\n",
       "      <th>repRoleNm</th>\n",
       "    </tr>\n",
       "  </thead>\n",
       "  <tbody>\n",
       "    <tr>\n",
       "      <th>598</th>\n",
       "      <td>20182221</td>\n",
       "      <td>스파키</td>\n",
       "      <td>아론 우들리</td>\n",
       "      <td>감독</td>\n",
       "    </tr>\n",
       "    <tr>\n",
       "      <th>599</th>\n",
       "      <td>20182221</td>\n",
       "      <td>스파키</td>\n",
       "      <td>애론 우들리</td>\n",
       "      <td>감독</td>\n",
       "    </tr>\n",
       "  </tbody>\n",
       "</table>\n",
       "</div>"
      ],
      "text/plain": [
       "      movieCd movieNm peopleNm repRoleNm\n",
       "598  20182221     스파키   아론 우들리        감독\n",
       "599  20182221     스파키   애론 우들리        감독"
      ]
     },
     "execution_count": 65,
     "metadata": {},
     "output_type": "execute_result"
    }
   ],
   "source": [
    "directors[directors['movieNm']=='스파키']"
   ]
  },
  {
   "cell_type": "markdown",
   "metadata": {},
   "source": [
    "1차 후 남은 null 값들"
   ]
  },
  {
   "cell_type": "code",
   "execution_count": 62,
   "metadata": {},
   "outputs": [
    {
     "data": {
      "text/html": [
       "<div>\n",
       "<style scoped>\n",
       "    .dataframe tbody tr th:only-of-type {\n",
       "        vertical-align: middle;\n",
       "    }\n",
       "\n",
       "    .dataframe tbody tr th {\n",
       "        vertical-align: top;\n",
       "    }\n",
       "\n",
       "    .dataframe thead th {\n",
       "        text-align: right;\n",
       "    }\n",
       "</style>\n",
       "<table border=\"1\" class=\"dataframe\">\n",
       "  <thead>\n",
       "    <tr style=\"text-align: right;\">\n",
       "      <th></th>\n",
       "      <th>filmoNames</th>\n",
       "      <th>movieNm</th>\n",
       "      <th>peopleCd</th>\n",
       "      <th>peopleNm</th>\n",
       "      <th>repRoleNm</th>\n",
       "    </tr>\n",
       "  </thead>\n",
       "  <tbody>\n",
       "    <tr>\n",
       "      <th>682</th>\n",
       "      <td>안시성|찌라시: 위험한 소문|내 깡패 같은 애인|오프 로드|오아시스|얼굴|억수탕(3...</td>\n",
       "      <td>안시성</td>\n",
       "      <td>10003620</td>\n",
       "      <td>김광식</td>\n",
       "      <td>감독</td>\n",
       "    </tr>\n",
       "  </tbody>\n",
       "</table>\n",
       "</div>"
      ],
      "text/plain": [
       "                                            filmoNames movieNm  peopleCd  \\\n",
       "682  안시성|찌라시: 위험한 소문|내 깡패 같은 애인|오프 로드|오아시스|얼굴|억수탕(3...     안시성  10003620   \n",
       "\n",
       "    peopleNm repRoleNm  \n",
       "682      김광식        감독  "
      ]
     },
     "execution_count": 62,
     "metadata": {},
     "output_type": "execute_result"
    }
   ],
   "source": [
    "director_code.sample()"
   ]
  },
  {
   "cell_type": "code",
   "execution_count": 64,
   "metadata": {},
   "outputs": [
    {
     "data": {
      "text/html": [
       "<div>\n",
       "<style scoped>\n",
       "    .dataframe tbody tr th:only-of-type {\n",
       "        vertical-align: middle;\n",
       "    }\n",
       "\n",
       "    .dataframe tbody tr th {\n",
       "        vertical-align: top;\n",
       "    }\n",
       "\n",
       "    .dataframe thead th {\n",
       "        text-align: right;\n",
       "    }\n",
       "</style>\n",
       "<table border=\"1\" class=\"dataframe\">\n",
       "  <thead>\n",
       "    <tr style=\"text-align: right;\">\n",
       "      <th></th>\n",
       "      <th>movieCd</th>\n",
       "      <th>movieNm</th>\n",
       "      <th>peopleNm</th>\n",
       "      <th>repRoleNm</th>\n",
       "    </tr>\n",
       "  </thead>\n",
       "  <tbody>\n",
       "    <tr>\n",
       "      <th>366</th>\n",
       "      <td>20163014</td>\n",
       "      <td>7년-그들이 없는 언론</td>\n",
       "      <td>김진혁</td>\n",
       "      <td>감독</td>\n",
       "    </tr>\n",
       "  </tbody>\n",
       "</table>\n",
       "</div>"
      ],
      "text/plain": [
       "      movieCd       movieNm peopleNm repRoleNm\n",
       "366  20163014  7년-그들이 없는 언론      김진혁        감독"
      ]
     },
     "execution_count": 64,
     "metadata": {},
     "output_type": "execute_result"
    }
   ],
   "source": [
    "directors.sample()"
   ]
  },
  {
   "cell_type": "code",
   "execution_count": 72,
   "metadata": {},
   "outputs": [
    {
     "data": {
      "text/plain": [
       "array(['박대열', '조성희', '화니', '김래경', '김무은', '애론 우들리'], dtype=object)"
      ]
     },
     "execution_count": 72,
     "metadata": {},
     "output_type": "execute_result"
    }
   ],
   "source": [
    "director_detail[director_detail['sex'].isnull()]['peopleNm'].unique()"
   ]
  },
  {
   "cell_type": "markdown",
   "metadata": {},
   "source": [
    "화니, 김무은 남자 추정<p>\n",
    "박대열 남자 출처 : https://www.instagram.com/p/-5_7bziyZQ/"
   ]
  },
  {
   "cell_type": "markdown",
   "metadata": {},
   "source": [
    "### 조성희 케이스\n",
    "directors 에는 조성희가 감독으로 등록, 근데 code 와 detail 에 조성희는 감독이 아님, \n",
    "서치결과 탐정홍길동의 조성희 감독은 유명인(10065952) 코드도 전혀 다름\n",
    "- directors 의 조성희 감독의 peopleCd가 20200534 라면 문제없고, 동명이인임을 확인함\n",
    "- 그러나 앞의 애론 우들리 케이스와 같이 이명동인일 수 있음"
   ]
  },
  {
   "cell_type": "code",
   "execution_count": 90,
   "metadata": {},
   "outputs": [
    {
     "data": {
      "text/html": [
       "<div>\n",
       "<style scoped>\n",
       "    .dataframe tbody tr th:only-of-type {\n",
       "        vertical-align: middle;\n",
       "    }\n",
       "\n",
       "    .dataframe tbody tr th {\n",
       "        vertical-align: top;\n",
       "    }\n",
       "\n",
       "    .dataframe thead th {\n",
       "        text-align: right;\n",
       "    }\n",
       "</style>\n",
       "<table border=\"1\" class=\"dataframe\">\n",
       "  <thead>\n",
       "    <tr style=\"text-align: right;\">\n",
       "      <th></th>\n",
       "      <th>movieCd</th>\n",
       "      <th>movieNm</th>\n",
       "      <th>peopleNm</th>\n",
       "      <th>repRoleNm</th>\n",
       "    </tr>\n",
       "  </thead>\n",
       "  <tbody>\n",
       "    <tr>\n",
       "      <th>194</th>\n",
       "      <td>20142406</td>\n",
       "      <td>탐정 홍길동: 사라진 마을</td>\n",
       "      <td>조성희</td>\n",
       "      <td>감독</td>\n",
       "    </tr>\n",
       "  </tbody>\n",
       "</table>\n",
       "</div>"
      ],
      "text/plain": [
       "      movieCd         movieNm peopleNm repRoleNm\n",
       "194  20142406  탐정 홍길동: 사라진 마을      조성희        감독"
      ]
     },
     "execution_count": 90,
     "metadata": {},
     "output_type": "execute_result"
    }
   ],
   "source": [
    "directors[directors['peopleNm']=='조성희']"
   ]
  },
  {
   "cell_type": "code",
   "execution_count": 97,
   "metadata": {
    "scrolled": true
   },
   "outputs": [
    {
     "data": {
      "text/html": [
       "<div>\n",
       "<style scoped>\n",
       "    .dataframe tbody tr th:only-of-type {\n",
       "        vertical-align: middle;\n",
       "    }\n",
       "\n",
       "    .dataframe tbody tr th {\n",
       "        vertical-align: top;\n",
       "    }\n",
       "\n",
       "    .dataframe thead th {\n",
       "        text-align: right;\n",
       "    }\n",
       "</style>\n",
       "<table border=\"1\" class=\"dataframe\">\n",
       "  <thead>\n",
       "    <tr style=\"text-align: right;\">\n",
       "      <th></th>\n",
       "      <th>filmoNames</th>\n",
       "      <th>movieNm</th>\n",
       "      <th>peopleCd</th>\n",
       "      <th>peopleNm</th>\n",
       "      <th>repRoleNm</th>\n",
       "    </tr>\n",
       "  </thead>\n",
       "  <tbody>\n",
       "    <tr>\n",
       "      <th>194</th>\n",
       "      <td>도어락|물괴|탐정 홍길동: 사라진 마을|족구왕</td>\n",
       "      <td>탐정 홍길동: 사라진 마을</td>\n",
       "      <td>20200534</td>\n",
       "      <td>조성희</td>\n",
       "      <td>VFX 아티스트</td>\n",
       "    </tr>\n",
       "  </tbody>\n",
       "</table>\n",
       "</div>"
      ],
      "text/plain": [
       "                    filmoNames         movieNm  peopleCd peopleNm repRoleNm\n",
       "194  도어락|물괴|탐정 홍길동: 사라진 마을|족구왕  탐정 홍길동: 사라진 마을  20200534      조성희  VFX 아티스트"
      ]
     },
     "execution_count": 97,
     "metadata": {},
     "output_type": "execute_result"
    }
   ],
   "source": [
    "director_code[director_code['peopleNm']=='조성희']"
   ]
  },
  {
   "cell_type": "code",
   "execution_count": 91,
   "metadata": {
    "scrolled": true
   },
   "outputs": [
    {
     "data": {
      "text/html": [
       "<div>\n",
       "<style scoped>\n",
       "    .dataframe tbody tr th:only-of-type {\n",
       "        vertical-align: middle;\n",
       "    }\n",
       "\n",
       "    .dataframe tbody tr th {\n",
       "        vertical-align: top;\n",
       "    }\n",
       "\n",
       "    .dataframe thead th {\n",
       "        text-align: right;\n",
       "    }\n",
       "</style>\n",
       "<table border=\"1\" class=\"dataframe\">\n",
       "  <thead>\n",
       "    <tr style=\"text-align: right;\">\n",
       "      <th></th>\n",
       "      <th>movieCd</th>\n",
       "      <th>movieNm</th>\n",
       "      <th>moviePartNm</th>\n",
       "      <th>peopleCd</th>\n",
       "      <th>peopleNm</th>\n",
       "      <th>sex</th>\n",
       "    </tr>\n",
       "  </thead>\n",
       "  <tbody>\n",
       "    <tr>\n",
       "      <th>3383</th>\n",
       "      <td>20179230</td>\n",
       "      <td>도어락</td>\n",
       "      <td>VFX 아티스트</td>\n",
       "      <td>20200534</td>\n",
       "      <td>조성희</td>\n",
       "      <td>NaN</td>\n",
       "    </tr>\n",
       "    <tr>\n",
       "      <th>3384</th>\n",
       "      <td>20156554</td>\n",
       "      <td>물괴</td>\n",
       "      <td>VFX 아티스트</td>\n",
       "      <td>20200534</td>\n",
       "      <td>조성희</td>\n",
       "      <td>NaN</td>\n",
       "    </tr>\n",
       "    <tr>\n",
       "      <th>3385</th>\n",
       "      <td>20142406</td>\n",
       "      <td>탐정 홍길동: 사라진 마을</td>\n",
       "      <td>VFX 아티스트</td>\n",
       "      <td>20200534</td>\n",
       "      <td>조성희</td>\n",
       "      <td>NaN</td>\n",
       "    </tr>\n",
       "    <tr>\n",
       "      <th>3386</th>\n",
       "      <td>20132799</td>\n",
       "      <td>족구왕</td>\n",
       "      <td>VFX 아티스트</td>\n",
       "      <td>20200534</td>\n",
       "      <td>조성희</td>\n",
       "      <td>NaN</td>\n",
       "    </tr>\n",
       "  </tbody>\n",
       "</table>\n",
       "</div>"
      ],
      "text/plain": [
       "       movieCd         movieNm moviePartNm  peopleCd peopleNm  sex\n",
       "3383  20179230             도어락    VFX 아티스트  20200534      조성희  NaN\n",
       "3384  20156554              물괴    VFX 아티스트  20200534      조성희  NaN\n",
       "3385  20142406  탐정 홍길동: 사라진 마을    VFX 아티스트  20200534      조성희  NaN\n",
       "3386  20132799             족구왕    VFX 아티스트  20200534      조성희  NaN"
      ]
     },
     "execution_count": 91,
     "metadata": {},
     "output_type": "execute_result"
    }
   ],
   "source": [
    "director_detail[director_detail['peopleCd']=='20200534']"
   ]
  },
  {
   "cell_type": "code",
   "execution_count": 73,
   "metadata": {
    "collapsed": true
   },
   "outputs": [
    {
     "data": {
      "text/html": [
       "<div>\n",
       "<style scoped>\n",
       "    .dataframe tbody tr th:only-of-type {\n",
       "        vertical-align: middle;\n",
       "    }\n",
       "\n",
       "    .dataframe tbody tr th {\n",
       "        vertical-align: top;\n",
       "    }\n",
       "\n",
       "    .dataframe thead th {\n",
       "        text-align: right;\n",
       "    }\n",
       "</style>\n",
       "<table border=\"1\" class=\"dataframe\">\n",
       "  <thead>\n",
       "    <tr style=\"text-align: right;\">\n",
       "      <th></th>\n",
       "      <th>movieCd</th>\n",
       "      <th>movieNm</th>\n",
       "      <th>moviePartNm</th>\n",
       "      <th>peopleCd</th>\n",
       "      <th>peopleNm</th>\n",
       "      <th>sex</th>\n",
       "    </tr>\n",
       "  </thead>\n",
       "  <tbody>\n",
       "    <tr>\n",
       "      <th>1206</th>\n",
       "      <td>20141598</td>\n",
       "      <td>타이밍</td>\n",
       "      <td>감독</td>\n",
       "      <td>10028546</td>\n",
       "      <td>박대열</td>\n",
       "      <td>NaN</td>\n",
       "    </tr>\n",
       "    <tr>\n",
       "      <th>1207</th>\n",
       "      <td>20141598</td>\n",
       "      <td>타이밍</td>\n",
       "      <td>애니메이션팀</td>\n",
       "      <td>10028546</td>\n",
       "      <td>박대열</td>\n",
       "      <td>NaN</td>\n",
       "    </tr>\n",
       "    <tr>\n",
       "      <th>1208</th>\n",
       "      <td>20141598</td>\n",
       "      <td>타이밍</td>\n",
       "      <td>스토리보드</td>\n",
       "      <td>10028546</td>\n",
       "      <td>박대열</td>\n",
       "      <td>NaN</td>\n",
       "    </tr>\n",
       "    <tr>\n",
       "      <th>1209</th>\n",
       "      <td>20060378</td>\n",
       "      <td>애니 프란체스카</td>\n",
       "      <td>감독</td>\n",
       "      <td>10028546</td>\n",
       "      <td>박대열</td>\n",
       "      <td>NaN</td>\n",
       "    </tr>\n",
       "    <tr>\n",
       "      <th>3383</th>\n",
       "      <td>20179230</td>\n",
       "      <td>도어락</td>\n",
       "      <td>VFX 아티스트</td>\n",
       "      <td>20200534</td>\n",
       "      <td>조성희</td>\n",
       "      <td>NaN</td>\n",
       "    </tr>\n",
       "    <tr>\n",
       "      <th>3384</th>\n",
       "      <td>20156554</td>\n",
       "      <td>물괴</td>\n",
       "      <td>VFX 아티스트</td>\n",
       "      <td>20200534</td>\n",
       "      <td>조성희</td>\n",
       "      <td>NaN</td>\n",
       "    </tr>\n",
       "    <tr>\n",
       "      <th>3385</th>\n",
       "      <td>20142406</td>\n",
       "      <td>탐정 홍길동: 사라진 마을</td>\n",
       "      <td>VFX 아티스트</td>\n",
       "      <td>20200534</td>\n",
       "      <td>조성희</td>\n",
       "      <td>NaN</td>\n",
       "    </tr>\n",
       "    <tr>\n",
       "      <th>3386</th>\n",
       "      <td>20132799</td>\n",
       "      <td>족구왕</td>\n",
       "      <td>VFX 아티스트</td>\n",
       "      <td>20200534</td>\n",
       "      <td>조성희</td>\n",
       "      <td>NaN</td>\n",
       "    </tr>\n",
       "    <tr>\n",
       "      <th>6257</th>\n",
       "      <td>20184442</td>\n",
       "      <td>어린 아내-무삭제판</td>\n",
       "      <td>감독</td>\n",
       "      <td>10089947</td>\n",
       "      <td>화니</td>\n",
       "      <td>NaN</td>\n",
       "    </tr>\n",
       "    <tr>\n",
       "      <th>6258</th>\n",
       "      <td>20182891</td>\n",
       "      <td>맛있는 유혹</td>\n",
       "      <td>촬영</td>\n",
       "      <td>10089947</td>\n",
       "      <td>화니</td>\n",
       "      <td>NaN</td>\n",
       "    </tr>\n",
       "    <tr>\n",
       "      <th>6259</th>\n",
       "      <td>20177103</td>\n",
       "      <td>섹스의 목적 - 감독판</td>\n",
       "      <td>촬영</td>\n",
       "      <td>10089947</td>\n",
       "      <td>화니</td>\n",
       "      <td>NaN</td>\n",
       "    </tr>\n",
       "    <tr>\n",
       "      <th>6260</th>\n",
       "      <td>20172665</td>\n",
       "      <td>바람난 아내</td>\n",
       "      <td>촬영</td>\n",
       "      <td>10089947</td>\n",
       "      <td>화니</td>\n",
       "      <td>NaN</td>\n",
       "    </tr>\n",
       "    <tr>\n",
       "      <th>6261</th>\n",
       "      <td>20179829</td>\n",
       "      <td>금지된 애욕</td>\n",
       "      <td>촬영</td>\n",
       "      <td>10089947</td>\n",
       "      <td>화니</td>\n",
       "      <td>NaN</td>\n",
       "    </tr>\n",
       "    <tr>\n",
       "      <th>6262</th>\n",
       "      <td>20178644</td>\n",
       "      <td>맛있는 섹스 그리고 여친</td>\n",
       "      <td>촬영</td>\n",
       "      <td>10089947</td>\n",
       "      <td>화니</td>\n",
       "      <td>NaN</td>\n",
       "    </tr>\n",
       "    <tr>\n",
       "      <th>6263</th>\n",
       "      <td>20178226</td>\n",
       "      <td>불륜의 유혹</td>\n",
       "      <td>촬영</td>\n",
       "      <td>10089947</td>\n",
       "      <td>화니</td>\n",
       "      <td>NaN</td>\n",
       "    </tr>\n",
       "    <tr>\n",
       "      <th>6264</th>\n",
       "      <td>20179694</td>\n",
       "      <td>맛있는 워킹걸</td>\n",
       "      <td>감독</td>\n",
       "      <td>10089947</td>\n",
       "      <td>화니</td>\n",
       "      <td>NaN</td>\n",
       "    </tr>\n",
       "    <tr>\n",
       "      <th>6265</th>\n",
       "      <td>20163963</td>\n",
       "      <td>어린 아내</td>\n",
       "      <td>감독</td>\n",
       "      <td>10089947</td>\n",
       "      <td>화니</td>\n",
       "      <td>NaN</td>\n",
       "    </tr>\n",
       "    <tr>\n",
       "      <th>6266</th>\n",
       "      <td>20168863</td>\n",
       "      <td>19 섹스 맛있는 속 궁합</td>\n",
       "      <td>촬영</td>\n",
       "      <td>10089947</td>\n",
       "      <td>화니</td>\n",
       "      <td>NaN</td>\n",
       "    </tr>\n",
       "    <tr>\n",
       "      <th>6879</th>\n",
       "      <td>20175581</td>\n",
       "      <td>파워배틀 와치카: 와치가면의 역습</td>\n",
       "      <td>감독</td>\n",
       "      <td>20292889</td>\n",
       "      <td>김래경</td>\n",
       "      <td>NaN</td>\n",
       "    </tr>\n",
       "    <tr>\n",
       "      <th>9444</th>\n",
       "      <td>20182781</td>\n",
       "      <td>아버지를 찾아서</td>\n",
       "      <td>감독</td>\n",
       "      <td>20303149</td>\n",
       "      <td>김무은</td>\n",
       "      <td>NaN</td>\n",
       "    </tr>\n",
       "    <tr>\n",
       "      <th>9445</th>\n",
       "      <td>20182781</td>\n",
       "      <td>아버지를 찾아서</td>\n",
       "      <td>시나리오(각본)</td>\n",
       "      <td>20303149</td>\n",
       "      <td>김무은</td>\n",
       "      <td>NaN</td>\n",
       "    </tr>\n",
       "    <tr>\n",
       "      <th>9446</th>\n",
       "      <td>20182781</td>\n",
       "      <td>아버지를 찾아서</td>\n",
       "      <td>편집</td>\n",
       "      <td>20303149</td>\n",
       "      <td>김무은</td>\n",
       "      <td>NaN</td>\n",
       "    </tr>\n",
       "    <tr>\n",
       "      <th>9499</th>\n",
       "      <td>20182221</td>\n",
       "      <td>스파키</td>\n",
       "      <td>감독</td>\n",
       "      <td>20315335</td>\n",
       "      <td>애론 우들리</td>\n",
       "      <td>NaN</td>\n",
       "    </tr>\n",
       "    <tr>\n",
       "      <th>9500</th>\n",
       "      <td>20182221</td>\n",
       "      <td>스파키</td>\n",
       "      <td>시나리오(각본)</td>\n",
       "      <td>20315335</td>\n",
       "      <td>애론 우들리</td>\n",
       "      <td>NaN</td>\n",
       "    </tr>\n",
       "  </tbody>\n",
       "</table>\n",
       "</div>"
      ],
      "text/plain": [
       "       movieCd             movieNm moviePartNm  peopleCd peopleNm  sex\n",
       "1206  20141598                 타이밍          감독  10028546      박대열  NaN\n",
       "1207  20141598                 타이밍      애니메이션팀  10028546      박대열  NaN\n",
       "1208  20141598                 타이밍       스토리보드  10028546      박대열  NaN\n",
       "1209  20060378            애니 프란체스카          감독  10028546      박대열  NaN\n",
       "3383  20179230                 도어락    VFX 아티스트  20200534      조성희  NaN\n",
       "3384  20156554                  물괴    VFX 아티스트  20200534      조성희  NaN\n",
       "3385  20142406      탐정 홍길동: 사라진 마을    VFX 아티스트  20200534      조성희  NaN\n",
       "3386  20132799                 족구왕    VFX 아티스트  20200534      조성희  NaN\n",
       "6257  20184442          어린 아내-무삭제판          감독  10089947       화니  NaN\n",
       "6258  20182891              맛있는 유혹          촬영  10089947       화니  NaN\n",
       "6259  20177103        섹스의 목적 - 감독판          촬영  10089947       화니  NaN\n",
       "6260  20172665              바람난 아내          촬영  10089947       화니  NaN\n",
       "6261  20179829              금지된 애욕          촬영  10089947       화니  NaN\n",
       "6262  20178644       맛있는 섹스 그리고 여친          촬영  10089947       화니  NaN\n",
       "6263  20178226              불륜의 유혹          촬영  10089947       화니  NaN\n",
       "6264  20179694             맛있는 워킹걸          감독  10089947       화니  NaN\n",
       "6265  20163963               어린 아내          감독  10089947       화니  NaN\n",
       "6266  20168863      19 섹스 맛있는 속 궁합          촬영  10089947       화니  NaN\n",
       "6879  20175581  파워배틀 와치카: 와치가면의 역습          감독  20292889      김래경  NaN\n",
       "9444  20182781            아버지를 찾아서          감독  20303149      김무은  NaN\n",
       "9445  20182781            아버지를 찾아서    시나리오(각본)  20303149      김무은  NaN\n",
       "9446  20182781            아버지를 찾아서          편집  20303149      김무은  NaN\n",
       "9499  20182221                 스파키          감독  20315335   애론 우들리  NaN\n",
       "9500  20182221                 스파키    시나리오(각본)  20315335   애론 우들리  NaN"
      ]
     },
     "execution_count": 73,
     "metadata": {},
     "output_type": "execute_result"
    }
   ],
   "source": [
    "director_detail[director_detail['sex'].isnull()]"
   ]
  },
  {
   "cell_type": "code",
   "execution_count": 98,
   "metadata": {},
   "outputs": [],
   "source": [
    "director_detail.to_csv('../01.Data_Collection/director_detail.csv', index=False)"
   ]
  },
  {
   "cell_type": "markdown",
   "metadata": {},
   "source": [
    "### 2차 작업"
   ]
  },
  {
   "cell_type": "code",
   "execution_count": 3,
   "metadata": {},
   "outputs": [
    {
     "data": {
      "text/html": [
       "<div>\n",
       "<style scoped>\n",
       "    .dataframe tbody tr th:only-of-type {\n",
       "        vertical-align: middle;\n",
       "    }\n",
       "\n",
       "    .dataframe tbody tr th {\n",
       "        vertical-align: top;\n",
       "    }\n",
       "\n",
       "    .dataframe thead th {\n",
       "        text-align: right;\n",
       "    }\n",
       "</style>\n",
       "<table border=\"1\" class=\"dataframe\">\n",
       "  <thead>\n",
       "    <tr style=\"text-align: right;\">\n",
       "      <th></th>\n",
       "      <th>movieCd</th>\n",
       "      <th>movieNm</th>\n",
       "      <th>peopleNm</th>\n",
       "      <th>repRoleNm</th>\n",
       "    </tr>\n",
       "  </thead>\n",
       "  <tbody>\n",
       "    <tr>\n",
       "      <th>0</th>\n",
       "      <td>20148048</td>\n",
       "      <td>베테랑</td>\n",
       "      <td>류승완</td>\n",
       "      <td>감독</td>\n",
       "    </tr>\n",
       "    <tr>\n",
       "      <th>1</th>\n",
       "      <td>20148851</td>\n",
       "      <td>암살</td>\n",
       "      <td>최동훈</td>\n",
       "      <td>감독</td>\n",
       "    </tr>\n",
       "    <tr>\n",
       "      <th>2</th>\n",
       "      <td>20149314</td>\n",
       "      <td>내부자들</td>\n",
       "      <td>우민호</td>\n",
       "      <td>감독</td>\n",
       "    </tr>\n",
       "    <tr>\n",
       "      <th>3</th>\n",
       "      <td>20145503</td>\n",
       "      <td>검은 사제들</td>\n",
       "      <td>장재현</td>\n",
       "      <td>감독</td>\n",
       "    </tr>\n",
       "    <tr>\n",
       "      <th>4</th>\n",
       "      <td>20148846</td>\n",
       "      <td>사도</td>\n",
       "      <td>이준익</td>\n",
       "      <td>감독</td>\n",
       "    </tr>\n",
       "  </tbody>\n",
       "</table>\n",
       "</div>"
      ],
      "text/plain": [
       "    movieCd movieNm peopleNm repRoleNm\n",
       "0  20148048     베테랑      류승완        감독\n",
       "1  20148851      암살      최동훈        감독\n",
       "2  20149314    내부자들      우민호        감독\n",
       "3  20145503  검은 사제들      장재현        감독\n",
       "4  20148846      사도      이준익        감독"
      ]
     },
     "execution_count": 3,
     "metadata": {},
     "output_type": "execute_result"
    }
   ],
   "source": [
    "directors.head()"
   ]
  },
  {
   "cell_type": "code",
   "execution_count": 4,
   "metadata": {},
   "outputs": [
    {
     "data": {
      "text/html": [
       "<div>\n",
       "<style scoped>\n",
       "    .dataframe tbody tr th:only-of-type {\n",
       "        vertical-align: middle;\n",
       "    }\n",
       "\n",
       "    .dataframe tbody tr th {\n",
       "        vertical-align: top;\n",
       "    }\n",
       "\n",
       "    .dataframe thead th {\n",
       "        text-align: right;\n",
       "    }\n",
       "</style>\n",
       "<table border=\"1\" class=\"dataframe\">\n",
       "  <thead>\n",
       "    <tr style=\"text-align: right;\">\n",
       "      <th></th>\n",
       "      <th>filmoNames</th>\n",
       "      <th>movieNm</th>\n",
       "      <th>peopleCd</th>\n",
       "      <th>peopleNm</th>\n",
       "      <th>repRoleNm</th>\n",
       "    </tr>\n",
       "  </thead>\n",
       "  <tbody>\n",
       "    <tr>\n",
       "      <th>0</th>\n",
       "      <td>엑시트|사바하|군함도|군함도 감독판|베테랑|베를린|평양성|부당거래|해결사|다찌마와리...</td>\n",
       "      <td>베테랑</td>\n",
       "      <td>10019069</td>\n",
       "      <td>류승완</td>\n",
       "      <td>감독</td>\n",
       "    </tr>\n",
       "    <tr>\n",
       "      <th>1</th>\n",
       "      <td>도청(가제)|암살|도둑들|전우치|중천|타짜|소년, 천국에 가다|그때 그 사람들|범죄...</td>\n",
       "      <td>암살</td>\n",
       "      <td>10072187</td>\n",
       "      <td>최동훈</td>\n",
       "      <td>감독</td>\n",
       "    </tr>\n",
       "    <tr>\n",
       "      <th>2</th>\n",
       "      <td>남산의 부장들|마약왕|내부자들: 디 오리지널|내부자들|간첩|파괴된 사나이|누가 예수...</td>\n",
       "      <td>내부자들</td>\n",
       "      <td>20111283</td>\n",
       "      <td>우민호</td>\n",
       "      <td>감독</td>\n",
       "    </tr>\n",
       "    <tr>\n",
       "      <th>3</th>\n",
       "      <td>사바하|시간위의 집|검은 사제들|광해, 왕이 된 남자|특수본|바다|12번째 보조사제...</td>\n",
       "      <td>검은 사제들</td>\n",
       "      <td>10060462</td>\n",
       "      <td>장재현</td>\n",
       "      <td>감독</td>\n",
       "    </tr>\n",
       "    <tr>\n",
       "      <th>4</th>\n",
       "      <td>자산어보|변산|박열|대배우|동주|그날의 분위기|사도|소원|봄날의 입맞춤|평양성|구르...</td>\n",
       "      <td>사도</td>\n",
       "      <td>10057485</td>\n",
       "      <td>이준익</td>\n",
       "      <td>감독</td>\n",
       "    </tr>\n",
       "  </tbody>\n",
       "</table>\n",
       "</div>"
      ],
      "text/plain": [
       "                                          filmoNames movieNm  peopleCd  \\\n",
       "0  엑시트|사바하|군함도|군함도 감독판|베테랑|베를린|평양성|부당거래|해결사|다찌마와리...     베테랑  10019069   \n",
       "1  도청(가제)|암살|도둑들|전우치|중천|타짜|소년, 천국에 가다|그때 그 사람들|범죄...      암살  10072187   \n",
       "2  남산의 부장들|마약왕|내부자들: 디 오리지널|내부자들|간첩|파괴된 사나이|누가 예수...    내부자들  20111283   \n",
       "3  사바하|시간위의 집|검은 사제들|광해, 왕이 된 남자|특수본|바다|12번째 보조사제...  검은 사제들  10060462   \n",
       "4  자산어보|변산|박열|대배우|동주|그날의 분위기|사도|소원|봄날의 입맞춤|평양성|구르...      사도  10057485   \n",
       "\n",
       "  peopleNm repRoleNm  \n",
       "0      류승완        감독  \n",
       "1      최동훈        감독  \n",
       "2      우민호        감독  \n",
       "3      장재현        감독  \n",
       "4      이준익        감독  "
      ]
     },
     "execution_count": 4,
     "metadata": {},
     "output_type": "execute_result"
    }
   ],
   "source": [
    "director_code.head()"
   ]
  },
  {
   "cell_type": "code",
   "execution_count": 5,
   "metadata": {},
   "outputs": [
    {
     "data": {
      "text/html": [
       "<div>\n",
       "<style scoped>\n",
       "    .dataframe tbody tr th:only-of-type {\n",
       "        vertical-align: middle;\n",
       "    }\n",
       "\n",
       "    .dataframe tbody tr th {\n",
       "        vertical-align: top;\n",
       "    }\n",
       "\n",
       "    .dataframe thead th {\n",
       "        text-align: right;\n",
       "    }\n",
       "</style>\n",
       "<table border=\"1\" class=\"dataframe\">\n",
       "  <thead>\n",
       "    <tr style=\"text-align: right;\">\n",
       "      <th></th>\n",
       "      <th>movieCd</th>\n",
       "      <th>movieNm</th>\n",
       "      <th>moviePartNm</th>\n",
       "      <th>peopleCd</th>\n",
       "      <th>peopleNm</th>\n",
       "      <th>sex</th>\n",
       "    </tr>\n",
       "  </thead>\n",
       "  <tbody>\n",
       "    <tr>\n",
       "      <th>0</th>\n",
       "      <td>20184621</td>\n",
       "      <td>엑시트</td>\n",
       "      <td>제작</td>\n",
       "      <td>10019069</td>\n",
       "      <td>류승완</td>\n",
       "      <td>남자</td>\n",
       "    </tr>\n",
       "    <tr>\n",
       "      <th>1</th>\n",
       "      <td>20177539</td>\n",
       "      <td>사바하</td>\n",
       "      <td>제작</td>\n",
       "      <td>10019069</td>\n",
       "      <td>류승완</td>\n",
       "      <td>남자</td>\n",
       "    </tr>\n",
       "    <tr>\n",
       "      <th>2</th>\n",
       "      <td>20161481</td>\n",
       "      <td>군함도</td>\n",
       "      <td>감독</td>\n",
       "      <td>10019069</td>\n",
       "      <td>류승완</td>\n",
       "      <td>남자</td>\n",
       "    </tr>\n",
       "    <tr>\n",
       "      <th>3</th>\n",
       "      <td>20161481</td>\n",
       "      <td>군함도</td>\n",
       "      <td>시나리오(각본)</td>\n",
       "      <td>10019069</td>\n",
       "      <td>류승완</td>\n",
       "      <td>남자</td>\n",
       "    </tr>\n",
       "    <tr>\n",
       "      <th>4</th>\n",
       "      <td>20161481</td>\n",
       "      <td>군함도</td>\n",
       "      <td>기획</td>\n",
       "      <td>10019069</td>\n",
       "      <td>류승완</td>\n",
       "      <td>남자</td>\n",
       "    </tr>\n",
       "  </tbody>\n",
       "</table>\n",
       "</div>"
      ],
      "text/plain": [
       "    movieCd movieNm moviePartNm  peopleCd peopleNm sex\n",
       "0  20184621     엑시트          제작  10019069      류승완  남자\n",
       "1  20177539     사바하          제작  10019069      류승완  남자\n",
       "2  20161481     군함도          감독  10019069      류승완  남자\n",
       "3  20161481     군함도    시나리오(각본)  10019069      류승완  남자\n",
       "4  20161481     군함도          기획  10019069      류승완  남자"
      ]
     },
     "execution_count": 5,
     "metadata": {},
     "output_type": "execute_result"
    }
   ],
   "source": [
    "director_detail.head()"
   ]
  },
  {
   "cell_type": "markdown",
   "metadata": {},
   "source": [
    "# directors, director_code, director_detail merge"
   ]
  },
  {
   "cell_type": "code",
   "execution_count": 9,
   "metadata": {},
   "outputs": [
    {
     "data": {
      "text/plain": [
       "801"
      ]
     },
     "execution_count": 9,
     "metadata": {},
     "output_type": "execute_result"
    }
   ],
   "source": [
    "directors['movieNm'].nunique()"
   ]
  },
  {
   "cell_type": "code",
   "execution_count": 11,
   "metadata": {},
   "outputs": [
    {
     "data": {
      "text/plain": [
       "801"
      ]
     },
     "execution_count": 11,
     "metadata": {},
     "output_type": "execute_result"
    }
   ],
   "source": [
    "director_code['movieNm'].nunique()"
   ]
  },
  {
   "cell_type": "code",
   "execution_count": 12,
   "metadata": {},
   "outputs": [
    {
     "data": {
      "text/plain": [
       "889"
      ]
     },
     "execution_count": 12,
     "metadata": {},
     "output_type": "execute_result"
    }
   ],
   "source": [
    "len(directors)"
   ]
  },
  {
   "cell_type": "markdown",
   "metadata": {},
   "source": [
    "동명의 영화 확인"
   ]
  },
  {
   "cell_type": "code",
   "execution_count": 24,
   "metadata": {
    "scrolled": true
   },
   "outputs": [],
   "source": [
    "same_name_film= director_code.groupby(['movieNm']).count()"
   ]
  },
  {
   "cell_type": "code",
   "execution_count": 31,
   "metadata": {},
   "outputs": [
    {
     "data": {
      "text/html": [
       "<div>\n",
       "<style scoped>\n",
       "    .dataframe tbody tr th:only-of-type {\n",
       "        vertical-align: middle;\n",
       "    }\n",
       "\n",
       "    .dataframe tbody tr th {\n",
       "        vertical-align: top;\n",
       "    }\n",
       "\n",
       "    .dataframe thead th {\n",
       "        text-align: right;\n",
       "    }\n",
       "</style>\n",
       "<table border=\"1\" class=\"dataframe\">\n",
       "  <thead>\n",
       "    <tr style=\"text-align: right;\">\n",
       "      <th></th>\n",
       "      <th>filmoNames</th>\n",
       "      <th>peopleCd</th>\n",
       "      <th>peopleNm</th>\n",
       "      <th>repRoleNm</th>\n",
       "    </tr>\n",
       "    <tr>\n",
       "      <th>movieNm</th>\n",
       "      <th></th>\n",
       "      <th></th>\n",
       "      <th></th>\n",
       "      <th></th>\n",
       "    </tr>\n",
       "  </thead>\n",
       "  <tbody>\n",
       "    <tr>\n",
       "      <th>너와 극장에서</th>\n",
       "      <td>4</td>\n",
       "      <td>4</td>\n",
       "      <td>4</td>\n",
       "      <td>4</td>\n",
       "    </tr>\n",
       "    <tr>\n",
       "      <th>더 펜션</th>\n",
       "      <td>4</td>\n",
       "      <td>4</td>\n",
       "      <td>4</td>\n",
       "      <td>4</td>\n",
       "    </tr>\n",
       "    <tr>\n",
       "      <th>뚜르: 내 생애 최고의 49일</th>\n",
       "      <td>4</td>\n",
       "      <td>4</td>\n",
       "      <td>4</td>\n",
       "      <td>4</td>\n",
       "    </tr>\n",
       "    <tr>\n",
       "      <th>무서운 이야기 3 : 화성에서 온 소녀</th>\n",
       "      <td>4</td>\n",
       "      <td>4</td>\n",
       "      <td>4</td>\n",
       "      <td>4</td>\n",
       "    </tr>\n",
       "    <tr>\n",
       "      <th>오늘영화</th>\n",
       "      <td>4</td>\n",
       "      <td>4</td>\n",
       "      <td>4</td>\n",
       "      <td>4</td>\n",
       "    </tr>\n",
       "    <tr>\n",
       "      <th>창간호</th>\n",
       "      <td>4</td>\n",
       "      <td>4</td>\n",
       "      <td>4</td>\n",
       "      <td>4</td>\n",
       "    </tr>\n",
       "  </tbody>\n",
       "</table>\n",
       "</div>"
      ],
      "text/plain": [
       "                       filmoNames  peopleCd  peopleNm  repRoleNm\n",
       "movieNm                                                         \n",
       "너와 극장에서                         4         4         4          4\n",
       "더 펜션                            4         4         4          4\n",
       "뚜르: 내 생애 최고의 49일                4         4         4          4\n",
       "무서운 이야기 3 : 화성에서 온 소녀           4         4         4          4\n",
       "오늘영화                            4         4         4          4\n",
       "창간호                             4         4         4          4"
      ]
     },
     "execution_count": 31,
     "metadata": {},
     "output_type": "execute_result"
    }
   ],
   "source": [
    "same_name_film[same_name_film['peopleCd']>=4]"
   ]
  },
  {
   "cell_type": "code",
   "execution_count": 15,
   "metadata": {},
   "outputs": [
    {
     "data": {
      "text/html": [
       "<div>\n",
       "<style scoped>\n",
       "    .dataframe tbody tr th:only-of-type {\n",
       "        vertical-align: middle;\n",
       "    }\n",
       "\n",
       "    .dataframe tbody tr th {\n",
       "        vertical-align: top;\n",
       "    }\n",
       "\n",
       "    .dataframe thead th {\n",
       "        text-align: right;\n",
       "    }\n",
       "</style>\n",
       "<table border=\"1\" class=\"dataframe\">\n",
       "  <thead>\n",
       "    <tr style=\"text-align: right;\">\n",
       "      <th></th>\n",
       "      <th>filmoNames</th>\n",
       "      <th>movieNm</th>\n",
       "      <th>peopleCd</th>\n",
       "      <th>peopleNm</th>\n",
       "      <th>repRoleNm</th>\n",
       "    </tr>\n",
       "  </thead>\n",
       "  <tbody>\n",
       "    <tr>\n",
       "      <th>229</th>\n",
       "      <td>허스토리|당신, 거기 있어줄래요|간신|내 아내의 모든 것|세상에서 가장 아름다운 이...</td>\n",
       "      <td>무서운 이야기 3 : 화성에서 온 소녀</td>\n",
       "      <td>10027774</td>\n",
       "      <td>민규동</td>\n",
       "      <td>감독</td>\n",
       "    </tr>\n",
       "    <tr>\n",
       "      <th>230</th>\n",
       "      <td>코메디: 다 웃자고 하는 얘기|솔루션|자가당착: 시대정신과 현실참여|화이트: 저주의...</td>\n",
       "      <td>무서운 이야기 3 : 화성에서 온 소녀</td>\n",
       "      <td>10003598</td>\n",
       "      <td>김곡</td>\n",
       "      <td>감독</td>\n",
       "    </tr>\n",
       "    <tr>\n",
       "      <th>231</th>\n",
       "      <td>나와 봄날의 약속|내 심장을 쏴라|디어 에밀리|장례식의 멤버|프랑스 중위의 여자|무...</td>\n",
       "      <td>무서운 이야기 3 : 화성에서 온 소녀</td>\n",
       "      <td>20080184</td>\n",
       "      <td>백승빈</td>\n",
       "      <td>감독</td>\n",
       "    </tr>\n",
       "    <tr>\n",
       "      <th>232</th>\n",
       "      <td>무서운 이야기 3 : 화성에서 온 소녀|무서운 이야기 3 '로드레이지'</td>\n",
       "      <td>무서운 이야기 3 : 화성에서 온 소녀</td>\n",
       "      <td>20258772</td>\n",
       "      <td>김선</td>\n",
       "      <td>음악</td>\n",
       "    </tr>\n",
       "  </tbody>\n",
       "</table>\n",
       "</div>"
      ],
      "text/plain": [
       "                                            filmoNames                movieNm  \\\n",
       "229  허스토리|당신, 거기 있어줄래요|간신|내 아내의 모든 것|세상에서 가장 아름다운 이...  무서운 이야기 3 : 화성에서 온 소녀   \n",
       "230  코메디: 다 웃자고 하는 얘기|솔루션|자가당착: 시대정신과 현실참여|화이트: 저주의...  무서운 이야기 3 : 화성에서 온 소녀   \n",
       "231  나와 봄날의 약속|내 심장을 쏴라|디어 에밀리|장례식의 멤버|프랑스 중위의 여자|무...  무서운 이야기 3 : 화성에서 온 소녀   \n",
       "232            무서운 이야기 3 : 화성에서 온 소녀|무서운 이야기 3 '로드레이지'  무서운 이야기 3 : 화성에서 온 소녀   \n",
       "\n",
       "     peopleCd peopleNm repRoleNm  \n",
       "229  10027774      민규동        감독  \n",
       "230  10003598       김곡        감독  \n",
       "231  20080184      백승빈        감독  \n",
       "232  20258772       김선        음악  "
      ]
     },
     "execution_count": 15,
     "metadata": {},
     "output_type": "execute_result"
    }
   ],
   "source": [
    "director_code[director_code['movieNm']=='무서운 이야기 3 : 화성에서 온 소녀']"
   ]
  },
  {
   "cell_type": "code",
   "execution_count": 16,
   "metadata": {},
   "outputs": [
    {
     "data": {
      "text/html": [
       "<div>\n",
       "<style scoped>\n",
       "    .dataframe tbody tr th:only-of-type {\n",
       "        vertical-align: middle;\n",
       "    }\n",
       "\n",
       "    .dataframe tbody tr th {\n",
       "        vertical-align: top;\n",
       "    }\n",
       "\n",
       "    .dataframe thead th {\n",
       "        text-align: right;\n",
       "    }\n",
       "</style>\n",
       "<table border=\"1\" class=\"dataframe\">\n",
       "  <thead>\n",
       "    <tr style=\"text-align: right;\">\n",
       "      <th></th>\n",
       "      <th>movieCd</th>\n",
       "      <th>movieNm</th>\n",
       "      <th>peopleNm</th>\n",
       "      <th>repRoleNm</th>\n",
       "    </tr>\n",
       "  </thead>\n",
       "  <tbody>\n",
       "    <tr>\n",
       "      <th>229</th>\n",
       "      <td>20158242</td>\n",
       "      <td>무서운 이야기 3 : 화성에서 온 소녀</td>\n",
       "      <td>민규동</td>\n",
       "      <td>감독</td>\n",
       "    </tr>\n",
       "    <tr>\n",
       "      <th>230</th>\n",
       "      <td>20158242</td>\n",
       "      <td>무서운 이야기 3 : 화성에서 온 소녀</td>\n",
       "      <td>김곡</td>\n",
       "      <td>감독</td>\n",
       "    </tr>\n",
       "    <tr>\n",
       "      <th>231</th>\n",
       "      <td>20158242</td>\n",
       "      <td>무서운 이야기 3 : 화성에서 온 소녀</td>\n",
       "      <td>백승빈</td>\n",
       "      <td>감독</td>\n",
       "    </tr>\n",
       "    <tr>\n",
       "      <th>232</th>\n",
       "      <td>20158242</td>\n",
       "      <td>무서운 이야기 3 : 화성에서 온 소녀</td>\n",
       "      <td>김선</td>\n",
       "      <td>감독</td>\n",
       "    </tr>\n",
       "  </tbody>\n",
       "</table>\n",
       "</div>"
      ],
      "text/plain": [
       "      movieCd                movieNm peopleNm repRoleNm\n",
       "229  20158242  무서운 이야기 3 : 화성에서 온 소녀      민규동        감독\n",
       "230  20158242  무서운 이야기 3 : 화성에서 온 소녀       김곡        감독\n",
       "231  20158242  무서운 이야기 3 : 화성에서 온 소녀      백승빈        감독\n",
       "232  20158242  무서운 이야기 3 : 화성에서 온 소녀       김선        감독"
      ]
     },
     "execution_count": 16,
     "metadata": {},
     "output_type": "execute_result"
    }
   ],
   "source": [
    "directors[directors['movieNm']=='무서운 이야기 3 : 화성에서 온 소녀']"
   ]
  },
  {
   "cell_type": "markdown",
   "metadata": {},
   "source": [
    "결론: repRoleNm이 값마다 제각각이니 우선 두 컬럼 다 살리는 방향으로 merge"
   ]
  },
  {
   "cell_type": "markdown",
   "metadata": {},
   "source": [
    "### 중복값 확인"
   ]
  },
  {
   "cell_type": "code",
   "execution_count": 26,
   "metadata": {},
   "outputs": [
    {
     "name": "stdout",
     "output_type": "stream",
     "text": [
      "(889, 5)\n",
      "(884, 5)\n",
      "2 번 이상 들어간 작가 수 5\n"
     ]
    },
    {
     "data": {
      "text/html": [
       "<div>\n",
       "<style scoped>\n",
       "    .dataframe tbody tr th:only-of-type {\n",
       "        vertical-align: middle;\n",
       "    }\n",
       "\n",
       "    .dataframe tbody tr th {\n",
       "        vertical-align: top;\n",
       "    }\n",
       "\n",
       "    .dataframe thead th {\n",
       "        text-align: right;\n",
       "    }\n",
       "</style>\n",
       "<table border=\"1\" class=\"dataframe\">\n",
       "  <thead>\n",
       "    <tr style=\"text-align: right;\">\n",
       "      <th></th>\n",
       "      <th></th>\n",
       "      <th>peopleCd</th>\n",
       "    </tr>\n",
       "    <tr>\n",
       "      <th>movieNm</th>\n",
       "      <th>peopleNm</th>\n",
       "      <th></th>\n",
       "    </tr>\n",
       "  </thead>\n",
       "  <tbody>\n",
       "    <tr>\n",
       "      <th>게스트하우스</th>\n",
       "      <th>조성규</th>\n",
       "      <td>2</td>\n",
       "    </tr>\n",
       "    <tr>\n",
       "      <th>귀향, 끝나지 않은 이야기</th>\n",
       "      <th>조정래</th>\n",
       "      <td>2</td>\n",
       "    </tr>\n",
       "    <tr>\n",
       "      <th>너와 극장에서</th>\n",
       "      <th>정가영</th>\n",
       "      <td>2</td>\n",
       "    </tr>\n",
       "    <tr>\n",
       "      <th>무현, 두 도시 이야기 : 파이널 컷</th>\n",
       "      <th>전인환</th>\n",
       "      <td>2</td>\n",
       "    </tr>\n",
       "    <tr>\n",
       "      <th>우리는 썰매를 탄다</th>\n",
       "      <th>김경만</th>\n",
       "      <td>2</td>\n",
       "    </tr>\n",
       "  </tbody>\n",
       "</table>\n",
       "</div>"
      ],
      "text/plain": [
       "                               peopleCd\n",
       "movieNm              peopleNm          \n",
       "게스트하우스               조성규              2\n",
       "귀향, 끝나지 않은 이야기       조정래              2\n",
       "너와 극장에서              정가영              2\n",
       "무현, 두 도시 이야기 : 파이널 컷 전인환              2\n",
       "우리는 썰매를 탄다           김경만              2"
      ]
     },
     "execution_count": 26,
     "metadata": {},
     "output_type": "execute_result"
    }
   ],
   "source": [
    "print(director_code.shape)\n",
    "director_code_drop_dp = director_code.drop_duplicates()\n",
    "print(director_code_drop_dp.shape)\n",
    "\n",
    "direct_list_count = pd.DataFrame(director_code.groupby(['movieNm', 'peopleNm'])['peopleCd'].size())\n",
    "print('2 번 이상 들어간 작가 수', len(direct_list_count[direct_list_count['peopleCd'] > 1]))\n",
    "direct_list_count[direct_list_count['peopleCd'] > 1]"
   ]
  },
  {
   "cell_type": "code",
   "execution_count": 25,
   "metadata": {},
   "outputs": [
    {
     "name": "stdout",
     "output_type": "stream",
     "text": [
      "(889, 4)\n",
      "(884, 4)\n",
      "2 번 이상 들어간 감독 수 5\n"
     ]
    },
    {
     "data": {
      "text/html": [
       "<div>\n",
       "<style scoped>\n",
       "    .dataframe tbody tr th:only-of-type {\n",
       "        vertical-align: middle;\n",
       "    }\n",
       "\n",
       "    .dataframe tbody tr th {\n",
       "        vertical-align: top;\n",
       "    }\n",
       "\n",
       "    .dataframe thead th {\n",
       "        text-align: right;\n",
       "    }\n",
       "</style>\n",
       "<table border=\"1\" class=\"dataframe\">\n",
       "  <thead>\n",
       "    <tr style=\"text-align: right;\">\n",
       "      <th></th>\n",
       "      <th></th>\n",
       "      <th>movieCd</th>\n",
       "    </tr>\n",
       "    <tr>\n",
       "      <th>movieNm</th>\n",
       "      <th>peopleNm</th>\n",
       "      <th></th>\n",
       "    </tr>\n",
       "  </thead>\n",
       "  <tbody>\n",
       "    <tr>\n",
       "      <th>게스트하우스</th>\n",
       "      <th>조성규</th>\n",
       "      <td>2</td>\n",
       "    </tr>\n",
       "    <tr>\n",
       "      <th>귀향, 끝나지 않은 이야기</th>\n",
       "      <th>조정래</th>\n",
       "      <td>2</td>\n",
       "    </tr>\n",
       "    <tr>\n",
       "      <th>너와 극장에서</th>\n",
       "      <th>정가영</th>\n",
       "      <td>2</td>\n",
       "    </tr>\n",
       "    <tr>\n",
       "      <th>무현, 두 도시 이야기 : 파이널 컷</th>\n",
       "      <th>전인환</th>\n",
       "      <td>2</td>\n",
       "    </tr>\n",
       "    <tr>\n",
       "      <th>우리는 썰매를 탄다</th>\n",
       "      <th>김경만</th>\n",
       "      <td>2</td>\n",
       "    </tr>\n",
       "  </tbody>\n",
       "</table>\n",
       "</div>"
      ],
      "text/plain": [
       "                               movieCd\n",
       "movieNm              peopleNm         \n",
       "게스트하우스               조성규             2\n",
       "귀향, 끝나지 않은 이야기       조정래             2\n",
       "너와 극장에서              정가영             2\n",
       "무현, 두 도시 이야기 : 파이널 컷 전인환             2\n",
       "우리는 썰매를 탄다           김경만             2"
      ]
     },
     "execution_count": 25,
     "metadata": {},
     "output_type": "execute_result"
    }
   ],
   "source": [
    "print(directors.shape)\n",
    "directors_drop_dp = directors.drop_duplicates()\n",
    "print(directors_drop_dp.shape)\n",
    "\n",
    "director_list_count = pd.DataFrame(directors.groupby(['movieNm', 'peopleNm'])['movieCd'].size())\n",
    "print('2 번 이상 들어간 감독 수', len(director_list_count[director_list_count['movieCd'] > 1]))\n",
    "director_list_count[director_list_count['movieCd'] > 1]"
   ]
  },
  {
   "cell_type": "code",
   "execution_count": 23,
   "metadata": {},
   "outputs": [
    {
     "data": {
      "text/html": [
       "<div>\n",
       "<style scoped>\n",
       "    .dataframe tbody tr th:only-of-type {\n",
       "        vertical-align: middle;\n",
       "    }\n",
       "\n",
       "    .dataframe tbody tr th {\n",
       "        vertical-align: top;\n",
       "    }\n",
       "\n",
       "    .dataframe thead th {\n",
       "        text-align: right;\n",
       "    }\n",
       "</style>\n",
       "<table border=\"1\" class=\"dataframe\">\n",
       "  <thead>\n",
       "    <tr style=\"text-align: right;\">\n",
       "      <th></th>\n",
       "      <th>filmoNames</th>\n",
       "      <th>movieNm</th>\n",
       "      <th>peopleCd</th>\n",
       "      <th>peopleNm</th>\n",
       "      <th>repRoleNm</th>\n",
       "    </tr>\n",
       "  </thead>\n",
       "  <tbody>\n",
       "    <tr>\n",
       "      <th>567</th>\n",
       "      <td>재혼의 기술|발광하는 현대사|늦여름|딥|각자의 미식|게스트하우스|실종2|어떻게 헤어...</td>\n",
       "      <td>게스트하우스</td>\n",
       "      <td>10065915</td>\n",
       "      <td>조성규</td>\n",
       "      <td>감독</td>\n",
       "    </tr>\n",
       "    <tr>\n",
       "      <th>568</th>\n",
       "      <td>재혼의 기술|발광하는 현대사|늦여름|딥|각자의 미식|게스트하우스|실종2|어떻게 헤어...</td>\n",
       "      <td>게스트하우스</td>\n",
       "      <td>10065915</td>\n",
       "      <td>조성규</td>\n",
       "      <td>감독</td>\n",
       "    </tr>\n",
       "  </tbody>\n",
       "</table>\n",
       "</div>"
      ],
      "text/plain": [
       "                                            filmoNames movieNm  peopleCd  \\\n",
       "567  재혼의 기술|발광하는 현대사|늦여름|딥|각자의 미식|게스트하우스|실종2|어떻게 헤어...  게스트하우스  10065915   \n",
       "568  재혼의 기술|발광하는 현대사|늦여름|딥|각자의 미식|게스트하우스|실종2|어떻게 헤어...  게스트하우스  10065915   \n",
       "\n",
       "    peopleNm repRoleNm  \n",
       "567      조성규        감독  \n",
       "568      조성규        감독  "
      ]
     },
     "execution_count": 23,
     "metadata": {},
     "output_type": "execute_result"
    }
   ],
   "source": [
    "director_code[director_code['movieNm']=='게스트하우스']"
   ]
  },
  {
   "cell_type": "markdown",
   "metadata": {},
   "source": [
    "중복 row 있을 이유 없으므로 삭제한것으로 사용"
   ]
  },
  {
   "cell_type": "code",
   "execution_count": 34,
   "metadata": {},
   "outputs": [
    {
     "name": "stdout",
     "output_type": "stream",
     "text": [
      "(13084, 6)\n",
      "(8755, 6)\n",
      "2 번 이상 들어간 감독 수 2670\n"
     ]
    }
   ],
   "source": [
    "# director_detail 도 같은 작업\n",
    "print(director_detail.shape)\n",
    "director_detail_drop_dp = director_detail.drop_duplicates()\n",
    "print(director_detail_drop_dp.shape)\n",
    "\n",
    "director_list_count = pd.DataFrame(director_detail.groupby(['movieNm', 'peopleNm'])['movieCd'].size())\n",
    "print('2 번 이상 들어간 감독 수', len(director_list_count[director_list_count['movieCd'] > 1]))"
   ]
  },
  {
   "cell_type": "code",
   "execution_count": 30,
   "metadata": {},
   "outputs": [
    {
     "data": {
      "text/html": [
       "<div>\n",
       "<style scoped>\n",
       "    .dataframe tbody tr th:only-of-type {\n",
       "        vertical-align: middle;\n",
       "    }\n",
       "\n",
       "    .dataframe tbody tr th {\n",
       "        vertical-align: top;\n",
       "    }\n",
       "\n",
       "    .dataframe thead th {\n",
       "        text-align: right;\n",
       "    }\n",
       "</style>\n",
       "<table border=\"1\" class=\"dataframe\">\n",
       "  <thead>\n",
       "    <tr style=\"text-align: right;\">\n",
       "      <th></th>\n",
       "      <th>movieCd</th>\n",
       "      <th>movieNm</th>\n",
       "      <th>moviePartNm</th>\n",
       "      <th>peopleCd</th>\n",
       "      <th>peopleNm</th>\n",
       "      <th>sex</th>\n",
       "    </tr>\n",
       "  </thead>\n",
       "  <tbody>\n",
       "    <tr>\n",
       "      <th>143</th>\n",
       "      <td>20122123</td>\n",
       "      <td>힘내세요, 병헌씨</td>\n",
       "      <td>감독</td>\n",
       "      <td>20125862</td>\n",
       "      <td>이병헌</td>\n",
       "      <td>남자</td>\n",
       "    </tr>\n",
       "    <tr>\n",
       "      <th>144</th>\n",
       "      <td>20122123</td>\n",
       "      <td>힘내세요, 병헌씨</td>\n",
       "      <td>배우</td>\n",
       "      <td>20125862</td>\n",
       "      <td>이병헌</td>\n",
       "      <td>남자</td>\n",
       "    </tr>\n",
       "    <tr>\n",
       "      <th>145</th>\n",
       "      <td>20122123</td>\n",
       "      <td>힘내세요, 병헌씨</td>\n",
       "      <td>시나리오(각본)</td>\n",
       "      <td>20125862</td>\n",
       "      <td>이병헌</td>\n",
       "      <td>남자</td>\n",
       "    </tr>\n",
       "    <tr>\n",
       "      <th>146</th>\n",
       "      <td>20122123</td>\n",
       "      <td>힘내세요, 병헌씨</td>\n",
       "      <td>제작</td>\n",
       "      <td>20125862</td>\n",
       "      <td>이병헌</td>\n",
       "      <td>남자</td>\n",
       "    </tr>\n",
       "    <tr>\n",
       "      <th>9435</th>\n",
       "      <td>20122123</td>\n",
       "      <td>힘내세요, 병헌씨</td>\n",
       "      <td>감독</td>\n",
       "      <td>20125862</td>\n",
       "      <td>이병헌</td>\n",
       "      <td>남자</td>\n",
       "    </tr>\n",
       "    <tr>\n",
       "      <th>9436</th>\n",
       "      <td>20122123</td>\n",
       "      <td>힘내세요, 병헌씨</td>\n",
       "      <td>배우</td>\n",
       "      <td>20125862</td>\n",
       "      <td>이병헌</td>\n",
       "      <td>남자</td>\n",
       "    </tr>\n",
       "    <tr>\n",
       "      <th>9437</th>\n",
       "      <td>20122123</td>\n",
       "      <td>힘내세요, 병헌씨</td>\n",
       "      <td>시나리오(각본)</td>\n",
       "      <td>20125862</td>\n",
       "      <td>이병헌</td>\n",
       "      <td>남자</td>\n",
       "    </tr>\n",
       "    <tr>\n",
       "      <th>9438</th>\n",
       "      <td>20122123</td>\n",
       "      <td>힘내세요, 병헌씨</td>\n",
       "      <td>제작</td>\n",
       "      <td>20125862</td>\n",
       "      <td>이병헌</td>\n",
       "      <td>남자</td>\n",
       "    </tr>\n",
       "    <tr>\n",
       "      <th>13074</th>\n",
       "      <td>20122123</td>\n",
       "      <td>힘내세요, 병헌씨</td>\n",
       "      <td>감독</td>\n",
       "      <td>20125862</td>\n",
       "      <td>이병헌</td>\n",
       "      <td>남자</td>\n",
       "    </tr>\n",
       "    <tr>\n",
       "      <th>13075</th>\n",
       "      <td>20122123</td>\n",
       "      <td>힘내세요, 병헌씨</td>\n",
       "      <td>배우</td>\n",
       "      <td>20125862</td>\n",
       "      <td>이병헌</td>\n",
       "      <td>남자</td>\n",
       "    </tr>\n",
       "    <tr>\n",
       "      <th>13076</th>\n",
       "      <td>20122123</td>\n",
       "      <td>힘내세요, 병헌씨</td>\n",
       "      <td>시나리오(각본)</td>\n",
       "      <td>20125862</td>\n",
       "      <td>이병헌</td>\n",
       "      <td>남자</td>\n",
       "    </tr>\n",
       "    <tr>\n",
       "      <th>13077</th>\n",
       "      <td>20122123</td>\n",
       "      <td>힘내세요, 병헌씨</td>\n",
       "      <td>제작</td>\n",
       "      <td>20125862</td>\n",
       "      <td>이병헌</td>\n",
       "      <td>남자</td>\n",
       "    </tr>\n",
       "  </tbody>\n",
       "</table>\n",
       "</div>"
      ],
      "text/plain": [
       "        movieCd    movieNm moviePartNm  peopleCd peopleNm sex\n",
       "143    20122123  힘내세요, 병헌씨          감독  20125862      이병헌  남자\n",
       "144    20122123  힘내세요, 병헌씨          배우  20125862      이병헌  남자\n",
       "145    20122123  힘내세요, 병헌씨    시나리오(각본)  20125862      이병헌  남자\n",
       "146    20122123  힘내세요, 병헌씨          제작  20125862      이병헌  남자\n",
       "9435   20122123  힘내세요, 병헌씨          감독  20125862      이병헌  남자\n",
       "9436   20122123  힘내세요, 병헌씨          배우  20125862      이병헌  남자\n",
       "9437   20122123  힘내세요, 병헌씨    시나리오(각본)  20125862      이병헌  남자\n",
       "9438   20122123  힘내세요, 병헌씨          제작  20125862      이병헌  남자\n",
       "13074  20122123  힘내세요, 병헌씨          감독  20125862      이병헌  남자\n",
       "13075  20122123  힘내세요, 병헌씨          배우  20125862      이병헌  남자\n",
       "13076  20122123  힘내세요, 병헌씨    시나리오(각본)  20125862      이병헌  남자\n",
       "13077  20122123  힘내세요, 병헌씨          제작  20125862      이병헌  남자"
      ]
     },
     "execution_count": 30,
     "metadata": {},
     "output_type": "execute_result"
    }
   ],
   "source": [
    "# 케이스 확인\n",
    "director_detail[director_detail['movieNm']=='힘내세요, 병헌씨']"
   ]
  },
  {
   "cell_type": "markdown",
   "metadata": {},
   "source": [
    "merge"
   ]
  },
  {
   "cell_type": "code",
   "execution_count": 39,
   "metadata": {
    "scrolled": true
   },
   "outputs": [
    {
     "data": {
      "text/html": [
       "<div>\n",
       "<style scoped>\n",
       "    .dataframe tbody tr th:only-of-type {\n",
       "        vertical-align: middle;\n",
       "    }\n",
       "\n",
       "    .dataframe tbody tr th {\n",
       "        vertical-align: top;\n",
       "    }\n",
       "\n",
       "    .dataframe thead th {\n",
       "        text-align: right;\n",
       "    }\n",
       "</style>\n",
       "<table border=\"1\" class=\"dataframe\">\n",
       "  <thead>\n",
       "    <tr style=\"text-align: right;\">\n",
       "      <th></th>\n",
       "      <th>movieCd</th>\n",
       "      <th>movieNm</th>\n",
       "      <th>peopleNm</th>\n",
       "      <th>repRoleNm_x</th>\n",
       "      <th>filmoNames</th>\n",
       "      <th>peopleCd</th>\n",
       "      <th>repRoleNm_y</th>\n",
       "    </tr>\n",
       "  </thead>\n",
       "  <tbody>\n",
       "    <tr>\n",
       "      <th>879</th>\n",
       "      <td>20188750</td>\n",
       "      <td>나쁜 녀석들: 더 무비</td>\n",
       "      <td>손용호</td>\n",
       "      <td>감독</td>\n",
       "      <td>나쁜 녀석들: 더 무비|살인의뢰|사랑 따윈 필요 없어</td>\n",
       "      <td>20188569</td>\n",
       "      <td>감독</td>\n",
       "    </tr>\n",
       "  </tbody>\n",
       "</table>\n",
       "</div>"
      ],
      "text/plain": [
       "      movieCd       movieNm peopleNm repRoleNm_x  \\\n",
       "879  20188750  나쁜 녀석들: 더 무비      손용호          감독   \n",
       "\n",
       "                        filmoNames  peopleCd repRoleNm_y  \n",
       "879  나쁜 녀석들: 더 무비|살인의뢰|사랑 따윈 필요 없어  20188569          감독  "
      ]
     },
     "execution_count": 39,
     "metadata": {},
     "output_type": "execute_result"
    }
   ],
   "source": [
    "director_all = directors_drop_dp.merge(director_code_drop_dp, how='inner', on=['movieNm', 'peopleNm'])\n",
    "director_all.sample()\n",
    "# 어떤 컬럼 기준으로 repRoleNm 쓸지 결정해야 함(domain knowledge 기반)"
   ]
  },
  {
   "cell_type": "code",
   "execution_count": 60,
   "metadata": {},
   "outputs": [
    {
     "data": {
      "text/html": [
       "<div>\n",
       "<style scoped>\n",
       "    .dataframe tbody tr th:only-of-type {\n",
       "        vertical-align: middle;\n",
       "    }\n",
       "\n",
       "    .dataframe tbody tr th {\n",
       "        vertical-align: top;\n",
       "    }\n",
       "\n",
       "    .dataframe thead th {\n",
       "        text-align: right;\n",
       "    }\n",
       "</style>\n",
       "<table border=\"1\" class=\"dataframe\">\n",
       "  <thead>\n",
       "    <tr style=\"text-align: right;\">\n",
       "      <th></th>\n",
       "      <th>movieCd</th>\n",
       "      <th>movieNm</th>\n",
       "      <th>peopleNm</th>\n",
       "      <th>repRoleNm_x</th>\n",
       "      <th>filmoNames</th>\n",
       "      <th>peopleCd</th>\n",
       "      <th>repRoleNm_y</th>\n",
       "    </tr>\n",
       "  </thead>\n",
       "  <tbody>\n",
       "    <tr>\n",
       "      <th>377</th>\n",
       "      <td>20179694</td>\n",
       "      <td>맛있는 워킹걸</td>\n",
       "      <td>화니</td>\n",
       "      <td>감독</td>\n",
       "      <td>어린 아내-무삭제판|맛있는 유혹|섹스의 목적 - 감독판|바람난 아내|금지된 애욕|맛...</td>\n",
       "      <td>10089947</td>\n",
       "      <td>촬영</td>\n",
       "    </tr>\n",
       "  </tbody>\n",
       "</table>\n",
       "</div>"
      ],
      "text/plain": [
       "      movieCd  movieNm peopleNm repRoleNm_x  \\\n",
       "377  20179694  맛있는 워킹걸       화니          감독   \n",
       "\n",
       "                                            filmoNames  peopleCd repRoleNm_y  \n",
       "377  어린 아내-무삭제판|맛있는 유혹|섹스의 목적 - 감독판|바람난 아내|금지된 애욕|맛...  10089947          촬영  "
      ]
     },
     "execution_count": 60,
     "metadata": {},
     "output_type": "execute_result"
    }
   ],
   "source": [
    "director_all[director_all['peopleNm']=='화니']"
   ]
  },
  {
   "cell_type": "code",
   "execution_count": 37,
   "metadata": {
    "scrolled": false
   },
   "outputs": [
    {
     "data": {
      "text/plain": [
       "filmoNames    object\n",
       "movieNm       object\n",
       "peopleCd       int64\n",
       "peopleNm      object\n",
       "repRoleNm     object\n",
       "dtype: object"
      ]
     },
     "execution_count": 37,
     "metadata": {},
     "output_type": "execute_result"
    }
   ],
   "source": [
    "director_code_drop_dp.dtypes"
   ]
  },
  {
   "cell_type": "code",
   "execution_count": 38,
   "metadata": {},
   "outputs": [
    {
     "data": {
      "text/plain": [
       "movieCd       int64\n",
       "movieNm      object\n",
       "peopleNm     object\n",
       "repRoleNm    object\n",
       "dtype: object"
      ]
     },
     "execution_count": 38,
     "metadata": {},
     "output_type": "execute_result"
    }
   ],
   "source": [
    "directors_drop_dp.dtypes"
   ]
  },
  {
   "cell_type": "code",
   "execution_count": 94,
   "metadata": {},
   "outputs": [
    {
     "data": {
      "text/plain": [
       "movieCd         int64\n",
       "movieNm        object\n",
       "peopleNm       object\n",
       "repRoleNm_x    object\n",
       "filmoNames     object\n",
       "peopleCd        int64\n",
       "repRoleNm_y    object\n",
       "dtype: object"
      ]
     },
     "execution_count": 94,
     "metadata": {},
     "output_type": "execute_result"
    }
   ],
   "source": [
    "director_all.dtypes"
   ]
  },
  {
   "cell_type": "code",
   "execution_count": 95,
   "metadata": {},
   "outputs": [
    {
     "data": {
      "text/plain": [
       "movieCd        object\n",
       "movieNm        object\n",
       "moviePartNm    object\n",
       "peopleCd        int64\n",
       "peopleNm       object\n",
       "sex            object\n",
       "dtype: object"
      ]
     },
     "execution_count": 95,
     "metadata": {},
     "output_type": "execute_result"
    }
   ],
   "source": [
    "director_detail_drop_dp.dtypes"
   ]
  },
  {
   "cell_type": "code",
   "execution_count": 67,
   "metadata": {},
   "outputs": [
    {
     "data": {
      "text/html": [
       "<div>\n",
       "<style scoped>\n",
       "    .dataframe tbody tr th:only-of-type {\n",
       "        vertical-align: middle;\n",
       "    }\n",
       "\n",
       "    .dataframe tbody tr th {\n",
       "        vertical-align: top;\n",
       "    }\n",
       "\n",
       "    .dataframe thead th {\n",
       "        text-align: right;\n",
       "    }\n",
       "</style>\n",
       "<table border=\"1\" class=\"dataframe\">\n",
       "  <thead>\n",
       "    <tr style=\"text-align: right;\">\n",
       "      <th></th>\n",
       "      <th>movieCd</th>\n",
       "      <th>movieNm</th>\n",
       "      <th>moviePartNm</th>\n",
       "      <th>peopleCd</th>\n",
       "      <th>peopleNm</th>\n",
       "      <th>sex</th>\n",
       "    </tr>\n",
       "  </thead>\n",
       "  <tbody>\n",
       "    <tr>\n",
       "      <th>13083</th>\n",
       "      <td>남자</td>\n",
       "      <td>남자</td>\n",
       "      <td>남자</td>\n",
       "      <td>남자</td>\n",
       "      <td>남자</td>\n",
       "      <td>남자</td>\n",
       "    </tr>\n",
       "  </tbody>\n",
       "</table>\n",
       "</div>"
      ],
      "text/plain": [
       "      movieCd movieNm moviePartNm peopleCd peopleNm sex\n",
       "13083      남자      남자          남자       남자       남자  남자"
      ]
     },
     "execution_count": 67,
     "metadata": {},
     "output_type": "execute_result"
    }
   ],
   "source": [
    "director_detail_drop_dp[director_detail_drop_dp['moviePartNm']=='남자']"
   ]
  },
  {
   "cell_type": "code",
   "execution_count": 90,
   "metadata": {},
   "outputs": [],
   "source": [
    "director_detail_drop_dp = director_detail_drop_dp[director_detail_drop_dp.peopleCd != '남자']"
   ]
  },
  {
   "cell_type": "code",
   "execution_count": 73,
   "metadata": {},
   "outputs": [
    {
     "data": {
      "text/html": [
       "<div>\n",
       "<style scoped>\n",
       "    .dataframe tbody tr th:only-of-type {\n",
       "        vertical-align: middle;\n",
       "    }\n",
       "\n",
       "    .dataframe tbody tr th {\n",
       "        vertical-align: top;\n",
       "    }\n",
       "\n",
       "    .dataframe thead th {\n",
       "        text-align: right;\n",
       "    }\n",
       "</style>\n",
       "<table border=\"1\" class=\"dataframe\">\n",
       "  <thead>\n",
       "    <tr style=\"text-align: right;\">\n",
       "      <th></th>\n",
       "      <th>movieCd</th>\n",
       "      <th>movieNm</th>\n",
       "      <th>moviePartNm</th>\n",
       "      <th>peopleCd</th>\n",
       "      <th>peopleNm</th>\n",
       "      <th>sex</th>\n",
       "    </tr>\n",
       "  </thead>\n",
       "  <tbody>\n",
       "    <tr>\n",
       "      <th>2770</th>\n",
       "      <td>20124258</td>\n",
       "      <td>몽정애</td>\n",
       "      <td>감독</td>\n",
       "      <td>10056203</td>\n",
       "      <td>이숭환</td>\n",
       "      <td>남자</td>\n",
       "    </tr>\n",
       "  </tbody>\n",
       "</table>\n",
       "</div>"
      ],
      "text/plain": [
       "       movieCd movieNm moviePartNm  peopleCd peopleNm sex\n",
       "2770  20124258    몽정애           감독  10056203      이숭환  남자"
      ]
     },
     "execution_count": 73,
     "metadata": {},
     "output_type": "execute_result"
    }
   ],
   "source": [
    "director_detail_drop_dp.sample()"
   ]
  },
  {
   "cell_type": "code",
   "execution_count": 72,
   "metadata": {},
   "outputs": [
    {
     "data": {
      "text/html": [
       "<div>\n",
       "<style scoped>\n",
       "    .dataframe tbody tr th:only-of-type {\n",
       "        vertical-align: middle;\n",
       "    }\n",
       "\n",
       "    .dataframe tbody tr th {\n",
       "        vertical-align: top;\n",
       "    }\n",
       "\n",
       "    .dataframe thead th {\n",
       "        text-align: right;\n",
       "    }\n",
       "</style>\n",
       "<table border=\"1\" class=\"dataframe\">\n",
       "  <thead>\n",
       "    <tr style=\"text-align: right;\">\n",
       "      <th></th>\n",
       "      <th>movieCd</th>\n",
       "      <th>movieNm</th>\n",
       "      <th>peopleNm</th>\n",
       "      <th>repRoleNm_x</th>\n",
       "      <th>filmoNames</th>\n",
       "      <th>peopleCd</th>\n",
       "      <th>repRoleNm_y</th>\n",
       "    </tr>\n",
       "  </thead>\n",
       "  <tbody>\n",
       "    <tr>\n",
       "      <th>700</th>\n",
       "      <td>20174008</td>\n",
       "      <td>인어전설</td>\n",
       "      <td>오멸</td>\n",
       "      <td>감독</td>\n",
       "      <td>인어전설|눈꺼풀|하늘의 황금마차|지슬 - 끝나지 않은 세월2|뽕똘|이어도|어이그 저...</td>\n",
       "      <td>10050307</td>\n",
       "      <td>감독</td>\n",
       "    </tr>\n",
       "  </tbody>\n",
       "</table>\n",
       "</div>"
      ],
      "text/plain": [
       "      movieCd movieNm peopleNm repRoleNm_x  \\\n",
       "700  20174008    인어전설       오멸          감독   \n",
       "\n",
       "                                            filmoNames  peopleCd repRoleNm_y  \n",
       "700  인어전설|눈꺼풀|하늘의 황금마차|지슬 - 끝나지 않은 세월2|뽕똘|이어도|어이그 저...  10050307          감독  "
      ]
     },
     "execution_count": 72,
     "metadata": {},
     "output_type": "execute_result"
    }
   ],
   "source": [
    "director_all.sample()"
   ]
  },
  {
   "cell_type": "markdown",
   "metadata": {},
   "source": [
    "merger column = movieCd\tmovieNm\tpeopleNm peopleCd"
   ]
  },
  {
   "cell_type": "code",
   "execution_count": 80,
   "metadata": {},
   "outputs": [
    {
     "data": {
      "text/plain": [
       "801"
      ]
     },
     "execution_count": 80,
     "metadata": {},
     "output_type": "execute_result"
    }
   ],
   "source": [
    "director_all['movieCd'].nunique()"
   ]
  },
  {
   "cell_type": "code",
   "execution_count": 81,
   "metadata": {},
   "outputs": [
    {
     "data": {
      "text/plain": [
       "4028"
      ]
     },
     "execution_count": 81,
     "metadata": {},
     "output_type": "execute_result"
    }
   ],
   "source": [
    "director_detail_drop_dp['movieCd'].nunique()"
   ]
  },
  {
   "cell_type": "code",
   "execution_count": 93,
   "metadata": {
    "collapsed": true
   },
   "outputs": [
    {
     "ename": "ValueError",
     "evalue": "You are trying to merge on object and int64 columns. If you wish to proceed you should use pd.concat",
     "output_type": "error",
     "traceback": [
      "\u001b[0;31m---------------------------------------------------------------------------\u001b[0m",
      "\u001b[0;31mValueError\u001b[0m                                Traceback (most recent call last)",
      "\u001b[0;32m<ipython-input-93-dc99eef6abea>\u001b[0m in \u001b[0;36m<module>\u001b[0;34m\u001b[0m\n\u001b[0;32m----> 1\u001b[0;31m \u001b[0mdirector_final\u001b[0m\u001b[0;34m=\u001b[0m \u001b[0mdirector_detail_drop_dp\u001b[0m\u001b[0;34m.\u001b[0m\u001b[0mmerge\u001b[0m\u001b[0;34m(\u001b[0m\u001b[0mdirector_all\u001b[0m\u001b[0;34m,\u001b[0m \u001b[0mhow\u001b[0m \u001b[0;34m=\u001b[0m\u001b[0;34m'inner'\u001b[0m\u001b[0;34m,\u001b[0m \u001b[0mon\u001b[0m\u001b[0;34m=\u001b[0m\u001b[0;34m[\u001b[0m\u001b[0;34m'movieCd'\u001b[0m\u001b[0;34m,\u001b[0m\u001b[0;34m'movieNm'\u001b[0m\u001b[0;34m,\u001b[0m\u001b[0;34m'peopleNm'\u001b[0m\u001b[0;34m,\u001b[0m\u001b[0;34m'peopleCd'\u001b[0m\u001b[0;34m]\u001b[0m\u001b[0;34m)\u001b[0m\u001b[0;34m\u001b[0m\u001b[0;34m\u001b[0m\u001b[0m\n\u001b[0m\u001b[1;32m      2\u001b[0m \u001b[0mdirector_final\u001b[0m\u001b[0;34m.\u001b[0m\u001b[0msample\u001b[0m\u001b[0;34m(\u001b[0m\u001b[0;34m)\u001b[0m\u001b[0;34m\u001b[0m\u001b[0;34m\u001b[0m\u001b[0m\n",
      "\u001b[0;32m~/anaconda3/lib/python3.7/site-packages/pandas/core/frame.py\u001b[0m in \u001b[0;36mmerge\u001b[0;34m(self, right, how, on, left_on, right_on, left_index, right_index, sort, suffixes, copy, indicator, validate)\u001b[0m\n\u001b[1;32m   6866\u001b[0m                      \u001b[0mright_on\u001b[0m\u001b[0;34m=\u001b[0m\u001b[0mright_on\u001b[0m\u001b[0;34m,\u001b[0m \u001b[0mleft_index\u001b[0m\u001b[0;34m=\u001b[0m\u001b[0mleft_index\u001b[0m\u001b[0;34m,\u001b[0m\u001b[0;34m\u001b[0m\u001b[0;34m\u001b[0m\u001b[0m\n\u001b[1;32m   6867\u001b[0m                      \u001b[0mright_index\u001b[0m\u001b[0;34m=\u001b[0m\u001b[0mright_index\u001b[0m\u001b[0;34m,\u001b[0m \u001b[0msort\u001b[0m\u001b[0;34m=\u001b[0m\u001b[0msort\u001b[0m\u001b[0;34m,\u001b[0m \u001b[0msuffixes\u001b[0m\u001b[0;34m=\u001b[0m\u001b[0msuffixes\u001b[0m\u001b[0;34m,\u001b[0m\u001b[0;34m\u001b[0m\u001b[0;34m\u001b[0m\u001b[0m\n\u001b[0;32m-> 6868\u001b[0;31m                      copy=copy, indicator=indicator, validate=validate)\n\u001b[0m\u001b[1;32m   6869\u001b[0m \u001b[0;34m\u001b[0m\u001b[0m\n\u001b[1;32m   6870\u001b[0m     \u001b[0;32mdef\u001b[0m \u001b[0mround\u001b[0m\u001b[0;34m(\u001b[0m\u001b[0mself\u001b[0m\u001b[0;34m,\u001b[0m \u001b[0mdecimals\u001b[0m\u001b[0;34m=\u001b[0m\u001b[0;36m0\u001b[0m\u001b[0;34m,\u001b[0m \u001b[0;34m*\u001b[0m\u001b[0margs\u001b[0m\u001b[0;34m,\u001b[0m \u001b[0;34m**\u001b[0m\u001b[0mkwargs\u001b[0m\u001b[0;34m)\u001b[0m\u001b[0;34m:\u001b[0m\u001b[0;34m\u001b[0m\u001b[0;34m\u001b[0m\u001b[0m\n",
      "\u001b[0;32m~/anaconda3/lib/python3.7/site-packages/pandas/core/reshape/merge.py\u001b[0m in \u001b[0;36mmerge\u001b[0;34m(left, right, how, on, left_on, right_on, left_index, right_index, sort, suffixes, copy, indicator, validate)\u001b[0m\n\u001b[1;32m     45\u001b[0m                          \u001b[0mright_index\u001b[0m\u001b[0;34m=\u001b[0m\u001b[0mright_index\u001b[0m\u001b[0;34m,\u001b[0m \u001b[0msort\u001b[0m\u001b[0;34m=\u001b[0m\u001b[0msort\u001b[0m\u001b[0;34m,\u001b[0m \u001b[0msuffixes\u001b[0m\u001b[0;34m=\u001b[0m\u001b[0msuffixes\u001b[0m\u001b[0;34m,\u001b[0m\u001b[0;34m\u001b[0m\u001b[0;34m\u001b[0m\u001b[0m\n\u001b[1;32m     46\u001b[0m                          \u001b[0mcopy\u001b[0m\u001b[0;34m=\u001b[0m\u001b[0mcopy\u001b[0m\u001b[0;34m,\u001b[0m \u001b[0mindicator\u001b[0m\u001b[0;34m=\u001b[0m\u001b[0mindicator\u001b[0m\u001b[0;34m,\u001b[0m\u001b[0;34m\u001b[0m\u001b[0;34m\u001b[0m\u001b[0m\n\u001b[0;32m---> 47\u001b[0;31m                          validate=validate)\n\u001b[0m\u001b[1;32m     48\u001b[0m     \u001b[0;32mreturn\u001b[0m \u001b[0mop\u001b[0m\u001b[0;34m.\u001b[0m\u001b[0mget_result\u001b[0m\u001b[0;34m(\u001b[0m\u001b[0;34m)\u001b[0m\u001b[0;34m\u001b[0m\u001b[0;34m\u001b[0m\u001b[0m\n\u001b[1;32m     49\u001b[0m \u001b[0;34m\u001b[0m\u001b[0m\n",
      "\u001b[0;32m~/anaconda3/lib/python3.7/site-packages/pandas/core/reshape/merge.py\u001b[0m in \u001b[0;36m__init__\u001b[0;34m(self, left, right, how, on, left_on, right_on, axis, left_index, right_index, sort, suffixes, copy, indicator, validate)\u001b[0m\n\u001b[1;32m    531\u001b[0m         \u001b[0;31m# validate the merge keys dtypes. We may need to coerce\u001b[0m\u001b[0;34m\u001b[0m\u001b[0;34m\u001b[0m\u001b[0;34m\u001b[0m\u001b[0m\n\u001b[1;32m    532\u001b[0m         \u001b[0;31m# to avoid incompat dtypes\u001b[0m\u001b[0;34m\u001b[0m\u001b[0;34m\u001b[0m\u001b[0;34m\u001b[0m\u001b[0m\n\u001b[0;32m--> 533\u001b[0;31m         \u001b[0mself\u001b[0m\u001b[0;34m.\u001b[0m\u001b[0m_maybe_coerce_merge_keys\u001b[0m\u001b[0;34m(\u001b[0m\u001b[0;34m)\u001b[0m\u001b[0;34m\u001b[0m\u001b[0;34m\u001b[0m\u001b[0m\n\u001b[0m\u001b[1;32m    534\u001b[0m \u001b[0;34m\u001b[0m\u001b[0m\n\u001b[1;32m    535\u001b[0m         \u001b[0;31m# If argument passed to validate,\u001b[0m\u001b[0;34m\u001b[0m\u001b[0;34m\u001b[0m\u001b[0;34m\u001b[0m\u001b[0m\n",
      "\u001b[0;32m~/anaconda3/lib/python3.7/site-packages/pandas/core/reshape/merge.py\u001b[0m in \u001b[0;36m_maybe_coerce_merge_keys\u001b[0;34m(self)\u001b[0m\n\u001b[1;32m    978\u001b[0m                       (inferred_right in string_types and\n\u001b[1;32m    979\u001b[0m                        inferred_left not in string_types)):\n\u001b[0;32m--> 980\u001b[0;31m                     \u001b[0;32mraise\u001b[0m \u001b[0mValueError\u001b[0m\u001b[0;34m(\u001b[0m\u001b[0mmsg\u001b[0m\u001b[0;34m)\u001b[0m\u001b[0;34m\u001b[0m\u001b[0;34m\u001b[0m\u001b[0m\n\u001b[0m\u001b[1;32m    981\u001b[0m \u001b[0;34m\u001b[0m\u001b[0m\n\u001b[1;32m    982\u001b[0m             \u001b[0;31m# datetimelikes must match exactly\u001b[0m\u001b[0;34m\u001b[0m\u001b[0;34m\u001b[0m\u001b[0;34m\u001b[0m\u001b[0m\n",
      "\u001b[0;31mValueError\u001b[0m: You are trying to merge on object and int64 columns. If you wish to proceed you should use pd.concat"
     ]
    }
   ],
   "source": [
    "director_final= director_detail_drop_dp.merge(director_all, how ='inner', on=['movieCd','movieNm','peopleNm','peopleCd'])\n",
    "director_final.sample()\n",
    "# 진행안됨"
   ]
  },
  {
   "cell_type": "markdown",
   "metadata": {},
   "source": [
    "column value 설정 바꿔야 merge 가능<br>\n",
    "director_detail_drop_dp의 무비코드, 피플코드 to int\n"
   ]
  },
  {
   "cell_type": "code",
   "execution_count": 91,
   "metadata": {},
   "outputs": [
    {
     "name": "stderr",
     "output_type": "stream",
     "text": [
      "/Users/dubu/anaconda3/lib/python3.7/site-packages/ipykernel_launcher.py:1: SettingWithCopyWarning: \n",
      "A value is trying to be set on a copy of a slice from a DataFrame.\n",
      "Try using .loc[row_indexer,col_indexer] = value instead\n",
      "\n",
      "See the caveats in the documentation: http://pandas.pydata.org/pandas-docs/stable/indexing.html#indexing-view-versus-copy\n",
      "  \"\"\"Entry point for launching an IPython kernel.\n"
     ]
    },
    {
     "data": {
      "text/plain": [
       "movieCd        object\n",
       "movieNm        object\n",
       "moviePartNm    object\n",
       "peopleCd        int64\n",
       "peopleNm       object\n",
       "sex            object\n",
       "dtype: object"
      ]
     },
     "execution_count": 91,
     "metadata": {},
     "output_type": "execute_result"
    }
   ],
   "source": [
    "director_detail_drop_dp['peopleCd'] = director_detail_drop_dp['peopleCd'].apply(lambda x: int(x))\n",
    "\n",
    "director_detail_drop_dp.dtypes\n",
    "\n",
    "# director_detail_drop_dp[director_detail_drop_dp['movieCd'].apply(lambda x: x.isdigit())] 맞는지 확인하는 용\n"
   ]
  },
  {
   "cell_type": "code",
   "execution_count": 87,
   "metadata": {},
   "outputs": [
    {
     "data": {
      "text/html": [
       "<div>\n",
       "<style scoped>\n",
       "    .dataframe tbody tr th:only-of-type {\n",
       "        vertical-align: middle;\n",
       "    }\n",
       "\n",
       "    .dataframe tbody tr th {\n",
       "        vertical-align: top;\n",
       "    }\n",
       "\n",
       "    .dataframe thead th {\n",
       "        text-align: right;\n",
       "    }\n",
       "</style>\n",
       "<table border=\"1\" class=\"dataframe\">\n",
       "  <thead>\n",
       "    <tr style=\"text-align: right;\">\n",
       "      <th></th>\n",
       "      <th>movieCd</th>\n",
       "      <th>movieNm</th>\n",
       "      <th>moviePartNm</th>\n",
       "      <th>peopleCd</th>\n",
       "      <th>peopleNm</th>\n",
       "      <th>sex</th>\n",
       "    </tr>\n",
       "  </thead>\n",
       "  <tbody>\n",
       "    <tr>\n",
       "      <th>2825</th>\n",
       "      <td>2010G741</td>\n",
       "      <td>18禁 린코</td>\n",
       "      <td>감독</td>\n",
       "      <td>10066963</td>\n",
       "      <td>조조 히데오</td>\n",
       "      <td>남자</td>\n",
       "    </tr>\n",
       "  </tbody>\n",
       "</table>\n",
       "</div>"
      ],
      "text/plain": [
       "       movieCd movieNm moviePartNm  peopleCd peopleNm sex\n",
       "2825  2010G741  18禁 린코          감독  10066963   조조 히데오  남자"
      ]
     },
     "execution_count": 87,
     "metadata": {},
     "output_type": "execute_result"
    }
   ],
   "source": [
    "director_detail_drop_dp[director_detail_drop_dp['movieCd']=='2010G741']"
   ]
  },
  {
   "cell_type": "markdown",
   "metadata": {},
   "source": [
    "그러나 movie code 중 string 이 있으므로 반대 방향을 선택"
   ]
  },
  {
   "cell_type": "code",
   "execution_count": 96,
   "metadata": {},
   "outputs": [
    {
     "data": {
      "text/plain": [
       "movieCd        object\n",
       "movieNm        object\n",
       "peopleNm       object\n",
       "repRoleNm_x    object\n",
       "filmoNames     object\n",
       "peopleCd        int64\n",
       "repRoleNm_y    object\n",
       "dtype: object"
      ]
     },
     "execution_count": 96,
     "metadata": {},
     "output_type": "execute_result"
    }
   ],
   "source": [
    "director_all['movieCd'] = director_all['movieCd'].apply(lambda x: str(x))\n",
    "\n",
    "director_all.dtypes"
   ]
  },
  {
   "cell_type": "code",
   "execution_count": 97,
   "metadata": {},
   "outputs": [
    {
     "data": {
      "text/plain": [
       "movieCd        object\n",
       "movieNm        object\n",
       "moviePartNm    object\n",
       "peopleCd        int64\n",
       "peopleNm       object\n",
       "sex            object\n",
       "dtype: object"
      ]
     },
     "execution_count": 97,
     "metadata": {},
     "output_type": "execute_result"
    }
   ],
   "source": [
    "director_detail_drop_dp.dtypes"
   ]
  },
  {
   "cell_type": "code",
   "execution_count": 98,
   "metadata": {},
   "outputs": [
    {
     "data": {
      "text/html": [
       "<div>\n",
       "<style scoped>\n",
       "    .dataframe tbody tr th:only-of-type {\n",
       "        vertical-align: middle;\n",
       "    }\n",
       "\n",
       "    .dataframe tbody tr th {\n",
       "        vertical-align: top;\n",
       "    }\n",
       "\n",
       "    .dataframe thead th {\n",
       "        text-align: right;\n",
       "    }\n",
       "</style>\n",
       "<table border=\"1\" class=\"dataframe\">\n",
       "  <thead>\n",
       "    <tr style=\"text-align: right;\">\n",
       "      <th></th>\n",
       "      <th>movieCd</th>\n",
       "      <th>movieNm</th>\n",
       "      <th>moviePartNm</th>\n",
       "      <th>peopleCd</th>\n",
       "      <th>peopleNm</th>\n",
       "      <th>sex</th>\n",
       "      <th>repRoleNm_x</th>\n",
       "      <th>filmoNames</th>\n",
       "      <th>repRoleNm_y</th>\n",
       "    </tr>\n",
       "  </thead>\n",
       "  <tbody>\n",
       "    <tr>\n",
       "      <th>1043</th>\n",
       "      <td>20165164</td>\n",
       "      <td>러브레따</td>\n",
       "      <td>시나리오(각본)</td>\n",
       "      <td>20238489</td>\n",
       "      <td>서은아</td>\n",
       "      <td>여자</td>\n",
       "      <td>감독</td>\n",
       "      <td>러브레따|제15회 미쟝센 단편영화제 사랑에 관한 짧은 필름1|보고싶다</td>\n",
       "      <td>감독</td>\n",
       "    </tr>\n",
       "  </tbody>\n",
       "</table>\n",
       "</div>"
      ],
      "text/plain": [
       "       movieCd movieNm moviePartNm  peopleCd peopleNm sex repRoleNm_x  \\\n",
       "1043  20165164    러브레따    시나리오(각본)  20238489      서은아  여자          감독   \n",
       "\n",
       "                                  filmoNames repRoleNm_y  \n",
       "1043  러브레따|제15회 미쟝센 단편영화제 사랑에 관한 짧은 필름1|보고싶다          감독  "
      ]
     },
     "execution_count": 98,
     "metadata": {},
     "output_type": "execute_result"
    }
   ],
   "source": [
    "# 재진행, merge완료\n",
    "director_final= director_detail_drop_dp.merge(director_all, how ='inner', on=['movieCd','movieNm','peopleNm','peopleCd'])\n",
    "director_final.sample()"
   ]
  },
  {
   "cell_type": "code",
   "execution_count": 4,
   "metadata": {},
   "outputs": [
    {
     "ename": "NameError",
     "evalue": "name 'director_final' is not defined",
     "output_type": "error",
     "traceback": [
      "\u001b[0;31m---------------------------------------------------------------------------\u001b[0m",
      "\u001b[0;31mNameError\u001b[0m                                 Traceback (most recent call last)",
      "\u001b[0;32m<ipython-input-4-a63368a947bf>\u001b[0m in \u001b[0;36m<module>\u001b[0;34m\u001b[0m\n\u001b[0;32m----> 1\u001b[0;31m \u001b[0mdirector_final\u001b[0m\u001b[0;34m.\u001b[0m\u001b[0mto_csv\u001b[0m\u001b[0;34m(\u001b[0m\u001b[0;34m'../01.Data_Collection/director_merged.csv'\u001b[0m\u001b[0;34m,\u001b[0m \u001b[0mindex\u001b[0m\u001b[0;34m=\u001b[0m\u001b[0;32mFalse\u001b[0m\u001b[0;34m)\u001b[0m\u001b[0;34m\u001b[0m\u001b[0;34m\u001b[0m\u001b[0m\n\u001b[0m",
      "\u001b[0;31mNameError\u001b[0m: name 'director_final' is not defined"
     ]
    }
   ],
   "source": [
    "director_final.to_csv('../01.Data_Collection/director_merged.csv', index=False)"
   ]
  },
  {
   "cell_type": "markdown",
   "metadata": {},
   "source": [
    "### 3차 merge 작업"
   ]
  },
  {
   "cell_type": "code",
   "execution_count": 6,
   "metadata": {},
   "outputs": [],
   "source": [
    "director_merge = pd.read_csv('../01.Data_Collection/director_merged.csv')"
   ]
  },
  {
   "cell_type": "code",
   "execution_count": 12,
   "metadata": {},
   "outputs": [
    {
     "data": {
      "text/html": [
       "<div>\n",
       "<style scoped>\n",
       "    .dataframe tbody tr th:only-of-type {\n",
       "        vertical-align: middle;\n",
       "    }\n",
       "\n",
       "    .dataframe tbody tr th {\n",
       "        vertical-align: top;\n",
       "    }\n",
       "\n",
       "    .dataframe thead th {\n",
       "        text-align: right;\n",
       "    }\n",
       "</style>\n",
       "<table border=\"1\" class=\"dataframe\">\n",
       "  <thead>\n",
       "    <tr style=\"text-align: right;\">\n",
       "      <th></th>\n",
       "      <th>movieCd</th>\n",
       "      <th>movieNm</th>\n",
       "      <th>moviePartNm</th>\n",
       "      <th>peopleCd</th>\n",
       "      <th>peopleNm</th>\n",
       "      <th>sex</th>\n",
       "      <th>repRoleNm_x</th>\n",
       "      <th>filmoNames</th>\n",
       "      <th>repRoleNm_y</th>\n",
       "    </tr>\n",
       "  </thead>\n",
       "  <tbody>\n",
       "    <tr>\n",
       "      <th>1081</th>\n",
       "      <td>20158019</td>\n",
       "      <td>미스터 쿠퍼</td>\n",
       "      <td>제작</td>\n",
       "      <td>20176421</td>\n",
       "      <td>오정미</td>\n",
       "      <td>여자</td>\n",
       "      <td>감독</td>\n",
       "      <td>미스터 쿠퍼|피팅룸|AISFF2015 특별상영 &amp; 미스터쿠퍼</td>\n",
       "      <td>감독</td>\n",
       "    </tr>\n",
       "  </tbody>\n",
       "</table>\n",
       "</div>"
      ],
      "text/plain": [
       "       movieCd movieNm moviePartNm  peopleCd peopleNm sex repRoleNm_x  \\\n",
       "1081  20158019  미스터 쿠퍼          제작  20176421      오정미  여자          감독   \n",
       "\n",
       "                             filmoNames repRoleNm_y  \n",
       "1081  미스터 쿠퍼|피팅룸|AISFF2015 특별상영 & 미스터쿠퍼          감독  "
      ]
     },
     "execution_count": 12,
     "metadata": {},
     "output_type": "execute_result"
    }
   ],
   "source": [
    "director_merge.sample()"
   ]
  },
  {
   "cell_type": "code",
   "execution_count": 31,
   "metadata": {},
   "outputs": [
    {
     "data": {
      "text/html": [
       "<div>\n",
       "<style scoped>\n",
       "    .dataframe tbody tr th:only-of-type {\n",
       "        vertical-align: middle;\n",
       "    }\n",
       "\n",
       "    .dataframe tbody tr th {\n",
       "        vertical-align: top;\n",
       "    }\n",
       "\n",
       "    .dataframe thead th {\n",
       "        text-align: right;\n",
       "    }\n",
       "</style>\n",
       "<table border=\"1\" class=\"dataframe\">\n",
       "  <thead>\n",
       "    <tr style=\"text-align: right;\">\n",
       "      <th></th>\n",
       "      <th>movieCd</th>\n",
       "      <th>movieNm</th>\n",
       "      <th>moviePartNm</th>\n",
       "      <th>peopleCd</th>\n",
       "      <th>peopleNm</th>\n",
       "      <th>sex</th>\n",
       "      <th>repRoleNm_x</th>\n",
       "      <th>filmoNames</th>\n",
       "      <th>repRoleNm_y</th>\n",
       "    </tr>\n",
       "  </thead>\n",
       "  <tbody>\n",
       "    <tr>\n",
       "      <th>1643</th>\n",
       "      <td>20182221</td>\n",
       "      <td>스파키</td>\n",
       "      <td>감독</td>\n",
       "      <td>10040004</td>\n",
       "      <td>아론 우들리</td>\n",
       "      <td>남자</td>\n",
       "      <td>감독</td>\n",
       "      <td>스파키|완전범죄: 키드냅</td>\n",
       "      <td>감독</td>\n",
       "    </tr>\n",
       "  </tbody>\n",
       "</table>\n",
       "</div>"
      ],
      "text/plain": [
       "       movieCd movieNm moviePartNm  peopleCd peopleNm sex repRoleNm_x  \\\n",
       "1643  20182221     스파키          감독  10040004   아론 우들리  남자          감독   \n",
       "\n",
       "         filmoNames repRoleNm_y  \n",
       "1643  스파키|완전범죄: 키드냅          감독  "
      ]
     },
     "execution_count": 31,
     "metadata": {},
     "output_type": "execute_result"
    }
   ],
   "source": [
    "director_merge[director_merge['peopleNm']=='아론 우들리']"
   ]
  },
  {
   "cell_type": "code",
   "execution_count": 117,
   "metadata": {},
   "outputs": [
    {
     "data": {
      "text/html": [
       "<div>\n",
       "<style scoped>\n",
       "    .dataframe tbody tr th:only-of-type {\n",
       "        vertical-align: middle;\n",
       "    }\n",
       "\n",
       "    .dataframe tbody tr th {\n",
       "        vertical-align: top;\n",
       "    }\n",
       "\n",
       "    .dataframe thead th {\n",
       "        text-align: right;\n",
       "    }\n",
       "</style>\n",
       "<table border=\"1\" class=\"dataframe\">\n",
       "  <thead>\n",
       "    <tr style=\"text-align: right;\">\n",
       "      <th></th>\n",
       "      <th>movieCd</th>\n",
       "      <th>movieNm</th>\n",
       "      <th>moviePartNm</th>\n",
       "      <th>peopleCd</th>\n",
       "      <th>peopleNm</th>\n",
       "      <th>sex</th>\n",
       "      <th>repRoleNm_x</th>\n",
       "      <th>filmoNames</th>\n",
       "      <th>repRoleNm_y</th>\n",
       "    </tr>\n",
       "  </thead>\n",
       "  <tbody>\n",
       "    <tr>\n",
       "      <th>1644</th>\n",
       "      <td>20182221</td>\n",
       "      <td>스파키</td>\n",
       "      <td>감독</td>\n",
       "      <td>20315335</td>\n",
       "      <td>애론 우들리</td>\n",
       "      <td>NaN</td>\n",
       "      <td>감독</td>\n",
       "      <td>스파키</td>\n",
       "      <td>감독</td>\n",
       "    </tr>\n",
       "    <tr>\n",
       "      <th>1645</th>\n",
       "      <td>20182221</td>\n",
       "      <td>스파키</td>\n",
       "      <td>시나리오(각본)</td>\n",
       "      <td>20315335</td>\n",
       "      <td>애론 우들리</td>\n",
       "      <td>NaN</td>\n",
       "      <td>감독</td>\n",
       "      <td>스파키</td>\n",
       "      <td>감독</td>\n",
       "    </tr>\n",
       "  </tbody>\n",
       "</table>\n",
       "</div>"
      ],
      "text/plain": [
       "       movieCd movieNm moviePartNm  peopleCd peopleNm  sex repRoleNm_x  \\\n",
       "1644  20182221     스파키          감독  20315335   애론 우들리  NaN          감독   \n",
       "1645  20182221     스파키    시나리오(각본)  20315335   애론 우들리  NaN          감독   \n",
       "\n",
       "     filmoNames repRoleNm_y  \n",
       "1644        스파키          감독  \n",
       "1645        스파키          감독  "
      ]
     },
     "execution_count": 117,
     "metadata": {},
     "output_type": "execute_result"
    }
   ],
   "source": [
    "director_merge[director_merge['peopleNm']=='애론 우들리']"
   ]
  },
  {
   "cell_type": "code",
   "execution_count": 28,
   "metadata": {},
   "outputs": [
    {
     "name": "stdout",
     "output_type": "stream",
     "text": [
      "11 명의 null 값 감독\n"
     ]
    }
   ],
   "source": [
    "print(len(director_merge[director_merge['sex'].isnull()]),'명의 null 값 감독')"
   ]
  },
  {
   "cell_type": "code",
   "execution_count": 116,
   "metadata": {},
   "outputs": [
    {
     "name": "stderr",
     "output_type": "stream",
     "text": [
      "/Users/dubu/anaconda3/lib/python3.7/site-packages/pandas/core/ops.py:1649: FutureWarning: elementwise comparison failed; returning scalar instead, but in the future will perform elementwise comparison\n",
      "  result = method(y)\n"
     ]
    }
   ],
   "source": [
    "director_merge.loc[director_merge['peopleCd'] == '20315335', 'sex'] = '남자'"
   ]
  },
  {
   "cell_type": "code",
   "execution_count": 41,
   "metadata": {},
   "outputs": [
    {
     "data": {
      "text/plain": [
       "array(['감독'], dtype=object)"
      ]
     },
     "execution_count": 41,
     "metadata": {},
     "output_type": "execute_result"
    }
   ],
   "source": [
    "director_merge['repRoleNm_x'].unique()"
   ]
  },
  {
   "cell_type": "code",
   "execution_count": 57,
   "metadata": {},
   "outputs": [
    {
     "name": "stdout",
     "output_type": "stream",
     "text": [
      "0.8460820895522388 퍼센트가 남자 감독\n",
      "0.14878731343283583 퍼센트가 여자 감독\n"
     ]
    }
   ],
   "source": [
    "print(len(director_merge[director_merge['sex']=='남자'])/len(director_merge['sex']), '퍼센트가 남자 감독')\n",
    "print(len(director_merge[director_merge['sex']=='여자'])/len(director_merge['sex']), '퍼센트가 여자 감독')"
   ]
  },
  {
   "cell_type": "code",
   "execution_count": 70,
   "metadata": {},
   "outputs": [
    {
     "data": {
      "text/plain": [
       "Text(0, 0.5, '')"
      ]
     },
     "execution_count": 70,
     "metadata": {},
     "output_type": "execute_result"
    },
    {
     "data": {
      "image/png": "[encoded data removed]",
      "text/plain": [
       "<Figure size 360x360 with 1 Axes>"
      ]
     },
     "metadata": {
      "image/png": {
       "height": 308,
       "width": 289
      }
     },
     "output_type": "display_data"
    }
   ],
   "source": [
    "labels=['남자','여자']\n",
    "director_merge['sex'].value_counts().plot.pie(labels = labels\n",
    "                    ,colors= ['#98DBC6', '#FFCCBB']\n",
    "                    ,startangle = 60\n",
    "                    ,shadow = True\n",
    "                    ,autopct = '%1.1f%%'\n",
    "                    ,explode = (0,0.1) \n",
    "                    ,figsize=(5, 5)\n",
    "                    ,fontsize = 15)\n",
    "plt.title('감독성별', fontsize=20)\n",
    "pylab.ylabel('')"
   ]
  },
  {
   "cell_type": "markdown",
   "metadata": {},
   "source": [
    "### 박스오피스 붙이기"
   ]
  },
  {
   "cell_type": "code",
   "execution_count": 78,
   "metadata": {
    "scrolled": true
   },
   "outputs": [
    {
     "data": {
      "text/plain": [
       "movieCd         0\n",
       "movieNm         0\n",
       "moviePartNm     0\n",
       "peopleCd        0\n",
       "peopleNm        0\n",
       "sex            11\n",
       "repRoleNm_x     0\n",
       "filmoNames      0\n",
       "repRoleNm_y     0\n",
       "dtype: int64"
      ]
     },
     "execution_count": 78,
     "metadata": {},
     "output_type": "execute_result"
    }
   ],
   "source": [
    "director_merge.isnull().sum()"
   ]
  },
  {
   "cell_type": "code",
   "execution_count": 111,
   "metadata": {},
   "outputs": [],
   "source": [
    "boxoffice = pd.read_csv('../01.Data_Collection/boxoffice.csv')"
   ]
  },
  {
   "cell_type": "code",
   "execution_count": 81,
   "metadata": {},
   "outputs": [
    {
     "data": {
      "text/html": [
       "<div>\n",
       "<style scoped>\n",
       "    .dataframe tbody tr th:only-of-type {\n",
       "        vertical-align: middle;\n",
       "    }\n",
       "\n",
       "    .dataframe tbody tr th {\n",
       "        vertical-align: top;\n",
       "    }\n",
       "\n",
       "    .dataframe thead th {\n",
       "        text-align: right;\n",
       "    }\n",
       "</style>\n",
       "<table border=\"1\" class=\"dataframe\">\n",
       "  <thead>\n",
       "    <tr style=\"text-align: right;\">\n",
       "      <th></th>\n",
       "      <th>movieCd</th>\n",
       "      <th>movieNm</th>\n",
       "      <th>moviePartNm</th>\n",
       "      <th>peopleCd</th>\n",
       "      <th>peopleNm</th>\n",
       "      <th>sex</th>\n",
       "      <th>repRoleNm_x</th>\n",
       "      <th>filmoNames</th>\n",
       "      <th>repRoleNm_y</th>\n",
       "    </tr>\n",
       "  </thead>\n",
       "  <tbody>\n",
       "    <tr>\n",
       "      <th>1408</th>\n",
       "      <td>20164424</td>\n",
       "      <td>대장 김창수</td>\n",
       "      <td>배우</td>\n",
       "      <td>20131414</td>\n",
       "      <td>이원태</td>\n",
       "      <td>남자</td>\n",
       "      <td>감독</td>\n",
       "      <td>악인전|대장 김창수|조선마술사|가비|파파|오싹한 연애</td>\n",
       "      <td>감독</td>\n",
       "    </tr>\n",
       "  </tbody>\n",
       "</table>\n",
       "</div>"
      ],
      "text/plain": [
       "       movieCd movieNm moviePartNm  peopleCd peopleNm sex repRoleNm_x  \\\n",
       "1408  20164424  대장 김창수          배우  20131414      이원태  남자          감독   \n",
       "\n",
       "                         filmoNames repRoleNm_y  \n",
       "1408  악인전|대장 김창수|조선마술사|가비|파파|오싹한 연애          감독  "
      ]
     },
     "execution_count": 81,
     "metadata": {},
     "output_type": "execute_result"
    }
   ],
   "source": [
    "director_merge.sample()"
   ]
  },
  {
   "cell_type": "code",
   "execution_count": 94,
   "metadata": {},
   "outputs": [
    {
     "data": {
      "text/html": [
       "<div>\n",
       "<style scoped>\n",
       "    .dataframe tbody tr th:only-of-type {\n",
       "        vertical-align: middle;\n",
       "    }\n",
       "\n",
       "    .dataframe tbody tr th {\n",
       "        vertical-align: top;\n",
       "    }\n",
       "\n",
       "    .dataframe thead th {\n",
       "        text-align: right;\n",
       "    }\n",
       "</style>\n",
       "<table border=\"1\" class=\"dataframe\">\n",
       "  <thead>\n",
       "    <tr style=\"text-align: right;\">\n",
       "      <th></th>\n",
       "      <th>순위</th>\n",
       "      <th>영화명</th>\n",
       "      <th>개봉일</th>\n",
       "      <th>매출액</th>\n",
       "      <th>매출액점유율</th>\n",
       "      <th>누적매출액</th>\n",
       "      <th>관객수</th>\n",
       "      <th>누적관객수</th>\n",
       "      <th>스크린수</th>\n",
       "      <th>상영횟수</th>\n",
       "      <th>대표국적</th>\n",
       "      <th>국적</th>\n",
       "      <th>제작사</th>\n",
       "      <th>배급사</th>\n",
       "      <th>등급</th>\n",
       "      <th>장르</th>\n",
       "      <th>감독</th>\n",
       "      <th>배우</th>\n",
       "    </tr>\n",
       "  </thead>\n",
       "  <tbody>\n",
       "    <tr>\n",
       "      <th>544</th>\n",
       "      <td>76</td>\n",
       "      <td>스파키</td>\n",
       "      <td>2018.4.12</td>\n",
       "      <td>257,040,200</td>\n",
       "      <td>0.0%</td>\n",
       "      <td>257,040,200</td>\n",
       "      <td>35,436</td>\n",
       "      <td>35,436</td>\n",
       "      <td>312</td>\n",
       "      <td>1,949</td>\n",
       "      <td>한국</td>\n",
       "      <td>한국</td>\n",
       "      <td>(주)레드로버</td>\n",
       "      <td>예지림엔터테인먼트</td>\n",
       "      <td>전체관람가</td>\n",
       "      <td>애니메이션,어드벤처,코미디</td>\n",
       "      <td>아론 우들리,애론 우들리</td>\n",
       "      <td>제시카 비엘,수잔 서랜든</td>\n",
       "    </tr>\n",
       "  </tbody>\n",
       "</table>\n",
       "</div>"
      ],
      "text/plain": [
       "     순위  영화명        개봉일         매출액  매출액점유율       누적매출액     관객수   누적관객수   \\\n",
       "544  76  스파키  2018.4.12  257,040,200   0.0%  257,040,200  35,436  35,436   \n",
       "\n",
       "    스크린수   상영횟수  대표국적  국적      제작사        배급사     등급              장르   \\\n",
       "544   312  1,949    한국  한국  (주)레드로버  예지림엔터테인먼트  전체관람가  애니메이션,어드벤처,코미디   \n",
       "\n",
       "               감독             배우   \n",
       "544  아론 우들리,애론 우들리  제시카 비엘,수잔 서랜든  "
      ]
     },
     "execution_count": 94,
     "metadata": {},
     "output_type": "execute_result"
    }
   ],
   "source": [
    "boxoffice[boxoffice['영화명']=='스파키']"
   ]
  },
  {
   "cell_type": "code",
   "execution_count": 107,
   "metadata": {},
   "outputs": [
    {
     "data": {
      "text/plain": [
       "Index(['순위', '영화명', '개봉일', '매출액 ', '매출액점유율', '누적매출액 ', '관객수 ', '누적관객수 ',\n",
       "       '스크린수 ', '상영횟수 ', '대표국적 ', '국적 ', '제작사 ', '배급사 ', '등급 ', '장르 ', '감독 ',\n",
       "       '배우 '],\n",
       "      dtype='object')"
      ]
     },
     "execution_count": 107,
     "metadata": {},
     "output_type": "execute_result"
    }
   ],
   "source": [
    "boxoffice.columns"
   ]
  },
  {
   "cell_type": "code",
   "execution_count": 110,
   "metadata": {},
   "outputs": [
    {
     "data": {
      "text/html": [
       "<div>\n",
       "<style scoped>\n",
       "    .dataframe tbody tr th:only-of-type {\n",
       "        vertical-align: middle;\n",
       "    }\n",
       "\n",
       "    .dataframe tbody tr th {\n",
       "        vertical-align: top;\n",
       "    }\n",
       "\n",
       "    .dataframe thead th {\n",
       "        text-align: right;\n",
       "    }\n",
       "</style>\n",
       "<table border=\"1\" class=\"dataframe\">\n",
       "  <thead>\n",
       "    <tr style=\"text-align: right;\">\n",
       "      <th></th>\n",
       "      <th>movieCd</th>\n",
       "      <th>movieNm</th>\n",
       "      <th>moviePartNm</th>\n",
       "      <th>peopleCd</th>\n",
       "      <th>peopleNm</th>\n",
       "      <th>sex</th>\n",
       "      <th>repRoleNm_x</th>\n",
       "      <th>filmoNames</th>\n",
       "      <th>repRoleNm_y</th>\n",
       "    </tr>\n",
       "  </thead>\n",
       "  <tbody>\n",
       "    <tr>\n",
       "      <th>232</th>\n",
       "      <td>20157587</td>\n",
       "      <td>파울볼</td>\n",
       "      <td>감독</td>\n",
       "      <td>10066934</td>\n",
       "      <td>조정래</td>\n",
       "      <td>남자</td>\n",
       "      <td>감독</td>\n",
       "      <td>에움길|소리꾼|귀향, 끝나지 않은 이야기|귀향|파울볼|두레소리</td>\n",
       "      <td>감독</td>\n",
       "    </tr>\n",
       "    <tr>\n",
       "      <th>233</th>\n",
       "      <td>20157587</td>\n",
       "      <td>파울볼</td>\n",
       "      <td>감독</td>\n",
       "      <td>20144559</td>\n",
       "      <td>김보경</td>\n",
       "      <td>여자</td>\n",
       "      <td>감독</td>\n",
       "      <td>파울볼|사랑한다, 사랑하지 않는다|시라노; 연애조작단|멋진 하루|가을로|혈의 누</td>\n",
       "      <td>조감독</td>\n",
       "    </tr>\n",
       "  </tbody>\n",
       "</table>\n",
       "</div>"
      ],
      "text/plain": [
       "      movieCd movieNm moviePartNm  peopleCd peopleNm sex repRoleNm_x  \\\n",
       "232  20157587     파울볼          감독  10066934      조정래  남자          감독   \n",
       "233  20157587     파울볼          감독  20144559      김보경  여자          감독   \n",
       "\n",
       "                                       filmoNames repRoleNm_y  \n",
       "232            에움길|소리꾼|귀향, 끝나지 않은 이야기|귀향|파울볼|두레소리          감독  \n",
       "233  파울볼|사랑한다, 사랑하지 않는다|시라노; 연애조작단|멋진 하루|가을로|혈의 누         조감독  "
      ]
     },
     "execution_count": 110,
     "metadata": {},
     "output_type": "execute_result"
    }
   ],
   "source": [
    "director_merge[director_merge['movieNm']=='파울볼']"
   ]
  },
  {
   "cell_type": "code",
   "execution_count": 109,
   "metadata": {},
   "outputs": [
    {
     "data": {
      "text/html": [
       "<div>\n",
       "<style scoped>\n",
       "    .dataframe tbody tr th:only-of-type {\n",
       "        vertical-align: middle;\n",
       "    }\n",
       "\n",
       "    .dataframe tbody tr th {\n",
       "        vertical-align: top;\n",
       "    }\n",
       "\n",
       "    .dataframe thead th {\n",
       "        text-align: right;\n",
       "    }\n",
       "</style>\n",
       "<table border=\"1\" class=\"dataframe\">\n",
       "  <thead>\n",
       "    <tr style=\"text-align: right;\">\n",
       "      <th></th>\n",
       "      <th>순위</th>\n",
       "      <th>영화명</th>\n",
       "      <th>개봉일</th>\n",
       "      <th>매출액</th>\n",
       "      <th>매출액점유율</th>\n",
       "      <th>누적매출액</th>\n",
       "      <th>관객수</th>\n",
       "      <th>누적관객수</th>\n",
       "      <th>스크린수</th>\n",
       "      <th>상영횟수</th>\n",
       "      <th>대표국적</th>\n",
       "      <th>국적</th>\n",
       "      <th>제작사</th>\n",
       "      <th>배급사</th>\n",
       "      <th>등급</th>\n",
       "      <th>장르</th>\n",
       "      <th>감독</th>\n",
       "      <th>배우</th>\n",
       "    </tr>\n",
       "  </thead>\n",
       "  <tbody>\n",
       "    <tr>\n",
       "      <th>30</th>\n",
       "      <td>73</td>\n",
       "      <td>파울볼</td>\n",
       "      <td>2015.4.2</td>\n",
       "      <td>235,292,500</td>\n",
       "      <td>0.0%</td>\n",
       "      <td>235,292,500</td>\n",
       "      <td>31,137</td>\n",
       "      <td>31,137</td>\n",
       "      <td>231</td>\n",
       "      <td>3,859</td>\n",
       "      <td>한국</td>\n",
       "      <td>한국</td>\n",
       "      <td>(주)티피에스컴퍼니</td>\n",
       "      <td>오퍼스픽쳐스(유)</td>\n",
       "      <td>전체관람가</td>\n",
       "      <td>다큐멘터리</td>\n",
       "      <td>조정래,김보경</td>\n",
       "      <td>김성근,조진웅,박지은,박진영,설재훈,이경태,이동현,이상훈,이상훈,이성진,이승엽,이승...</td>\n",
       "    </tr>\n",
       "  </tbody>\n",
       "</table>\n",
       "</div>"
      ],
      "text/plain": [
       "    순위  영화명       개봉일         매출액  매출액점유율       누적매출액     관객수   누적관객수  스크린수   \\\n",
       "30  73  파울볼  2015.4.2  235,292,500   0.0%  235,292,500  31,137  31,137   231   \n",
       "\n",
       "    상영횟수  대표국적  국적         제작사        배급사     등급     장르       감독   \\\n",
       "30  3,859    한국  한국  (주)티피에스컴퍼니  오퍼스픽쳐스(유)  전체관람가  다큐멘터리  조정래,김보경   \n",
       "\n",
       "                                                  배우   \n",
       "30  김성근,조진웅,박지은,박진영,설재훈,이경태,이동현,이상훈,이상훈,이성진,이승엽,이승...  "
      ]
     },
     "execution_count": 109,
     "metadata": {},
     "output_type": "execute_result"
    }
   ],
   "source": [
    "boxoffice[boxoffice['감독 ']=='조정래,김보경']"
   ]
  },
  {
   "cell_type": "code",
   "execution_count": null,
   "metadata": {},
   "outputs": [],
   "source": []
  }
 ],
 "metadata": {
  "kernelspec": {
   "display_name": "Python 3",
   "language": "python",
   "name": "python3"
  },
  "language_info": {
   "codemirror_mode": {
    "name": "ipython",
    "version": 3
   },
   "file_extension": ".py",
   "mimetype": "text/x-python",
   "name": "python",
   "nbconvert_exporter": "python",
   "pygments_lexer": "ipython3",
   "version": "3.7.3"
  }
 },
 "nbformat": 4,
 "nbformat_minor": 2
}
