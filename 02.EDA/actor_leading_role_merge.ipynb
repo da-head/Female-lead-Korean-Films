{
 "cells": [
  {
   "cell_type": "code",
   "execution_count": 1,
   "metadata": {},
   "outputs": [],
   "source": [
    "import pandas as pd\n",
    "import numpy as np\n",
    "import matplotlib\n",
    "import matplotlib.pyplot as plt\n",
    "import seaborn as sns\n",
    "import warnings\n",
    "\n",
    "%matplotlib inline\n",
    "plt.rcParams['font.family'] = 'NanumGothic'\n",
    "warnings.filterwarnings('ignore')"
   ]
  },
  {
   "cell_type": "code",
   "execution_count": 2,
   "metadata": {},
   "outputs": [],
   "source": [
    "lead = pd.read_csv('../01.Data_Collection/actor_leading_role.csv')\n",
    "box = pd.read_csv('../01.Data_Collection/boxoffice.csv')"
   ]
  },
  {
   "cell_type": "code",
   "execution_count": 3,
   "metadata": {},
   "outputs": [
    {
     "data": {
      "text/html": [
       "<div>\n",
       "<style scoped>\n",
       "    .dataframe tbody tr th:only-of-type {\n",
       "        vertical-align: middle;\n",
       "    }\n",
       "\n",
       "    .dataframe tbody tr th {\n",
       "        vertical-align: top;\n",
       "    }\n",
       "\n",
       "    .dataframe thead th {\n",
       "        text-align: right;\n",
       "    }\n",
       "</style>\n",
       "<table border=\"1\" class=\"dataframe\">\n",
       "  <thead>\n",
       "    <tr style=\"text-align: right;\">\n",
       "      <th></th>\n",
       "      <th>cast</th>\n",
       "      <th>movieCd</th>\n",
       "      <th>movieNm</th>\n",
       "      <th>peopleNm</th>\n",
       "      <th>repRoleNm</th>\n",
       "      <th>peopleCd</th>\n",
       "      <th>sex</th>\n",
       "    </tr>\n",
       "  </thead>\n",
       "  <tbody>\n",
       "    <tr>\n",
       "      <th>0</th>\n",
       "      <td>서도철</td>\n",
       "      <td>20148048</td>\n",
       "      <td>베테랑</td>\n",
       "      <td>황정민</td>\n",
       "      <td>배우</td>\n",
       "      <td>10090290</td>\n",
       "      <td>남자</td>\n",
       "    </tr>\n",
       "    <tr>\n",
       "      <th>1</th>\n",
       "      <td>안옥윤</td>\n",
       "      <td>20148851</td>\n",
       "      <td>암살</td>\n",
       "      <td>전지현</td>\n",
       "      <td>배우</td>\n",
       "      <td>10061467</td>\n",
       "      <td>여자</td>\n",
       "    </tr>\n",
       "    <tr>\n",
       "      <th>2</th>\n",
       "      <td>안상구</td>\n",
       "      <td>20149314</td>\n",
       "      <td>내부자들</td>\n",
       "      <td>이병헌</td>\n",
       "      <td>배우</td>\n",
       "      <td>10055626</td>\n",
       "      <td>남자</td>\n",
       "    </tr>\n",
       "    <tr>\n",
       "      <th>3</th>\n",
       "      <td>NaN</td>\n",
       "      <td>20145503</td>\n",
       "      <td>검은 사제들</td>\n",
       "      <td>김윤석</td>\n",
       "      <td>배우</td>\n",
       "      <td>10005276</td>\n",
       "      <td>남자</td>\n",
       "    </tr>\n",
       "    <tr>\n",
       "      <th>4</th>\n",
       "      <td>NaN</td>\n",
       "      <td>20148846</td>\n",
       "      <td>사도</td>\n",
       "      <td>송강호</td>\n",
       "      <td>배우</td>\n",
       "      <td>10037018</td>\n",
       "      <td>남자</td>\n",
       "    </tr>\n",
       "  </tbody>\n",
       "</table>\n",
       "</div>"
      ],
      "text/plain": [
       "  cast   movieCd movieNm peopleNm repRoleNm  peopleCd sex\n",
       "0  서도철  20148048     베테랑      황정민        배우  10090290  남자\n",
       "1  안옥윤  20148851      암살      전지현        배우  10061467  여자\n",
       "2  안상구  20149314    내부자들      이병헌        배우  10055626  남자\n",
       "3  NaN  20145503  검은 사제들      김윤석        배우  10005276  남자\n",
       "4  NaN  20148846      사도      송강호        배우  10037018  남자"
      ]
     },
     "execution_count": 3,
     "metadata": {},
     "output_type": "execute_result"
    }
   ],
   "source": [
    "lead.head()"
   ]
  },
  {
   "cell_type": "code",
   "execution_count": 4,
   "metadata": {},
   "outputs": [
    {
     "data": {
      "text/plain": [
       "남자    501\n",
       "여자    269\n",
       "Name: sex, dtype: int64"
      ]
     },
     "execution_count": 4,
     "metadata": {},
     "output_type": "execute_result"
    }
   ],
   "source": [
    "sex = lead['sex'].value_counts()\n",
    "sex"
   ]
  },
  {
   "cell_type": "code",
   "execution_count": 5,
   "metadata": {},
   "outputs": [
    {
     "data": {
      "text/plain": [
       "남자    0.650649\n",
       "여자    0.349351\n",
       "Name: sex, dtype: float64"
      ]
     },
     "execution_count": 5,
     "metadata": {},
     "output_type": "execute_result"
    }
   ],
   "source": [
    "sex_proportion = sex / len(lead)\n",
    "sex_proportion"
   ]
  },
  {
   "cell_type": "code",
   "execution_count": 6,
   "metadata": {},
   "outputs": [
    {
     "data": {
      "image/png": "[encoded data removed]",
      "text/plain": [
       "<Figure size 360x360 with 1 Axes>"
      ]
     },
     "metadata": {},
     "output_type": "display_data"
    }
   ],
   "source": [
    "sex_proportion.plot.pie(title='Leading role 성별 비율', figsize=(5,5))\n",
    "plt.show()"
   ]
  },
  {
   "cell_type": "code",
   "execution_count": 8,
   "metadata": {},
   "outputs": [
    {
     "data": {
      "text/html": [
       "<div>\n",
       "<style scoped>\n",
       "    .dataframe tbody tr th:only-of-type {\n",
       "        vertical-align: middle;\n",
       "    }\n",
       "\n",
       "    .dataframe tbody tr th {\n",
       "        vertical-align: top;\n",
       "    }\n",
       "\n",
       "    .dataframe thead th {\n",
       "        text-align: right;\n",
       "    }\n",
       "</style>\n",
       "<table border=\"1\" class=\"dataframe\">\n",
       "  <thead>\n",
       "    <tr style=\"text-align: right;\">\n",
       "      <th></th>\n",
       "      <th>순위</th>\n",
       "      <th>영화명</th>\n",
       "      <th>개봉일</th>\n",
       "      <th>매출액</th>\n",
       "      <th>매출액점유율</th>\n",
       "      <th>누적매출액</th>\n",
       "      <th>관객수</th>\n",
       "      <th>누적관객수</th>\n",
       "      <th>스크린수</th>\n",
       "      <th>상영횟수</th>\n",
       "      <th>대표국적</th>\n",
       "      <th>국적</th>\n",
       "      <th>제작사</th>\n",
       "      <th>배급사</th>\n",
       "      <th>등급</th>\n",
       "      <th>장르</th>\n",
       "      <th>감독</th>\n",
       "      <th>배우</th>\n",
       "    </tr>\n",
       "  </thead>\n",
       "  <tbody>\n",
       "    <tr>\n",
       "      <th>0</th>\n",
       "      <td>55</td>\n",
       "      <td>워킹걸</td>\n",
       "      <td>2015.1.7</td>\n",
       "      <td>1,183,887,479</td>\n",
       "      <td>0.1%</td>\n",
       "      <td>1,201,963,479</td>\n",
       "      <td>149,181</td>\n",
       "      <td>151,550</td>\n",
       "      <td>308</td>\n",
       "      <td>7,076</td>\n",
       "      <td>한국</td>\n",
       "      <td>한국</td>\n",
       "      <td>(주)홍필름,(주)수필름</td>\n",
       "      <td>메가박스중앙(주)플러스엠</td>\n",
       "      <td>청소년관람불가</td>\n",
       "      <td>코미디,멜로/로맨스</td>\n",
       "      <td>정범식</td>\n",
       "      <td>조여정,클라라,김태우,배유람,정범식,정범식,박주희,백경인,조은영,손진우,배성우,유찬...</td>\n",
       "    </tr>\n",
       "    <tr>\n",
       "      <th>1</th>\n",
       "      <td>121</td>\n",
       "      <td>설해</td>\n",
       "      <td>2015.1.8</td>\n",
       "      <td>20,767,500</td>\n",
       "      <td>0.0%</td>\n",
       "      <td>29,770,500</td>\n",
       "      <td>2,796</td>\n",
       "      <td>3,933</td>\n",
       "      <td>34</td>\n",
       "      <td>335</td>\n",
       "      <td>한국</td>\n",
       "      <td>한국</td>\n",
       "      <td>(주)맑음영화사</td>\n",
       "      <td>(주)마인스 엔터테인먼트,주식회사 마운틴픽쳐스</td>\n",
       "      <td>12세이상관람가</td>\n",
       "      <td>멜로/로맨스,드라마</td>\n",
       "      <td>김정권</td>\n",
       "      <td>박해진,이영아,송재희,전무송,최원주,이상민,이기열,윤기호,김수환,김정권,김혜진,박재...</td>\n",
       "    </tr>\n",
       "    <tr>\n",
       "      <th>2</th>\n",
       "      <td>26</td>\n",
       "      <td>허삼관</td>\n",
       "      <td>2015.1.14</td>\n",
       "      <td>7,408,943,569</td>\n",
       "      <td>0.8%</td>\n",
       "      <td>7,408,943,569</td>\n",
       "      <td>955,679</td>\n",
       "      <td>955,679</td>\n",
       "      <td>621</td>\n",
       "      <td>27,645</td>\n",
       "      <td>한국</td>\n",
       "      <td>한국</td>\n",
       "      <td>(주)두타연,(주)판타지오픽쳐스</td>\n",
       "      <td>(주)넥스트엔터테인먼트월드(NEW)</td>\n",
       "      <td>12세이상관람가</td>\n",
       "      <td>드라마</td>\n",
       "      <td>하정우</td>\n",
       "      <td>하정우,하지원,전혜진,장광,주진모,성동일,이경영,김영애,정만식,조진웅,김기천,김성균...</td>\n",
       "    </tr>\n",
       "  </tbody>\n",
       "</table>\n",
       "</div>"
      ],
      "text/plain": [
       "    순위  영화명        개봉일           매출액  매출액점유율         누적매출액      관객수    누적관객수   \\\n",
       "0   55  워킹걸   2015.1.7  1,183,887,479   0.1%  1,201,963,479  149,181  151,550   \n",
       "1  121   설해   2015.1.8     20,767,500   0.0%     29,770,500    2,796    3,933   \n",
       "2   26  허삼관  2015.1.14  7,408,943,569   0.8%  7,408,943,569  955,679  955,679   \n",
       "\n",
       "  스크린수    상영횟수  대표국적  국적                제작사                        배급사   \\\n",
       "0   308   7,076    한국  한국      (주)홍필름,(주)수필름              메가박스중앙(주)플러스엠   \n",
       "1    34     335    한국  한국           (주)맑음영화사  (주)마인스 엔터테인먼트,주식회사 마운틴픽쳐스   \n",
       "2   621  27,645    한국  한국  (주)두타연,(주)판타지오픽쳐스        (주)넥스트엔터테인먼트월드(NEW)   \n",
       "\n",
       "        등급          장르   감독   \\\n",
       "0   청소년관람불가  코미디,멜로/로맨스  정범식   \n",
       "1  12세이상관람가  멜로/로맨스,드라마  김정권   \n",
       "2  12세이상관람가         드라마  하정우   \n",
       "\n",
       "                                                 배우   \n",
       "0  조여정,클라라,김태우,배유람,정범식,정범식,박주희,백경인,조은영,손진우,배성우,유찬...  \n",
       "1  박해진,이영아,송재희,전무송,최원주,이상민,이기열,윤기호,김수환,김정권,김혜진,박재...  \n",
       "2  하정우,하지원,전혜진,장광,주진모,성동일,이경영,김영애,정만식,조진웅,김기천,김성균...  "
      ]
     },
     "execution_count": 8,
     "metadata": {},
     "output_type": "execute_result"
    }
   ],
   "source": [
    "box.head(3)"
   ]
  },
  {
   "cell_type": "code",
   "execution_count": 9,
   "metadata": {},
   "outputs": [
    {
     "data": {
      "text/plain": [
       "802"
      ]
     },
     "execution_count": 9,
     "metadata": {},
     "output_type": "execute_result"
    }
   ],
   "source": [
    "len(box)"
   ]
  },
  {
   "cell_type": "code",
   "execution_count": 10,
   "metadata": {},
   "outputs": [
    {
     "data": {
      "text/plain": [
       "802"
      ]
     },
     "execution_count": 10,
     "metadata": {},
     "output_type": "execute_result"
    }
   ],
   "source": [
    "# 박스오피스 테이블 안에 같은 제목을 가진 영화는 없다.\n",
    "box['영화명'].nunique()"
   ]
  },
  {
   "cell_type": "code",
   "execution_count": 11,
   "metadata": {},
   "outputs": [],
   "source": [
    "# 영화명으로 merge\n",
    "merged = box.merge(lead, how='left', left_on='영화명', right_on='movieNm')"
   ]
  },
  {
   "cell_type": "code",
   "execution_count": 17,
   "metadata": {},
   "outputs": [
    {
     "data": {
      "text/html": [
       "<div>\n",
       "<style scoped>\n",
       "    .dataframe tbody tr th:only-of-type {\n",
       "        vertical-align: middle;\n",
       "    }\n",
       "\n",
       "    .dataframe tbody tr th {\n",
       "        vertical-align: top;\n",
       "    }\n",
       "\n",
       "    .dataframe thead th {\n",
       "        text-align: right;\n",
       "    }\n",
       "</style>\n",
       "<table border=\"1\" class=\"dataframe\">\n",
       "  <thead>\n",
       "    <tr style=\"text-align: right;\">\n",
       "      <th></th>\n",
       "      <th>순위</th>\n",
       "      <th>영화명</th>\n",
       "      <th>개봉일</th>\n",
       "      <th>매출액</th>\n",
       "      <th>매출액점유율</th>\n",
       "      <th>누적매출액</th>\n",
       "      <th>관객수</th>\n",
       "      <th>누적관객수</th>\n",
       "      <th>스크린수</th>\n",
       "      <th>상영횟수</th>\n",
       "      <th>...</th>\n",
       "      <th>장르</th>\n",
       "      <th>감독</th>\n",
       "      <th>배우</th>\n",
       "      <th>cast</th>\n",
       "      <th>movieCd</th>\n",
       "      <th>movieNm</th>\n",
       "      <th>peopleNm</th>\n",
       "      <th>repRoleNm</th>\n",
       "      <th>peopleCd</th>\n",
       "      <th>sex</th>\n",
       "    </tr>\n",
       "  </thead>\n",
       "  <tbody>\n",
       "    <tr>\n",
       "      <th>0</th>\n",
       "      <td>55</td>\n",
       "      <td>워킹걸</td>\n",
       "      <td>2015.1.7</td>\n",
       "      <td>1,183,887,479</td>\n",
       "      <td>0.1%</td>\n",
       "      <td>1,201,963,479</td>\n",
       "      <td>149,181</td>\n",
       "      <td>151,550</td>\n",
       "      <td>308</td>\n",
       "      <td>7,076</td>\n",
       "      <td>...</td>\n",
       "      <td>코미디,멜로/로맨스</td>\n",
       "      <td>정범식</td>\n",
       "      <td>조여정,클라라,김태우,배유람,정범식,정범식,박주희,백경인,조은영,손진우,배성우,유찬...</td>\n",
       "      <td>NaN</td>\n",
       "      <td>20147947.0</td>\n",
       "      <td>워킹걸</td>\n",
       "      <td>조여정</td>\n",
       "      <td>배우</td>\n",
       "      <td>10066680.0</td>\n",
       "      <td>여자</td>\n",
       "    </tr>\n",
       "  </tbody>\n",
       "</table>\n",
       "<p>1 rows × 25 columns</p>\n",
       "</div>"
      ],
      "text/plain": [
       "   순위  영화명       개봉일           매출액  매출액점유율         누적매출액      관객수    누적관객수   \\\n",
       "0  55  워킹걸  2015.1.7  1,183,887,479   0.1%  1,201,963,479  149,181  151,550   \n",
       "\n",
       "  스크린수   상영횟수   ...         장르   감독   \\\n",
       "0   308  7,076  ...  코미디,멜로/로맨스  정범식   \n",
       "\n",
       "                                                 배우  cast     movieCd movieNm  \\\n",
       "0  조여정,클라라,김태우,배유람,정범식,정범식,박주희,백경인,조은영,손진우,배성우,유찬...  NaN  20147947.0     워킹걸   \n",
       "\n",
       "  peopleNm repRoleNm    peopleCd  sex  \n",
       "0      조여정        배우  10066680.0   여자  \n",
       "\n",
       "[1 rows x 25 columns]"
      ]
     },
     "execution_count": 17,
     "metadata": {},
     "output_type": "execute_result"
    }
   ],
   "source": [
    "merged.head(1)"
   ]
  },
  {
   "cell_type": "code",
   "execution_count": 15,
   "metadata": {},
   "outputs": [
    {
     "data": {
      "text/plain": [
       "순위             0\n",
       "영화명            0\n",
       "개봉일            0\n",
       "매출액            0\n",
       "매출액점유율         0\n",
       "누적매출액          0\n",
       "관객수            0\n",
       "누적관객수          0\n",
       "스크린수           0\n",
       "상영횟수           0\n",
       "대표국적           0\n",
       "국적             0\n",
       "제작사           20\n",
       "배급사            1\n",
       "등급             0\n",
       "장르             0\n",
       "감독             3\n",
       "배우            31\n",
       "cast         462\n",
       "movieCd       60\n",
       "movieNm       60\n",
       "peopleNm      60\n",
       "repRoleNm     60\n",
       "peopleCd      60\n",
       "sex           60\n",
       "dtype: int64"
      ]
     },
     "execution_count": 15,
     "metadata": {},
     "output_type": "execute_result"
    }
   ],
   "source": [
    "merged.isnull().sum()"
   ]
  },
  {
   "cell_type": "code",
   "execution_count": 18,
   "metadata": {},
   "outputs": [
    {
     "data": {
      "text/plain": [
       "32"
      ]
     },
     "execution_count": 18,
     "metadata": {},
     "output_type": "execute_result"
    }
   ],
   "source": [
    "# 'movieNm' 결측치가 32개여야 하는데 60개 -> 박스오피스 데이터에 없는데 우리가 긁어온 데이터에는 있는 영화가 있다는 건데 대체 왜?\n",
    "len(box) - len(lead)"
   ]
  },
  {
   "cell_type": "code",
   "execution_count": 21,
   "metadata": {},
   "outputs": [],
   "source": [
    "# outer merge를 해 보자.\n",
    "outer_merged = box.merge(lead, how='outer', left_on='영화명', right_on='movieNm')"
   ]
  },
  {
   "cell_type": "code",
   "execution_count": 22,
   "metadata": {},
   "outputs": [
    {
     "data": {
      "text/plain": [
       "830"
      ]
     },
     "execution_count": 22,
     "metadata": {},
     "output_type": "execute_result"
    }
   ],
   "source": [
    "len(outer_merged)"
   ]
  },
  {
   "cell_type": "code",
   "execution_count": 23,
   "metadata": {},
   "outputs": [
    {
     "data": {
      "text/plain": [
       "순위            28\n",
       "영화명           28\n",
       "개봉일           28\n",
       "매출액           28\n",
       "매출액점유율        28\n",
       "누적매출액         28\n",
       "관객수           28\n",
       "누적관객수         28\n",
       "스크린수          28\n",
       "상영횟수          28\n",
       "대표국적          28\n",
       "국적            28\n",
       "제작사           48\n",
       "배급사           29\n",
       "등급            28\n",
       "장르            28\n",
       "감독            31\n",
       "배우            59\n",
       "cast         483\n",
       "movieCd       60\n",
       "movieNm       60\n",
       "peopleNm      60\n",
       "repRoleNm     60\n",
       "peopleCd      60\n",
       "sex           60\n",
       "dtype: int64"
      ]
     },
     "execution_count": 23,
     "metadata": {},
     "output_type": "execute_result"
    }
   ],
   "source": [
    "outer_merged.isnull().sum()"
   ]
  },
  {
   "cell_type": "code",
   "execution_count": 24,
   "metadata": {},
   "outputs": [
    {
     "data": {
      "text/plain": [
       "802                     태양을 쏴라 무삭제판\n",
       "803                       위선자들: 감독판\n",
       "804                    성난 화가 - 무삭제판\n",
       "805                        용주골-무삭제판\n",
       "806                       포장마차-무삭제판\n",
       "807                 미궁: 비밀애 무삭제 특별판\n",
       "808                       유부녀들(무삭제)\n",
       "809                  내 친구의 아내 (무삭제)\n",
       "810    나도 때론 포르노그라피의 주인공이고 싶다 : 감독판\n",
       "811                        아가씨(확장판)\n",
       "812             우리에게 떡볶이를 먹을 권리가 있다\n",
       "813                            치킨게임\n",
       "814                     하숙집 2 (무삭제)\n",
       "815                            러브레따\n",
       "816                개인교수: 심화학습 (무삭제)\n",
       "817                    동거의 목적(무삭제판)\n",
       "818                  뜨거운 이웃 무삭제 감독판\n",
       "819                           문영 단편\n",
       "820                     왕을 참하라 무삭제판\n",
       "821                       비스티걸스 감독판\n",
       "822                          덫 무삭제판\n",
       "823                         군함도 감독판\n",
       "824                     착한 형수 2 무삭제\n",
       "825                          재혼의 기술\n",
       "826                          오늘도 위위\n",
       "827                        북간도의 십자가\n",
       "828                  1919유관순-그녀들의조국\n",
       "829                        82년생 김지영\n",
       "Name: movieNm, dtype: object"
      ]
     },
     "execution_count": 24,
     "metadata": {},
     "output_type": "execute_result"
    }
   ],
   "source": [
    "# leading role 테이블에만 있는 영화\n",
    "outer_merged[outer_merged['영화명'].isnull()]['movieNm']"
   ]
  },
  {
   "cell_type": "code",
   "execution_count": 25,
   "metadata": {
    "scrolled": true
   },
   "outputs": [
    {
     "data": {
      "text/plain": [
       "26                       태양을 쏴라\n",
       "34          다이빙벨: 진실은 침몰하지 않습니다\n",
       "36                      미궁: 비밀애\n",
       "44                    잡식가족의 딜레마\n",
       "59                        성난 화가\n",
       "74                       밀양 아리랑\n",
       "82                 에스엠타운 더 스테이지\n",
       "108                        포장마차\n",
       "111                        유부녀들\n",
       "116                        오디세오\n",
       "125                      울보 권투부\n",
       "131      나도 때론 포르노그라피의 주인공이고 싶다\n",
       "134                         용주골\n",
       "144                        위선자들\n",
       "146                    내 친구의 아내\n",
       "147                      감금의 시간\n",
       "150                      불안한 외출\n",
       "161               나의 아들, 나의 어머니\n",
       "164                       하숙집 2\n",
       "168                       거미의 땅\n",
       "172       극장판 꼬마버스 타요의 에이스 구출작전\n",
       "175                      뜨거운 이웃\n",
       "185                  개인교수: 심화학습\n",
       "188                          귀향\n",
       "195                    방 안의 코끼리\n",
       "207                      동거의 목적\n",
       "210                        입영전야\n",
       "233                        드롭박스\n",
       "238                         아가씨\n",
       "242                       시선 사이\n",
       "243                      소녀와 여자\n",
       "246                        보고싶다\n",
       "257           극장판 프리즘스톤 올스타 셀렉션\n",
       "269                     그림자들의 섬\n",
       "272                      최악의 하루\n",
       "279                     왕초와 용가리\n",
       "292    극장판 프리파라 모두 모여라! 프리즘☆투어즈\n",
       "298                무현, 두 도시 이야기\n",
       "302                      시간의 종말\n",
       "306                     오 마이 파파\n",
       "336                          문영\n",
       "358                      왕을 참하라\n",
       "393                      드래곤빌리지\n",
       "401                      파란나비효과\n",
       "409                       비스티걸스\n",
       "410                           덫\n",
       "412                    올 리브 올리브\n",
       "413                      불온한 당신\n",
       "414                         군함도\n",
       "441                  다시 태어나도 우리\n",
       "446                     착한 형수 2\n",
       "455                   노트르담 드 파리\n",
       "486                         침입자\n",
       "509                       풍뎅이뎅이\n",
       "596                        카운터스\n",
       "640                        마담 B\n",
       "692                    1919 유관순\n",
       "719          굿바이 마이 러브NK: 붉은 청춘\n",
       "756              콩쥐별전 - 전주성의 비밀\n",
       "777                      불빛 아래서\n",
       "Name: 영화명, dtype: object"
      ]
     },
     "execution_count": 25,
     "metadata": {},
     "output_type": "execute_result"
    }
   ],
   "source": [
    "# boxoffice 테이블에만 있는 영화\n",
    "outer_merged[outer_merged['movieNm'].isnull()]['영화명']"
   ]
  },
  {
   "cell_type": "code",
   "execution_count": 27,
   "metadata": {},
   "outputs": [
    {
     "data": {
      "text/html": [
       "<div>\n",
       "<style scoped>\n",
       "    .dataframe tbody tr th:only-of-type {\n",
       "        vertical-align: middle;\n",
       "    }\n",
       "\n",
       "    .dataframe tbody tr th {\n",
       "        vertical-align: top;\n",
       "    }\n",
       "\n",
       "    .dataframe thead th {\n",
       "        text-align: right;\n",
       "    }\n",
       "</style>\n",
       "<table border=\"1\" class=\"dataframe\">\n",
       "  <thead>\n",
       "    <tr style=\"text-align: right;\">\n",
       "      <th></th>\n",
       "      <th>순위</th>\n",
       "      <th>영화명</th>\n",
       "      <th>개봉일</th>\n",
       "      <th>매출액</th>\n",
       "      <th>매출액점유율</th>\n",
       "      <th>누적매출액</th>\n",
       "      <th>관객수</th>\n",
       "      <th>누적관객수</th>\n",
       "      <th>스크린수</th>\n",
       "      <th>상영횟수</th>\n",
       "      <th>...</th>\n",
       "      <th>장르</th>\n",
       "      <th>감독</th>\n",
       "      <th>배우</th>\n",
       "      <th>cast</th>\n",
       "      <th>movieCd</th>\n",
       "      <th>movieNm</th>\n",
       "      <th>peopleNm</th>\n",
       "      <th>repRoleNm</th>\n",
       "      <th>peopleCd</th>\n",
       "      <th>sex</th>\n",
       "    </tr>\n",
       "  </thead>\n",
       "  <tbody>\n",
       "    <tr>\n",
       "      <th>238</th>\n",
       "      <td>11.0</td>\n",
       "      <td>아가씨</td>\n",
       "      <td>2016.6.1</td>\n",
       "      <td>35,211,229,991</td>\n",
       "      <td>3.8%</td>\n",
       "      <td>35,211,229,991</td>\n",
       "      <td>4,287,839</td>\n",
       "      <td>4,287,839</td>\n",
       "      <td>1,171</td>\n",
       "      <td>90,365</td>\n",
       "      <td>...</td>\n",
       "      <td>스릴러,드라마</td>\n",
       "      <td>박찬욱</td>\n",
       "      <td>김민희,김태리,하정우,조진웅,김해숙,문소리,최병모,김인우,이용녀,조은형,장한순,이규...</td>\n",
       "      <td>NaN</td>\n",
       "      <td>NaN</td>\n",
       "      <td>NaN</td>\n",
       "      <td>NaN</td>\n",
       "      <td>NaN</td>\n",
       "      <td>NaN</td>\n",
       "      <td>NaN</td>\n",
       "    </tr>\n",
       "  </tbody>\n",
       "</table>\n",
       "<p>1 rows × 25 columns</p>\n",
       "</div>"
      ],
      "text/plain": [
       "       순위  영화명       개봉일            매출액  매출액점유율          누적매출액        관객수   \\\n",
       "238  11.0  아가씨  2016.6.1  35,211,229,991   3.8%  35,211,229,991  4,287,839   \n",
       "\n",
       "        누적관객수   스크린수    상영횟수   ...      장르   감독   \\\n",
       "238  4,287,839  1,171  90,365  ...  스릴러,드라마  박찬욱   \n",
       "\n",
       "                                                   배우  cast movieCd movieNm  \\\n",
       "238  김민희,김태리,하정우,조진웅,김해숙,문소리,최병모,김인우,이용녀,조은형,장한순,이규...  NaN     NaN     NaN   \n",
       "\n",
       "    peopleNm repRoleNm peopleCd  sex  \n",
       "238      NaN       NaN      NaN  NaN  \n",
       "\n",
       "[1 rows x 25 columns]"
      ]
     },
     "execution_count": 27,
     "metadata": {},
     "output_type": "execute_result"
    }
   ],
   "source": [
    "outer_merged[outer_merged['영화명']=='아가씨']"
   ]
  },
  {
   "cell_type": "code",
   "execution_count": 29,
   "metadata": {},
   "outputs": [
    {
     "data": {
      "text/html": [
       "<div>\n",
       "<style scoped>\n",
       "    .dataframe tbody tr th:only-of-type {\n",
       "        vertical-align: middle;\n",
       "    }\n",
       "\n",
       "    .dataframe tbody tr th {\n",
       "        vertical-align: top;\n",
       "    }\n",
       "\n",
       "    .dataframe thead th {\n",
       "        text-align: right;\n",
       "    }\n",
       "</style>\n",
       "<table border=\"1\" class=\"dataframe\">\n",
       "  <thead>\n",
       "    <tr style=\"text-align: right;\">\n",
       "      <th></th>\n",
       "      <th>순위</th>\n",
       "      <th>영화명</th>\n",
       "      <th>개봉일</th>\n",
       "      <th>매출액</th>\n",
       "      <th>매출액점유율</th>\n",
       "      <th>누적매출액</th>\n",
       "      <th>관객수</th>\n",
       "      <th>누적관객수</th>\n",
       "      <th>스크린수</th>\n",
       "      <th>상영횟수</th>\n",
       "      <th>...</th>\n",
       "      <th>장르</th>\n",
       "      <th>감독</th>\n",
       "      <th>배우</th>\n",
       "      <th>cast</th>\n",
       "      <th>movieCd</th>\n",
       "      <th>movieNm</th>\n",
       "      <th>peopleNm</th>\n",
       "      <th>repRoleNm</th>\n",
       "      <th>peopleCd</th>\n",
       "      <th>sex</th>\n",
       "    </tr>\n",
       "  </thead>\n",
       "  <tbody>\n",
       "    <tr>\n",
       "      <th>811</th>\n",
       "      <td>NaN</td>\n",
       "      <td>NaN</td>\n",
       "      <td>NaN</td>\n",
       "      <td>NaN</td>\n",
       "      <td>NaN</td>\n",
       "      <td>NaN</td>\n",
       "      <td>NaN</td>\n",
       "      <td>NaN</td>\n",
       "      <td>NaN</td>\n",
       "      <td>NaN</td>\n",
       "      <td>...</td>\n",
       "      <td>NaN</td>\n",
       "      <td>NaN</td>\n",
       "      <td>NaN</td>\n",
       "      <td>아가씨</td>\n",
       "      <td>20167301.0</td>\n",
       "      <td>아가씨(확장판)</td>\n",
       "      <td>김민희</td>\n",
       "      <td>배우</td>\n",
       "      <td>10004236.0</td>\n",
       "      <td>여자</td>\n",
       "    </tr>\n",
       "  </tbody>\n",
       "</table>\n",
       "<p>1 rows × 25 columns</p>\n",
       "</div>"
      ],
      "text/plain": [
       "     순위  영화명  개봉일 매출액  매출액점유율 누적매출액  관객수  누적관객수  스크린수  상영횟수   ...  장르   감독   \\\n",
       "811 NaN  NaN  NaN  NaN    NaN    NaN  NaN    NaN   NaN   NaN  ...  NaN  NaN   \n",
       "\n",
       "     배우  cast     movieCd   movieNm peopleNm repRoleNm    peopleCd  sex  \n",
       "811  NaN  아가씨  20167301.0  아가씨(확장판)      김민희        배우  10004236.0   여자  \n",
       "\n",
       "[1 rows x 25 columns]"
      ]
     },
     "execution_count": 29,
     "metadata": {},
     "output_type": "execute_result"
    }
   ],
   "source": [
    "outer_merged[outer_merged['movieNm']=='아가씨(확장판)']"
   ]
  },
  {
   "cell_type": "code",
   "execution_count": null,
   "metadata": {},
   "outputs": [],
   "source": [
    "# 확장판, 무삭제판 같은 부연설명을 떼고 다시 붙여봐야겠음."
   ]
  }
 ],
 "metadata": {
  "kernelspec": {
   "display_name": "Python 3",
   "language": "python",
   "name": "python3"
  },
  "language_info": {
   "codemirror_mode": {
    "name": "ipython",
    "version": 3
   },
   "file_extension": ".py",
   "mimetype": "text/x-python",
   "name": "python",
   "nbconvert_exporter": "python",
   "pygments_lexer": "ipython3",
   "version": "3.7.3"
  }
 },
 "nbformat": 4,
 "nbformat_minor": 2
}
