{
 "cells": [
  {
   "cell_type": "markdown",
   "metadata": {},
   "source": [
    "# 리딩롤배우 테이블과 박스오피스 테이블 붙이기 (merge)"
   ]
  },
  {
   "cell_type": "code",
   "execution_count": 1,
   "metadata": {},
   "outputs": [],
   "source": [
    "import pandas as pd\n",
    "import numpy as np\n",
    "import matplotlib\n",
    "import matplotlib.pyplot as plt\n",
    "import seaborn as sns\n",
    "import warnings\n",
    "\n",
    "pd.set_option('display.max_columns', None)\n",
    "%matplotlib inline\n",
    "plt.rcParams['font.family'] = 'NanumGothic'\n",
    "warnings.filterwarnings('ignore')"
   ]
  },
  {
   "cell_type": "code",
   "execution_count": 2,
   "metadata": {},
   "outputs": [],
   "source": [
    "lead = pd.read_csv('../01.Data_Collection/actor_leading_role.csv')\n",
    "box = pd.read_csv('../01.Data_Collection/boxoffice.csv')"
   ]
  },
  {
   "cell_type": "code",
   "execution_count": 3,
   "metadata": {},
   "outputs": [
    {
     "data": {
      "text/html": [
       "<div>\n",
       "<style scoped>\n",
       "    .dataframe tbody tr th:only-of-type {\n",
       "        vertical-align: middle;\n",
       "    }\n",
       "\n",
       "    .dataframe tbody tr th {\n",
       "        vertical-align: top;\n",
       "    }\n",
       "\n",
       "    .dataframe thead th {\n",
       "        text-align: right;\n",
       "    }\n",
       "</style>\n",
       "<table border=\"1\" class=\"dataframe\">\n",
       "  <thead>\n",
       "    <tr style=\"text-align: right;\">\n",
       "      <th></th>\n",
       "      <th>cast</th>\n",
       "      <th>movieCd</th>\n",
       "      <th>movieNm</th>\n",
       "      <th>peopleNm</th>\n",
       "      <th>repRoleNm</th>\n",
       "      <th>peopleCd</th>\n",
       "      <th>sex</th>\n",
       "    </tr>\n",
       "  </thead>\n",
       "  <tbody>\n",
       "    <tr>\n",
       "      <th>0</th>\n",
       "      <td>서도철</td>\n",
       "      <td>20148048</td>\n",
       "      <td>베테랑</td>\n",
       "      <td>황정민</td>\n",
       "      <td>배우</td>\n",
       "      <td>10090290</td>\n",
       "      <td>남자</td>\n",
       "    </tr>\n",
       "    <tr>\n",
       "      <th>1</th>\n",
       "      <td>안옥윤</td>\n",
       "      <td>20148851</td>\n",
       "      <td>암살</td>\n",
       "      <td>전지현</td>\n",
       "      <td>배우</td>\n",
       "      <td>10061467</td>\n",
       "      <td>여자</td>\n",
       "    </tr>\n",
       "    <tr>\n",
       "      <th>2</th>\n",
       "      <td>안상구</td>\n",
       "      <td>20149314</td>\n",
       "      <td>내부자들</td>\n",
       "      <td>이병헌</td>\n",
       "      <td>배우</td>\n",
       "      <td>10055626</td>\n",
       "      <td>남자</td>\n",
       "    </tr>\n",
       "    <tr>\n",
       "      <th>3</th>\n",
       "      <td>NaN</td>\n",
       "      <td>20145503</td>\n",
       "      <td>검은 사제들</td>\n",
       "      <td>김윤석</td>\n",
       "      <td>배우</td>\n",
       "      <td>10005276</td>\n",
       "      <td>남자</td>\n",
       "    </tr>\n",
       "    <tr>\n",
       "      <th>4</th>\n",
       "      <td>NaN</td>\n",
       "      <td>20148846</td>\n",
       "      <td>사도</td>\n",
       "      <td>송강호</td>\n",
       "      <td>배우</td>\n",
       "      <td>10037018</td>\n",
       "      <td>남자</td>\n",
       "    </tr>\n",
       "  </tbody>\n",
       "</table>\n",
       "</div>"
      ],
      "text/plain": [
       "  cast   movieCd movieNm peopleNm repRoleNm  peopleCd sex\n",
       "0  서도철  20148048     베테랑      황정민        배우  10090290  남자\n",
       "1  안옥윤  20148851      암살      전지현        배우  10061467  여자\n",
       "2  안상구  20149314    내부자들      이병헌        배우  10055626  남자\n",
       "3  NaN  20145503  검은 사제들      김윤석        배우  10005276  남자\n",
       "4  NaN  20148846      사도      송강호        배우  10037018  남자"
      ]
     },
     "execution_count": 3,
     "metadata": {},
     "output_type": "execute_result"
    }
   ],
   "source": [
    "lead.head()"
   ]
  },
  {
   "cell_type": "code",
   "execution_count": 4,
   "metadata": {},
   "outputs": [
    {
     "data": {
      "text/plain": [
       "남자    501\n",
       "여자    269\n",
       "Name: sex, dtype: int64"
      ]
     },
     "execution_count": 4,
     "metadata": {},
     "output_type": "execute_result"
    }
   ],
   "source": [
    "sex = lead['sex'].value_counts()\n",
    "sex"
   ]
  },
  {
   "cell_type": "code",
   "execution_count": 5,
   "metadata": {},
   "outputs": [
    {
     "data": {
      "text/html": [
       "<div>\n",
       "<style scoped>\n",
       "    .dataframe tbody tr th:only-of-type {\n",
       "        vertical-align: middle;\n",
       "    }\n",
       "\n",
       "    .dataframe tbody tr th {\n",
       "        vertical-align: top;\n",
       "    }\n",
       "\n",
       "    .dataframe thead th {\n",
       "        text-align: right;\n",
       "    }\n",
       "</style>\n",
       "<table border=\"1\" class=\"dataframe\">\n",
       "  <thead>\n",
       "    <tr style=\"text-align: right;\">\n",
       "      <th></th>\n",
       "      <th>index</th>\n",
       "      <th>sex</th>\n",
       "    </tr>\n",
       "  </thead>\n",
       "  <tbody>\n",
       "    <tr>\n",
       "      <th>0</th>\n",
       "      <td>남자</td>\n",
       "      <td>0.650649</td>\n",
       "    </tr>\n",
       "    <tr>\n",
       "      <th>1</th>\n",
       "      <td>여자</td>\n",
       "      <td>0.349351</td>\n",
       "    </tr>\n",
       "  </tbody>\n",
       "</table>\n",
       "</div>"
      ],
      "text/plain": [
       "  index       sex\n",
       "0    남자  0.650649\n",
       "1    여자  0.349351"
      ]
     },
     "execution_count": 5,
     "metadata": {},
     "output_type": "execute_result"
    }
   ],
   "source": [
    "sex_proportion = (sex/len(lead)).reset_index()\n",
    "sex_proportion"
   ]
  },
  {
   "cell_type": "code",
   "execution_count": 6,
   "metadata": {},
   "outputs": [
    {
     "data": {
      "image/png": "[encoded data removed]",
      "text/plain": [
       "<Figure size 288x288 with 1 Axes>"
      ]
     },
     "metadata": {},
     "output_type": "display_data"
    }
   ],
   "source": [
    "labels = sex_proportion['index']\n",
    "sizes = sex_proportion['sex']\n",
    "\n",
    "fig1, ax1 = plt.subplots(figsize=(4,4))\n",
    "ax1.pie(sizes, labels=labels, autopct='%1.2f%%', startangle=90)\n",
    "\n",
    "ax1.axis('equal')  \n",
    "plt.tight_layout()\n",
    "plt.show()"
   ]
  },
  {
   "cell_type": "code",
   "execution_count": 7,
   "metadata": {},
   "outputs": [
    {
     "data": {
      "text/html": [
       "<div>\n",
       "<style scoped>\n",
       "    .dataframe tbody tr th:only-of-type {\n",
       "        vertical-align: middle;\n",
       "    }\n",
       "\n",
       "    .dataframe tbody tr th {\n",
       "        vertical-align: top;\n",
       "    }\n",
       "\n",
       "    .dataframe thead th {\n",
       "        text-align: right;\n",
       "    }\n",
       "</style>\n",
       "<table border=\"1\" class=\"dataframe\">\n",
       "  <thead>\n",
       "    <tr style=\"text-align: right;\">\n",
       "      <th></th>\n",
       "      <th>순위</th>\n",
       "      <th>영화명</th>\n",
       "      <th>개봉일</th>\n",
       "      <th>매출액</th>\n",
       "      <th>매출액점유율</th>\n",
       "      <th>누적매출액</th>\n",
       "      <th>관객수</th>\n",
       "      <th>누적관객수</th>\n",
       "      <th>스크린수</th>\n",
       "      <th>상영횟수</th>\n",
       "      <th>대표국적</th>\n",
       "      <th>국적</th>\n",
       "      <th>제작사</th>\n",
       "      <th>배급사</th>\n",
       "      <th>등급</th>\n",
       "      <th>장르</th>\n",
       "      <th>감독</th>\n",
       "      <th>배우</th>\n",
       "    </tr>\n",
       "  </thead>\n",
       "  <tbody>\n",
       "    <tr>\n",
       "      <th>0</th>\n",
       "      <td>55</td>\n",
       "      <td>워킹걸</td>\n",
       "      <td>2015.1.7</td>\n",
       "      <td>1,183,887,479</td>\n",
       "      <td>0.1%</td>\n",
       "      <td>1,201,963,479</td>\n",
       "      <td>149,181</td>\n",
       "      <td>151,550</td>\n",
       "      <td>308</td>\n",
       "      <td>7,076</td>\n",
       "      <td>한국</td>\n",
       "      <td>한국</td>\n",
       "      <td>(주)홍필름,(주)수필름</td>\n",
       "      <td>메가박스중앙(주)플러스엠</td>\n",
       "      <td>청소년관람불가</td>\n",
       "      <td>코미디,멜로/로맨스</td>\n",
       "      <td>정범식</td>\n",
       "      <td>조여정,클라라,김태우,배유람,정범식,정범식,박주희,백경인,조은영,손진우,배성우,유찬...</td>\n",
       "    </tr>\n",
       "    <tr>\n",
       "      <th>1</th>\n",
       "      <td>121</td>\n",
       "      <td>설해</td>\n",
       "      <td>2015.1.8</td>\n",
       "      <td>20,767,500</td>\n",
       "      <td>0.0%</td>\n",
       "      <td>29,770,500</td>\n",
       "      <td>2,796</td>\n",
       "      <td>3,933</td>\n",
       "      <td>34</td>\n",
       "      <td>335</td>\n",
       "      <td>한국</td>\n",
       "      <td>한국</td>\n",
       "      <td>(주)맑음영화사</td>\n",
       "      <td>(주)마인스 엔터테인먼트,주식회사 마운틴픽쳐스</td>\n",
       "      <td>12세이상관람가</td>\n",
       "      <td>멜로/로맨스,드라마</td>\n",
       "      <td>김정권</td>\n",
       "      <td>박해진,이영아,송재희,전무송,최원주,이상민,이기열,윤기호,김수환,김정권,김혜진,박재...</td>\n",
       "    </tr>\n",
       "    <tr>\n",
       "      <th>2</th>\n",
       "      <td>26</td>\n",
       "      <td>허삼관</td>\n",
       "      <td>2015.1.14</td>\n",
       "      <td>7,408,943,569</td>\n",
       "      <td>0.8%</td>\n",
       "      <td>7,408,943,569</td>\n",
       "      <td>955,679</td>\n",
       "      <td>955,679</td>\n",
       "      <td>621</td>\n",
       "      <td>27,645</td>\n",
       "      <td>한국</td>\n",
       "      <td>한국</td>\n",
       "      <td>(주)두타연,(주)판타지오픽쳐스</td>\n",
       "      <td>(주)넥스트엔터테인먼트월드(NEW)</td>\n",
       "      <td>12세이상관람가</td>\n",
       "      <td>드라마</td>\n",
       "      <td>하정우</td>\n",
       "      <td>하정우,하지원,전혜진,장광,주진모,성동일,이경영,김영애,정만식,조진웅,김기천,김성균...</td>\n",
       "    </tr>\n",
       "  </tbody>\n",
       "</table>\n",
       "</div>"
      ],
      "text/plain": [
       "    순위  영화명        개봉일           매출액  매출액점유율         누적매출액      관객수    누적관객수   \\\n",
       "0   55  워킹걸   2015.1.7  1,183,887,479   0.1%  1,201,963,479  149,181  151,550   \n",
       "1  121   설해   2015.1.8     20,767,500   0.0%     29,770,500    2,796    3,933   \n",
       "2   26  허삼관  2015.1.14  7,408,943,569   0.8%  7,408,943,569  955,679  955,679   \n",
       "\n",
       "  스크린수    상영횟수  대표국적  국적                제작사                        배급사   \\\n",
       "0   308   7,076    한국  한국      (주)홍필름,(주)수필름              메가박스중앙(주)플러스엠   \n",
       "1    34     335    한국  한국           (주)맑음영화사  (주)마인스 엔터테인먼트,주식회사 마운틴픽쳐스   \n",
       "2   621  27,645    한국  한국  (주)두타연,(주)판타지오픽쳐스        (주)넥스트엔터테인먼트월드(NEW)   \n",
       "\n",
       "        등급          장르   감독   \\\n",
       "0   청소년관람불가  코미디,멜로/로맨스  정범식   \n",
       "1  12세이상관람가  멜로/로맨스,드라마  김정권   \n",
       "2  12세이상관람가         드라마  하정우   \n",
       "\n",
       "                                                 배우   \n",
       "0  조여정,클라라,김태우,배유람,정범식,정범식,박주희,백경인,조은영,손진우,배성우,유찬...  \n",
       "1  박해진,이영아,송재희,전무송,최원주,이상민,이기열,윤기호,김수환,김정권,김혜진,박재...  \n",
       "2  하정우,하지원,전혜진,장광,주진모,성동일,이경영,김영애,정만식,조진웅,김기천,김성균...  "
      ]
     },
     "execution_count": 7,
     "metadata": {},
     "output_type": "execute_result"
    }
   ],
   "source": [
    "box.head(3)"
   ]
  },
  {
   "cell_type": "code",
   "execution_count": 8,
   "metadata": {},
   "outputs": [
    {
     "data": {
      "text/plain": [
       "802"
      ]
     },
     "execution_count": 8,
     "metadata": {},
     "output_type": "execute_result"
    }
   ],
   "source": [
    "len(box)"
   ]
  },
  {
   "cell_type": "code",
   "execution_count": 9,
   "metadata": {},
   "outputs": [
    {
     "data": {
      "text/plain": [
       "770"
      ]
     },
     "execution_count": 9,
     "metadata": {},
     "output_type": "execute_result"
    }
   ],
   "source": [
    "len(lead)"
   ]
  },
  {
   "cell_type": "code",
   "execution_count": 10,
   "metadata": {},
   "outputs": [
    {
     "data": {
      "text/plain": [
       "802"
      ]
     },
     "execution_count": 10,
     "metadata": {},
     "output_type": "execute_result"
    }
   ],
   "source": [
    "# 박스오피스 테이블 안에 같은 제목을 가진 영화는 없다.\n",
    "box['영화명'].nunique()"
   ]
  },
  {
   "cell_type": "code",
   "execution_count": 11,
   "metadata": {},
   "outputs": [
    {
     "data": {
      "text/plain": [
       "770"
      ]
     },
     "execution_count": 11,
     "metadata": {},
     "output_type": "execute_result"
    }
   ],
   "source": [
    "# 리딩롤 테이블 안에도 같은 제목을 가진 영화가 없다.\n",
    "lead['movieNm'].nunique()"
   ]
  },
  {
   "cell_type": "markdown",
   "metadata": {},
   "source": [
    "## 영화명으로 merge "
   ]
  },
  {
   "cell_type": "code",
   "execution_count": 12,
   "metadata": {},
   "outputs": [],
   "source": [
    "merged = box.merge(lead, how='left', left_on='영화명', right_on='movieNm')"
   ]
  },
  {
   "cell_type": "code",
   "execution_count": 13,
   "metadata": {},
   "outputs": [
    {
     "data": {
      "text/html": [
       "<div>\n",
       "<style scoped>\n",
       "    .dataframe tbody tr th:only-of-type {\n",
       "        vertical-align: middle;\n",
       "    }\n",
       "\n",
       "    .dataframe tbody tr th {\n",
       "        vertical-align: top;\n",
       "    }\n",
       "\n",
       "    .dataframe thead th {\n",
       "        text-align: right;\n",
       "    }\n",
       "</style>\n",
       "<table border=\"1\" class=\"dataframe\">\n",
       "  <thead>\n",
       "    <tr style=\"text-align: right;\">\n",
       "      <th></th>\n",
       "      <th>순위</th>\n",
       "      <th>영화명</th>\n",
       "      <th>개봉일</th>\n",
       "      <th>매출액</th>\n",
       "      <th>매출액점유율</th>\n",
       "      <th>누적매출액</th>\n",
       "      <th>관객수</th>\n",
       "      <th>누적관객수</th>\n",
       "      <th>스크린수</th>\n",
       "      <th>상영횟수</th>\n",
       "      <th>대표국적</th>\n",
       "      <th>국적</th>\n",
       "      <th>제작사</th>\n",
       "      <th>배급사</th>\n",
       "      <th>등급</th>\n",
       "      <th>장르</th>\n",
       "      <th>감독</th>\n",
       "      <th>배우</th>\n",
       "      <th>cast</th>\n",
       "      <th>movieCd</th>\n",
       "      <th>movieNm</th>\n",
       "      <th>peopleNm</th>\n",
       "      <th>repRoleNm</th>\n",
       "      <th>peopleCd</th>\n",
       "      <th>sex</th>\n",
       "    </tr>\n",
       "  </thead>\n",
       "  <tbody>\n",
       "    <tr>\n",
       "      <th>0</th>\n",
       "      <td>55</td>\n",
       "      <td>워킹걸</td>\n",
       "      <td>2015.1.7</td>\n",
       "      <td>1,183,887,479</td>\n",
       "      <td>0.1%</td>\n",
       "      <td>1,201,963,479</td>\n",
       "      <td>149,181</td>\n",
       "      <td>151,550</td>\n",
       "      <td>308</td>\n",
       "      <td>7,076</td>\n",
       "      <td>한국</td>\n",
       "      <td>한국</td>\n",
       "      <td>(주)홍필름,(주)수필름</td>\n",
       "      <td>메가박스중앙(주)플러스엠</td>\n",
       "      <td>청소년관람불가</td>\n",
       "      <td>코미디,멜로/로맨스</td>\n",
       "      <td>정범식</td>\n",
       "      <td>조여정,클라라,김태우,배유람,정범식,정범식,박주희,백경인,조은영,손진우,배성우,유찬...</td>\n",
       "      <td>NaN</td>\n",
       "      <td>20147947.0</td>\n",
       "      <td>워킹걸</td>\n",
       "      <td>조여정</td>\n",
       "      <td>배우</td>\n",
       "      <td>10066680.0</td>\n",
       "      <td>여자</td>\n",
       "    </tr>\n",
       "  </tbody>\n",
       "</table>\n",
       "</div>"
      ],
      "text/plain": [
       "   순위  영화명       개봉일           매출액  매출액점유율         누적매출액      관객수    누적관객수   \\\n",
       "0  55  워킹걸  2015.1.7  1,183,887,479   0.1%  1,201,963,479  149,181  151,550   \n",
       "\n",
       "  스크린수   상영횟수  대표국적  국적            제작사            배급사       등급          장르   \\\n",
       "0   308  7,076    한국  한국  (주)홍필름,(주)수필름  메가박스중앙(주)플러스엠  청소년관람불가  코미디,멜로/로맨스   \n",
       "\n",
       "   감독                                                 배우  cast     movieCd  \\\n",
       "0  정범식  조여정,클라라,김태우,배유람,정범식,정범식,박주희,백경인,조은영,손진우,배성우,유찬...  NaN  20147947.0   \n",
       "\n",
       "  movieNm peopleNm repRoleNm    peopleCd sex  \n",
       "0     워킹걸      조여정        배우  10066680.0  여자  "
      ]
     },
     "execution_count": 13,
     "metadata": {},
     "output_type": "execute_result"
    }
   ],
   "source": [
    "merged.head(1)"
   ]
  },
  {
   "cell_type": "code",
   "execution_count": 14,
   "metadata": {},
   "outputs": [
    {
     "data": {
      "text/plain": [
       "순위             0\n",
       "영화명            0\n",
       "개봉일            0\n",
       "매출액            0\n",
       "매출액점유율         0\n",
       "누적매출액          0\n",
       "관객수            0\n",
       "누적관객수          0\n",
       "스크린수           0\n",
       "상영횟수           0\n",
       "대표국적           0\n",
       "국적             0\n",
       "제작사           20\n",
       "배급사            1\n",
       "등급             0\n",
       "장르             0\n",
       "감독             3\n",
       "배우            31\n",
       "cast         462\n",
       "movieCd       60\n",
       "movieNm       60\n",
       "peopleNm      60\n",
       "repRoleNm     60\n",
       "peopleCd      60\n",
       "sex           60\n",
       "dtype: int64"
      ]
     },
     "execution_count": 14,
     "metadata": {},
     "output_type": "execute_result"
    }
   ],
   "source": [
    "merged.isnull().sum()"
   ]
  },
  {
   "cell_type": "markdown",
   "metadata": {},
   "source": [
    "left merge를 했으므로 'movieNm' 결측치가 32개(len(box)-len(lead))여야 하는데 60개  \n",
    "-> 박스오피스 데이터에 없는데 우리가 긁어온 데이터에는 있는 영화가 존재한다는 뜻. 대체 왜?"
   ]
  },
  {
   "cell_type": "code",
   "execution_count": 15,
   "metadata": {},
   "outputs": [],
   "source": [
    "# outer merge를 해 보자.\n",
    "outer_merged = box.merge(lead, how='outer', left_on='영화명', right_on='movieNm')"
   ]
  },
  {
   "cell_type": "code",
   "execution_count": 16,
   "metadata": {},
   "outputs": [
    {
     "data": {
      "text/plain": [
       "830"
      ]
     },
     "execution_count": 16,
     "metadata": {},
     "output_type": "execute_result"
    }
   ],
   "source": [
    "len(outer_merged)"
   ]
  },
  {
   "cell_type": "code",
   "execution_count": 17,
   "metadata": {},
   "outputs": [
    {
     "data": {
      "text/plain": [
       "순위            28\n",
       "영화명           28\n",
       "개봉일           28\n",
       "매출액           28\n",
       "매출액점유율        28\n",
       "누적매출액         28\n",
       "관객수           28\n",
       "누적관객수         28\n",
       "스크린수          28\n",
       "상영횟수          28\n",
       "대표국적          28\n",
       "국적            28\n",
       "제작사           48\n",
       "배급사           29\n",
       "등급            28\n",
       "장르            28\n",
       "감독            31\n",
       "배우            59\n",
       "cast         483\n",
       "movieCd       60\n",
       "movieNm       60\n",
       "peopleNm      60\n",
       "repRoleNm     60\n",
       "peopleCd      60\n",
       "sex           60\n",
       "dtype: int64"
      ]
     },
     "execution_count": 17,
     "metadata": {},
     "output_type": "execute_result"
    }
   ],
   "source": [
    "outer_merged.isnull().sum()"
   ]
  },
  {
   "cell_type": "code",
   "execution_count": 18,
   "metadata": {},
   "outputs": [
    {
     "data": {
      "text/plain": [
       "802                     태양을 쏴라 무삭제판\n",
       "803                       위선자들: 감독판\n",
       "804                    성난 화가 - 무삭제판\n",
       "805                        용주골-무삭제판\n",
       "806                       포장마차-무삭제판\n",
       "807                 미궁: 비밀애 무삭제 특별판\n",
       "808                       유부녀들(무삭제)\n",
       "809                  내 친구의 아내 (무삭제)\n",
       "810    나도 때론 포르노그라피의 주인공이고 싶다 : 감독판\n",
       "811                        아가씨(확장판)\n",
       "812             우리에게 떡볶이를 먹을 권리가 있다\n",
       "813                            치킨게임\n",
       "814                     하숙집 2 (무삭제)\n",
       "815                            러브레따\n",
       "816                개인교수: 심화학습 (무삭제)\n",
       "817                    동거의 목적(무삭제판)\n",
       "818                  뜨거운 이웃 무삭제 감독판\n",
       "819                           문영 단편\n",
       "820                     왕을 참하라 무삭제판\n",
       "821                       비스티걸스 감독판\n",
       "822                          덫 무삭제판\n",
       "823                         군함도 감독판\n",
       "824                     착한 형수 2 무삭제\n",
       "825                          재혼의 기술\n",
       "826                          오늘도 위위\n",
       "827                        북간도의 십자가\n",
       "828                  1919유관순-그녀들의조국\n",
       "829                        82년생 김지영\n",
       "Name: movieNm, dtype: object"
      ]
     },
     "execution_count": 18,
     "metadata": {},
     "output_type": "execute_result"
    }
   ],
   "source": [
    "# 리딩롤 테이블에만 있는 영화\n",
    "outer_merged[outer_merged['영화명'].isnull()]['movieNm']"
   ]
  },
  {
   "cell_type": "code",
   "execution_count": 19,
   "metadata": {
    "scrolled": true
   },
   "outputs": [
    {
     "data": {
      "text/plain": [
       "26                       태양을 쏴라\n",
       "34          다이빙벨: 진실은 침몰하지 않습니다\n",
       "36                      미궁: 비밀애\n",
       "44                    잡식가족의 딜레마\n",
       "59                        성난 화가\n",
       "74                       밀양 아리랑\n",
       "82                 에스엠타운 더 스테이지\n",
       "108                        포장마차\n",
       "111                        유부녀들\n",
       "116                        오디세오\n",
       "125                      울보 권투부\n",
       "131      나도 때론 포르노그라피의 주인공이고 싶다\n",
       "134                         용주골\n",
       "144                        위선자들\n",
       "146                    내 친구의 아내\n",
       "147                      감금의 시간\n",
       "150                      불안한 외출\n",
       "161               나의 아들, 나의 어머니\n",
       "164                       하숙집 2\n",
       "168                       거미의 땅\n",
       "172       극장판 꼬마버스 타요의 에이스 구출작전\n",
       "175                      뜨거운 이웃\n",
       "185                  개인교수: 심화학습\n",
       "188                          귀향\n",
       "195                    방 안의 코끼리\n",
       "207                      동거의 목적\n",
       "210                        입영전야\n",
       "233                        드롭박스\n",
       "238                         아가씨\n",
       "242                       시선 사이\n",
       "243                      소녀와 여자\n",
       "246                        보고싶다\n",
       "257           극장판 프리즘스톤 올스타 셀렉션\n",
       "269                     그림자들의 섬\n",
       "272                      최악의 하루\n",
       "279                     왕초와 용가리\n",
       "292    극장판 프리파라 모두 모여라! 프리즘☆투어즈\n",
       "298                무현, 두 도시 이야기\n",
       "302                      시간의 종말\n",
       "306                     오 마이 파파\n",
       "336                          문영\n",
       "358                      왕을 참하라\n",
       "393                      드래곤빌리지\n",
       "401                      파란나비효과\n",
       "409                       비스티걸스\n",
       "410                           덫\n",
       "412                    올 리브 올리브\n",
       "413                      불온한 당신\n",
       "414                         군함도\n",
       "441                  다시 태어나도 우리\n",
       "446                     착한 형수 2\n",
       "455                   노트르담 드 파리\n",
       "486                         침입자\n",
       "509                       풍뎅이뎅이\n",
       "596                        카운터스\n",
       "640                        마담 B\n",
       "692                    1919 유관순\n",
       "719          굿바이 마이 러브NK: 붉은 청춘\n",
       "756              콩쥐별전 - 전주성의 비밀\n",
       "777                      불빛 아래서\n",
       "Name: 영화명, dtype: object"
      ]
     },
     "execution_count": 19,
     "metadata": {},
     "output_type": "execute_result"
    }
   ],
   "source": [
    "# 박스오피스 테이블에만 있는 영화\n",
    "outer_merged[outer_merged['movieNm'].isnull()]['영화명']"
   ]
  },
  {
   "cell_type": "code",
   "execution_count": 20,
   "metadata": {},
   "outputs": [
    {
     "data": {
      "text/html": [
       "<div>\n",
       "<style scoped>\n",
       "    .dataframe tbody tr th:only-of-type {\n",
       "        vertical-align: middle;\n",
       "    }\n",
       "\n",
       "    .dataframe tbody tr th {\n",
       "        vertical-align: top;\n",
       "    }\n",
       "\n",
       "    .dataframe thead th {\n",
       "        text-align: right;\n",
       "    }\n",
       "</style>\n",
       "<table border=\"1\" class=\"dataframe\">\n",
       "  <thead>\n",
       "    <tr style=\"text-align: right;\">\n",
       "      <th></th>\n",
       "      <th>순위</th>\n",
       "      <th>영화명</th>\n",
       "      <th>개봉일</th>\n",
       "      <th>매출액</th>\n",
       "      <th>매출액점유율</th>\n",
       "      <th>누적매출액</th>\n",
       "      <th>관객수</th>\n",
       "      <th>누적관객수</th>\n",
       "      <th>스크린수</th>\n",
       "      <th>상영횟수</th>\n",
       "      <th>대표국적</th>\n",
       "      <th>국적</th>\n",
       "      <th>제작사</th>\n",
       "      <th>배급사</th>\n",
       "      <th>등급</th>\n",
       "      <th>장르</th>\n",
       "      <th>감독</th>\n",
       "      <th>배우</th>\n",
       "      <th>cast</th>\n",
       "      <th>movieCd</th>\n",
       "      <th>movieNm</th>\n",
       "      <th>peopleNm</th>\n",
       "      <th>repRoleNm</th>\n",
       "      <th>peopleCd</th>\n",
       "      <th>sex</th>\n",
       "    </tr>\n",
       "  </thead>\n",
       "  <tbody>\n",
       "    <tr>\n",
       "      <th>238</th>\n",
       "      <td>11.0</td>\n",
       "      <td>아가씨</td>\n",
       "      <td>2016.6.1</td>\n",
       "      <td>35,211,229,991</td>\n",
       "      <td>3.8%</td>\n",
       "      <td>35,211,229,991</td>\n",
       "      <td>4,287,839</td>\n",
       "      <td>4,287,839</td>\n",
       "      <td>1,171</td>\n",
       "      <td>90,365</td>\n",
       "      <td>한국</td>\n",
       "      <td>한국</td>\n",
       "      <td>유한회사 아가씨에프에스,(주)모호필름,(주)용필름</td>\n",
       "      <td>씨제이이앤엠(주)</td>\n",
       "      <td>청소년관람불가</td>\n",
       "      <td>스릴러,드라마</td>\n",
       "      <td>박찬욱</td>\n",
       "      <td>김민희,김태리,하정우,조진웅,김해숙,문소리,최병모,김인우,이용녀,조은형,장한순,이규...</td>\n",
       "      <td>NaN</td>\n",
       "      <td>NaN</td>\n",
       "      <td>NaN</td>\n",
       "      <td>NaN</td>\n",
       "      <td>NaN</td>\n",
       "      <td>NaN</td>\n",
       "      <td>NaN</td>\n",
       "    </tr>\n",
       "  </tbody>\n",
       "</table>\n",
       "</div>"
      ],
      "text/plain": [
       "       순위  영화명       개봉일            매출액  매출액점유율          누적매출액        관객수   \\\n",
       "238  11.0  아가씨  2016.6.1  35,211,229,991   3.8%  35,211,229,991  4,287,839   \n",
       "\n",
       "        누적관객수   스크린수    상영횟수  대표국적  국적                          제작사   \\\n",
       "238  4,287,839  1,171  90,365    한국  한국  유한회사 아가씨에프에스,(주)모호필름,(주)용필름   \n",
       "\n",
       "          배급사       등급       장르   감독   \\\n",
       "238  씨제이이앤엠(주)  청소년관람불가  스릴러,드라마  박찬욱   \n",
       "\n",
       "                                                   배우  cast  movieCd movieNm  \\\n",
       "238  김민희,김태리,하정우,조진웅,김해숙,문소리,최병모,김인우,이용녀,조은형,장한순,이규...  NaN      NaN     NaN   \n",
       "\n",
       "    peopleNm repRoleNm  peopleCd  sex  \n",
       "238      NaN       NaN       NaN  NaN  "
      ]
     },
     "execution_count": 20,
     "metadata": {},
     "output_type": "execute_result"
    }
   ],
   "source": [
    "outer_merged[outer_merged['영화명']=='아가씨']"
   ]
  },
  {
   "cell_type": "code",
   "execution_count": 21,
   "metadata": {},
   "outputs": [
    {
     "data": {
      "text/html": [
       "<div>\n",
       "<style scoped>\n",
       "    .dataframe tbody tr th:only-of-type {\n",
       "        vertical-align: middle;\n",
       "    }\n",
       "\n",
       "    .dataframe tbody tr th {\n",
       "        vertical-align: top;\n",
       "    }\n",
       "\n",
       "    .dataframe thead th {\n",
       "        text-align: right;\n",
       "    }\n",
       "</style>\n",
       "<table border=\"1\" class=\"dataframe\">\n",
       "  <thead>\n",
       "    <tr style=\"text-align: right;\">\n",
       "      <th></th>\n",
       "      <th>순위</th>\n",
       "      <th>영화명</th>\n",
       "      <th>개봉일</th>\n",
       "      <th>매출액</th>\n",
       "      <th>매출액점유율</th>\n",
       "      <th>누적매출액</th>\n",
       "      <th>관객수</th>\n",
       "      <th>누적관객수</th>\n",
       "      <th>스크린수</th>\n",
       "      <th>상영횟수</th>\n",
       "      <th>대표국적</th>\n",
       "      <th>국적</th>\n",
       "      <th>제작사</th>\n",
       "      <th>배급사</th>\n",
       "      <th>등급</th>\n",
       "      <th>장르</th>\n",
       "      <th>감독</th>\n",
       "      <th>배우</th>\n",
       "      <th>cast</th>\n",
       "      <th>movieCd</th>\n",
       "      <th>movieNm</th>\n",
       "      <th>peopleNm</th>\n",
       "      <th>repRoleNm</th>\n",
       "      <th>peopleCd</th>\n",
       "      <th>sex</th>\n",
       "    </tr>\n",
       "  </thead>\n",
       "  <tbody>\n",
       "    <tr>\n",
       "      <th>811</th>\n",
       "      <td>NaN</td>\n",
       "      <td>NaN</td>\n",
       "      <td>NaN</td>\n",
       "      <td>NaN</td>\n",
       "      <td>NaN</td>\n",
       "      <td>NaN</td>\n",
       "      <td>NaN</td>\n",
       "      <td>NaN</td>\n",
       "      <td>NaN</td>\n",
       "      <td>NaN</td>\n",
       "      <td>NaN</td>\n",
       "      <td>NaN</td>\n",
       "      <td>NaN</td>\n",
       "      <td>NaN</td>\n",
       "      <td>NaN</td>\n",
       "      <td>NaN</td>\n",
       "      <td>NaN</td>\n",
       "      <td>NaN</td>\n",
       "      <td>아가씨</td>\n",
       "      <td>20167301.0</td>\n",
       "      <td>아가씨(확장판)</td>\n",
       "      <td>김민희</td>\n",
       "      <td>배우</td>\n",
       "      <td>10004236.0</td>\n",
       "      <td>여자</td>\n",
       "    </tr>\n",
       "  </tbody>\n",
       "</table>\n",
       "</div>"
      ],
      "text/plain": [
       "     순위  영화명  개봉일 매출액  매출액점유율 누적매출액  관객수  누적관객수  스크린수  상영횟수  대표국적   국적  제작사   \\\n",
       "811 NaN  NaN  NaN  NaN    NaN    NaN  NaN    NaN   NaN   NaN   NaN  NaN  NaN   \n",
       "\n",
       "    배급사   등급   장르   감독   배우  cast     movieCd   movieNm peopleNm repRoleNm  \\\n",
       "811  NaN  NaN  NaN  NaN  NaN  아가씨  20167301.0  아가씨(확장판)      김민희        배우   \n",
       "\n",
       "       peopleCd sex  \n",
       "811  10004236.0  여자  "
      ]
     },
     "execution_count": 21,
     "metadata": {},
     "output_type": "execute_result"
    }
   ],
   "source": [
    "outer_merged[outer_merged['movieNm']=='아가씨(확장판)']"
   ]
  },
  {
   "cell_type": "markdown",
   "metadata": {},
   "source": [
    "리딩롤의 영화명에는 확장판, 무삭제판, 감독판, 단편 같은 부연설명이 붙어 있고 박스오피스의 영화명에는 붙어 있지 않은 영화들이 있다.  "
   ]
  },
  {
   "cell_type": "markdown",
   "metadata": {},
   "source": [
    "## leading_role.csv 의 'movieNm' 컬럼 값에 붙어있는 부연설명 제거"
   ]
  },
  {
   "cell_type": "code",
   "execution_count": 22,
   "metadata": {},
   "outputs": [],
   "source": [
    "additional = outer_merged[outer_merged['영화명'].isnull()]['movieNm'].reset_index()"
   ]
  },
  {
   "cell_type": "code",
   "execution_count": 23,
   "metadata": {},
   "outputs": [
    {
     "data": {
      "text/plain": [
       "1"
      ]
     },
     "execution_count": 23,
     "metadata": {},
     "output_type": "execute_result"
    }
   ],
   "source": [
    "# 리딩롤에만 있고 박스오피스에는 없는 영화명 중 '확장'이 들어간 것의 개수\n",
    "len(additional[additional['movieNm'].str.contains('확장')])"
   ]
  },
  {
   "cell_type": "code",
   "execution_count": 24,
   "metadata": {
    "scrolled": true
   },
   "outputs": [
    {
     "data": {
      "text/plain": [
       "2"
      ]
     },
     "execution_count": 24,
     "metadata": {},
     "output_type": "execute_result"
    }
   ],
   "source": [
    "# 리딩롤 전체 영화명 중 '확장'이 들어간 것의 개수\n",
    "len(lead[lead['movieNm'].str.contains('확장')])"
   ]
  },
  {
   "cell_type": "code",
   "execution_count": 25,
   "metadata": {},
   "outputs": [
    {
     "data": {
      "text/html": [
       "<div>\n",
       "<style scoped>\n",
       "    .dataframe tbody tr th:only-of-type {\n",
       "        vertical-align: middle;\n",
       "    }\n",
       "\n",
       "    .dataframe tbody tr th {\n",
       "        vertical-align: top;\n",
       "    }\n",
       "\n",
       "    .dataframe thead th {\n",
       "        text-align: right;\n",
       "    }\n",
       "</style>\n",
       "<table border=\"1\" class=\"dataframe\">\n",
       "  <thead>\n",
       "    <tr style=\"text-align: right;\">\n",
       "      <th></th>\n",
       "      <th>cast</th>\n",
       "      <th>movieCd</th>\n",
       "      <th>movieNm</th>\n",
       "      <th>peopleNm</th>\n",
       "      <th>repRoleNm</th>\n",
       "      <th>peopleCd</th>\n",
       "      <th>sex</th>\n",
       "    </tr>\n",
       "  </thead>\n",
       "  <tbody>\n",
       "    <tr>\n",
       "      <th>165</th>\n",
       "      <td>아가씨</td>\n",
       "      <td>20167301</td>\n",
       "      <td>아가씨(확장판)</td>\n",
       "      <td>김민희</td>\n",
       "      <td>배우</td>\n",
       "      <td>10004236</td>\n",
       "      <td>여자</td>\n",
       "    </tr>\n",
       "    <tr>\n",
       "      <th>227</th>\n",
       "      <td>장학수</td>\n",
       "      <td>20160041</td>\n",
       "      <td>인천상륙작전 : 익스텐디드 에디션(확장판)</td>\n",
       "      <td>이정재</td>\n",
       "      <td>배우</td>\n",
       "      <td>10057315</td>\n",
       "      <td>남자</td>\n",
       "    </tr>\n",
       "  </tbody>\n",
       "</table>\n",
       "</div>"
      ],
      "text/plain": [
       "    cast   movieCd                  movieNm peopleNm repRoleNm  peopleCd sex\n",
       "165  아가씨  20167301                 아가씨(확장판)      김민희        배우  10004236  여자\n",
       "227  장학수  20160041  인천상륙작전 : 익스텐디드 에디션(확장판)      이정재        배우  10057315  남자"
      ]
     },
     "execution_count": 25,
     "metadata": {},
     "output_type": "execute_result"
    }
   ],
   "source": [
    "# '확장' 붙은 것 중에 양쪽에 있어서 merge 된 것도 있다. (인천상륙작전)\n",
    "lead[lead['movieNm'].str.contains('확장')]"
   ]
  },
  {
   "cell_type": "code",
   "execution_count": 26,
   "metadata": {},
   "outputs": [],
   "source": [
    "# '아가씨'의 영화명만 부연설명을 뗀다.\n",
    "lead.loc[165, 'movieNm'] = '아가씨'"
   ]
  },
  {
   "cell_type": "code",
   "execution_count": 27,
   "metadata": {},
   "outputs": [
    {
     "data": {
      "text/plain": [
       "cast              아가씨\n",
       "movieCd      20167301\n",
       "movieNm           아가씨\n",
       "peopleNm          김민희\n",
       "repRoleNm          배우\n",
       "peopleCd     10004236\n",
       "sex                여자\n",
       "Name: 165, dtype: object"
      ]
     },
     "execution_count": 27,
     "metadata": {},
     "output_type": "execute_result"
    }
   ],
   "source": [
    "lead.loc[165]"
   ]
  },
  {
   "cell_type": "code",
   "execution_count": 28,
   "metadata": {},
   "outputs": [
    {
     "data": {
      "text/plain": [
       "14"
      ]
     },
     "execution_count": 28,
     "metadata": {},
     "output_type": "execute_result"
    }
   ],
   "source": [
    "# 리딩롤에만 있고 박스오피스에는 없는 영화명 중 '무삭제'가 들어간 것의 개수\n",
    "len(additional[additional['movieNm'].str.contains('무삭제')])"
   ]
  },
  {
   "cell_type": "code",
   "execution_count": 29,
   "metadata": {},
   "outputs": [
    {
     "data": {
      "text/plain": [
       "14"
      ]
     },
     "execution_count": 29,
     "metadata": {},
     "output_type": "execute_result"
    }
   ],
   "source": [
    "# 리딩롤 전체 영화명 중 '무삭제'가 들어간 것의 개수\n",
    "len(lead[lead['movieNm'].str.contains('무삭제')])"
   ]
  },
  {
   "cell_type": "code",
   "execution_count": 30,
   "metadata": {},
   "outputs": [
    {
     "data": {
      "text/html": [
       "<div>\n",
       "<style scoped>\n",
       "    .dataframe tbody tr th:only-of-type {\n",
       "        vertical-align: middle;\n",
       "    }\n",
       "\n",
       "    .dataframe tbody tr th {\n",
       "        vertical-align: top;\n",
       "    }\n",
       "\n",
       "    .dataframe thead th {\n",
       "        text-align: right;\n",
       "    }\n",
       "</style>\n",
       "<table border=\"1\" class=\"dataframe\">\n",
       "  <thead>\n",
       "    <tr style=\"text-align: right;\">\n",
       "      <th></th>\n",
       "      <th>cast</th>\n",
       "      <th>movieCd</th>\n",
       "      <th>movieNm</th>\n",
       "      <th>peopleNm</th>\n",
       "      <th>repRoleNm</th>\n",
       "      <th>peopleCd</th>\n",
       "      <th>sex</th>\n",
       "    </tr>\n",
       "  </thead>\n",
       "  <tbody>\n",
       "    <tr>\n",
       "      <th>67</th>\n",
       "      <td>NaN</td>\n",
       "      <td>20151582</td>\n",
       "      <td>태양을 쏴라 무삭제판</td>\n",
       "      <td>강지환</td>\n",
       "      <td>배우</td>\n",
       "      <td>10000877</td>\n",
       "      <td>남자</td>\n",
       "    </tr>\n",
       "    <tr>\n",
       "      <th>128</th>\n",
       "      <td>NaN</td>\n",
       "      <td>20152265</td>\n",
       "      <td>성난 화가 - 무삭제판</td>\n",
       "      <td>유준상</td>\n",
       "      <td>배우</td>\n",
       "      <td>10053981</td>\n",
       "      <td>남자</td>\n",
       "    </tr>\n",
       "    <tr>\n",
       "      <th>135</th>\n",
       "      <td>NaN</td>\n",
       "      <td>20161904</td>\n",
       "      <td>용주골-무삭제판</td>\n",
       "      <td>민도윤</td>\n",
       "      <td>배우</td>\n",
       "      <td>20223067</td>\n",
       "      <td>남자</td>\n",
       "    </tr>\n",
       "    <tr>\n",
       "      <th>139</th>\n",
       "      <td>NaN</td>\n",
       "      <td>20158463</td>\n",
       "      <td>포장마차-무삭제판</td>\n",
       "      <td>이채담</td>\n",
       "      <td>배우</td>\n",
       "      <td>20216887</td>\n",
       "      <td>여자</td>\n",
       "    </tr>\n",
       "    <tr>\n",
       "      <th>146</th>\n",
       "      <td>NaN</td>\n",
       "      <td>20151801</td>\n",
       "      <td>미궁: 비밀애 무삭제 특별판</td>\n",
       "      <td>김민기</td>\n",
       "      <td>배우</td>\n",
       "      <td>10004180</td>\n",
       "      <td>남자</td>\n",
       "    </tr>\n",
       "    <tr>\n",
       "      <th>147</th>\n",
       "      <td>NaN</td>\n",
       "      <td>20161882</td>\n",
       "      <td>유부녀들(무삭제)</td>\n",
       "      <td>김소현</td>\n",
       "      <td>배우</td>\n",
       "      <td>20215546</td>\n",
       "      <td>여자</td>\n",
       "    </tr>\n",
       "    <tr>\n",
       "      <th>148</th>\n",
       "      <td>NaN</td>\n",
       "      <td>20162901</td>\n",
       "      <td>내 친구의 아내 (무삭제)</td>\n",
       "      <td>정태민</td>\n",
       "      <td>배우</td>\n",
       "      <td>20160204</td>\n",
       "      <td>남자</td>\n",
       "    </tr>\n",
       "    <tr>\n",
       "      <th>276</th>\n",
       "      <td>NaN</td>\n",
       "      <td>20164697</td>\n",
       "      <td>하숙집 2 (무삭제)</td>\n",
       "      <td>정넘쳐</td>\n",
       "      <td>배우</td>\n",
       "      <td>20208866</td>\n",
       "      <td>남자</td>\n",
       "    </tr>\n",
       "    <tr>\n",
       "      <th>292</th>\n",
       "      <td>NaN</td>\n",
       "      <td>20166912</td>\n",
       "      <td>개인교수: 심화학습 (무삭제)</td>\n",
       "      <td>허예창</td>\n",
       "      <td>배우</td>\n",
       "      <td>20214447</td>\n",
       "      <td>남자</td>\n",
       "    </tr>\n",
       "    <tr>\n",
       "      <th>293</th>\n",
       "      <td>승구</td>\n",
       "      <td>20166652</td>\n",
       "      <td>동거의 목적(무삭제판)</td>\n",
       "      <td>제동화</td>\n",
       "      <td>배우</td>\n",
       "      <td>20234386</td>\n",
       "      <td>남자</td>\n",
       "    </tr>\n",
       "    <tr>\n",
       "      <th>301</th>\n",
       "      <td>NaN</td>\n",
       "      <td>20166867</td>\n",
       "      <td>뜨거운 이웃 무삭제 감독판</td>\n",
       "      <td>이채담</td>\n",
       "      <td>배우</td>\n",
       "      <td>20216887</td>\n",
       "      <td>여자</td>\n",
       "    </tr>\n",
       "    <tr>\n",
       "      <th>337</th>\n",
       "      <td>NaN</td>\n",
       "      <td>20182889</td>\n",
       "      <td>왕을 참하라 무삭제판</td>\n",
       "      <td>강연정</td>\n",
       "      <td>배우</td>\n",
       "      <td>20113282</td>\n",
       "      <td>여자</td>\n",
       "    </tr>\n",
       "    <tr>\n",
       "      <th>387</th>\n",
       "      <td>아연</td>\n",
       "      <td>20162802</td>\n",
       "      <td>덫 무삭제판</td>\n",
       "      <td>이유진</td>\n",
       "      <td>배우</td>\n",
       "      <td>10056941</td>\n",
       "      <td>여자</td>\n",
       "    </tr>\n",
       "    <tr>\n",
       "      <th>418</th>\n",
       "      <td>NaN</td>\n",
       "      <td>20172963</td>\n",
       "      <td>착한 형수 2 무삭제</td>\n",
       "      <td>이채담</td>\n",
       "      <td>배우</td>\n",
       "      <td>20216887</td>\n",
       "      <td>여자</td>\n",
       "    </tr>\n",
       "  </tbody>\n",
       "</table>\n",
       "</div>"
      ],
      "text/plain": [
       "    cast   movieCd           movieNm peopleNm repRoleNm  peopleCd sex\n",
       "67   NaN  20151582       태양을 쏴라 무삭제판      강지환        배우  10000877  남자\n",
       "128  NaN  20152265      성난 화가 - 무삭제판      유준상        배우  10053981  남자\n",
       "135  NaN  20161904          용주골-무삭제판      민도윤        배우  20223067  남자\n",
       "139  NaN  20158463         포장마차-무삭제판      이채담        배우  20216887  여자\n",
       "146  NaN  20151801   미궁: 비밀애 무삭제 특별판      김민기        배우  10004180  남자\n",
       "147  NaN  20161882         유부녀들(무삭제)      김소현        배우  20215546  여자\n",
       "148  NaN  20162901    내 친구의 아내 (무삭제)      정태민        배우  20160204  남자\n",
       "276  NaN  20164697       하숙집 2 (무삭제)      정넘쳐        배우  20208866  남자\n",
       "292  NaN  20166912  개인교수: 심화학습 (무삭제)      허예창        배우  20214447  남자\n",
       "293   승구  20166652      동거의 목적(무삭제판)      제동화        배우  20234386  남자\n",
       "301  NaN  20166867    뜨거운 이웃 무삭제 감독판      이채담        배우  20216887  여자\n",
       "337  NaN  20182889       왕을 참하라 무삭제판      강연정        배우  20113282  여자\n",
       "387   아연  20162802            덫 무삭제판      이유진        배우  10056941  여자\n",
       "418  NaN  20172963       착한 형수 2 무삭제      이채담        배우  20216887  여자"
      ]
     },
     "execution_count": 30,
     "metadata": {},
     "output_type": "execute_result"
    }
   ],
   "source": [
    "lead[lead['movieNm'].str.contains('무삭제')]"
   ]
  },
  {
   "cell_type": "code",
   "execution_count": 31,
   "metadata": {},
   "outputs": [],
   "source": [
    "import re"
   ]
  },
  {
   "cell_type": "code",
   "execution_count": 32,
   "metadata": {},
   "outputs": [],
   "source": [
    "# '무삭제'가 붙은 것은 모두 merge가 안 되었으므로 한꺼번에 부연설명을 뗀다.\n",
    "lead['movieNm'] = lead['movieNm'].apply(lambda x: re.sub('.?무삭제.*', '', x).strip())"
   ]
  },
  {
   "cell_type": "code",
   "execution_count": 33,
   "metadata": {},
   "outputs": [],
   "source": [
    "idxs = [67, 128, 135, 139, 146, 147, 148, 276, 292, 293, 301, 337, 387, 418]"
   ]
  },
  {
   "cell_type": "code",
   "execution_count": 34,
   "metadata": {},
   "outputs": [
    {
     "data": {
      "text/plain": [
       "67         태양을 쏴라\n",
       "128       성난 화가 -\n",
       "135           용주골\n",
       "139          포장마차\n",
       "146       미궁: 비밀애\n",
       "147          유부녀들\n",
       "148      내 친구의 아내\n",
       "276         하숙집 2\n",
       "292    개인교수: 심화학습\n",
       "293        동거의 목적\n",
       "301        뜨거운 이웃\n",
       "337        왕을 참하라\n",
       "387             덫\n",
       "418       착한 형수 2\n",
       "Name: movieNm, dtype: object"
      ]
     },
     "execution_count": 34,
     "metadata": {},
     "output_type": "execute_result"
    }
   ],
   "source": [
    "lead.loc[idxs, 'movieNm']"
   ]
  },
  {
   "cell_type": "code",
   "execution_count": 35,
   "metadata": {},
   "outputs": [],
   "source": [
    "# 128번의 '-'를 뗀다.\n",
    "lead.loc[128, 'movieNm'] = '성난 화가'"
   ]
  },
  {
   "cell_type": "code",
   "execution_count": 36,
   "metadata": {},
   "outputs": [
    {
     "data": {
      "text/plain": [
       "'성난 화가'"
      ]
     },
     "execution_count": 36,
     "metadata": {},
     "output_type": "execute_result"
    }
   ],
   "source": [
    "lead.loc[128, 'movieNm']"
   ]
  },
  {
   "cell_type": "code",
   "execution_count": 37,
   "metadata": {},
   "outputs": [
    {
     "data": {
      "text/plain": [
       "5"
      ]
     },
     "execution_count": 37,
     "metadata": {},
     "output_type": "execute_result"
    }
   ],
   "source": [
    "# 리딩롤에만 있고 박스오피스에는 없는 영화명 중 '감독판'이 들어간 것의 개수\n",
    "len(additional[additional['movieNm'].str.contains('감독판')])"
   ]
  },
  {
   "cell_type": "code",
   "execution_count": 38,
   "metadata": {},
   "outputs": [
    {
     "data": {
      "text/plain": [
       "4"
      ]
     },
     "execution_count": 38,
     "metadata": {},
     "output_type": "execute_result"
    }
   ],
   "source": [
    "# 리딩롤 전체 영화명 중 '감독판'이 들어간 것의 개수\n",
    "len(lead[lead['movieNm'].str.contains('감독판')])"
   ]
  },
  {
   "cell_type": "code",
   "execution_count": 39,
   "metadata": {},
   "outputs": [
    {
     "data": {
      "text/html": [
       "<div>\n",
       "<style scoped>\n",
       "    .dataframe tbody tr th:only-of-type {\n",
       "        vertical-align: middle;\n",
       "    }\n",
       "\n",
       "    .dataframe tbody tr th {\n",
       "        vertical-align: top;\n",
       "    }\n",
       "\n",
       "    .dataframe thead th {\n",
       "        text-align: right;\n",
       "    }\n",
       "</style>\n",
       "<table border=\"1\" class=\"dataframe\">\n",
       "  <thead>\n",
       "    <tr style=\"text-align: right;\">\n",
       "      <th></th>\n",
       "      <th>index</th>\n",
       "      <th>movieNm</th>\n",
       "    </tr>\n",
       "  </thead>\n",
       "  <tbody>\n",
       "    <tr>\n",
       "      <th>1</th>\n",
       "      <td>803</td>\n",
       "      <td>위선자들: 감독판</td>\n",
       "    </tr>\n",
       "    <tr>\n",
       "      <th>8</th>\n",
       "      <td>810</td>\n",
       "      <td>나도 때론 포르노그라피의 주인공이고 싶다 : 감독판</td>\n",
       "    </tr>\n",
       "    <tr>\n",
       "      <th>16</th>\n",
       "      <td>818</td>\n",
       "      <td>뜨거운 이웃 무삭제 감독판</td>\n",
       "    </tr>\n",
       "    <tr>\n",
       "      <th>19</th>\n",
       "      <td>821</td>\n",
       "      <td>비스티걸스 감독판</td>\n",
       "    </tr>\n",
       "    <tr>\n",
       "      <th>21</th>\n",
       "      <td>823</td>\n",
       "      <td>군함도 감독판</td>\n",
       "    </tr>\n",
       "  </tbody>\n",
       "</table>\n",
       "</div>"
      ],
      "text/plain": [
       "    index                       movieNm\n",
       "1     803                     위선자들: 감독판\n",
       "8     810  나도 때론 포르노그라피의 주인공이고 싶다 : 감독판\n",
       "16    818                뜨거운 이웃 무삭제 감독판\n",
       "19    821                     비스티걸스 감독판\n",
       "21    823                       군함도 감독판"
      ]
     },
     "execution_count": 39,
     "metadata": {},
     "output_type": "execute_result"
    }
   ],
   "source": [
    "additional[additional['movieNm'].str.contains('감독판')]"
   ]
  },
  {
   "cell_type": "code",
   "execution_count": 40,
   "metadata": {},
   "outputs": [
    {
     "data": {
      "text/html": [
       "<div>\n",
       "<style scoped>\n",
       "    .dataframe tbody tr th:only-of-type {\n",
       "        vertical-align: middle;\n",
       "    }\n",
       "\n",
       "    .dataframe tbody tr th {\n",
       "        vertical-align: top;\n",
       "    }\n",
       "\n",
       "    .dataframe thead th {\n",
       "        text-align: right;\n",
       "    }\n",
       "</style>\n",
       "<table border=\"1\" class=\"dataframe\">\n",
       "  <thead>\n",
       "    <tr style=\"text-align: right;\">\n",
       "      <th></th>\n",
       "      <th>cast</th>\n",
       "      <th>movieCd</th>\n",
       "      <th>movieNm</th>\n",
       "      <th>peopleNm</th>\n",
       "      <th>repRoleNm</th>\n",
       "      <th>peopleCd</th>\n",
       "      <th>sex</th>\n",
       "    </tr>\n",
       "  </thead>\n",
       "  <tbody>\n",
       "    <tr>\n",
       "      <th>104</th>\n",
       "      <td>NaN</td>\n",
       "      <td>20163218</td>\n",
       "      <td>위선자들: 감독판</td>\n",
       "      <td>권민중</td>\n",
       "      <td>배우</td>\n",
       "      <td>10002374</td>\n",
       "      <td>여자</td>\n",
       "    </tr>\n",
       "    <tr>\n",
       "      <th>149</th>\n",
       "      <td>진희</td>\n",
       "      <td>20165441</td>\n",
       "      <td>나도 때론 포르노그라피의 주인공이고 싶다 : 감독판</td>\n",
       "      <td>한지은</td>\n",
       "      <td>배우</td>\n",
       "      <td>20238886</td>\n",
       "      <td>여자</td>\n",
       "    </tr>\n",
       "    <tr>\n",
       "      <th>386</th>\n",
       "      <td>NaN</td>\n",
       "      <td>20178127</td>\n",
       "      <td>비스티걸스 감독판</td>\n",
       "      <td>고은아</td>\n",
       "      <td>배우</td>\n",
       "      <td>10001724</td>\n",
       "      <td>여자</td>\n",
       "    </tr>\n",
       "    <tr>\n",
       "      <th>389</th>\n",
       "      <td>NaN</td>\n",
       "      <td>20177063</td>\n",
       "      <td>군함도 감독판</td>\n",
       "      <td>황정민</td>\n",
       "      <td>배우</td>\n",
       "      <td>10090290</td>\n",
       "      <td>남자</td>\n",
       "    </tr>\n",
       "  </tbody>\n",
       "</table>\n",
       "</div>"
      ],
      "text/plain": [
       "    cast   movieCd                       movieNm peopleNm repRoleNm  peopleCd  \\\n",
       "104  NaN  20163218                     위선자들: 감독판      권민중        배우  10002374   \n",
       "149   진희  20165441  나도 때론 포르노그라피의 주인공이고 싶다 : 감독판      한지은        배우  20238886   \n",
       "386  NaN  20178127                     비스티걸스 감독판      고은아        배우  10001724   \n",
       "389  NaN  20177063                       군함도 감독판      황정민        배우  10090290   \n",
       "\n",
       "    sex  \n",
       "104  여자  \n",
       "149  여자  \n",
       "386  여자  \n",
       "389  남자  "
      ]
     },
     "execution_count": 40,
     "metadata": {},
     "output_type": "execute_result"
    }
   ],
   "source": [
    "lead[lead['movieNm'].str.contains('감독판')]"
   ]
  },
  {
   "cell_type": "code",
   "execution_count": 41,
   "metadata": {},
   "outputs": [
    {
     "data": {
      "text/html": [
       "<div>\n",
       "<style scoped>\n",
       "    .dataframe tbody tr th:only-of-type {\n",
       "        vertical-align: middle;\n",
       "    }\n",
       "\n",
       "    .dataframe tbody tr th {\n",
       "        vertical-align: top;\n",
       "    }\n",
       "\n",
       "    .dataframe thead th {\n",
       "        text-align: right;\n",
       "    }\n",
       "</style>\n",
       "<table border=\"1\" class=\"dataframe\">\n",
       "  <thead>\n",
       "    <tr style=\"text-align: right;\">\n",
       "      <th></th>\n",
       "      <th>순위</th>\n",
       "      <th>영화명</th>\n",
       "      <th>개봉일</th>\n",
       "      <th>매출액</th>\n",
       "      <th>매출액점유율</th>\n",
       "      <th>누적매출액</th>\n",
       "      <th>관객수</th>\n",
       "      <th>누적관객수</th>\n",
       "      <th>스크린수</th>\n",
       "      <th>상영횟수</th>\n",
       "      <th>대표국적</th>\n",
       "      <th>국적</th>\n",
       "      <th>제작사</th>\n",
       "      <th>배급사</th>\n",
       "      <th>등급</th>\n",
       "      <th>장르</th>\n",
       "      <th>감독</th>\n",
       "      <th>배우</th>\n",
       "      <th>cast</th>\n",
       "      <th>movieCd</th>\n",
       "      <th>movieNm</th>\n",
       "      <th>peopleNm</th>\n",
       "      <th>repRoleNm</th>\n",
       "      <th>peopleCd</th>\n",
       "      <th>sex</th>\n",
       "    </tr>\n",
       "  </thead>\n",
       "  <tbody>\n",
       "    <tr>\n",
       "      <th>414</th>\n",
       "      <td>5</td>\n",
       "      <td>군함도</td>\n",
       "      <td>2017.7.26</td>\n",
       "      <td>50,510,565,168</td>\n",
       "      <td>5.6%</td>\n",
       "      <td>50,510,565,168</td>\n",
       "      <td>6,592,151</td>\n",
       "      <td>6,592,151</td>\n",
       "      <td>2,027</td>\n",
       "      <td>108,775</td>\n",
       "      <td>한국</td>\n",
       "      <td>한국</td>\n",
       "      <td>(주)외유내강,(주)필름케이</td>\n",
       "      <td>씨제이이앤엠(주)</td>\n",
       "      <td>15세이상관람가</td>\n",
       "      <td>액션,드라마</td>\n",
       "      <td>류승완</td>\n",
       "      <td>황정민,김규백,명인호,소지섭,송중기,이정현,김수안,지웅배,손용범,박상호,박선,박선주...</td>\n",
       "      <td>NaN</td>\n",
       "      <td>NaN</td>\n",
       "      <td>NaN</td>\n",
       "      <td>NaN</td>\n",
       "      <td>NaN</td>\n",
       "      <td>NaN</td>\n",
       "      <td>NaN</td>\n",
       "    </tr>\n",
       "  </tbody>\n",
       "</table>\n",
       "</div>"
      ],
      "text/plain": [
       "     순위  영화명        개봉일            매출액  매출액점유율          누적매출액        관객수   \\\n",
       "414   5  군함도  2017.7.26  50,510,565,168   5.6%  50,510,565,168  6,592,151   \n",
       "\n",
       "        누적관객수   스크린수     상영횟수  대표국적  국적              제작사        배급사   \\\n",
       "414  6,592,151  2,027  108,775    한국  한국  (주)외유내강,(주)필름케이  씨제이이앤엠(주)   \n",
       "\n",
       "          등급      장르   감독                                                 배우   \\\n",
       "414  15세이상관람가  액션,드라마  류승완  황정민,김규백,명인호,소지섭,송중기,이정현,김수안,지웅배,손용범,박상호,박선,박선주...   \n",
       "\n",
       "    cast  movieCd movieNm peopleNm repRoleNm  peopleCd  sex  \n",
       "414  NaN      NaN     NaN      NaN       NaN       NaN  NaN  "
      ]
     },
     "execution_count": 41,
     "metadata": {},
     "output_type": "execute_result"
    }
   ],
   "source": [
    "merged[merged['영화명']=='군함도']"
   ]
  },
  {
   "cell_type": "code",
   "execution_count": 42,
   "metadata": {},
   "outputs": [],
   "source": [
    "# 리딩롤에서 이미 영화명을 정리한 '뜨거운 이웃'을 제외하면 개수가 서로 맞으므로 모두 '감독판' 부연설명을 뗀다.\n",
    "lead['movieNm'] = lead['movieNm'].apply(lambda x: x.replace(': 감독판', '').replace('감독판', '').strip())"
   ]
  },
  {
   "cell_type": "code",
   "execution_count": 43,
   "metadata": {},
   "outputs": [
    {
     "data": {
      "text/plain": [
       "104                      위선자들\n",
       "149    나도 때론 포르노그라피의 주인공이고 싶다\n",
       "386                     비스티걸스\n",
       "389                       군함도\n",
       "Name: movieNm, dtype: object"
      ]
     },
     "execution_count": 43,
     "metadata": {},
     "output_type": "execute_result"
    }
   ],
   "source": [
    "lead.loc[[104, 149, 386, 389], 'movieNm']"
   ]
  },
  {
   "cell_type": "code",
   "execution_count": 44,
   "metadata": {},
   "outputs": [
    {
     "data": {
      "text/plain": [
       "1"
      ]
     },
     "execution_count": 44,
     "metadata": {},
     "output_type": "execute_result"
    }
   ],
   "source": [
    "# 리딩롤에만 있고 박스오피스에는 없는 영화명 중 '단편'이 들어간 것의 개수\n",
    "len(additional[additional['movieNm'].str.contains('단편')])"
   ]
  },
  {
   "cell_type": "code",
   "execution_count": 45,
   "metadata": {},
   "outputs": [
    {
     "data": {
      "text/plain": [
       "1"
      ]
     },
     "execution_count": 45,
     "metadata": {},
     "output_type": "execute_result"
    }
   ],
   "source": [
    "# 리딩롤 전체 영화명 중 '단편'이 들어간 것의 개수\n",
    "len(lead[lead['movieNm'].str.contains('단편')])"
   ]
  },
  {
   "cell_type": "code",
   "execution_count": 46,
   "metadata": {},
   "outputs": [
    {
     "data": {
      "text/html": [
       "<div>\n",
       "<style scoped>\n",
       "    .dataframe tbody tr th:only-of-type {\n",
       "        vertical-align: middle;\n",
       "    }\n",
       "\n",
       "    .dataframe tbody tr th {\n",
       "        vertical-align: top;\n",
       "    }\n",
       "\n",
       "    .dataframe thead th {\n",
       "        text-align: right;\n",
       "    }\n",
       "</style>\n",
       "<table border=\"1\" class=\"dataframe\">\n",
       "  <thead>\n",
       "    <tr style=\"text-align: right;\">\n",
       "      <th></th>\n",
       "      <th>cast</th>\n",
       "      <th>movieCd</th>\n",
       "      <th>movieNm</th>\n",
       "      <th>peopleNm</th>\n",
       "      <th>repRoleNm</th>\n",
       "      <th>peopleCd</th>\n",
       "      <th>sex</th>\n",
       "    </tr>\n",
       "  </thead>\n",
       "  <tbody>\n",
       "    <tr>\n",
       "      <th>315</th>\n",
       "      <td>NaN</td>\n",
       "      <td>20158526</td>\n",
       "      <td>문영 단편</td>\n",
       "      <td>김태리</td>\n",
       "      <td>배우</td>\n",
       "      <td>20201026</td>\n",
       "      <td>여자</td>\n",
       "    </tr>\n",
       "  </tbody>\n",
       "</table>\n",
       "</div>"
      ],
      "text/plain": [
       "    cast   movieCd movieNm peopleNm repRoleNm  peopleCd sex\n",
       "315  NaN  20158526   문영 단편      김태리        배우  20201026  여자"
      ]
     },
     "execution_count": 46,
     "metadata": {},
     "output_type": "execute_result"
    }
   ],
   "source": [
    "lead[lead['movieNm'].str.contains('단편')]"
   ]
  },
  {
   "cell_type": "code",
   "execution_count": 47,
   "metadata": {},
   "outputs": [
    {
     "data": {
      "text/html": [
       "<div>\n",
       "<style scoped>\n",
       "    .dataframe tbody tr th:only-of-type {\n",
       "        vertical-align: middle;\n",
       "    }\n",
       "\n",
       "    .dataframe tbody tr th {\n",
       "        vertical-align: top;\n",
       "    }\n",
       "\n",
       "    .dataframe thead th {\n",
       "        text-align: right;\n",
       "    }\n",
       "</style>\n",
       "<table border=\"1\" class=\"dataframe\">\n",
       "  <thead>\n",
       "    <tr style=\"text-align: right;\">\n",
       "      <th></th>\n",
       "      <th>순위</th>\n",
       "      <th>영화명</th>\n",
       "      <th>개봉일</th>\n",
       "      <th>매출액</th>\n",
       "      <th>매출액점유율</th>\n",
       "      <th>누적매출액</th>\n",
       "      <th>관객수</th>\n",
       "      <th>누적관객수</th>\n",
       "      <th>스크린수</th>\n",
       "      <th>상영횟수</th>\n",
       "      <th>대표국적</th>\n",
       "      <th>국적</th>\n",
       "      <th>제작사</th>\n",
       "      <th>배급사</th>\n",
       "      <th>등급</th>\n",
       "      <th>장르</th>\n",
       "      <th>감독</th>\n",
       "      <th>배우</th>\n",
       "      <th>cast</th>\n",
       "      <th>movieCd</th>\n",
       "      <th>movieNm</th>\n",
       "      <th>peopleNm</th>\n",
       "      <th>repRoleNm</th>\n",
       "      <th>peopleCd</th>\n",
       "      <th>sex</th>\n",
       "    </tr>\n",
       "  </thead>\n",
       "  <tbody>\n",
       "    <tr>\n",
       "      <th>336</th>\n",
       "      <td>98</td>\n",
       "      <td>문영</td>\n",
       "      <td>2017.1.12</td>\n",
       "      <td>57,651,900</td>\n",
       "      <td>0.0%</td>\n",
       "      <td>60,471,599</td>\n",
       "      <td>7,530</td>\n",
       "      <td>7,880</td>\n",
       "      <td>23</td>\n",
       "      <td>614</td>\n",
       "      <td>한국</td>\n",
       "      <td>한국</td>\n",
       "      <td>NaN</td>\n",
       "      <td>KT&amp;G 상상마당 영화사업팀 컴퍼니에스에스(주)</td>\n",
       "      <td>15세이상관람가</td>\n",
       "      <td>드라마</td>\n",
       "      <td>김소연</td>\n",
       "      <td>김태리,정현,박완규,박정식</td>\n",
       "      <td>NaN</td>\n",
       "      <td>NaN</td>\n",
       "      <td>NaN</td>\n",
       "      <td>NaN</td>\n",
       "      <td>NaN</td>\n",
       "      <td>NaN</td>\n",
       "      <td>NaN</td>\n",
       "    </tr>\n",
       "  </tbody>\n",
       "</table>\n",
       "</div>"
      ],
      "text/plain": [
       "     순위 영화명        개봉일        매출액  매출액점유율      누적매출액    관객수  누적관객수  스크린수   \\\n",
       "336  98  문영  2017.1.12  57,651,900   0.0%  60,471,599  7,530  7,880    23   \n",
       "\n",
       "    상영횟수  대표국적  국적  제작사                         배급사        등급   장르   감독   \\\n",
       "336   614    한국  한국  NaN  KT&G 상상마당 영화사업팀 컴퍼니에스에스(주)  15세이상관람가  드라마  김소연   \n",
       "\n",
       "                배우  cast  movieCd movieNm peopleNm repRoleNm  peopleCd  sex  \n",
       "336  김태리,정현,박완규,박정식  NaN      NaN     NaN      NaN       NaN       NaN  NaN  "
      ]
     },
     "execution_count": 47,
     "metadata": {},
     "output_type": "execute_result"
    }
   ],
   "source": [
    "merged[merged['영화명']=='문영']"
   ]
  },
  {
   "cell_type": "code",
   "execution_count": 48,
   "metadata": {},
   "outputs": [
    {
     "data": {
      "text/plain": [
       "cast              NaN\n",
       "movieCd      20158526\n",
       "movieNm            문영\n",
       "peopleNm          김태리\n",
       "repRoleNm          배우\n",
       "peopleCd     20201026\n",
       "sex                여자\n",
       "Name: 315, dtype: object"
      ]
     },
     "execution_count": 48,
     "metadata": {},
     "output_type": "execute_result"
    }
   ],
   "source": [
    "# 리딩롤의 영화명에서 '단편'을 뗀다.\n",
    "lead.loc[315, 'movieNm'] = '문영'\n",
    "lead.loc[315]"
   ]
  },
  {
   "cell_type": "markdown",
   "metadata": {},
   "source": [
    "## 다시 outer merge"
   ]
  },
  {
   "cell_type": "code",
   "execution_count": 49,
   "metadata": {},
   "outputs": [
    {
     "data": {
      "text/plain": [
       "순위             8\n",
       "영화명            8\n",
       "개봉일            8\n",
       "매출액            8\n",
       "매출액점유율         8\n",
       "누적매출액          8\n",
       "관객수            8\n",
       "누적관객수          8\n",
       "스크린수           8\n",
       "상영횟수           8\n",
       "대표국적           8\n",
       "국적             8\n",
       "제작사           28\n",
       "배급사            9\n",
       "등급             8\n",
       "장르             8\n",
       "감독            11\n",
       "배우            39\n",
       "cast         463\n",
       "movieCd       40\n",
       "movieNm       40\n",
       "peopleNm      40\n",
       "repRoleNm     40\n",
       "peopleCd      40\n",
       "sex           40\n",
       "dtype: int64"
      ]
     },
     "execution_count": 49,
     "metadata": {},
     "output_type": "execute_result"
    }
   ],
   "source": [
    "outer_merged2 = box.merge(lead, how='outer', left_on='영화명', right_on='movieNm')\n",
    "outer_merged2.isnull().sum()"
   ]
  },
  {
   "cell_type": "code",
   "execution_count": 50,
   "metadata": {},
   "outputs": [
    {
     "data": {
      "text/plain": [
       "802    우리에게 떡볶이를 먹을 권리가 있다\n",
       "803                   치킨게임\n",
       "804                   러브레따\n",
       "805                 재혼의 기술\n",
       "806                 오늘도 위위\n",
       "807               북간도의 십자가\n",
       "808         1919유관순-그녀들의조국\n",
       "809               82년생 김지영\n",
       "Name: movieNm, dtype: object"
      ]
     },
     "execution_count": 50,
     "metadata": {},
     "output_type": "execute_result"
    }
   ],
   "source": [
    "# 제목 정리 전보다 결측치가 20개 감소. 나머지도 살펴보자.\n",
    "outer_merged2[outer_merged2['영화명'].isnull()]['movieNm']"
   ]
  },
  {
   "cell_type": "code",
   "execution_count": 51,
   "metadata": {},
   "outputs": [
    {
     "data": {
      "text/plain": [
       "34          다이빙벨: 진실은 침몰하지 않습니다\n",
       "44                    잡식가족의 딜레마\n",
       "74                       밀양 아리랑\n",
       "82                 에스엠타운 더 스테이지\n",
       "116                        오디세오\n",
       "125                      울보 권투부\n",
       "147                      감금의 시간\n",
       "150                      불안한 외출\n",
       "161               나의 아들, 나의 어머니\n",
       "168                       거미의 땅\n",
       "172       극장판 꼬마버스 타요의 에이스 구출작전\n",
       "188                          귀향\n",
       "195                    방 안의 코끼리\n",
       "210                        입영전야\n",
       "233                        드롭박스\n",
       "242                       시선 사이\n",
       "243                      소녀와 여자\n",
       "246                        보고싶다\n",
       "257           극장판 프리즘스톤 올스타 셀렉션\n",
       "269                     그림자들의 섬\n",
       "272                      최악의 하루\n",
       "279                     왕초와 용가리\n",
       "292    극장판 프리파라 모두 모여라! 프리즘☆투어즈\n",
       "298                무현, 두 도시 이야기\n",
       "302                      시간의 종말\n",
       "306                     오 마이 파파\n",
       "393                      드래곤빌리지\n",
       "401                      파란나비효과\n",
       "412                    올 리브 올리브\n",
       "413                      불온한 당신\n",
       "441                  다시 태어나도 우리\n",
       "455                   노트르담 드 파리\n",
       "486                         침입자\n",
       "509                       풍뎅이뎅이\n",
       "596                        카운터스\n",
       "640                        마담 B\n",
       "692                    1919 유관순\n",
       "719          굿바이 마이 러브NK: 붉은 청춘\n",
       "756              콩쥐별전 - 전주성의 비밀\n",
       "777                      불빛 아래서\n",
       "Name: 영화명, dtype: object"
      ]
     },
     "execution_count": 51,
     "metadata": {},
     "output_type": "execute_result"
    }
   ],
   "source": [
    "outer_merged2[outer_merged2['movieNm'].isnull()]['영화명']"
   ]
  },
  {
   "cell_type": "code",
   "execution_count": 52,
   "metadata": {},
   "outputs": [
    {
     "data": {
      "text/html": [
       "<div>\n",
       "<style scoped>\n",
       "    .dataframe tbody tr th:only-of-type {\n",
       "        vertical-align: middle;\n",
       "    }\n",
       "\n",
       "    .dataframe tbody tr th {\n",
       "        vertical-align: top;\n",
       "    }\n",
       "\n",
       "    .dataframe thead th {\n",
       "        text-align: right;\n",
       "    }\n",
       "</style>\n",
       "<table border=\"1\" class=\"dataframe\">\n",
       "  <thead>\n",
       "    <tr style=\"text-align: right;\">\n",
       "      <th></th>\n",
       "      <th>순위</th>\n",
       "      <th>영화명</th>\n",
       "      <th>개봉일</th>\n",
       "      <th>매출액</th>\n",
       "      <th>매출액점유율</th>\n",
       "      <th>누적매출액</th>\n",
       "      <th>관객수</th>\n",
       "      <th>누적관객수</th>\n",
       "      <th>스크린수</th>\n",
       "      <th>상영횟수</th>\n",
       "      <th>대표국적</th>\n",
       "      <th>국적</th>\n",
       "      <th>제작사</th>\n",
       "      <th>배급사</th>\n",
       "      <th>등급</th>\n",
       "      <th>장르</th>\n",
       "      <th>감독</th>\n",
       "      <th>배우</th>\n",
       "      <th>cast</th>\n",
       "      <th>movieCd</th>\n",
       "      <th>movieNm</th>\n",
       "      <th>peopleNm</th>\n",
       "      <th>repRoleNm</th>\n",
       "      <th>peopleCd</th>\n",
       "      <th>sex</th>\n",
       "    </tr>\n",
       "  </thead>\n",
       "  <tbody>\n",
       "    <tr>\n",
       "      <th>692</th>\n",
       "      <td>62.0</td>\n",
       "      <td>1919 유관순</td>\n",
       "      <td>2019.3.14</td>\n",
       "      <td>506,367,410</td>\n",
       "      <td>0.1%</td>\n",
       "      <td>506,367,410</td>\n",
       "      <td>61,938</td>\n",
       "      <td>61,938</td>\n",
       "      <td>269</td>\n",
       "      <td>3,247</td>\n",
       "      <td>한국</td>\n",
       "      <td>한국</td>\n",
       "      <td>유관순문화산업전문유한회사</td>\n",
       "      <td>주식회사 마운틴픽쳐스,케이티하이텔(주)</td>\n",
       "      <td>12세이상관람가</td>\n",
       "      <td>다큐멘터리</td>\n",
       "      <td>신상민</td>\n",
       "      <td>이새봄,양윤희,김나니,박자희,장세아,하희라,김홍표</td>\n",
       "      <td>NaN</td>\n",
       "      <td>NaN</td>\n",
       "      <td>NaN</td>\n",
       "      <td>NaN</td>\n",
       "      <td>NaN</td>\n",
       "      <td>NaN</td>\n",
       "      <td>NaN</td>\n",
       "    </tr>\n",
       "    <tr>\n",
       "      <th>808</th>\n",
       "      <td>NaN</td>\n",
       "      <td>NaN</td>\n",
       "      <td>NaN</td>\n",
       "      <td>NaN</td>\n",
       "      <td>NaN</td>\n",
       "      <td>NaN</td>\n",
       "      <td>NaN</td>\n",
       "      <td>NaN</td>\n",
       "      <td>NaN</td>\n",
       "      <td>NaN</td>\n",
       "      <td>NaN</td>\n",
       "      <td>NaN</td>\n",
       "      <td>NaN</td>\n",
       "      <td>NaN</td>\n",
       "      <td>NaN</td>\n",
       "      <td>NaN</td>\n",
       "      <td>NaN</td>\n",
       "      <td>NaN</td>\n",
       "      <td>NaN</td>\n",
       "      <td>20196881.0</td>\n",
       "      <td>1919유관순-그녀들의조국</td>\n",
       "      <td>이새봄</td>\n",
       "      <td>배우</td>\n",
       "      <td>20319176.0</td>\n",
       "      <td>여자</td>\n",
       "    </tr>\n",
       "  </tbody>\n",
       "</table>\n",
       "</div>"
      ],
      "text/plain": [
       "       순위       영화명        개봉일         매출액  매출액점유율       누적매출액     관객수   \\\n",
       "692  62.0  1919 유관순  2019.3.14  506,367,410   0.1%  506,367,410  61,938   \n",
       "808   NaN       NaN        NaN          NaN    NaN          NaN     NaN   \n",
       "\n",
       "     누적관객수  스크린수   상영횟수  대표국적   국적            제작사                    배급사   \\\n",
       "692  61,938   269  3,247    한국   한국  유관순문화산업전문유한회사  주식회사 마운틴픽쳐스,케이티하이텔(주)   \n",
       "808     NaN   NaN    NaN   NaN  NaN            NaN                    NaN   \n",
       "\n",
       "          등급     장르   감독                           배우  cast     movieCd  \\\n",
       "692  12세이상관람가  다큐멘터리  신상민  이새봄,양윤희,김나니,박자희,장세아,하희라,김홍표  NaN         NaN   \n",
       "808       NaN    NaN  NaN                          NaN  NaN  20196881.0   \n",
       "\n",
       "            movieNm peopleNm repRoleNm    peopleCd  sex  \n",
       "692             NaN      NaN       NaN         NaN  NaN  \n",
       "808  1919유관순-그녀들의조국      이새봄        배우  20319176.0   여자  "
      ]
     },
     "execution_count": 52,
     "metadata": {},
     "output_type": "execute_result"
    }
   ],
   "source": [
    "# 같은 영화인데 제목이 다르게 기입되어 merge 안 된 영화는 '1919 유관순' 뿐인 듯\n",
    "outer_merged2[(outer_merged2['movieNm']=='1919유관순-그녀들의조국') | (outer_merged2['영화명']=='1919 유관순')]"
   ]
  },
  {
   "cell_type": "code",
   "execution_count": 53,
   "metadata": {},
   "outputs": [
    {
     "data": {
      "text/plain": [
       "Int64Index([702], dtype='int64')"
      ]
     },
     "execution_count": 53,
     "metadata": {},
     "output_type": "execute_result"
    }
   ],
   "source": [
    "# 리딩롤의 'movieNm'을 박스오피스 '영화명'에 맞춰 변경한다.\n",
    "lead[lead['movieNm']=='1919유관순-그녀들의조국'].index"
   ]
  },
  {
   "cell_type": "code",
   "execution_count": 54,
   "metadata": {},
   "outputs": [],
   "source": [
    "lead.loc[702, 'movieNm'] = '1919 유관순'"
   ]
  },
  {
   "cell_type": "markdown",
   "metadata": {},
   "source": [
    "## 다시 merge 해서 분석용 테이블 만들어 놓기\n",
    "\n",
    "2차 전처리 때 해야할 일 : 박스오피스 테이블에만 있는 영화 39개, 리딩롤 테이블에만 있는 영화 7개의 정보를 직접 찾아서 채우기"
   ]
  },
  {
   "cell_type": "code",
   "execution_count": 59,
   "metadata": {},
   "outputs": [
    {
     "data": {
      "text/plain": [
       "809"
      ]
     },
     "execution_count": 59,
     "metadata": {},
     "output_type": "execute_result"
    }
   ],
   "source": [
    "outer_merged3 = box.merge(lead, how='outer', left_on='영화명', right_on='movieNm')\n",
    "len(outer_merged3)"
   ]
  },
  {
   "cell_type": "code",
   "execution_count": 60,
   "metadata": {},
   "outputs": [
    {
     "data": {
      "text/plain": [
       "순위             7\n",
       "영화명            7\n",
       "개봉일            7\n",
       "매출액            7\n",
       "매출액점유율         7\n",
       "누적매출액          7\n",
       "관객수            7\n",
       "누적관객수          7\n",
       "스크린수           7\n",
       "상영횟수           7\n",
       "대표국적           7\n",
       "국적             7\n",
       "제작사           27\n",
       "배급사            8\n",
       "등급             7\n",
       "장르             7\n",
       "감독            10\n",
       "배우            38\n",
       "cast         462\n",
       "movieCd       39\n",
       "movieNm       39\n",
       "peopleNm      39\n",
       "repRoleNm     39\n",
       "peopleCd      39\n",
       "sex           39\n",
       "dtype: int64"
      ]
     },
     "execution_count": 60,
     "metadata": {},
     "output_type": "execute_result"
    }
   ],
   "source": [
    "outer_merged3.isnull().sum()"
   ]
  },
  {
   "cell_type": "code",
   "execution_count": 71,
   "metadata": {},
   "outputs": [],
   "source": [
    "# null 값을 '-'로 채워놓기\n",
    "outer_merged3 = outer_merged3.fillna('-')"
   ]
  },
  {
   "cell_type": "code",
   "execution_count": 73,
   "metadata": {},
   "outputs": [
    {
     "data": {
      "text/plain": [
       "순위           0\n",
       "영화명          0\n",
       "개봉일          0\n",
       "매출액          0\n",
       "매출액점유율       0\n",
       "누적매출액        0\n",
       "관객수          0\n",
       "누적관객수        0\n",
       "스크린수         0\n",
       "상영횟수         0\n",
       "대표국적         0\n",
       "국적           0\n",
       "제작사          0\n",
       "배급사          0\n",
       "등급           0\n",
       "장르           0\n",
       "감독           0\n",
       "배우           0\n",
       "cast         0\n",
       "movieCd      0\n",
       "movieNm      0\n",
       "peopleNm     0\n",
       "repRoleNm    0\n",
       "peopleCd     0\n",
       "sex          0\n",
       "dtype: int64"
      ]
     },
     "execution_count": 73,
     "metadata": {},
     "output_type": "execute_result"
    }
   ],
   "source": [
    "outer_merged3.isnull().sum()"
   ]
  },
  {
   "cell_type": "markdown",
   "metadata": {},
   "source": [
    "## 리딩롤 테이블의 배우가 주연배우가 맞는지 확인"
   ]
  },
  {
   "cell_type": "code",
   "execution_count": 74,
   "metadata": {},
   "outputs": [
    {
     "data": {
      "text/plain": [
       "0    조여정,클라라,김태우,배유람,정범식,정범식,박주희,백경인,조은영,손진우,배성우,유찬...\n",
       "1    박해진,이영아,송재희,전무송,최원주,이상민,이기열,윤기호,김수환,김정권,김혜진,박재...\n",
       "2    하정우,하지원,전혜진,장광,주진모,성동일,이경영,김영애,정만식,조진웅,김기천,김성균...\n",
       "3    이승기,문채원,이서진,장진우,이경진,이동진,임하룡,이상협,김광규,김부선,가인,임종윤...\n",
       "4    안재민,이정민,이정민,박승찬,이현복,최경택,손지훈,우경희,유재훈,이돌,하혜정,한상민...\n",
       "Name: 배우 , dtype: object"
      ]
     },
     "execution_count": 74,
     "metadata": {},
     "output_type": "execute_result"
    }
   ],
   "source": [
    "outer_merged3['배우 '].head()"
   ]
  },
  {
   "cell_type": "code",
   "execution_count": 75,
   "metadata": {},
   "outputs": [
    {
     "data": {
      "text/plain": [
       "0    조여정\n",
       "1    박해진\n",
       "2    하정우\n",
       "3    이승기\n",
       "4    안재민\n",
       "Name: peopleNm, dtype: object"
      ]
     },
     "execution_count": 75,
     "metadata": {},
     "output_type": "execute_result"
    }
   ],
   "source": [
    "outer_merged3['peopleNm'].head()"
   ]
  },
  {
   "cell_type": "code",
   "execution_count": 76,
   "metadata": {},
   "outputs": [],
   "source": [
    "outer_merged3['lead_actor'] = outer_merged3['배우 '].apply(lambda x: x.split(',')[0])"
   ]
  },
  {
   "cell_type": "code",
   "execution_count": 81,
   "metadata": {},
   "outputs": [
    {
     "data": {
      "text/html": [
       "<div>\n",
       "<style scoped>\n",
       "    .dataframe tbody tr th:only-of-type {\n",
       "        vertical-align: middle;\n",
       "    }\n",
       "\n",
       "    .dataframe tbody tr th {\n",
       "        vertical-align: top;\n",
       "    }\n",
       "\n",
       "    .dataframe thead th {\n",
       "        text-align: right;\n",
       "    }\n",
       "</style>\n",
       "<table border=\"1\" class=\"dataframe\">\n",
       "  <thead>\n",
       "    <tr style=\"text-align: right;\">\n",
       "      <th></th>\n",
       "      <th>순위</th>\n",
       "      <th>영화명</th>\n",
       "      <th>개봉일</th>\n",
       "      <th>매출액</th>\n",
       "      <th>매출액점유율</th>\n",
       "      <th>누적매출액</th>\n",
       "      <th>관객수</th>\n",
       "      <th>누적관객수</th>\n",
       "      <th>스크린수</th>\n",
       "      <th>상영횟수</th>\n",
       "      <th>대표국적</th>\n",
       "      <th>국적</th>\n",
       "      <th>제작사</th>\n",
       "      <th>배급사</th>\n",
       "      <th>등급</th>\n",
       "      <th>장르</th>\n",
       "      <th>감독</th>\n",
       "      <th>배우</th>\n",
       "      <th>cast</th>\n",
       "      <th>movieCd</th>\n",
       "      <th>movieNm</th>\n",
       "      <th>peopleNm</th>\n",
       "      <th>repRoleNm</th>\n",
       "      <th>peopleCd</th>\n",
       "      <th>sex</th>\n",
       "      <th>lead_actor</th>\n",
       "    </tr>\n",
       "  </thead>\n",
       "  <tbody>\n",
       "    <tr>\n",
       "      <th>131</th>\n",
       "      <td>185</td>\n",
       "      <td>나도 때론 포르노그라피의 주인공이고 싶다</td>\n",
       "      <td>2015.11.12</td>\n",
       "      <td>6,148,000</td>\n",
       "      <td>0.0%</td>\n",
       "      <td>6,148,000</td>\n",
       "      <td>961</td>\n",
       "      <td>961</td>\n",
       "      <td>20</td>\n",
       "      <td>45</td>\n",
       "      <td>한국</td>\n",
       "      <td>한국</td>\n",
       "      <td>(주)피터팬픽쳐스</td>\n",
       "      <td>(주)피터팬픽쳐스</td>\n",
       "      <td>청소년관람불가</td>\n",
       "      <td>멜로/로맨스</td>\n",
       "      <td>장성수</td>\n",
       "      <td>최리호,김영근,서갑숙,한지은</td>\n",
       "      <td>진희</td>\n",
       "      <td>2.01654e+07</td>\n",
       "      <td>나도 때론 포르노그라피의 주인공이고 싶다</td>\n",
       "      <td>한지은</td>\n",
       "      <td>배우</td>\n",
       "      <td>2.02389e+07</td>\n",
       "      <td>여자</td>\n",
       "      <td>최리호</td>\n",
       "    </tr>\n",
       "    <tr>\n",
       "      <th>164</th>\n",
       "      <td>162</td>\n",
       "      <td>하숙집 2</td>\n",
       "      <td>2016.1.7</td>\n",
       "      <td>7,053,000</td>\n",
       "      <td>0.0%</td>\n",
       "      <td>7,053,000</td>\n",
       "      <td>1,266</td>\n",
       "      <td>1,266</td>\n",
       "      <td>20</td>\n",
       "      <td>46</td>\n",
       "      <td>한국</td>\n",
       "      <td>한국</td>\n",
       "      <td>영화사 인연</td>\n",
       "      <td>(주)소나무픽쳐스</td>\n",
       "      <td>청소년관람불가</td>\n",
       "      <td>멜로/로맨스,드라마</td>\n",
       "      <td>정태령</td>\n",
       "      <td>류현아,정넘쳐,이소희</td>\n",
       "      <td>-</td>\n",
       "      <td>2.01647e+07</td>\n",
       "      <td>하숙집 2</td>\n",
       "      <td>정넘쳐</td>\n",
       "      <td>배우</td>\n",
       "      <td>2.02089e+07</td>\n",
       "      <td>남자</td>\n",
       "      <td>류현아</td>\n",
       "    </tr>\n",
       "    <tr>\n",
       "      <th>196</th>\n",
       "      <td>107</td>\n",
       "      <td>설행_눈길을 걷다</td>\n",
       "      <td>2016.3.3</td>\n",
       "      <td>43,234,700</td>\n",
       "      <td>0.0%</td>\n",
       "      <td>44,048,700</td>\n",
       "      <td>5,795</td>\n",
       "      <td>5,934</td>\n",
       "      <td>72</td>\n",
       "      <td>1,124</td>\n",
       "      <td>한국</td>\n",
       "      <td>한국</td>\n",
       "      <td>(주)인스터</td>\n",
       "      <td>(주)인디플러그</td>\n",
       "      <td>15세이상관람가</td>\n",
       "      <td>드라마</td>\n",
       "      <td>김희정</td>\n",
       "      <td>김태훈,박소담,최무성,김중기,송현영,이선주,김새벽,전국향</td>\n",
       "      <td>마리아</td>\n",
       "      <td>2.01588e+07</td>\n",
       "      <td>설행_눈길을 걷다</td>\n",
       "      <td>박소담</td>\n",
       "      <td>배우</td>\n",
       "      <td>2.02097e+07</td>\n",
       "      <td>여자</td>\n",
       "      <td>김태훈</td>\n",
       "    </tr>\n",
       "    <tr>\n",
       "      <th>207</th>\n",
       "      <td>244</td>\n",
       "      <td>동거의 목적</td>\n",
       "      <td>2016.3.31</td>\n",
       "      <td>2,945,000</td>\n",
       "      <td>0.0%</td>\n",
       "      <td>2,945,000</td>\n",
       "      <td>566</td>\n",
       "      <td>566</td>\n",
       "      <td>20</td>\n",
       "      <td>40</td>\n",
       "      <td>한국</td>\n",
       "      <td>한국</td>\n",
       "      <td>(주)씨네토리</td>\n",
       "      <td>(주)제이에이와이이엔터테인먼트</td>\n",
       "      <td>청소년관람불가</td>\n",
       "      <td>멜로/로맨스</td>\n",
       "      <td>조성우</td>\n",
       "      <td>주예빈,박하얀,제동화,이강연,김종인</td>\n",
       "      <td>승구</td>\n",
       "      <td>2.01667e+07</td>\n",
       "      <td>동거의 목적</td>\n",
       "      <td>제동화</td>\n",
       "      <td>배우</td>\n",
       "      <td>2.02344e+07</td>\n",
       "      <td>남자</td>\n",
       "      <td>주예빈</td>\n",
       "    </tr>\n",
       "    <tr>\n",
       "      <th>335</th>\n",
       "      <td>206</td>\n",
       "      <td>소시민</td>\n",
       "      <td>2017.1.12</td>\n",
       "      <td>5,585,800</td>\n",
       "      <td>0.0%</td>\n",
       "      <td>5,659,800</td>\n",
       "      <td>760</td>\n",
       "      <td>779</td>\n",
       "      <td>10</td>\n",
       "      <td>75</td>\n",
       "      <td>한국</td>\n",
       "      <td>한국</td>\n",
       "      <td>영화사 새삶</td>\n",
       "      <td>홀리가든</td>\n",
       "      <td>15세이상관람가</td>\n",
       "      <td>코미디</td>\n",
       "      <td>김병준</td>\n",
       "      <td>한성천,황보라,김상균,홍이주,이설구,호효훈,이진한,이동욱,이재우,이재환,강신철,한성천</td>\n",
       "      <td>-</td>\n",
       "      <td>2.01455e+07</td>\n",
       "      <td>소시민</td>\n",
       "      <td>한수현</td>\n",
       "      <td>배우</td>\n",
       "      <td>1.00875e+07</td>\n",
       "      <td>남자</td>\n",
       "      <td>한성천</td>\n",
       "    </tr>\n",
       "    <tr>\n",
       "      <th>410</th>\n",
       "      <td>378</td>\n",
       "      <td>덫</td>\n",
       "      <td>2017.7.13</td>\n",
       "      <td>1,436,000</td>\n",
       "      <td>0.0%</td>\n",
       "      <td>1,436,000</td>\n",
       "      <td>228</td>\n",
       "      <td>228</td>\n",
       "      <td>5</td>\n",
       "      <td>69</td>\n",
       "      <td>한국</td>\n",
       "      <td>한국</td>\n",
       "      <td>(주)케이알씨지</td>\n",
       "      <td>(주)케이알씨지</td>\n",
       "      <td>청소년관람불가</td>\n",
       "      <td>멜로/로맨스,스릴러</td>\n",
       "      <td>윤여창</td>\n",
       "      <td>이태광,유연비,최민주,이유진,김진환</td>\n",
       "      <td>아연</td>\n",
       "      <td>2.01628e+07</td>\n",
       "      <td>덫</td>\n",
       "      <td>이유진</td>\n",
       "      <td>배우</td>\n",
       "      <td>1.00569e+07</td>\n",
       "      <td>여자</td>\n",
       "      <td>이태광</td>\n",
       "    </tr>\n",
       "    <tr>\n",
       "      <th>668</th>\n",
       "      <td>13</td>\n",
       "      <td>내안의 그놈</td>\n",
       "      <td>2019.1.9</td>\n",
       "      <td>16,295,044,567</td>\n",
       "      <td>2.1%</td>\n",
       "      <td>16,413,580,567</td>\n",
       "      <td>1,901,861</td>\n",
       "      <td>1,917,032</td>\n",
       "      <td>1,041</td>\n",
       "      <td>61,677</td>\n",
       "      <td>한국</td>\n",
       "      <td>한국</td>\n",
       "      <td>(주)에코필름,(주)전망좋은 영화사</td>\n",
       "      <td>(주)메리크리스마스,TCO(주)더콘텐츠온</td>\n",
       "      <td>15세이상관람가</td>\n",
       "      <td>판타지,코미디</td>\n",
       "      <td>강효진</td>\n",
       "      <td>오윤수,박성웅,진영,라미란,이수민,이준혁,김광규,민지아,윤경호,김현목,권혁범,이호수...</td>\n",
       "      <td>판수</td>\n",
       "      <td>2.01763e+07</td>\n",
       "      <td>내안의 그놈</td>\n",
       "      <td>박성웅</td>\n",
       "      <td>배우</td>\n",
       "      <td>1.00288e+07</td>\n",
       "      <td>남자</td>\n",
       "      <td>오윤수</td>\n",
       "    </tr>\n",
       "  </tbody>\n",
       "</table>\n",
       "</div>"
      ],
      "text/plain": [
       "      순위                     영화명         개봉일            매출액  매출액점유율  \\\n",
       "131  185  나도 때론 포르노그라피의 주인공이고 싶다  2015.11.12       6,148,000   0.0%   \n",
       "164  162                   하숙집 2    2016.1.7       7,053,000   0.0%   \n",
       "196  107               설행_눈길을 걷다    2016.3.3      43,234,700   0.0%   \n",
       "207  244                  동거의 목적   2016.3.31       2,945,000   0.0%   \n",
       "335  206                     소시민   2017.1.12       5,585,800   0.0%   \n",
       "410  378                       덫   2017.7.13       1,436,000   0.0%   \n",
       "668   13                  내안의 그놈    2019.1.9  16,295,044,567   2.1%   \n",
       "\n",
       "             누적매출액        관객수      누적관객수   스크린수    상영횟수  대표국적  국적   \\\n",
       "131       6,148,000        961        961     20      45    한국  한국   \n",
       "164       7,053,000      1,266      1,266     20      46    한국  한국   \n",
       "196      44,048,700      5,795      5,934     72   1,124    한국  한국   \n",
       "207       2,945,000        566        566     20      40    한국  한국   \n",
       "335       5,659,800        760        779     10      75    한국  한국   \n",
       "410       1,436,000        228        228      5      69    한국  한국   \n",
       "668  16,413,580,567  1,901,861  1,917,032  1,041  61,677    한국  한국   \n",
       "\n",
       "                    제작사                     배급사        등급          장르   감독   \\\n",
       "131            (주)피터팬픽쳐스               (주)피터팬픽쳐스   청소년관람불가      멜로/로맨스  장성수   \n",
       "164               영화사 인연               (주)소나무픽쳐스   청소년관람불가  멜로/로맨스,드라마  정태령   \n",
       "196               (주)인스터                (주)인디플러그  15세이상관람가         드라마  김희정   \n",
       "207              (주)씨네토리        (주)제이에이와이이엔터테인먼트   청소년관람불가      멜로/로맨스  조성우   \n",
       "335               영화사 새삶                    홀리가든  15세이상관람가         코미디  김병준   \n",
       "410             (주)케이알씨지                (주)케이알씨지   청소년관람불가  멜로/로맨스,스릴러  윤여창   \n",
       "668  (주)에코필름,(주)전망좋은 영화사  (주)메리크리스마스,TCO(주)더콘텐츠온  15세이상관람가     판타지,코미디  강효진   \n",
       "\n",
       "                                                   배우  cast      movieCd  \\\n",
       "131                                    최리호,김영근,서갑숙,한지은   진희  2.01654e+07   \n",
       "164                                        류현아,정넘쳐,이소희    -  2.01647e+07   \n",
       "196                    김태훈,박소담,최무성,김중기,송현영,이선주,김새벽,전국향  마리아  2.01588e+07   \n",
       "207                                주예빈,박하얀,제동화,이강연,김종인   승구  2.01667e+07   \n",
       "335    한성천,황보라,김상균,홍이주,이설구,호효훈,이진한,이동욱,이재우,이재환,강신철,한성천    -  2.01455e+07   \n",
       "410                                이태광,유연비,최민주,이유진,김진환   아연  2.01628e+07   \n",
       "668  오윤수,박성웅,진영,라미란,이수민,이준혁,김광규,민지아,윤경호,김현목,권혁범,이호수...   판수  2.01763e+07   \n",
       "\n",
       "                    movieNm peopleNm repRoleNm     peopleCd sex lead_actor  \n",
       "131  나도 때론 포르노그라피의 주인공이고 싶다      한지은        배우  2.02389e+07  여자        최리호  \n",
       "164                   하숙집 2      정넘쳐        배우  2.02089e+07  남자        류현아  \n",
       "196               설행_눈길을 걷다      박소담        배우  2.02097e+07  여자        김태훈  \n",
       "207                  동거의 목적      제동화        배우  2.02344e+07  남자        주예빈  \n",
       "335                     소시민      한수현        배우  1.00875e+07  남자        한성천  \n",
       "410                       덫      이유진        배우  1.00569e+07  여자        이태광  \n",
       "668                  내안의 그놈      박성웅        배우  1.00288e+07  남자        오윤수  "
      ]
     },
     "execution_count": 81,
     "metadata": {},
     "output_type": "execute_result"
    }
   ],
   "source": [
    "# 박스오피스의 '배우' 컬럼에 제일 먼저 써 있는 이름과 리딩롤 테이블의 배우명이 일치하지 않는 경우\n",
    "outer_merged3[(outer_merged3['lead_actor'] != outer_merged3['peopleNm']) & (outer_merged3['영화명']!='-') & (outer_merged3['movieCd']!='-')]"
   ]
  },
  {
   "cell_type": "markdown",
   "metadata": {},
   "source": [
    "KOBIS 홈페이지에서 영화 검색해서 주연배우 판단  \n",
    "-> 7개 모두 'peopleNm' 컬럼 값에 들어있는 배우가 leading role(제1주연배우) 맞음\n",
    "* 125) 나도 때론 포르노그라피의 주인공이고 싶다 : 한지은\n",
    "* 155) 하숙집 2 : 정넘쳐\n",
    "* 183) 설행_눈길을 걷다 : 박소담\n",
    "* 194) 동거의 목적 : 제동화\n",
    "* 309) 소시민 : 한수현 (한성천과 동일인물)\n",
    "* 382) 덫 : 이유진\n",
    "* 632) 내안의 그놈: 박성웅  "
   ]
  },
  {
   "cell_type": "markdown",
   "metadata": {},
   "source": [
    "## 컬럼 정리 후 저장"
   ]
  },
  {
   "cell_type": "code",
   "execution_count": 83,
   "metadata": {},
   "outputs": [
    {
     "data": {
      "text/plain": [
       "Index(['순위', '영화명', '개봉일', '매출액 ', '매출액점유율', '누적매출액 ', '관객수 ', '누적관객수 ',\n",
       "       '스크린수 ', '상영횟수 ', '대표국적 ', '국적 ', '제작사 ', '배급사 ', '등급 ', '장르 ', '감독 ',\n",
       "       '배우 ', 'cast', 'movieCd', 'movieNm', 'peopleNm', 'repRoleNm',\n",
       "       'peopleCd', 'sex', 'lead_actor'],\n",
       "      dtype='object')"
      ]
     },
     "execution_count": 83,
     "metadata": {},
     "output_type": "execute_result"
    }
   ],
   "source": [
    "outer_merged3.columns"
   ]
  },
  {
   "cell_type": "code",
   "execution_count": 84,
   "metadata": {},
   "outputs": [],
   "source": [
    "# 컬럼명 앞뒤 공백 제거\n",
    "outer_merged3 = outer_merged3.rename(columns = lambda x: x.strip())"
   ]
  },
  {
   "cell_type": "code",
   "execution_count": 85,
   "metadata": {},
   "outputs": [
    {
     "data": {
      "text/plain": [
       "Index(['순위', '영화명', '개봉일', '매출액', '매출액점유율', '누적매출액', '관객수', '누적관객수', '스크린수',\n",
       "       '상영횟수', '대표국적', '국적', '제작사', '배급사', '등급', '장르', '감독', '배우', 'cast',\n",
       "       'movieCd', 'movieNm', 'peopleNm', 'repRoleNm', 'peopleCd', 'sex',\n",
       "       'lead_actor'],\n",
       "      dtype='object')"
      ]
     },
     "execution_count": 85,
     "metadata": {},
     "output_type": "execute_result"
    }
   ],
   "source": [
    "outer_merged3.columns"
   ]
  },
  {
   "cell_type": "code",
   "execution_count": 86,
   "metadata": {},
   "outputs": [],
   "source": [
    "# 중복값 있는 컬럼 삭제\n",
    "outer_merged3 = outer_merged3.drop(['movieNm', 'lead_actor'], axis=1)"
   ]
  },
  {
   "cell_type": "code",
   "execution_count": 87,
   "metadata": {},
   "outputs": [],
   "source": [
    "outer_merged3 = outer_merged3.rename(columns = {'movieCd':'영화코드', 'cast':'배역명', 'peopleNm':'주연배우', 'peopleCd':'배우코드', 'sex': '배우성별', 'repRoleNm': '역할'})"
   ]
  },
  {
   "cell_type": "code",
   "execution_count": 88,
   "metadata": {},
   "outputs": [
    {
     "data": {
      "text/html": [
       "<div>\n",
       "<style scoped>\n",
       "    .dataframe tbody tr th:only-of-type {\n",
       "        vertical-align: middle;\n",
       "    }\n",
       "\n",
       "    .dataframe tbody tr th {\n",
       "        vertical-align: top;\n",
       "    }\n",
       "\n",
       "    .dataframe thead th {\n",
       "        text-align: right;\n",
       "    }\n",
       "</style>\n",
       "<table border=\"1\" class=\"dataframe\">\n",
       "  <thead>\n",
       "    <tr style=\"text-align: right;\">\n",
       "      <th></th>\n",
       "      <th>순위</th>\n",
       "      <th>영화명</th>\n",
       "      <th>개봉일</th>\n",
       "      <th>매출액</th>\n",
       "      <th>매출액점유율</th>\n",
       "      <th>누적매출액</th>\n",
       "      <th>관객수</th>\n",
       "      <th>누적관객수</th>\n",
       "      <th>스크린수</th>\n",
       "      <th>상영횟수</th>\n",
       "      <th>대표국적</th>\n",
       "      <th>국적</th>\n",
       "      <th>제작사</th>\n",
       "      <th>배급사</th>\n",
       "      <th>등급</th>\n",
       "      <th>장르</th>\n",
       "      <th>감독</th>\n",
       "      <th>배우</th>\n",
       "      <th>배역명</th>\n",
       "      <th>영화코드</th>\n",
       "      <th>주연배우</th>\n",
       "      <th>역할</th>\n",
       "      <th>배우코드</th>\n",
       "      <th>배우성별</th>\n",
       "    </tr>\n",
       "  </thead>\n",
       "  <tbody>\n",
       "    <tr>\n",
       "      <th>776</th>\n",
       "      <td>53</td>\n",
       "      <td>벌새</td>\n",
       "      <td>2019.8.29</td>\n",
       "      <td>1,027,780,585</td>\n",
       "      <td>0.1%</td>\n",
       "      <td>1,031,273,085</td>\n",
       "      <td>125,788</td>\n",
       "      <td>126,273</td>\n",
       "      <td>145</td>\n",
       "      <td>6,409</td>\n",
       "      <td>한국</td>\n",
       "      <td>한국</td>\n",
       "      <td>에피파니(주)</td>\n",
       "      <td>(주)엣나인필름,(주)콘텐츠판다</td>\n",
       "      <td>15세이상관람가</td>\n",
       "      <td>드라마</td>\n",
       "      <td>김보라</td>\n",
       "      <td>박지후,김새벽,정인기,이승연,박수연,손용범,박서윤,길해연,손상연,설혜인</td>\n",
       "      <td>은희</td>\n",
       "      <td>2.01811e+07</td>\n",
       "      <td>박지후</td>\n",
       "      <td>배우</td>\n",
       "      <td>2.03209e+07</td>\n",
       "      <td>여자</td>\n",
       "    </tr>\n",
       "    <tr>\n",
       "      <th>146</th>\n",
       "      <td>225</td>\n",
       "      <td>내 친구의 아내</td>\n",
       "      <td>2015.12.3</td>\n",
       "      <td>4,493,000</td>\n",
       "      <td>0.0%</td>\n",
       "      <td>4,493,000</td>\n",
       "      <td>622</td>\n",
       "      <td>622</td>\n",
       "      <td>20</td>\n",
       "      <td>45</td>\n",
       "      <td>한국</td>\n",
       "      <td>한국</td>\n",
       "      <td>(주)씨네토리</td>\n",
       "      <td>(주)소나무픽쳐스</td>\n",
       "      <td>청소년관람불가</td>\n",
       "      <td>멜로/로맨스,드라마</td>\n",
       "      <td>탁승오</td>\n",
       "      <td>정태민,탁민</td>\n",
       "      <td>-</td>\n",
       "      <td>2.01629e+07</td>\n",
       "      <td>정태민</td>\n",
       "      <td>배우</td>\n",
       "      <td>2.01602e+07</td>\n",
       "      <td>남자</td>\n",
       "    </tr>\n",
       "    <tr>\n",
       "      <th>525</th>\n",
       "      <td>194</td>\n",
       "      <td>예스 평창!</td>\n",
       "      <td>2018.3.8</td>\n",
       "      <td>7,694,800</td>\n",
       "      <td>0.0%</td>\n",
       "      <td>7,694,800</td>\n",
       "      <td>968</td>\n",
       "      <td>968</td>\n",
       "      <td>11</td>\n",
       "      <td>66</td>\n",
       "      <td>한국</td>\n",
       "      <td>한국</td>\n",
       "      <td>명작엔터테인먼트(주)</td>\n",
       "      <td>시네마 뉴원</td>\n",
       "      <td>전체관람가</td>\n",
       "      <td>다큐멘터리</td>\n",
       "      <td>백철기</td>\n",
       "      <td>박용성,최문순,이광재,박선규,김동원,김동일,김상현,김주환,박재현,이승원</td>\n",
       "      <td>-</td>\n",
       "      <td>2.01817e+07</td>\n",
       "      <td>박용성</td>\n",
       "      <td>배우</td>\n",
       "      <td>2.03023e+07</td>\n",
       "      <td>남자</td>\n",
       "    </tr>\n",
       "  </tbody>\n",
       "</table>\n",
       "</div>"
      ],
      "text/plain": [
       "      순위       영화명        개봉일            매출액 매출액점유율          누적매출액      관객수  \\\n",
       "776   53        벌새  2019.8.29  1,027,780,585   0.1%  1,031,273,085  125,788   \n",
       "146  225  내 친구의 아내  2015.12.3      4,493,000   0.0%      4,493,000      622   \n",
       "525  194    예스 평창!   2018.3.8      7,694,800   0.0%      7,694,800      968   \n",
       "\n",
       "       누적관객수 스크린수   상영횟수 대표국적  국적          제작사                배급사        등급  \\\n",
       "776  126,273  145  6,409   한국  한국      에피파니(주)  (주)엣나인필름,(주)콘텐츠판다  15세이상관람가   \n",
       "146      622   20     45   한국  한국      (주)씨네토리          (주)소나무픽쳐스   청소년관람불가   \n",
       "525      968   11     66   한국  한국  명작엔터테인먼트(주)             시네마 뉴원     전체관람가   \n",
       "\n",
       "             장르   감독                                       배우 배역명  \\\n",
       "776         드라마  김보라  박지후,김새벽,정인기,이승연,박수연,손용범,박서윤,길해연,손상연,설혜인  은희   \n",
       "146  멜로/로맨스,드라마  탁승오                                   정태민,탁민   -   \n",
       "525       다큐멘터리  백철기  박용성,최문순,이광재,박선규,김동원,김동일,김상현,김주환,박재현,이승원   -   \n",
       "\n",
       "            영화코드 주연배우  역할         배우코드 배우성별  \n",
       "776  2.01811e+07  박지후  배우  2.03209e+07   여자  \n",
       "146  2.01629e+07  정태민  배우  2.01602e+07   남자  \n",
       "525  2.01817e+07  박용성  배우  2.03023e+07   남자  "
      ]
     },
     "execution_count": 88,
     "metadata": {},
     "output_type": "execute_result"
    }
   ],
   "source": [
    "outer_merged3.sample(3)"
   ]
  },
  {
   "cell_type": "code",
   "execution_count": 89,
   "metadata": {},
   "outputs": [
    {
     "data": {
      "text/plain": [
       "809"
      ]
     },
     "execution_count": 89,
     "metadata": {},
     "output_type": "execute_result"
    }
   ],
   "source": [
    "len(outer_merged3)"
   ]
  },
  {
   "cell_type": "code",
   "execution_count": 90,
   "metadata": {},
   "outputs": [],
   "source": [
    "outer_merged3.to_csv('../01.Data_Collection/films.csv', index=False)"
   ]
  }
 ],
 "metadata": {
  "kernelspec": {
   "display_name": "Python 3",
   "language": "python",
   "name": "python3"
  },
  "language_info": {
   "codemirror_mode": {
    "name": "ipython",
    "version": 3
   },
   "file_extension": ".py",
   "mimetype": "text/x-python",
   "name": "python",
   "nbconvert_exporter": "python",
   "pygments_lexer": "ipython3",
   "version": "3.7.3"
  }
 },
 "nbformat": 4,
 "nbformat_minor": 2
}
