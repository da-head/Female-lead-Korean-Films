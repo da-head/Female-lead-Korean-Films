{
 "cells": [
  {
   "cell_type": "markdown",
   "metadata": {},
   "source": [
    "# 'actor_code.csv' 파일의 결측치 채우기"
   ]
  },
  {
   "cell_type": "code",
   "execution_count": 2,
   "metadata": {},
   "outputs": [],
   "source": [
    "import pandas as pd"
   ]
  },
  {
   "cell_type": "code",
   "execution_count": 3,
   "metadata": {},
   "outputs": [],
   "source": [
    "actorcode = pd.read_csv('../01.Data_Collection/actor_code.csv')"
   ]
  },
  {
   "cell_type": "code",
   "execution_count": 4,
   "metadata": {},
   "outputs": [
    {
     "data": {
      "text/html": [
       "<div>\n",
       "<style scoped>\n",
       "    .dataframe tbody tr th:only-of-type {\n",
       "        vertical-align: middle;\n",
       "    }\n",
       "\n",
       "    .dataframe tbody tr th {\n",
       "        vertical-align: top;\n",
       "    }\n",
       "\n",
       "    .dataframe thead th {\n",
       "        text-align: right;\n",
       "    }\n",
       "</style>\n",
       "<table border=\"1\" class=\"dataframe\">\n",
       "  <thead>\n",
       "    <tr style=\"text-align: right;\">\n",
       "      <th></th>\n",
       "      <th>filmoNames</th>\n",
       "      <th>movieNm</th>\n",
       "      <th>peopleCd</th>\n",
       "      <th>peopleNm</th>\n",
       "      <th>repRoleNm</th>\n",
       "    </tr>\n",
       "  </thead>\n",
       "  <tbody>\n",
       "    <tr>\n",
       "      <th>0</th>\n",
       "      <td>인질(가제)|다만 악에서 구하소서|공작|군함도|군함도 감독판|아수라|곡성|검사외전|...</td>\n",
       "      <td>베테랑</td>\n",
       "      <td>10090290</td>\n",
       "      <td>황정민</td>\n",
       "      <td>배우</td>\n",
       "    </tr>\n",
       "    <tr>\n",
       "      <th>1</th>\n",
       "      <td>소리도 없이|국가부도의 날|버닝|좋아해줘|사도|베테랑|우아한 거짓말|우리별 일호와 ...</td>\n",
       "      <td>베테랑</td>\n",
       "      <td>10053802</td>\n",
       "      <td>유아인</td>\n",
       "      <td>배우</td>\n",
       "    </tr>\n",
       "    <tr>\n",
       "      <th>2</th>\n",
       "      <td>봉오동 전투|승리호(가제)|말모이|완벽한 타인|레슬러|1987|택시운전사|공조|럭키...</td>\n",
       "      <td>베테랑</td>\n",
       "      <td>10054128</td>\n",
       "      <td>유해진</td>\n",
       "      <td>배우</td>\n",
       "    </tr>\n",
       "    <tr>\n",
       "      <th>3</th>\n",
       "      <td>이웃 사촌|조선명탐정: 흡혈괴마의 비밀|신과함께-죄와 벌|니 부모 얼굴이 보고 싶다...</td>\n",
       "      <td>베테랑</td>\n",
       "      <td>10050151</td>\n",
       "      <td>오달수</td>\n",
       "      <td>배우</td>\n",
       "    </tr>\n",
       "    <tr>\n",
       "      <th>4</th>\n",
       "      <td>베테랑</td>\n",
       "      <td>베테랑</td>\n",
       "      <td>20211726</td>\n",
       "      <td>장윤주</td>\n",
       "      <td>배우</td>\n",
       "    </tr>\n",
       "  </tbody>\n",
       "</table>\n",
       "</div>"
      ],
      "text/plain": [
       "                                          filmoNames movieNm  peopleCd  \\\n",
       "0  인질(가제)|다만 악에서 구하소서|공작|군함도|군함도 감독판|아수라|곡성|검사외전|...     베테랑  10090290   \n",
       "1  소리도 없이|국가부도의 날|버닝|좋아해줘|사도|베테랑|우아한 거짓말|우리별 일호와 ...     베테랑  10053802   \n",
       "2  봉오동 전투|승리호(가제)|말모이|완벽한 타인|레슬러|1987|택시운전사|공조|럭키...     베테랑  10054128   \n",
       "3  이웃 사촌|조선명탐정: 흡혈괴마의 비밀|신과함께-죄와 벌|니 부모 얼굴이 보고 싶다...     베테랑  10050151   \n",
       "4                                                베테랑     베테랑  20211726   \n",
       "\n",
       "  peopleNm repRoleNm  \n",
       "0      황정민        배우  \n",
       "1      유아인        배우  \n",
       "2      유해진        배우  \n",
       "3      오달수        배우  \n",
       "4      장윤주        배우  "
      ]
     },
     "execution_count": 4,
     "metadata": {},
     "output_type": "execute_result"
    }
   ],
   "source": [
    "actorcode.head()"
   ]
  },
  {
   "cell_type": "code",
   "execution_count": 5,
   "metadata": {},
   "outputs": [
    {
     "data": {
      "text/plain": [
       "filmoNames    1\n",
       "movieNm       0\n",
       "peopleCd      0\n",
       "peopleNm      0\n",
       "repRoleNm     5\n",
       "dtype: int64"
      ]
     },
     "execution_count": 5,
     "metadata": {},
     "output_type": "execute_result"
    }
   ],
   "source": [
    "actorcode.isnull().sum()"
   ]
  },
  {
   "cell_type": "markdown",
   "metadata": {},
   "source": [
    "## 'repRoleNm' 컬럼 (역할)"
   ]
  },
  {
   "cell_type": "code",
   "execution_count": 7,
   "metadata": {},
   "outputs": [
    {
     "data": {
      "text/plain": [
       "array(['배우', '촬영팀', '액션/스턴트코디네이터', '액션/스턴트', '액션/스턴트팀', '그립', 'VFX 아티스트',\n",
       "       '의상팀', '프로듀서', '연출팀', '스토리보드', '제작팀', '원작', '조명팀', '사운드디자이너',\n",
       "       '특수효과', '미술팀', '소품팀', '조감독', '홍보/마케팅 진행', '제작', '헤어', '라인프로듀서',\n",
       "       '메이킹필름', '감독', '온라인마케팅', '동시녹음팀', '조명', '음악', '스틸', 'VFX 매니지먼트',\n",
       "       '아트디렉터', '촬영', '각색', '현장편집', '붐오퍼레이터', '의상', 'VFX 슈퍼바이저', 'DI팀',\n",
       "       '시나리오(각본)', '사운드팀', '제작회계', '동시녹음', '케이블맨', '미술/프로덕션 디자인', '광고디자인',\n",
       "       nan, '광고대행', '예고편', '제작관리', '캐스팅', '특수분장', '데이타매니저', '스크립터',\n",
       "       '애니메이션팀', '발전차', '광고동영상', '사운드효과', '작사/작곡/편곡', '분장', '폴리', '기타',\n",
       "       '운송', '기획', '분장팀', '특수촬영', '사운드', '기획진행', '편집', '대사', '음악진행',\n",
       "       '애니메이션촬영팀', '캐스팅디렉터', '포스터사진', '소품', '분장차', '세트팀', '편집팀', '특수효과팀',\n",
       "       '촬영장비', '카메라오퍼레이터', '식당차', '헤어팀', '조명장비'], dtype=object)"
      ]
     },
     "execution_count": 7,
     "metadata": {},
     "output_type": "execute_result"
    }
   ],
   "source": [
    "actorcode['repRoleNm'].unique()"
   ]
  },
  {
   "cell_type": "code",
   "execution_count": 6,
   "metadata": {},
   "outputs": [
    {
     "data": {
      "text/html": [
       "<div>\n",
       "<style scoped>\n",
       "    .dataframe tbody tr th:only-of-type {\n",
       "        vertical-align: middle;\n",
       "    }\n",
       "\n",
       "    .dataframe tbody tr th {\n",
       "        vertical-align: top;\n",
       "    }\n",
       "\n",
       "    .dataframe thead th {\n",
       "        text-align: right;\n",
       "    }\n",
       "</style>\n",
       "<table border=\"1\" class=\"dataframe\">\n",
       "  <thead>\n",
       "    <tr style=\"text-align: right;\">\n",
       "      <th></th>\n",
       "      <th>filmoNames</th>\n",
       "      <th>movieNm</th>\n",
       "      <th>peopleCd</th>\n",
       "      <th>peopleNm</th>\n",
       "      <th>repRoleNm</th>\n",
       "    </tr>\n",
       "  </thead>\n",
       "  <tbody>\n",
       "    <tr>\n",
       "      <th>1322</th>\n",
       "      <td>다이노 타임|빌리와 용감한 녀석들 2 |주먹왕 랄프|바보 삼총사</td>\n",
       "      <td>다이노 타임</td>\n",
       "      <td>10063852</td>\n",
       "      <td>제인 린치</td>\n",
       "      <td>NaN</td>\n",
       "    </tr>\n",
       "    <tr>\n",
       "      <th>1631</th>\n",
       "      <td>기적의 피아노</td>\n",
       "      <td>기적의 피아노</td>\n",
       "      <td>20214267</td>\n",
       "      <td>박정순</td>\n",
       "      <td>NaN</td>\n",
       "    </tr>\n",
       "    <tr>\n",
       "      <th>2530</th>\n",
       "      <td>인천상륙작전 : 익스텐디드 에디션(확장판)|인천상륙작전</td>\n",
       "      <td>인천상륙작전</td>\n",
       "      <td>20222146</td>\n",
       "      <td>추성훈</td>\n",
       "      <td>NaN</td>\n",
       "    </tr>\n",
       "    <tr>\n",
       "      <th>7194</th>\n",
       "      <td>참외향기|파도 여인 그리고 탱고 무삭제판|파도 여인 그리고 탱고|탱고</td>\n",
       "      <td>참외향기</td>\n",
       "      <td>10030395</td>\n",
       "      <td>백학기</td>\n",
       "      <td>NaN</td>\n",
       "    </tr>\n",
       "    <tr>\n",
       "      <th>9577</th>\n",
       "      <td>굿바이 썸머</td>\n",
       "      <td>굿바이 썸머</td>\n",
       "      <td>20323372</td>\n",
       "      <td>정제원</td>\n",
       "      <td>NaN</td>\n",
       "    </tr>\n",
       "  </tbody>\n",
       "</table>\n",
       "</div>"
      ],
      "text/plain": [
       "                                  filmoNames  movieNm  peopleCd peopleNm  \\\n",
       "1322     다이노 타임|빌리와 용감한 녀석들 2 |주먹왕 랄프|바보 삼총사   다이노 타임  10063852    제인 린치   \n",
       "1631                                 기적의 피아노  기적의 피아노  20214267      박정순   \n",
       "2530          인천상륙작전 : 익스텐디드 에디션(확장판)|인천상륙작전   인천상륙작전  20222146      추성훈   \n",
       "7194  참외향기|파도 여인 그리고 탱고 무삭제판|파도 여인 그리고 탱고|탱고     참외향기  10030395      백학기   \n",
       "9577                                  굿바이 썸머   굿바이 썸머  20323372      정제원   \n",
       "\n",
       "     repRoleNm  \n",
       "1322       NaN  \n",
       "1631       NaN  \n",
       "2530       NaN  \n",
       "7194       NaN  \n",
       "9577       NaN  "
      ]
     },
     "execution_count": 6,
     "metadata": {},
     "output_type": "execute_result"
    }
   ],
   "source": [
    "actorcode[actorcode['repRoleNm'].isnull()]"
   ]
  },
  {
   "cell_type": "code",
   "execution_count": 9,
   "metadata": {},
   "outputs": [],
   "source": [
    "actorcode.iloc[1322, 4] = '배우'\n",
    "actorcode.iloc[1631, 4] = '배우'\n",
    "actorcode.iloc[2530, 4] = '배우'\n",
    "actorcode.iloc[7194, 4] = '배우'\n",
    "actorcode.iloc[9577, 4] = '배우'"
   ]
  },
  {
   "cell_type": "markdown",
   "metadata": {},
   "source": [
    "## 'filmoNames' 컬럼 (필모그래피)"
   ]
  },
  {
   "cell_type": "code",
   "execution_count": 16,
   "metadata": {},
   "outputs": [
    {
     "data": {
      "text/html": [
       "<div>\n",
       "<style scoped>\n",
       "    .dataframe tbody tr th:only-of-type {\n",
       "        vertical-align: middle;\n",
       "    }\n",
       "\n",
       "    .dataframe tbody tr th {\n",
       "        vertical-align: top;\n",
       "    }\n",
       "\n",
       "    .dataframe thead th {\n",
       "        text-align: right;\n",
       "    }\n",
       "</style>\n",
       "<table border=\"1\" class=\"dataframe\">\n",
       "  <thead>\n",
       "    <tr style=\"text-align: right;\">\n",
       "      <th></th>\n",
       "      <th>filmoNames</th>\n",
       "      <th>movieNm</th>\n",
       "      <th>peopleCd</th>\n",
       "      <th>peopleNm</th>\n",
       "      <th>repRoleNm</th>\n",
       "    </tr>\n",
       "  </thead>\n",
       "  <tbody>\n",
       "    <tr>\n",
       "      <th>4898</th>\n",
       "      <td>NaN</td>\n",
       "      <td>더 테이블</td>\n",
       "      <td>20152310</td>\n",
       "      <td>이재훈</td>\n",
       "      <td>DI팀</td>\n",
       "    </tr>\n",
       "  </tbody>\n",
       "</table>\n",
       "</div>"
      ],
      "text/plain": [
       "     filmoNames movieNm  peopleCd peopleNm repRoleNm\n",
       "4898        NaN   더 테이블  20152310      이재훈       DI팀"
      ]
     },
     "execution_count": 16,
     "metadata": {},
     "output_type": "execute_result"
    }
   ],
   "source": [
    "actorcode[actorcode['filmoNames'].isnull()]"
   ]
  },
  {
   "cell_type": "code",
   "execution_count": 19,
   "metadata": {},
   "outputs": [],
   "source": [
    "actorcode['filmoNames'] = actorcode['filmoNames'].fillna('더 테이블')"
   ]
  },
  {
   "cell_type": "code",
   "execution_count": 21,
   "metadata": {},
   "outputs": [
    {
     "data": {
      "text/plain": [
       "filmoNames    0\n",
       "movieNm       0\n",
       "peopleCd      0\n",
       "peopleNm      0\n",
       "repRoleNm     0\n",
       "dtype: int64"
      ]
     },
     "execution_count": 21,
     "metadata": {},
     "output_type": "execute_result"
    }
   ],
   "source": [
    "actorcode.isnull().sum()"
   ]
  },
  {
   "cell_type": "code",
   "execution_count": 22,
   "metadata": {},
   "outputs": [],
   "source": [
    "actorcode.to_csv('../01.Data_Collection/actor_code.csv')"
   ]
  },
  {
   "cell_type": "code",
   "execution_count": null,
   "metadata": {},
   "outputs": [],
   "source": []
  }
 ],
 "metadata": {
  "kernelspec": {
   "display_name": "Python 3",
   "language": "python",
   "name": "python3"
  },
  "language_info": {
   "codemirror_mode": {
    "name": "ipython",
    "version": 3
   },
   "file_extension": ".py",
   "mimetype": "text/x-python",
   "name": "python",
   "nbconvert_exporter": "python",
   "pygments_lexer": "ipython3",
   "version": "3.7.3"
  }
 },
 "nbformat": 4,
 "nbformat_minor": 2
}
