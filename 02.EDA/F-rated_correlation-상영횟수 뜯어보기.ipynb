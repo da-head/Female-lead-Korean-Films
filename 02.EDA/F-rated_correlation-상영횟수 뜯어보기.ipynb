{
 "cells": [
  {
   "cell_type": "code",
   "execution_count": 1,
   "metadata": {},
   "outputs": [],
   "source": [
    "import pandas as pd\n",
    "import numpy as np\n",
    "import matplotlib\n",
    "import matplotlib.pyplot as plt\n",
    "import seaborn as sns\n",
    "\n",
    "%matplotlib inline"
   ]
  },
  {
   "cell_type": "code",
   "execution_count": 2,
   "metadata": {},
   "outputs": [],
   "source": [
    "pd.set_option('display.max_columns', None)"
   ]
  },
  {
   "cell_type": "code",
   "execution_count": 3,
   "metadata": {},
   "outputs": [],
   "source": [
    "# plot 한글출력\n",
    "plt.rcParams['font.family'] = 'NanumGothic'"
   ]
  },
  {
   "cell_type": "code",
   "execution_count": 4,
   "metadata": {},
   "outputs": [],
   "source": [
    "# warning message 제거\n",
    "import warnings\n",
    "warnings.filterwarnings('ignore')"
   ]
  },
  {
   "cell_type": "code",
   "execution_count": 5,
   "metadata": {},
   "outputs": [
    {
     "name": "stdout",
     "output_type": "stream",
     "text": [
      "(839, 34)\n"
     ]
    },
    {
     "data": {
      "text/html": [
       "<div>\n",
       "<style scoped>\n",
       "    .dataframe tbody tr th:only-of-type {\n",
       "        vertical-align: middle;\n",
       "    }\n",
       "\n",
       "    .dataframe tbody tr th {\n",
       "        vertical-align: top;\n",
       "    }\n",
       "\n",
       "    .dataframe thead th {\n",
       "        text-align: right;\n",
       "    }\n",
       "</style>\n",
       "<table border=\"1\" class=\"dataframe\">\n",
       "  <thead>\n",
       "    <tr style=\"text-align: right;\">\n",
       "      <th></th>\n",
       "      <th>순위</th>\n",
       "      <th>영화명</th>\n",
       "      <th>개봉일</th>\n",
       "      <th>매출액</th>\n",
       "      <th>매출액점유율</th>\n",
       "      <th>누적매출액</th>\n",
       "      <th>관객수</th>\n",
       "      <th>누적관객수</th>\n",
       "      <th>스크린수</th>\n",
       "      <th>상영횟수</th>\n",
       "      <th>대표국적</th>\n",
       "      <th>국적</th>\n",
       "      <th>제작사</th>\n",
       "      <th>배급사</th>\n",
       "      <th>등급</th>\n",
       "      <th>장르</th>\n",
       "      <th>감독</th>\n",
       "      <th>배우</th>\n",
       "      <th>배역명</th>\n",
       "      <th>영화코드</th>\n",
       "      <th>배우코드</th>\n",
       "      <th>주연배우</th>\n",
       "      <th>역할_배우</th>\n",
       "      <th>배우성별</th>\n",
       "      <th>작가</th>\n",
       "      <th>작가코드</th>\n",
       "      <th>대표작가</th>\n",
       "      <th>역할_시나리오(각본)</th>\n",
       "      <th>작가성별</th>\n",
       "      <th>F-rated</th>\n",
       "      <th>감독코드</th>\n",
       "      <th>대표감독</th>\n",
       "      <th>역할_감독</th>\n",
       "      <th>감독성별</th>\n",
       "    </tr>\n",
       "  </thead>\n",
       "  <tbody>\n",
       "    <tr>\n",
       "      <th>411</th>\n",
       "      <td>126.0</td>\n",
       "      <td>파밍 보이즈</td>\n",
       "      <td>2017.7.13</td>\n",
       "      <td>20,671,200</td>\n",
       "      <td>0.0%</td>\n",
       "      <td>20,671,200</td>\n",
       "      <td>3,056</td>\n",
       "      <td>3,056</td>\n",
       "      <td>24</td>\n",
       "      <td>330</td>\n",
       "      <td>한국</td>\n",
       "      <td>한국</td>\n",
       "      <td>(주)콘텐츠나무</td>\n",
       "      <td>(주)영화사 진진</td>\n",
       "      <td>전체관람가</td>\n",
       "      <td>다큐멘터리</td>\n",
       "      <td>장세정,변시연,강호준</td>\n",
       "      <td>권두현,김하석,유지황,박준하,유지은,유지황,이민욱,이수현,이인호,이주환</td>\n",
       "      <td>NaN</td>\n",
       "      <td>20160746.0</td>\n",
       "      <td>20291255.0</td>\n",
       "      <td>권두현</td>\n",
       "      <td>배우</td>\n",
       "      <td>남자</td>\n",
       "      <td>NaN</td>\n",
       "      <td>NaN</td>\n",
       "      <td>NaN</td>\n",
       "      <td>NaN</td>\n",
       "      <td>NaN</td>\n",
       "      <td>1</td>\n",
       "      <td>20189617.0</td>\n",
       "      <td>변시연</td>\n",
       "      <td>감독</td>\n",
       "      <td>여자</td>\n",
       "    </tr>\n",
       "  </tbody>\n",
       "</table>\n",
       "</div>"
      ],
      "text/plain": [
       "        순위     영화명        개봉일         매출액 매출액점유율       누적매출액    관객수  누적관객수  \\\n",
       "411  126.0  파밍 보이즈  2017.7.13  20,671,200   0.0%  20,671,200  3,056  3,056   \n",
       "\n",
       "    스크린수 상영횟수 대표국적  국적       제작사        배급사     등급     장르           감독  \\\n",
       "411   24  330   한국  한국  (주)콘텐츠나무  (주)영화사 진진  전체관람가  다큐멘터리  장세정,변시연,강호준   \n",
       "\n",
       "                                          배우  배역명        영화코드        배우코드  \\\n",
       "411  권두현,김하석,유지황,박준하,유지은,유지황,이민욱,이수현,이인호,이주환  NaN  20160746.0  20291255.0   \n",
       "\n",
       "    주연배우 역할_배우 배우성별   작가  작가코드 대표작가 역할_시나리오(각본) 작가성별  F-rated        감독코드  \\\n",
       "411  권두현    배우   남자  NaN   NaN  NaN         NaN  NaN        1  20189617.0   \n",
       "\n",
       "    대표감독 역할_감독 감독성별  \n",
       "411  변시연    감독   여자  "
      ]
     },
     "execution_count": 5,
     "metadata": {},
     "output_type": "execute_result"
    }
   ],
   "source": [
    "df = pd.read_csv('../01.Data_Collection/films.csv')\n",
    "\n",
    "print(df.shape)\n",
    "df.sample()"
   ]
  },
  {
   "cell_type": "code",
   "execution_count": 6,
   "metadata": {},
   "outputs": [
    {
     "data": {
      "text/plain": [
       "순위             float64\n",
       "영화명             object\n",
       "개봉일             object\n",
       "매출액             object\n",
       "매출액점유율          object\n",
       "누적매출액           object\n",
       "관객수             object\n",
       "누적관객수           object\n",
       "스크린수            object\n",
       "상영횟수            object\n",
       "대표국적            object\n",
       "국적              object\n",
       "제작사             object\n",
       "배급사             object\n",
       "등급              object\n",
       "장르              object\n",
       "감독              object\n",
       "배우              object\n",
       "배역명             object\n",
       "영화코드            object\n",
       "배우코드           float64\n",
       "주연배우            object\n",
       "역할_배우           object\n",
       "배우성별            object\n",
       "작가              object\n",
       "작가코드           float64\n",
       "대표작가            object\n",
       "역할_시나리오(각본)     object\n",
       "작가성별            object\n",
       "F-rated          int64\n",
       "감독코드           float64\n",
       "대표감독            object\n",
       "역할_감독           object\n",
       "감독성별            object\n",
       "dtype: object"
      ]
     },
     "execution_count": 6,
     "metadata": {},
     "output_type": "execute_result"
    }
   ],
   "source": [
    "df.dtypes"
   ]
  },
  {
   "cell_type": "code",
   "execution_count": 7,
   "metadata": {},
   "outputs": [
    {
     "name": "stdout",
     "output_type": "stream",
     "text": [
      "영화명        0\n",
      "영화코드       0\n",
      "개봉일        0\n",
      "매출액        0\n",
      "매출액점유율     0\n",
      "누적매출액      0\n",
      "관객수        0\n",
      "누적관객수      0\n",
      "스크린수       0\n",
      "상영횟수       0\n",
      "F-rated    0\n",
      "dtype: int64\n",
      "(808, 11)\n"
     ]
    },
    {
     "data": {
      "text/html": [
       "<div>\n",
       "<style scoped>\n",
       "    .dataframe tbody tr th:only-of-type {\n",
       "        vertical-align: middle;\n",
       "    }\n",
       "\n",
       "    .dataframe tbody tr th {\n",
       "        vertical-align: top;\n",
       "    }\n",
       "\n",
       "    .dataframe thead th {\n",
       "        text-align: right;\n",
       "    }\n",
       "</style>\n",
       "<table border=\"1\" class=\"dataframe\">\n",
       "  <thead>\n",
       "    <tr style=\"text-align: right;\">\n",
       "      <th></th>\n",
       "      <th>영화명</th>\n",
       "      <th>영화코드</th>\n",
       "      <th>개봉일</th>\n",
       "      <th>매출액</th>\n",
       "      <th>매출액점유율</th>\n",
       "      <th>누적매출액</th>\n",
       "      <th>관객수</th>\n",
       "      <th>누적관객수</th>\n",
       "      <th>스크린수</th>\n",
       "      <th>상영횟수</th>\n",
       "      <th>F-rated</th>\n",
       "    </tr>\n",
       "  </thead>\n",
       "  <tbody>\n",
       "    <tr>\n",
       "      <th>681</th>\n",
       "      <td>증인</td>\n",
       "      <td>20185881.0</td>\n",
       "      <td>2019.2.13</td>\n",
       "      <td>20,477,862,331</td>\n",
       "      <td>2.6%</td>\n",
       "      <td>20,477,862,331</td>\n",
       "      <td>2,534,175</td>\n",
       "      <td>2,534,175</td>\n",
       "      <td>1,047</td>\n",
       "      <td>89,557</td>\n",
       "      <td>0</td>\n",
       "    </tr>\n",
       "  </tbody>\n",
       "</table>\n",
       "</div>"
      ],
      "text/plain": [
       "    영화명        영화코드        개봉일             매출액 매출액점유율           누적매출액  \\\n",
       "681  증인  20185881.0  2019.2.13  20,477,862,331   2.6%  20,477,862,331   \n",
       "\n",
       "           관객수      누적관객수   스크린수    상영횟수  F-rated  \n",
       "681  2,534,175  2,534,175  1,047  89,557        0  "
      ]
     },
     "execution_count": 7,
     "metadata": {},
     "output_type": "execute_result"
    }
   ],
   "source": [
    "# corr 보기 위해 숫자로 표현된 컬럼만 남기기 + 식별을 위해 영화명, 영화코드 포함\n",
    "df_in_digit = df[['영화명', '영화코드', '개봉일', '매출액', '매출액점유율', '누적매출액', '관객수', '누적관객수', '스크린수', '상영횟수', 'F-rated']]\n",
    "df_in_digit = df_in_digit[df_in_digit['개봉일'].notnull()]\n",
    "print(df_in_digit.isnull().sum())\n",
    "print(df_in_digit.shape)\n",
    "df_in_digit.sample()"
   ]
  },
  {
   "cell_type": "code",
   "execution_count": 8,
   "metadata": {},
   "outputs": [
    {
     "name": "stdout",
     "output_type": "stream",
     "text": [
      "매출액\n",
      "object\n",
      "매출액점유율\n",
      "object\n",
      "누적매출액\n",
      "object\n",
      "관객수\n",
      "object\n",
      "누적관객수\n",
      "object\n",
      "스크린수\n",
      "object\n",
      "상영횟수\n",
      "object\n"
     ]
    },
    {
     "data": {
      "text/plain": [
       "영화명         object\n",
       "영화코드        object\n",
       "개봉일         object\n",
       "매출액          int64\n",
       "매출액점유율     float64\n",
       "누적매출액        int64\n",
       "관객수          int64\n",
       "누적관객수        int64\n",
       "스크린수         int64\n",
       "상영횟수         int64\n",
       "F-rated      int64\n",
       "dtype: object"
      ]
     },
     "execution_count": 8,
     "metadata": {},
     "output_type": "execute_result"
    }
   ],
   "source": [
    "# 컬럼 dtype 변경\n",
    "# 매출액, 매출액점유율, 누적매출액, 관객수, 누적관객수, 스크린수, 상영횟수 -> int\n",
    "columns = ['매출액', '매출액점유율', '누적매출액', '관객수', '누적관객수', '스크린수', '상영횟수']\n",
    "\n",
    "for c in columns:\n",
    "    print(c)\n",
    "    print(df_in_digit[c].dtype)\n",
    "    if c == '매출액점유율': df_in_digit[c] = df_in_digit[c].apply(lambda x: float(x.replace('%','')))\n",
    "    else:\n",
    "        df_in_digit[c] = df_in_digit[c].apply(lambda x: int(x.replace(',', '').replace('%','')))\n",
    "    \n",
    "df_in_digit.dtypes"
   ]
  },
  {
   "cell_type": "code",
   "execution_count": 9,
   "metadata": {},
   "outputs": [],
   "source": [
    "df_in_digit['개봉일'] = pd.to_datetime(df_in_digit['개봉일'])\n",
    "df_in_digit['year'] = pd.to_datetime(df_in_digit['개봉일']).dt.year\n",
    "df_in_digit['month'] = pd.to_datetime(df_in_digit['개봉일']).dt.month\n",
    "df_in_digit['day'] = pd.to_datetime(df_in_digit['개봉일']).dt.day\n",
    "df_in_digit['dayofweek'] = pd.to_datetime(df_in_digit['개봉일']).dt.dayofweek"
   ]
  },
  {
   "cell_type": "code",
   "execution_count": 10,
   "metadata": {},
   "outputs": [
    {
     "data": {
      "text/html": [
       "<div>\n",
       "<style scoped>\n",
       "    .dataframe tbody tr th:only-of-type {\n",
       "        vertical-align: middle;\n",
       "    }\n",
       "\n",
       "    .dataframe tbody tr th {\n",
       "        vertical-align: top;\n",
       "    }\n",
       "\n",
       "    .dataframe thead th {\n",
       "        text-align: right;\n",
       "    }\n",
       "</style>\n",
       "<table border=\"1\" class=\"dataframe\">\n",
       "  <thead>\n",
       "    <tr style=\"text-align: right;\">\n",
       "      <th></th>\n",
       "      <th>매출액</th>\n",
       "      <th>매출액점유율</th>\n",
       "      <th>누적매출액</th>\n",
       "      <th>관객수</th>\n",
       "      <th>누적관객수</th>\n",
       "      <th>스크린수</th>\n",
       "      <th>상영횟수</th>\n",
       "      <th>F-rated</th>\n",
       "      <th>year</th>\n",
       "      <th>month</th>\n",
       "      <th>day</th>\n",
       "      <th>dayofweek</th>\n",
       "    </tr>\n",
       "  </thead>\n",
       "  <tbody>\n",
       "    <tr>\n",
       "      <th>매출액</th>\n",
       "      <td>1.000000</td>\n",
       "      <td>0.997869</td>\n",
       "      <td>1.000000</td>\n",
       "      <td>0.999190</td>\n",
       "      <td>0.999192</td>\n",
       "      <td>0.776339</td>\n",
       "      <td>0.944985</td>\n",
       "      <td>-0.117557</td>\n",
       "      <td>0.013476</td>\n",
       "      <td>0.015759</td>\n",
       "      <td>-0.029194</td>\n",
       "      <td>-0.286490</td>\n",
       "    </tr>\n",
       "    <tr>\n",
       "      <th>매출액점유율</th>\n",
       "      <td>0.997869</td>\n",
       "      <td>1.000000</td>\n",
       "      <td>0.997875</td>\n",
       "      <td>0.995656</td>\n",
       "      <td>0.995667</td>\n",
       "      <td>0.772840</td>\n",
       "      <td>0.945209</td>\n",
       "      <td>-0.117623</td>\n",
       "      <td>0.025950</td>\n",
       "      <td>0.010284</td>\n",
       "      <td>-0.024255</td>\n",
       "      <td>-0.283503</td>\n",
       "    </tr>\n",
       "    <tr>\n",
       "      <th>누적매출액</th>\n",
       "      <td>1.000000</td>\n",
       "      <td>0.997875</td>\n",
       "      <td>1.000000</td>\n",
       "      <td>0.999187</td>\n",
       "      <td>0.999190</td>\n",
       "      <td>0.776384</td>\n",
       "      <td>0.945012</td>\n",
       "      <td>-0.117526</td>\n",
       "      <td>0.013537</td>\n",
       "      <td>0.015649</td>\n",
       "      <td>-0.029256</td>\n",
       "      <td>-0.286543</td>\n",
       "    </tr>\n",
       "    <tr>\n",
       "      <th>관객수</th>\n",
       "      <td>0.999190</td>\n",
       "      <td>0.995656</td>\n",
       "      <td>0.999187</td>\n",
       "      <td>1.000000</td>\n",
       "      <td>0.999999</td>\n",
       "      <td>0.775784</td>\n",
       "      <td>0.942876</td>\n",
       "      <td>-0.117042</td>\n",
       "      <td>0.003467</td>\n",
       "      <td>0.017222</td>\n",
       "      <td>-0.028603</td>\n",
       "      <td>-0.286909</td>\n",
       "    </tr>\n",
       "    <tr>\n",
       "      <th>누적관객수</th>\n",
       "      <td>0.999192</td>\n",
       "      <td>0.995667</td>\n",
       "      <td>0.999190</td>\n",
       "      <td>0.999999</td>\n",
       "      <td>1.000000</td>\n",
       "      <td>0.775841</td>\n",
       "      <td>0.942915</td>\n",
       "      <td>-0.116990</td>\n",
       "      <td>0.003546</td>\n",
       "      <td>0.017092</td>\n",
       "      <td>-0.028675</td>\n",
       "      <td>-0.286970</td>\n",
       "    </tr>\n",
       "    <tr>\n",
       "      <th>스크린수</th>\n",
       "      <td>0.776339</td>\n",
       "      <td>0.772840</td>\n",
       "      <td>0.776384</td>\n",
       "      <td>0.775784</td>\n",
       "      <td>0.775841</td>\n",
       "      <td>1.000000</td>\n",
       "      <td>0.876827</td>\n",
       "      <td>-0.121113</td>\n",
       "      <td>0.130484</td>\n",
       "      <td>-0.011587</td>\n",
       "      <td>-0.002000</td>\n",
       "      <td>-0.447734</td>\n",
       "    </tr>\n",
       "    <tr>\n",
       "      <th>상영횟수</th>\n",
       "      <td>0.944985</td>\n",
       "      <td>0.945209</td>\n",
       "      <td>0.945012</td>\n",
       "      <td>0.942876</td>\n",
       "      <td>0.942915</td>\n",
       "      <td>0.876827</td>\n",
       "      <td>1.000000</td>\n",
       "      <td>-0.113023</td>\n",
       "      <td>0.048943</td>\n",
       "      <td>-0.014570</td>\n",
       "      <td>-0.020723</td>\n",
       "      <td>-0.347923</td>\n",
       "    </tr>\n",
       "    <tr>\n",
       "      <th>F-rated</th>\n",
       "      <td>-0.117557</td>\n",
       "      <td>-0.117623</td>\n",
       "      <td>-0.117526</td>\n",
       "      <td>-0.117042</td>\n",
       "      <td>-0.116990</td>\n",
       "      <td>-0.121113</td>\n",
       "      <td>-0.113023</td>\n",
       "      <td>1.000000</td>\n",
       "      <td>0.047348</td>\n",
       "      <td>-0.006891</td>\n",
       "      <td>0.002593</td>\n",
       "      <td>0.054074</td>\n",
       "    </tr>\n",
       "    <tr>\n",
       "      <th>year</th>\n",
       "      <td>0.013476</td>\n",
       "      <td>0.025950</td>\n",
       "      <td>0.013537</td>\n",
       "      <td>0.003467</td>\n",
       "      <td>0.003546</td>\n",
       "      <td>0.130484</td>\n",
       "      <td>0.048943</td>\n",
       "      <td>0.047348</td>\n",
       "      <td>1.000000</td>\n",
       "      <td>-0.126272</td>\n",
       "      <td>0.030652</td>\n",
       "      <td>-0.158594</td>\n",
       "    </tr>\n",
       "    <tr>\n",
       "      <th>month</th>\n",
       "      <td>0.015759</td>\n",
       "      <td>0.010284</td>\n",
       "      <td>0.015649</td>\n",
       "      <td>0.017222</td>\n",
       "      <td>0.017092</td>\n",
       "      <td>-0.011587</td>\n",
       "      <td>-0.014570</td>\n",
       "      <td>-0.006891</td>\n",
       "      <td>-0.126272</td>\n",
       "      <td>1.000000</td>\n",
       "      <td>-0.055615</td>\n",
       "      <td>0.058097</td>\n",
       "    </tr>\n",
       "    <tr>\n",
       "      <th>day</th>\n",
       "      <td>-0.029194</td>\n",
       "      <td>-0.024255</td>\n",
       "      <td>-0.029256</td>\n",
       "      <td>-0.028603</td>\n",
       "      <td>-0.028675</td>\n",
       "      <td>-0.002000</td>\n",
       "      <td>-0.020723</td>\n",
       "      <td>0.002593</td>\n",
       "      <td>0.030652</td>\n",
       "      <td>-0.055615</td>\n",
       "      <td>1.000000</td>\n",
       "      <td>-0.049931</td>\n",
       "    </tr>\n",
       "    <tr>\n",
       "      <th>dayofweek</th>\n",
       "      <td>-0.286490</td>\n",
       "      <td>-0.283503</td>\n",
       "      <td>-0.286543</td>\n",
       "      <td>-0.286909</td>\n",
       "      <td>-0.286970</td>\n",
       "      <td>-0.447734</td>\n",
       "      <td>-0.347923</td>\n",
       "      <td>0.054074</td>\n",
       "      <td>-0.158594</td>\n",
       "      <td>0.058097</td>\n",
       "      <td>-0.049931</td>\n",
       "      <td>1.000000</td>\n",
       "    </tr>\n",
       "  </tbody>\n",
       "</table>\n",
       "</div>"
      ],
      "text/plain": [
       "                매출액    매출액점유율     누적매출액       관객수     누적관객수      스크린수  \\\n",
       "매출액        1.000000  0.997869  1.000000  0.999190  0.999192  0.776339   \n",
       "매출액점유율     0.997869  1.000000  0.997875  0.995656  0.995667  0.772840   \n",
       "누적매출액      1.000000  0.997875  1.000000  0.999187  0.999190  0.776384   \n",
       "관객수        0.999190  0.995656  0.999187  1.000000  0.999999  0.775784   \n",
       "누적관객수      0.999192  0.995667  0.999190  0.999999  1.000000  0.775841   \n",
       "스크린수       0.776339  0.772840  0.776384  0.775784  0.775841  1.000000   \n",
       "상영횟수       0.944985  0.945209  0.945012  0.942876  0.942915  0.876827   \n",
       "F-rated   -0.117557 -0.117623 -0.117526 -0.117042 -0.116990 -0.121113   \n",
       "year       0.013476  0.025950  0.013537  0.003467  0.003546  0.130484   \n",
       "month      0.015759  0.010284  0.015649  0.017222  0.017092 -0.011587   \n",
       "day       -0.029194 -0.024255 -0.029256 -0.028603 -0.028675 -0.002000   \n",
       "dayofweek -0.286490 -0.283503 -0.286543 -0.286909 -0.286970 -0.447734   \n",
       "\n",
       "               상영횟수   F-rated      year     month       day  dayofweek  \n",
       "매출액        0.944985 -0.117557  0.013476  0.015759 -0.029194  -0.286490  \n",
       "매출액점유율     0.945209 -0.117623  0.025950  0.010284 -0.024255  -0.283503  \n",
       "누적매출액      0.945012 -0.117526  0.013537  0.015649 -0.029256  -0.286543  \n",
       "관객수        0.942876 -0.117042  0.003467  0.017222 -0.028603  -0.286909  \n",
       "누적관객수      0.942915 -0.116990  0.003546  0.017092 -0.028675  -0.286970  \n",
       "스크린수       0.876827 -0.121113  0.130484 -0.011587 -0.002000  -0.447734  \n",
       "상영횟수       1.000000 -0.113023  0.048943 -0.014570 -0.020723  -0.347923  \n",
       "F-rated   -0.113023  1.000000  0.047348 -0.006891  0.002593   0.054074  \n",
       "year       0.048943  0.047348  1.000000 -0.126272  0.030652  -0.158594  \n",
       "month     -0.014570 -0.006891 -0.126272  1.000000 -0.055615   0.058097  \n",
       "day       -0.020723  0.002593  0.030652 -0.055615  1.000000  -0.049931  \n",
       "dayofweek -0.347923  0.054074 -0.158594  0.058097 -0.049931   1.000000  "
      ]
     },
     "execution_count": 10,
     "metadata": {},
     "output_type": "execute_result"
    }
   ],
   "source": [
    "df_in_digit.corr()"
   ]
  },
  {
   "cell_type": "code",
   "execution_count": 11,
   "metadata": {},
   "outputs": [
    {
     "data": {
      "text/plain": [
       "<matplotlib.axes._subplots.AxesSubplot at 0x10d7dd5f4e0>"
      ]
     },
     "execution_count": 11,
     "metadata": {},
     "output_type": "execute_result"
    },
    {
     "data": {
      "image/png": "[encoded data removed]",
      "text/plain": [
       "<Figure size 720x720 with 2 Axes>"
      ]
     },
     "metadata": {
      "needs_background": "light"
     },
     "output_type": "display_data"
    }
   ],
   "source": [
    "plt.figure(figsize=[10, 10])\n",
    "sns.heatmap(df_in_digit.corr(), annot=True, fmt = '.2f', linewidths=0.2, cmap='coolwarm')"
   ]
  },
  {
   "cell_type": "markdown",
   "metadata": {},
   "source": [
    "### 상영횟수 분포"
   ]
  },
  {
   "cell_type": "code",
   "execution_count": 18,
   "metadata": {},
   "outputs": [
    {
     "data": {
      "text/plain": [
       "<matplotlib.axes._subplots.AxesSubplot at 0x10d00711cf8>"
      ]
     },
     "execution_count": 18,
     "metadata": {},
     "output_type": "execute_result"
    },
    {
     "data": {
      "image/png": "[encoded data removed]",
      "text/plain": [
       "<Figure size 432x288 with 1 Axes>"
      ]
     },
     "metadata": {
      "needs_background": "light"
     },
     "output_type": "display_data"
    }
   ],
   "source": [
    "df_in_digit['상영횟수'].hist(bins=50)"
   ]
  },
  {
   "cell_type": "code",
   "execution_count": 13,
   "metadata": {},
   "outputs": [
    {
     "data": {
      "text/plain": [
       "Index(['순위', '영화명', '개봉일', '매출액', '매출액점유율', '누적매출액', '관객수', '누적관객수', '스크린수',\n",
       "       '상영횟수', '대표국적', '국적', '제작사', '배급사', '등급', '장르', '감독', '배우', '배역명',\n",
       "       '영화코드', '배우코드', '주연배우', '역할_배우', '배우성별', '작가', '작가코드', '대표작가',\n",
       "       '역할_시나리오(각본)', '작가성별', 'F-rated', '감독코드', '대표감독', '역할_감독', '감독성별'],\n",
       "      dtype='object')"
      ]
     },
     "execution_count": 13,
     "metadata": {},
     "output_type": "execute_result"
    }
   ],
   "source": [
    "df.columns"
   ]
  },
  {
   "cell_type": "code",
   "execution_count": 14,
   "metadata": {},
   "outputs": [
    {
     "data": {
      "text/html": [
       "<div>\n",
       "<style scoped>\n",
       "    .dataframe tbody tr th:only-of-type {\n",
       "        vertical-align: middle;\n",
       "    }\n",
       "\n",
       "    .dataframe tbody tr th {\n",
       "        vertical-align: top;\n",
       "    }\n",
       "\n",
       "    .dataframe thead th {\n",
       "        text-align: right;\n",
       "    }\n",
       "</style>\n",
       "<table border=\"1\" class=\"dataframe\">\n",
       "  <thead>\n",
       "    <tr style=\"text-align: right;\">\n",
       "      <th></th>\n",
       "      <th>영화명</th>\n",
       "      <th>영화코드</th>\n",
       "      <th>개봉일</th>\n",
       "      <th>매출액</th>\n",
       "      <th>매출액점유율</th>\n",
       "      <th>누적매출액</th>\n",
       "      <th>관객수</th>\n",
       "      <th>누적관객수</th>\n",
       "      <th>스크린수</th>\n",
       "      <th>상영횟수</th>\n",
       "      <th>F-rated</th>\n",
       "      <th>year</th>\n",
       "      <th>month</th>\n",
       "      <th>day</th>\n",
       "      <th>dayofweek</th>\n",
       "      <th>상영횟수(log)</th>\n",
       "    </tr>\n",
       "  </thead>\n",
       "  <tbody>\n",
       "    <tr>\n",
       "      <th>232</th>\n",
       "      <td>짐작보다 따뜻하게</td>\n",
       "      <td>20158744.0</td>\n",
       "      <td>2016-05-19</td>\n",
       "      <td>7470500</td>\n",
       "      <td>0.0</td>\n",
       "      <td>7470500</td>\n",
       "      <td>1023</td>\n",
       "      <td>1023</td>\n",
       "      <td>6</td>\n",
       "      <td>182</td>\n",
       "      <td>1</td>\n",
       "      <td>2016</td>\n",
       "      <td>5</td>\n",
       "      <td>19</td>\n",
       "      <td>3</td>\n",
       "      <td>5.204007</td>\n",
       "    </tr>\n",
       "  </tbody>\n",
       "</table>\n",
       "</div>"
      ],
      "text/plain": [
       "           영화명        영화코드        개봉일      매출액  매출액점유율    누적매출액   관객수  누적관객수  \\\n",
       "232  짐작보다 따뜻하게  20158744.0 2016-05-19  7470500     0.0  7470500  1023   1023   \n",
       "\n",
       "     스크린수  상영횟수  F-rated  year  month  day  dayofweek  상영횟수(log)  \n",
       "232     6   182        1  2016      5   19          3   5.204007  "
      ]
     },
     "execution_count": 14,
     "metadata": {},
     "output_type": "execute_result"
    }
   ],
   "source": [
    "df_in_digit['상영횟수(log)'] = df_in_digit['상영횟수'].apply(lambda x: np.log(x))\n",
    "\n",
    "df_in_digit.sample()"
   ]
  },
  {
   "cell_type": "code",
   "execution_count": 20,
   "metadata": {},
   "outputs": [
    {
     "data": {
      "text/plain": [
       "<matplotlib.axes._subplots.AxesSubplot at 0x10d006a8dd8>"
      ]
     },
     "execution_count": 20,
     "metadata": {},
     "output_type": "execute_result"
    },
    {
     "data": {
      "image/png": "[encoded data removed]",
      "text/plain": [
       "<Figure size 432x288 with 1 Axes>"
      ]
     },
     "metadata": {
      "needs_background": "light"
     },
     "output_type": "display_data"
    }
   ],
   "source": [
    "df_in_digit['상영횟수(log)'].hist(bins=20)"
   ]
  },
  {
   "cell_type": "markdown",
   "metadata": {},
   "source": [
    "### 스크린수 분포"
   ]
  },
  {
   "cell_type": "code",
   "execution_count": 26,
   "metadata": {
    "scrolled": true
   },
   "outputs": [
    {
     "data": {
      "text/plain": [
       "<matplotlib.axes._subplots.AxesSubplot at 0x10d00b77eb8>"
      ]
     },
     "execution_count": 26,
     "metadata": {},
     "output_type": "execute_result"
    },
    {
     "data": {
      "image/png": "[encoded data removed]",
      "text/plain": [
       "<Figure size 432x288 with 1 Axes>"
      ]
     },
     "metadata": {
      "needs_background": "light"
     },
     "output_type": "display_data"
    }
   ],
   "source": [
    "df_in_digit['스크린수'].hist(bins=50)"
   ]
  },
  {
   "cell_type": "code",
   "execution_count": 24,
   "metadata": {},
   "outputs": [
    {
     "data": {
      "text/html": [
       "<div>\n",
       "<style scoped>\n",
       "    .dataframe tbody tr th:only-of-type {\n",
       "        vertical-align: middle;\n",
       "    }\n",
       "\n",
       "    .dataframe tbody tr th {\n",
       "        vertical-align: top;\n",
       "    }\n",
       "\n",
       "    .dataframe thead th {\n",
       "        text-align: right;\n",
       "    }\n",
       "</style>\n",
       "<table border=\"1\" class=\"dataframe\">\n",
       "  <thead>\n",
       "    <tr style=\"text-align: right;\">\n",
       "      <th></th>\n",
       "      <th>영화명</th>\n",
       "      <th>영화코드</th>\n",
       "      <th>개봉일</th>\n",
       "      <th>매출액</th>\n",
       "      <th>매출액점유율</th>\n",
       "      <th>누적매출액</th>\n",
       "      <th>관객수</th>\n",
       "      <th>누적관객수</th>\n",
       "      <th>스크린수</th>\n",
       "      <th>상영횟수</th>\n",
       "      <th>F-rated</th>\n",
       "      <th>year</th>\n",
       "      <th>month</th>\n",
       "      <th>day</th>\n",
       "      <th>dayofweek</th>\n",
       "      <th>상영횟수(log)</th>\n",
       "      <th>스크린수(log)</th>\n",
       "    </tr>\n",
       "  </thead>\n",
       "  <tbody>\n",
       "    <tr>\n",
       "      <th>478</th>\n",
       "      <td>프레스</td>\n",
       "      <td>20162986.0</td>\n",
       "      <td>2017-11-30</td>\n",
       "      <td>1478000</td>\n",
       "      <td>0.0</td>\n",
       "      <td>1493000</td>\n",
       "      <td>362</td>\n",
       "      <td>365</td>\n",
       "      <td>4</td>\n",
       "      <td>80</td>\n",
       "      <td>0</td>\n",
       "      <td>2017</td>\n",
       "      <td>11</td>\n",
       "      <td>30</td>\n",
       "      <td>3</td>\n",
       "      <td>4.382027</td>\n",
       "      <td>1.386294</td>\n",
       "    </tr>\n",
       "  </tbody>\n",
       "</table>\n",
       "</div>"
      ],
      "text/plain": [
       "     영화명        영화코드        개봉일      매출액  매출액점유율    누적매출액  관객수  누적관객수  스크린수  \\\n",
       "478  프레스  20162986.0 2017-11-30  1478000     0.0  1493000  362    365     4   \n",
       "\n",
       "     상영횟수  F-rated  year  month  day  dayofweek  상영횟수(log)  스크린수(log)  \n",
       "478    80        0  2017     11   30          3   4.382027   1.386294  "
      ]
     },
     "execution_count": 24,
     "metadata": {},
     "output_type": "execute_result"
    }
   ],
   "source": [
    "df_in_digit['스크린수(log)'] = df_in_digit['스크린수'].apply(lambda x: np.log(x))\n",
    "\n",
    "df_in_digit.sample()"
   ]
  },
  {
   "cell_type": "code",
   "execution_count": 27,
   "metadata": {},
   "outputs": [
    {
     "data": {
      "text/plain": [
       "<matplotlib.axes._subplots.AxesSubplot at 0x10d00c002e8>"
      ]
     },
     "execution_count": 27,
     "metadata": {},
     "output_type": "execute_result"
    },
    {
     "data": {
      "image/png": "[encoded data removed]",
      "text/plain": [
       "<Figure size 432x288 with 1 Axes>"
      ]
     },
     "metadata": {
      "needs_background": "light"
     },
     "output_type": "display_data"
    }
   ],
   "source": [
    "df_in_digit['스크린수(log)'].hist(bins=50)"
   ]
  },
  {
   "cell_type": "markdown",
   "metadata": {},
   "source": [
    "스크린수보다 상영횟수가 더 불균형함"
   ]
  },
  {
   "cell_type": "markdown",
   "metadata": {},
   "source": [
    "### 상영횟수(log) 기준으로 나누기\n",
    "상영횟수(log) | 상영횟수 등급\n",
    "-|-\n",
    "0 < x <= 2 | 1\n",
    "2 < x <= 4 | 2\n",
    "4 < x <= 6 | 3\n",
    "6 < x <= 8 | 4\n",
    "8 < x <= 10 | 5\n",
    "10 < x <= 12 | 6"
   ]
  },
  {
   "cell_type": "code",
   "execution_count": 29,
   "metadata": {},
   "outputs": [
    {
     "data": {
      "text/html": [
       "<div>\n",
       "<style scoped>\n",
       "    .dataframe tbody tr th:only-of-type {\n",
       "        vertical-align: middle;\n",
       "    }\n",
       "\n",
       "    .dataframe tbody tr th {\n",
       "        vertical-align: top;\n",
       "    }\n",
       "\n",
       "    .dataframe thead th {\n",
       "        text-align: right;\n",
       "    }\n",
       "</style>\n",
       "<table border=\"1\" class=\"dataframe\">\n",
       "  <thead>\n",
       "    <tr style=\"text-align: right;\">\n",
       "      <th></th>\n",
       "      <th>영화명</th>\n",
       "      <th>영화코드</th>\n",
       "      <th>개봉일</th>\n",
       "      <th>매출액</th>\n",
       "      <th>매출액점유율</th>\n",
       "      <th>누적매출액</th>\n",
       "      <th>관객수</th>\n",
       "      <th>누적관객수</th>\n",
       "      <th>스크린수</th>\n",
       "      <th>상영횟수</th>\n",
       "      <th>F-rated</th>\n",
       "      <th>year</th>\n",
       "      <th>month</th>\n",
       "      <th>day</th>\n",
       "      <th>dayofweek</th>\n",
       "      <th>상영횟수(log)</th>\n",
       "      <th>스크린수(log)</th>\n",
       "    </tr>\n",
       "  </thead>\n",
       "  <tbody>\n",
       "  </tbody>\n",
       "</table>\n",
       "</div>"
      ],
      "text/plain": [
       "Empty DataFrame\n",
       "Columns: [영화명, 영화코드, 개봉일, 매출액, 매출액점유율, 누적매출액, 관객수, 누적관객수, 스크린수, 상영횟수, F-rated, year, month, day, dayofweek, 상영횟수(log), 스크린수(log)]\n",
       "Index: []"
      ]
     },
     "execution_count": 29,
     "metadata": {},
     "output_type": "execute_result"
    }
   ],
   "source": [
    "df_in_digit[df_in_digit['상영횟수(log)'] == 0]"
   ]
  },
  {
   "cell_type": "code",
   "execution_count": 32,
   "metadata": {},
   "outputs": [
    {
     "data": {
      "text/html": [
       "<div>\n",
       "<style scoped>\n",
       "    .dataframe tbody tr th:only-of-type {\n",
       "        vertical-align: middle;\n",
       "    }\n",
       "\n",
       "    .dataframe tbody tr th {\n",
       "        vertical-align: top;\n",
       "    }\n",
       "\n",
       "    .dataframe thead th {\n",
       "        text-align: right;\n",
       "    }\n",
       "</style>\n",
       "<table border=\"1\" class=\"dataframe\">\n",
       "  <thead>\n",
       "    <tr style=\"text-align: right;\">\n",
       "      <th></th>\n",
       "      <th>영화명</th>\n",
       "      <th>영화코드</th>\n",
       "      <th>개봉일</th>\n",
       "      <th>매출액</th>\n",
       "      <th>매출액점유율</th>\n",
       "      <th>누적매출액</th>\n",
       "      <th>관객수</th>\n",
       "      <th>누적관객수</th>\n",
       "      <th>스크린수</th>\n",
       "      <th>상영횟수</th>\n",
       "      <th>F-rated</th>\n",
       "      <th>year</th>\n",
       "      <th>month</th>\n",
       "      <th>day</th>\n",
       "      <th>dayofweek</th>\n",
       "      <th>상영횟수(log)</th>\n",
       "      <th>스크린수(log)</th>\n",
       "      <th>상영횟수등급</th>\n",
       "    </tr>\n",
       "  </thead>\n",
       "  <tbody>\n",
       "    <tr>\n",
       "      <th>274</th>\n",
       "      <td>브링 홈: 아버지의 땅</td>\n",
       "      <td>20133071.0</td>\n",
       "      <td>2016-09-01</td>\n",
       "      <td>117372200</td>\n",
       "      <td>0.0</td>\n",
       "      <td>117372200</td>\n",
       "      <td>15025</td>\n",
       "      <td>15025</td>\n",
       "      <td>36</td>\n",
       "      <td>547</td>\n",
       "      <td>0</td>\n",
       "      <td>2016</td>\n",
       "      <td>9</td>\n",
       "      <td>1</td>\n",
       "      <td>3</td>\n",
       "      <td>6.304449</td>\n",
       "      <td>3.583519</td>\n",
       "      <td>4.0</td>\n",
       "    </tr>\n",
       "  </tbody>\n",
       "</table>\n",
       "</div>"
      ],
      "text/plain": [
       "              영화명        영화코드        개봉일        매출액  매출액점유율      누적매출액    관객수  \\\n",
       "274  브링 홈: 아버지의 땅  20133071.0 2016-09-01  117372200     0.0  117372200  15025   \n",
       "\n",
       "     누적관객수  스크린수  상영횟수  F-rated  year  month  day  dayofweek  상영횟수(log)  \\\n",
       "274  15025    36   547        0  2016      9    1          3   6.304449   \n",
       "\n",
       "     스크린수(log)  상영횟수등급  \n",
       "274   3.583519     4.0  "
      ]
     },
     "execution_count": 32,
     "metadata": {},
     "output_type": "execute_result"
    }
   ],
   "source": [
    "df_in_digit.loc[df_in_digit['상영횟수(log)'] <= 12, '상영횟수등급'] = 6\n",
    "df_in_digit.loc[df_in_digit['상영횟수(log)'] <= 10, '상영횟수등급'] = 5\n",
    "df_in_digit.loc[df_in_digit['상영횟수(log)'] <= 8, '상영횟수등급'] = 4\n",
    "df_in_digit.loc[df_in_digit['상영횟수(log)'] <= 6, '상영횟수등급'] = 3\n",
    "df_in_digit.loc[df_in_digit['상영횟수(log)'] <= 4, '상영횟수등급'] = 2\n",
    "df_in_digit.loc[df_in_digit['상영횟수(log)'] <= 2, '상영횟수등급'] = 1\n",
    "\n",
    "df_in_digit.sample()"
   ]
  },
  {
   "cell_type": "code",
   "execution_count": 33,
   "metadata": {},
   "outputs": [
    {
     "data": {
      "text/plain": [
       "<matplotlib.axes._subplots.AxesSubplot at 0x10d7f441128>"
      ]
     },
     "execution_count": 33,
     "metadata": {},
     "output_type": "execute_result"
    },
    {
     "data": {
      "image/png": "[encoded data removed]",
      "text/plain": [
       "<Figure size 432x288 with 1 Axes>"
      ]
     },
     "metadata": {
      "needs_background": "light"
     },
     "output_type": "display_data"
    }
   ],
   "source": [
    "df_in_digit['상영횟수등급'].hist()"
   ]
  },
  {
   "cell_type": "code",
   "execution_count": 34,
   "metadata": {
    "scrolled": true
   },
   "outputs": [
    {
     "data": {
      "text/plain": [
       "2                   허삼관\n",
       "3                오늘의 연애\n",
       "7               강남 1970\n",
       "14                  쎄시봉\n",
       "15     조선명탐정 : 사라진 놉의 딸\n",
       "20               순수의 시대\n",
       "21                  헬머니\n",
       "23                 살인의뢰\n",
       "27                   스물\n",
       "33                 장수상회\n",
       "40                차이나타운\n",
       "48               악의 연대기\n",
       "51                   간신\n",
       "52                  무뢰한\n",
       "61                 극비수사\n",
       "63                 연평해전\n",
       "70                   손님\n",
       "86               미쓰 와이프\n",
       "89              뷰티 인사이드\n",
       "101                  사도\n",
       "106          탐정 : 더 비기닝\n",
       "110              성난 변호사\n",
       "119           특종: 량첸살인기\n",
       "120                 더 폰\n",
       "124                그놈이다\n",
       "129              검은 사제들\n",
       "138                내부자들\n",
       "140          열정같은소리하고있네\n",
       "157                  대호\n",
       "158                히말라야\n",
       "             ...       \n",
       "661                스윙키즈\n",
       "662                 마약왕\n",
       "665           PMC: 더 벙커\n",
       "667                 말모이\n",
       "668              내안의 그놈\n",
       "677                  뺑반\n",
       "681                  증인\n",
       "683                 사바하\n",
       "685          항거:유관순 이야기\n",
       "695                   돈\n",
       "696                악질경찰\n",
       "702                  생일\n",
       "710                 미성년\n",
       "718           나의 특별한 형제\n",
       "720                 걸캅스\n",
       "721                 악인전\n",
       "738     롱 리브 더 킹: 목포 영웅\n",
       "753               나랏말싸미\n",
       "758                  사자\n",
       "760              봉오동 전투\n",
       "771                  변신\n",
       "772          광대들: 풍문조작단\n",
       "775            유열의 음악앨범\n",
       "781        나쁜 녀석들: 더 무비\n",
       "782         타짜: 원 아이드 잭\n",
       "783        힘을 내요, 미스터 리\n",
       "786       장사리 : 잊혀진 영웅들\n",
       "787               양자물리학\n",
       "792           가장 보통의 연애\n",
       "793                퍼펙트맨\n",
       "Name: 영화명, Length: 164, dtype: object"
      ]
     },
     "execution_count": 34,
     "metadata": {},
     "output_type": "execute_result"
    }
   ],
   "source": [
    "df_in_digit[df_in_digit['상영횟수등급'] == 6]['영화명']"
   ]
  },
  {
   "cell_type": "markdown",
   "metadata": {},
   "source": [
    "상영횟수log 컬럼으로 등급을 나눴더니, log 스케일의 특성에 따라 상영횟수가 늘어날수록 차이가 큰 영화들이 같은 등급 내 포함된다\n",
    "\n",
    "-> 상영횟수 칼럼으로 다시 나눠서 보기\n",
    "\n",
    "상영횟수 | 상영횟수 등급\n",
    "-|-\n",
    "0 < x <= 100 | 1\n",
    "2 < x <= 1000 | 2\n",
    "4 < x <= 10_000 | 3\n",
    "6 < x <= 30_000 | 4\n",
    "8 < x <= 70_000 | 5\n",
    "10 < x <= 100_000 | 6"
   ]
  },
  {
   "cell_type": "code",
   "execution_count": 50,
   "metadata": {},
   "outputs": [
    {
     "data": {
      "text/plain": [
       "<matplotlib.axes._subplots.AxesSubplot at 0x10d02db5d68>"
      ]
     },
     "execution_count": 50,
     "metadata": {},
     "output_type": "execute_result"
    },
    {
     "data": {
      "image/png": "[encoded data removed]",
      "text/plain": [
       "<Figure size 432x288 with 1 Axes>"
      ]
     },
     "metadata": {
      "needs_background": "light"
     },
     "output_type": "display_data"
    }
   ],
   "source": [
    "df_in_digit[df_in_digit['상영횟수'] > 10000]['상영횟수'].hist(bins=100)"
   ]
  },
  {
   "cell_type": "code",
   "execution_count": 40,
   "metadata": {},
   "outputs": [
    {
     "data": {
      "text/html": [
       "<div>\n",
       "<style scoped>\n",
       "    .dataframe tbody tr th:only-of-type {\n",
       "        vertical-align: middle;\n",
       "    }\n",
       "\n",
       "    .dataframe tbody tr th {\n",
       "        vertical-align: top;\n",
       "    }\n",
       "\n",
       "    .dataframe thead th {\n",
       "        text-align: right;\n",
       "    }\n",
       "</style>\n",
       "<table border=\"1\" class=\"dataframe\">\n",
       "  <thead>\n",
       "    <tr style=\"text-align: right;\">\n",
       "      <th></th>\n",
       "      <th>영화명</th>\n",
       "      <th>영화코드</th>\n",
       "      <th>개봉일</th>\n",
       "      <th>매출액</th>\n",
       "      <th>매출액점유율</th>\n",
       "      <th>누적매출액</th>\n",
       "      <th>관객수</th>\n",
       "      <th>누적관객수</th>\n",
       "      <th>스크린수</th>\n",
       "      <th>상영횟수</th>\n",
       "      <th>F-rated</th>\n",
       "      <th>year</th>\n",
       "      <th>month</th>\n",
       "      <th>day</th>\n",
       "      <th>dayofweek</th>\n",
       "      <th>상영횟수(log)</th>\n",
       "      <th>스크린수(log)</th>\n",
       "      <th>상영횟수등급</th>\n",
       "    </tr>\n",
       "  </thead>\n",
       "  <tbody>\n",
       "    <tr>\n",
       "      <th>27</th>\n",
       "      <td>스물</td>\n",
       "      <td>20148845.0</td>\n",
       "      <td>2015-03-25</td>\n",
       "      <td>23563421686</td>\n",
       "      <td>2.7</td>\n",
       "      <td>23563421686</td>\n",
       "      <td>3044811</td>\n",
       "      <td>3044811</td>\n",
       "      <td>926</td>\n",
       "      <td>100161</td>\n",
       "      <td>0</td>\n",
       "      <td>2015</td>\n",
       "      <td>3</td>\n",
       "      <td>25</td>\n",
       "      <td>2</td>\n",
       "      <td>11.514534</td>\n",
       "      <td>6.830874</td>\n",
       "      <td>6.0</td>\n",
       "    </tr>\n",
       "    <tr>\n",
       "      <th>63</th>\n",
       "      <td>연평해전</td>\n",
       "      <td>20134798.0</td>\n",
       "      <td>2015-06-24</td>\n",
       "      <td>45563228330</td>\n",
       "      <td>5.2</td>\n",
       "      <td>45563228330</td>\n",
       "      <td>6043784</td>\n",
       "      <td>6043784</td>\n",
       "      <td>1013</td>\n",
       "      <td>114450</td>\n",
       "      <td>0</td>\n",
       "      <td>2015</td>\n",
       "      <td>6</td>\n",
       "      <td>24</td>\n",
       "      <td>2</td>\n",
       "      <td>11.647893</td>\n",
       "      <td>6.920672</td>\n",
       "      <td>6.0</td>\n",
       "    </tr>\n",
       "    <tr>\n",
       "      <th>75</th>\n",
       "      <td>암살</td>\n",
       "      <td>20148851.0</td>\n",
       "      <td>2015-07-22</td>\n",
       "      <td>98463132781</td>\n",
       "      <td>11.2</td>\n",
       "      <td>98463132781</td>\n",
       "      <td>12705700</td>\n",
       "      <td>12705700</td>\n",
       "      <td>1519</td>\n",
       "      <td>175185</td>\n",
       "      <td>1</td>\n",
       "      <td>2015</td>\n",
       "      <td>7</td>\n",
       "      <td>22</td>\n",
       "      <td>2</td>\n",
       "      <td>12.073598</td>\n",
       "      <td>7.325808</td>\n",
       "      <td>NaN</td>\n",
       "    </tr>\n",
       "    <tr>\n",
       "      <th>79</th>\n",
       "      <td>베테랑</td>\n",
       "      <td>20148048.0</td>\n",
       "      <td>2015-08-05</td>\n",
       "      <td>105168155250</td>\n",
       "      <td>12.0</td>\n",
       "      <td>105168155250</td>\n",
       "      <td>13414009</td>\n",
       "      <td>13414009</td>\n",
       "      <td>1115</td>\n",
       "      <td>199231</td>\n",
       "      <td>0</td>\n",
       "      <td>2015</td>\n",
       "      <td>8</td>\n",
       "      <td>5</td>\n",
       "      <td>2</td>\n",
       "      <td>12.202220</td>\n",
       "      <td>7.016610</td>\n",
       "      <td>NaN</td>\n",
       "    </tr>\n",
       "    <tr>\n",
       "      <th>101</th>\n",
       "      <td>사도</td>\n",
       "      <td>20148846.0</td>\n",
       "      <td>2015-09-16</td>\n",
       "      <td>48842902501</td>\n",
       "      <td>5.6</td>\n",
       "      <td>48842902501</td>\n",
       "      <td>6246849</td>\n",
       "      <td>6246849</td>\n",
       "      <td>1210</td>\n",
       "      <td>124246</td>\n",
       "      <td>0</td>\n",
       "      <td>2015</td>\n",
       "      <td>9</td>\n",
       "      <td>16</td>\n",
       "      <td>2</td>\n",
       "      <td>11.730019</td>\n",
       "      <td>7.098376</td>\n",
       "      <td>6.0</td>\n",
       "    </tr>\n",
       "    <tr>\n",
       "      <th>129</th>\n",
       "      <td>검은 사제들</td>\n",
       "      <td>20145503.0</td>\n",
       "      <td>2015-11-05</td>\n",
       "      <td>42405282092</td>\n",
       "      <td>4.8</td>\n",
       "      <td>42405282092</td>\n",
       "      <td>5442128</td>\n",
       "      <td>5442128</td>\n",
       "      <td>1109</td>\n",
       "      <td>131155</td>\n",
       "      <td>0</td>\n",
       "      <td>2015</td>\n",
       "      <td>11</td>\n",
       "      <td>5</td>\n",
       "      <td>3</td>\n",
       "      <td>11.784135</td>\n",
       "      <td>7.011214</td>\n",
       "      <td>6.0</td>\n",
       "    </tr>\n",
       "    <tr>\n",
       "      <th>138</th>\n",
       "      <td>내부자들</td>\n",
       "      <td>20149314.0</td>\n",
       "      <td>2015-11-19</td>\n",
       "      <td>56465665657</td>\n",
       "      <td>6.4</td>\n",
       "      <td>56465665657</td>\n",
       "      <td>7055332</td>\n",
       "      <td>7055332</td>\n",
       "      <td>1129</td>\n",
       "      <td>152265</td>\n",
       "      <td>0</td>\n",
       "      <td>2015</td>\n",
       "      <td>11</td>\n",
       "      <td>19</td>\n",
       "      <td>3</td>\n",
       "      <td>11.933378</td>\n",
       "      <td>7.029088</td>\n",
       "      <td>6.0</td>\n",
       "    </tr>\n",
       "    <tr>\n",
       "      <th>178</th>\n",
       "      <td>검사외전</td>\n",
       "      <td>20145507.0</td>\n",
       "      <td>2016-02-03</td>\n",
       "      <td>77320403264</td>\n",
       "      <td>8.3</td>\n",
       "      <td>77320403264</td>\n",
       "      <td>9707581</td>\n",
       "      <td>9707581</td>\n",
       "      <td>1812</td>\n",
       "      <td>153532</td>\n",
       "      <td>0</td>\n",
       "      <td>2016</td>\n",
       "      <td>2</td>\n",
       "      <td>3</td>\n",
       "      <td>2</td>\n",
       "      <td>11.941664</td>\n",
       "      <td>7.502186</td>\n",
       "      <td>6.0</td>\n",
       "    </tr>\n",
       "    <tr>\n",
       "      <th>231</th>\n",
       "      <td>곡성</td>\n",
       "      <td>20140194.0</td>\n",
       "      <td>2016-05-12</td>\n",
       "      <td>55863520382</td>\n",
       "      <td>6.0</td>\n",
       "      <td>55863520382</td>\n",
       "      <td>6879908</td>\n",
       "      <td>6879908</td>\n",
       "      <td>1485</td>\n",
       "      <td>130322</td>\n",
       "      <td>0</td>\n",
       "      <td>2016</td>\n",
       "      <td>5</td>\n",
       "      <td>12</td>\n",
       "      <td>3</td>\n",
       "      <td>11.777764</td>\n",
       "      <td>7.303170</td>\n",
       "      <td>6.0</td>\n",
       "    </tr>\n",
       "    <tr>\n",
       "      <th>259</th>\n",
       "      <td>부산행</td>\n",
       "      <td>20156564.0</td>\n",
       "      <td>2016-07-20</td>\n",
       "      <td>93178283048</td>\n",
       "      <td>10.0</td>\n",
       "      <td>93178283048</td>\n",
       "      <td>11565479</td>\n",
       "      <td>11565479</td>\n",
       "      <td>1788</td>\n",
       "      <td>151315</td>\n",
       "      <td>0</td>\n",
       "      <td>2016</td>\n",
       "      <td>7</td>\n",
       "      <td>20</td>\n",
       "      <td>2</td>\n",
       "      <td>11.927119</td>\n",
       "      <td>7.488853</td>\n",
       "      <td>6.0</td>\n",
       "    </tr>\n",
       "    <tr>\n",
       "      <th>264</th>\n",
       "      <td>터널</td>\n",
       "      <td>20154910.0</td>\n",
       "      <td>2016-08-10</td>\n",
       "      <td>57529484417</td>\n",
       "      <td>6.2</td>\n",
       "      <td>57529484417</td>\n",
       "      <td>7120508</td>\n",
       "      <td>7120508</td>\n",
       "      <td>1105</td>\n",
       "      <td>113201</td>\n",
       "      <td>0</td>\n",
       "      <td>2016</td>\n",
       "      <td>8</td>\n",
       "      <td>10</td>\n",
       "      <td>2</td>\n",
       "      <td>11.636920</td>\n",
       "      <td>7.007601</td>\n",
       "      <td>6.0</td>\n",
       "    </tr>\n",
       "    <tr>\n",
       "      <th>277</th>\n",
       "      <td>밀정</td>\n",
       "      <td>20159646.0</td>\n",
       "      <td>2016-09-07</td>\n",
       "      <td>61269783831</td>\n",
       "      <td>6.6</td>\n",
       "      <td>61269783831</td>\n",
       "      <td>7500420</td>\n",
       "      <td>7500420</td>\n",
       "      <td>1444</td>\n",
       "      <td>138161</td>\n",
       "      <td>0</td>\n",
       "      <td>2016</td>\n",
       "      <td>9</td>\n",
       "      <td>7</td>\n",
       "      <td>2</td>\n",
       "      <td>11.836175</td>\n",
       "      <td>7.275172</td>\n",
       "      <td>6.0</td>\n",
       "    </tr>\n",
       "    <tr>\n",
       "      <th>295</th>\n",
       "      <td>럭키</td>\n",
       "      <td>20153444.0</td>\n",
       "      <td>2016-10-13</td>\n",
       "      <td>56444461256</td>\n",
       "      <td>6.1</td>\n",
       "      <td>56444461256</td>\n",
       "      <td>6975290</td>\n",
       "      <td>6975290</td>\n",
       "      <td>1234</td>\n",
       "      <td>155977</td>\n",
       "      <td>0</td>\n",
       "      <td>2016</td>\n",
       "      <td>10</td>\n",
       "      <td>13</td>\n",
       "      <td>3</td>\n",
       "      <td>11.957464</td>\n",
       "      <td>7.118016</td>\n",
       "      <td>6.0</td>\n",
       "    </tr>\n",
       "    <tr>\n",
       "      <th>339</th>\n",
       "      <td>더 킹</td>\n",
       "      <td>20151229.0</td>\n",
       "      <td>2017-01-18</td>\n",
       "      <td>43488814535</td>\n",
       "      <td>4.8</td>\n",
       "      <td>43488814535</td>\n",
       "      <td>5317693</td>\n",
       "      <td>5317693</td>\n",
       "      <td>1310</td>\n",
       "      <td>107983</td>\n",
       "      <td>0</td>\n",
       "      <td>2017</td>\n",
       "      <td>1</td>\n",
       "      <td>18</td>\n",
       "      <td>2</td>\n",
       "      <td>11.589729</td>\n",
       "      <td>7.177782</td>\n",
       "      <td>6.0</td>\n",
       "    </tr>\n",
       "    <tr>\n",
       "      <th>340</th>\n",
       "      <td>공조</td>\n",
       "      <td>20151228.0</td>\n",
       "      <td>2017-01-18</td>\n",
       "      <td>63783051326</td>\n",
       "      <td>7.1</td>\n",
       "      <td>63783051326</td>\n",
       "      <td>7817618</td>\n",
       "      <td>7817618</td>\n",
       "      <td>1392</td>\n",
       "      <td>142989</td>\n",
       "      <td>0</td>\n",
       "      <td>2017</td>\n",
       "      <td>1</td>\n",
       "      <td>18</td>\n",
       "      <td>2</td>\n",
       "      <td>11.870523</td>\n",
       "      <td>7.238497</td>\n",
       "      <td>6.0</td>\n",
       "    </tr>\n",
       "    <tr>\n",
       "      <th>414</th>\n",
       "      <td>군함도</td>\n",
       "      <td>20177063.0</td>\n",
       "      <td>2017-07-26</td>\n",
       "      <td>50510565168</td>\n",
       "      <td>5.6</td>\n",
       "      <td>50510565168</td>\n",
       "      <td>6592151</td>\n",
       "      <td>6592151</td>\n",
       "      <td>2027</td>\n",
       "      <td>108775</td>\n",
       "      <td>0</td>\n",
       "      <td>2017</td>\n",
       "      <td>7</td>\n",
       "      <td>26</td>\n",
       "      <td>2</td>\n",
       "      <td>11.597037</td>\n",
       "      <td>7.614312</td>\n",
       "      <td>6.0</td>\n",
       "    </tr>\n",
       "    <tr>\n",
       "      <th>416</th>\n",
       "      <td>택시운전사</td>\n",
       "      <td>20162869.0</td>\n",
       "      <td>2017-08-02</td>\n",
       "      <td>95853645649</td>\n",
       "      <td>10.6</td>\n",
       "      <td>95853645649</td>\n",
       "      <td>12186327</td>\n",
       "      <td>12186327</td>\n",
       "      <td>1906</td>\n",
       "      <td>184075</td>\n",
       "      <td>2</td>\n",
       "      <td>2017</td>\n",
       "      <td>8</td>\n",
       "      <td>2</td>\n",
       "      <td>2</td>\n",
       "      <td>12.123099</td>\n",
       "      <td>7.552762</td>\n",
       "      <td>NaN</td>\n",
       "    </tr>\n",
       "    <tr>\n",
       "      <th>418</th>\n",
       "      <td>청년경찰</td>\n",
       "      <td>20162442.0</td>\n",
       "      <td>2017-08-09</td>\n",
       "      <td>44381150516</td>\n",
       "      <td>4.9</td>\n",
       "      <td>44381150516</td>\n",
       "      <td>5653270</td>\n",
       "      <td>5653270</td>\n",
       "      <td>1102</td>\n",
       "      <td>118544</td>\n",
       "      <td>0</td>\n",
       "      <td>2017</td>\n",
       "      <td>8</td>\n",
       "      <td>9</td>\n",
       "      <td>2</td>\n",
       "      <td>11.683039</td>\n",
       "      <td>7.004882</td>\n",
       "      <td>6.0</td>\n",
       "    </tr>\n",
       "    <tr>\n",
       "      <th>444</th>\n",
       "      <td>범죄도시</td>\n",
       "      <td>20172742.0</td>\n",
       "      <td>2017-10-03</td>\n",
       "      <td>56318014149</td>\n",
       "      <td>6.2</td>\n",
       "      <td>56318014149</td>\n",
       "      <td>6879841</td>\n",
       "      <td>6879841</td>\n",
       "      <td>1315</td>\n",
       "      <td>149334</td>\n",
       "      <td>0</td>\n",
       "      <td>2017</td>\n",
       "      <td>10</td>\n",
       "      <td>3</td>\n",
       "      <td>1</td>\n",
       "      <td>11.913941</td>\n",
       "      <td>7.181592</td>\n",
       "      <td>6.0</td>\n",
       "    </tr>\n",
       "    <tr>\n",
       "      <th>470</th>\n",
       "      <td>꾼</td>\n",
       "      <td>20165748.0</td>\n",
       "      <td>2017-11-22</td>\n",
       "      <td>31312029795</td>\n",
       "      <td>3.5</td>\n",
       "      <td>31312029795</td>\n",
       "      <td>4018035</td>\n",
       "      <td>4018035</td>\n",
       "      <td>1314</td>\n",
       "      <td>117398</td>\n",
       "      <td>0</td>\n",
       "      <td>2017</td>\n",
       "      <td>11</td>\n",
       "      <td>22</td>\n",
       "      <td>2</td>\n",
       "      <td>11.673325</td>\n",
       "      <td>7.180831</td>\n",
       "      <td>6.0</td>\n",
       "    </tr>\n",
       "    <tr>\n",
       "      <th>564</th>\n",
       "      <td>독전</td>\n",
       "      <td>20179383.0</td>\n",
       "      <td>2018-05-22</td>\n",
       "      <td>43485551113</td>\n",
       "      <td>4.8</td>\n",
       "      <td>43485551113</td>\n",
       "      <td>5063684</td>\n",
       "      <td>5063684</td>\n",
       "      <td>1532</td>\n",
       "      <td>140007</td>\n",
       "      <td>1</td>\n",
       "      <td>2018</td>\n",
       "      <td>5</td>\n",
       "      <td>22</td>\n",
       "      <td>1</td>\n",
       "      <td>11.849448</td>\n",
       "      <td>7.334329</td>\n",
       "      <td>6.0</td>\n",
       "    </tr>\n",
       "    <tr>\n",
       "      <th>572</th>\n",
       "      <td>탐정: 리턴즈</td>\n",
       "      <td>20178161.0</td>\n",
       "      <td>2018-06-13</td>\n",
       "      <td>26909459678</td>\n",
       "      <td>2.9</td>\n",
       "      <td>26909459678</td>\n",
       "      <td>3152872</td>\n",
       "      <td>3152872</td>\n",
       "      <td>1137</td>\n",
       "      <td>107907</td>\n",
       "      <td>1</td>\n",
       "      <td>2018</td>\n",
       "      <td>6</td>\n",
       "      <td>13</td>\n",
       "      <td>2</td>\n",
       "      <td>11.589025</td>\n",
       "      <td>7.036148</td>\n",
       "      <td>6.0</td>\n",
       "    </tr>\n",
       "    <tr>\n",
       "      <th>592</th>\n",
       "      <td>신과함께-인과 연</td>\n",
       "      <td>20186202.0</td>\n",
       "      <td>2018-08-01</td>\n",
       "      <td>102666146909</td>\n",
       "      <td>11.2</td>\n",
       "      <td>102666146909</td>\n",
       "      <td>12274996</td>\n",
       "      <td>12274996</td>\n",
       "      <td>2235</td>\n",
       "      <td>179981</td>\n",
       "      <td>0</td>\n",
       "      <td>2018</td>\n",
       "      <td>8</td>\n",
       "      <td>1</td>\n",
       "      <td>2</td>\n",
       "      <td>12.100607</td>\n",
       "      <td>7.711997</td>\n",
       "      <td>NaN</td>\n",
       "    </tr>\n",
       "    <tr>\n",
       "      <th>616</th>\n",
       "      <td>안시성</td>\n",
       "      <td>20176122.0</td>\n",
       "      <td>2018-09-19</td>\n",
       "      <td>46335334026</td>\n",
       "      <td>5.1</td>\n",
       "      <td>46335334026</td>\n",
       "      <td>5440186</td>\n",
       "      <td>5440186</td>\n",
       "      <td>1540</td>\n",
       "      <td>110439</td>\n",
       "      <td>0</td>\n",
       "      <td>2018</td>\n",
       "      <td>9</td>\n",
       "      <td>19</td>\n",
       "      <td>2</td>\n",
       "      <td>11.612219</td>\n",
       "      <td>7.339538</td>\n",
       "      <td>6.0</td>\n",
       "    </tr>\n",
       "    <tr>\n",
       "      <th>621</th>\n",
       "      <td>암수살인</td>\n",
       "      <td>20179189.0</td>\n",
       "      <td>2018-10-03</td>\n",
       "      <td>32995138548</td>\n",
       "      <td>3.6</td>\n",
       "      <td>32995138548</td>\n",
       "      <td>3789321</td>\n",
       "      <td>3789321</td>\n",
       "      <td>1177</td>\n",
       "      <td>126127</td>\n",
       "      <td>0</td>\n",
       "      <td>2018</td>\n",
       "      <td>10</td>\n",
       "      <td>3</td>\n",
       "      <td>2</td>\n",
       "      <td>11.745045</td>\n",
       "      <td>7.070724</td>\n",
       "      <td>6.0</td>\n",
       "    </tr>\n",
       "    <tr>\n",
       "      <th>633</th>\n",
       "      <td>완벽한 타인</td>\n",
       "      <td>20177538.0</td>\n",
       "      <td>2018-10-31</td>\n",
       "      <td>44350807074</td>\n",
       "      <td>4.9</td>\n",
       "      <td>44350807074</td>\n",
       "      <td>5293435</td>\n",
       "      <td>5293435</td>\n",
       "      <td>1325</td>\n",
       "      <td>143055</td>\n",
       "      <td>1</td>\n",
       "      <td>2018</td>\n",
       "      <td>10</td>\n",
       "      <td>31</td>\n",
       "      <td>2</td>\n",
       "      <td>11.870984</td>\n",
       "      <td>7.189168</td>\n",
       "      <td>6.0</td>\n",
       "    </tr>\n",
       "    <tr>\n",
       "      <th>648</th>\n",
       "      <td>국가부도의 날</td>\n",
       "      <td>20177552.0</td>\n",
       "      <td>2018-11-28</td>\n",
       "      <td>30845862137</td>\n",
       "      <td>3.4</td>\n",
       "      <td>30845862137</td>\n",
       "      <td>3747952</td>\n",
       "      <td>3747952</td>\n",
       "      <td>1180</td>\n",
       "      <td>100804</td>\n",
       "      <td>1</td>\n",
       "      <td>2018</td>\n",
       "      <td>11</td>\n",
       "      <td>28</td>\n",
       "      <td>2</td>\n",
       "      <td>11.520933</td>\n",
       "      <td>7.073270</td>\n",
       "      <td>6.0</td>\n",
       "    </tr>\n",
       "    <tr>\n",
       "      <th>674</th>\n",
       "      <td>극한직업</td>\n",
       "      <td>20182530.0</td>\n",
       "      <td>2019-01-23</td>\n",
       "      <td>139648179516</td>\n",
       "      <td>17.6</td>\n",
       "      <td>139648179516</td>\n",
       "      <td>16264984</td>\n",
       "      <td>16264984</td>\n",
       "      <td>2003</td>\n",
       "      <td>292577</td>\n",
       "      <td>0</td>\n",
       "      <td>2019</td>\n",
       "      <td>1</td>\n",
       "      <td>23</td>\n",
       "      <td>2</td>\n",
       "      <td>12.586483</td>\n",
       "      <td>7.602401</td>\n",
       "      <td>NaN</td>\n",
       "    </tr>\n",
       "    <tr>\n",
       "      <th>695</th>\n",
       "      <td>돈</td>\n",
       "      <td>20176103.0</td>\n",
       "      <td>2019-03-20</td>\n",
       "      <td>28869614062</td>\n",
       "      <td>3.6</td>\n",
       "      <td>28869614062</td>\n",
       "      <td>3389035</td>\n",
       "      <td>3389035</td>\n",
       "      <td>1431</td>\n",
       "      <td>120808</td>\n",
       "      <td>2</td>\n",
       "      <td>2019</td>\n",
       "      <td>3</td>\n",
       "      <td>20</td>\n",
       "      <td>2</td>\n",
       "      <td>11.701958</td>\n",
       "      <td>7.266129</td>\n",
       "      <td>6.0</td>\n",
       "    </tr>\n",
       "    <tr>\n",
       "      <th>732</th>\n",
       "      <td>기생충</td>\n",
       "      <td>20183782.0</td>\n",
       "      <td>2019-05-30</td>\n",
       "      <td>85865256245</td>\n",
       "      <td>10.8</td>\n",
       "      <td>85865256245</td>\n",
       "      <td>10083103</td>\n",
       "      <td>10083103</td>\n",
       "      <td>1948</td>\n",
       "      <td>192830</td>\n",
       "      <td>0</td>\n",
       "      <td>2019</td>\n",
       "      <td>5</td>\n",
       "      <td>30</td>\n",
       "      <td>3</td>\n",
       "      <td>12.169564</td>\n",
       "      <td>7.574558</td>\n",
       "      <td>NaN</td>\n",
       "    </tr>\n",
       "    <tr>\n",
       "      <th>757</th>\n",
       "      <td>엑시트</td>\n",
       "      <td>20184621.0</td>\n",
       "      <td>2019-07-31</td>\n",
       "      <td>79150842862</td>\n",
       "      <td>10.0</td>\n",
       "      <td>79150842862</td>\n",
       "      <td>9413866</td>\n",
       "      <td>9413866</td>\n",
       "      <td>1660</td>\n",
       "      <td>202105</td>\n",
       "      <td>0</td>\n",
       "      <td>2019</td>\n",
       "      <td>7</td>\n",
       "      <td>31</td>\n",
       "      <td>2</td>\n",
       "      <td>12.216543</td>\n",
       "      <td>7.414573</td>\n",
       "      <td>NaN</td>\n",
       "    </tr>\n",
       "    <tr>\n",
       "      <th>760</th>\n",
       "      <td>봉오동 전투</td>\n",
       "      <td>20184462.0</td>\n",
       "      <td>2019-08-07</td>\n",
       "      <td>40563816538</td>\n",
       "      <td>5.1</td>\n",
       "      <td>40563816538</td>\n",
       "      <td>4783726</td>\n",
       "      <td>4783726</td>\n",
       "      <td>1476</td>\n",
       "      <td>106993</td>\n",
       "      <td>0</td>\n",
       "      <td>2019</td>\n",
       "      <td>8</td>\n",
       "      <td>7</td>\n",
       "      <td>2</td>\n",
       "      <td>11.580519</td>\n",
       "      <td>7.297091</td>\n",
       "      <td>6.0</td>\n",
       "    </tr>\n",
       "    <tr>\n",
       "      <th>781</th>\n",
       "      <td>나쁜 녀석들: 더 무비</td>\n",
       "      <td>20188750.0</td>\n",
       "      <td>2019-09-11</td>\n",
       "      <td>39541671284</td>\n",
       "      <td>5.0</td>\n",
       "      <td>39541671284</td>\n",
       "      <td>4571217</td>\n",
       "      <td>4571217</td>\n",
       "      <td>1511</td>\n",
       "      <td>113798</td>\n",
       "      <td>0</td>\n",
       "      <td>2019</td>\n",
       "      <td>9</td>\n",
       "      <td>11</td>\n",
       "      <td>2</td>\n",
       "      <td>11.642180</td>\n",
       "      <td>7.320527</td>\n",
       "      <td>6.0</td>\n",
       "    </tr>\n",
       "  </tbody>\n",
       "</table>\n",
       "</div>"
      ],
      "text/plain": [
       "              영화명        영화코드        개봉일           매출액  매출액점유율         누적매출액  \\\n",
       "27             스물  20148845.0 2015-03-25   23563421686     2.7   23563421686   \n",
       "63           연평해전  20134798.0 2015-06-24   45563228330     5.2   45563228330   \n",
       "75             암살  20148851.0 2015-07-22   98463132781    11.2   98463132781   \n",
       "79            베테랑  20148048.0 2015-08-05  105168155250    12.0  105168155250   \n",
       "101            사도  20148846.0 2015-09-16   48842902501     5.6   48842902501   \n",
       "129        검은 사제들  20145503.0 2015-11-05   42405282092     4.8   42405282092   \n",
       "138          내부자들  20149314.0 2015-11-19   56465665657     6.4   56465665657   \n",
       "178          검사외전  20145507.0 2016-02-03   77320403264     8.3   77320403264   \n",
       "231            곡성  20140194.0 2016-05-12   55863520382     6.0   55863520382   \n",
       "259           부산행  20156564.0 2016-07-20   93178283048    10.0   93178283048   \n",
       "264            터널  20154910.0 2016-08-10   57529484417     6.2   57529484417   \n",
       "277            밀정  20159646.0 2016-09-07   61269783831     6.6   61269783831   \n",
       "295            럭키  20153444.0 2016-10-13   56444461256     6.1   56444461256   \n",
       "339           더 킹  20151229.0 2017-01-18   43488814535     4.8   43488814535   \n",
       "340            공조  20151228.0 2017-01-18   63783051326     7.1   63783051326   \n",
       "414           군함도  20177063.0 2017-07-26   50510565168     5.6   50510565168   \n",
       "416         택시운전사  20162869.0 2017-08-02   95853645649    10.6   95853645649   \n",
       "418          청년경찰  20162442.0 2017-08-09   44381150516     4.9   44381150516   \n",
       "444          범죄도시  20172742.0 2017-10-03   56318014149     6.2   56318014149   \n",
       "470             꾼  20165748.0 2017-11-22   31312029795     3.5   31312029795   \n",
       "564            독전  20179383.0 2018-05-22   43485551113     4.8   43485551113   \n",
       "572       탐정: 리턴즈  20178161.0 2018-06-13   26909459678     2.9   26909459678   \n",
       "592     신과함께-인과 연  20186202.0 2018-08-01  102666146909    11.2  102666146909   \n",
       "616           안시성  20176122.0 2018-09-19   46335334026     5.1   46335334026   \n",
       "621          암수살인  20179189.0 2018-10-03   32995138548     3.6   32995138548   \n",
       "633        완벽한 타인  20177538.0 2018-10-31   44350807074     4.9   44350807074   \n",
       "648       국가부도의 날  20177552.0 2018-11-28   30845862137     3.4   30845862137   \n",
       "674          극한직업  20182530.0 2019-01-23  139648179516    17.6  139648179516   \n",
       "695             돈  20176103.0 2019-03-20   28869614062     3.6   28869614062   \n",
       "732           기생충  20183782.0 2019-05-30   85865256245    10.8   85865256245   \n",
       "757           엑시트  20184621.0 2019-07-31   79150842862    10.0   79150842862   \n",
       "760        봉오동 전투  20184462.0 2019-08-07   40563816538     5.1   40563816538   \n",
       "781  나쁜 녀석들: 더 무비  20188750.0 2019-09-11   39541671284     5.0   39541671284   \n",
       "\n",
       "          관객수     누적관객수  스크린수    상영횟수  F-rated  year  month  day  dayofweek  \\\n",
       "27    3044811   3044811   926  100161        0  2015      3   25          2   \n",
       "63    6043784   6043784  1013  114450        0  2015      6   24          2   \n",
       "75   12705700  12705700  1519  175185        1  2015      7   22          2   \n",
       "79   13414009  13414009  1115  199231        0  2015      8    5          2   \n",
       "101   6246849   6246849  1210  124246        0  2015      9   16          2   \n",
       "129   5442128   5442128  1109  131155        0  2015     11    5          3   \n",
       "138   7055332   7055332  1129  152265        0  2015     11   19          3   \n",
       "178   9707581   9707581  1812  153532        0  2016      2    3          2   \n",
       "231   6879908   6879908  1485  130322        0  2016      5   12          3   \n",
       "259  11565479  11565479  1788  151315        0  2016      7   20          2   \n",
       "264   7120508   7120508  1105  113201        0  2016      8   10          2   \n",
       "277   7500420   7500420  1444  138161        0  2016      9    7          2   \n",
       "295   6975290   6975290  1234  155977        0  2016     10   13          3   \n",
       "339   5317693   5317693  1310  107983        0  2017      1   18          2   \n",
       "340   7817618   7817618  1392  142989        0  2017      1   18          2   \n",
       "414   6592151   6592151  2027  108775        0  2017      7   26          2   \n",
       "416  12186327  12186327  1906  184075        2  2017      8    2          2   \n",
       "418   5653270   5653270  1102  118544        0  2017      8    9          2   \n",
       "444   6879841   6879841  1315  149334        0  2017     10    3          1   \n",
       "470   4018035   4018035  1314  117398        0  2017     11   22          2   \n",
       "564   5063684   5063684  1532  140007        1  2018      5   22          1   \n",
       "572   3152872   3152872  1137  107907        1  2018      6   13          2   \n",
       "592  12274996  12274996  2235  179981        0  2018      8    1          2   \n",
       "616   5440186   5440186  1540  110439        0  2018      9   19          2   \n",
       "621   3789321   3789321  1177  126127        0  2018     10    3          2   \n",
       "633   5293435   5293435  1325  143055        1  2018     10   31          2   \n",
       "648   3747952   3747952  1180  100804        1  2018     11   28          2   \n",
       "674  16264984  16264984  2003  292577        0  2019      1   23          2   \n",
       "695   3389035   3389035  1431  120808        2  2019      3   20          2   \n",
       "732  10083103  10083103  1948  192830        0  2019      5   30          3   \n",
       "757   9413866   9413866  1660  202105        0  2019      7   31          2   \n",
       "760   4783726   4783726  1476  106993        0  2019      8    7          2   \n",
       "781   4571217   4571217  1511  113798        0  2019      9   11          2   \n",
       "\n",
       "     상영횟수(log)  스크린수(log)  상영횟수등급  \n",
       "27   11.514534   6.830874     6.0  \n",
       "63   11.647893   6.920672     6.0  \n",
       "75   12.073598   7.325808     NaN  \n",
       "79   12.202220   7.016610     NaN  \n",
       "101  11.730019   7.098376     6.0  \n",
       "129  11.784135   7.011214     6.0  \n",
       "138  11.933378   7.029088     6.0  \n",
       "178  11.941664   7.502186     6.0  \n",
       "231  11.777764   7.303170     6.0  \n",
       "259  11.927119   7.488853     6.0  \n",
       "264  11.636920   7.007601     6.0  \n",
       "277  11.836175   7.275172     6.0  \n",
       "295  11.957464   7.118016     6.0  \n",
       "339  11.589729   7.177782     6.0  \n",
       "340  11.870523   7.238497     6.0  \n",
       "414  11.597037   7.614312     6.0  \n",
       "416  12.123099   7.552762     NaN  \n",
       "418  11.683039   7.004882     6.0  \n",
       "444  11.913941   7.181592     6.0  \n",
       "470  11.673325   7.180831     6.0  \n",
       "564  11.849448   7.334329     6.0  \n",
       "572  11.589025   7.036148     6.0  \n",
       "592  12.100607   7.711997     NaN  \n",
       "616  11.612219   7.339538     6.0  \n",
       "621  11.745045   7.070724     6.0  \n",
       "633  11.870984   7.189168     6.0  \n",
       "648  11.520933   7.073270     6.0  \n",
       "674  12.586483   7.602401     NaN  \n",
       "695  11.701958   7.266129     6.0  \n",
       "732  12.169564   7.574558     NaN  \n",
       "757  12.216543   7.414573     NaN  \n",
       "760  11.580519   7.297091     6.0  \n",
       "781  11.642180   7.320527     6.0  "
      ]
     },
     "execution_count": 40,
     "metadata": {},
     "output_type": "execute_result"
    }
   ],
   "source": [
    "df_in_digit[df_in_digit['상영횟수'] > 100_000]"
   ]
  },
  {
   "cell_type": "code",
   "execution_count": 62,
   "metadata": {},
   "outputs": [
    {
     "data": {
      "text/plain": [
       "<matplotlib.axes._subplots.AxesSubplot at 0x10d044e51d0>"
      ]
     },
     "execution_count": 62,
     "metadata": {},
     "output_type": "execute_result"
    },
    {
     "data": {
      "image/png": "[encoded data removed]",
      "text/plain": [
       "<Figure size 432x288 with 1 Axes>"
      ]
     },
     "metadata": {
      "needs_background": "light"
     },
     "output_type": "display_data"
    }
   ],
   "source": [
    "# 간격 줄이기\n",
    "df_in_digit.loc[df_in_digit['상영횟수'] <= 100_000, '상영횟수등급'] = 11\n",
    "df_in_digit.loc[df_in_digit['상영횟수'] <= 70_000, '상영횟수등급'] = 10\n",
    "df_in_digit.loc[df_in_digit['상영횟수'] <= 30_000, '상영횟수등급'] = 9\n",
    "df_in_digit.loc[df_in_digit['상영횟수'] <= 10_000, '상영횟수등급'] = 8\n",
    "df_in_digit.loc[df_in_digit['상영횟수'] <= 3_000, '상영횟수등급'] = 7\n",
    "df_in_digit.loc[df_in_digit['상영횟수'] <= 1_000, '상영횟수등급'] = 6\n",
    "df_in_digit.loc[df_in_digit['상영횟수'] <= 500, '상영횟수등급'] = 5\n",
    "df_in_digit.loc[df_in_digit['상영횟수'] <= 300, '상영횟수등급'] = 4\n",
    "df_in_digit.loc[df_in_digit['상영횟수'] <= 150, '상영횟수등급'] = 3\n",
    "df_in_digit.loc[df_in_digit['상영횟수'] <= 70, '상영횟수등급'] = 2\n",
    "df_in_digit.loc[df_in_digit['상영횟수'] <= 30, '상영횟수등급'] = 1\n",
    "\n",
    "df_in_digit['상영횟수등급'].hist(bins=20)"
   ]
  },
  {
   "cell_type": "code",
   "execution_count": 66,
   "metadata": {},
   "outputs": [
    {
     "data": {
      "text/plain": [
       "상영횟수등급\n",
       "2.0     0.602564\n",
       "3.0     0.554054\n",
       "4.0     0.544304\n",
       "5.0     0.849315\n",
       "6.0     0.656863\n",
       "7.0     0.878788\n",
       "8.0     0.750000\n",
       "9.0     0.602151\n",
       "10.0    0.548780\n",
       "11.0    0.586207\n",
       "Name: F-rated, dtype: float64"
      ]
     },
     "execution_count": 66,
     "metadata": {},
     "output_type": "execute_result"
    }
   ],
   "source": [
    "df_in_digit.groupby(['상영횟수등급'])['F-rated'].mean()"
   ]
  },
  {
   "cell_type": "markdown",
   "metadata": {},
   "source": [
    "에로영화가 많은 2~4등급을 지나면 F-rated 가 올라가다가 8등급을 기점으로 다시 줄어든다"
   ]
  },
  {
   "cell_type": "code",
   "execution_count": 85,
   "metadata": {},
   "outputs": [
    {
     "data": {
      "text/plain": [
       "Index(['순위', '영화명', '개봉일', '매출액', '매출액점유율', '누적매출액', '관객수', '누적관객수', '스크린수',\n",
       "       '상영횟수', '대표국적', '국적', '제작사', '배급사', '등급', '장르', '감독', '배우', '배역명',\n",
       "       '영화코드', '배우코드', '주연배우', '역할_배우', '배우성별', '작가', '작가코드', '대표작가',\n",
       "       '역할_시나리오(각본)', '작가성별', 'F-rated', '감독코드', '대표감독', '역할_감독', '감독성별'],\n",
       "      dtype='object')"
      ]
     },
     "execution_count": 85,
     "metadata": {},
     "output_type": "execute_result"
    }
   ],
   "source": [
    "df.columns"
   ]
  },
  {
   "cell_type": "code",
   "execution_count": 89,
   "metadata": {},
   "outputs": [
    {
     "data": {
      "text/plain": [
       "상영횟수등급  등급      \n",
       "2.0     12세이상관람가    13\n",
       "        15세이상관람가    18\n",
       "        전체관람가        6\n",
       "        청소년관람불가     41\n",
       "3.0     12세이상관람가    21\n",
       "        15세이상관람가    16\n",
       "        전체관람가       11\n",
       "        청소년관람불가     26\n",
       "4.0     12세이상관람가    20\n",
       "        15세이상관람가    30\n",
       "        전체관람가        9\n",
       "        청소년관람불가     20\n",
       "5.0     12세이상관람가    26\n",
       "        15세이상관람가    23\n",
       "        전체관람가       19\n",
       "        청소년관람불가      5\n",
       "6.0     12세이상관람가    27\n",
       "        15세이상관람가    40\n",
       "        전체관람가       28\n",
       "        청소년관람불가      7\n",
       "7.0     12세이상관람가    20\n",
       "        15세이상관람가    30\n",
       "        전체관람가       34\n",
       "        청소년관람불가     15\n",
       "8.0     12세이상관람가    15\n",
       "        15세이상관람가    41\n",
       "        전체관람가       24\n",
       "        청소년관람불가     12\n",
       "9.0     12세이상관람가    21\n",
       "        15세이상관람가    44\n",
       "        전체관람가       14\n",
       "        청소년관람불가     14\n",
       "10.0    12세이상관람가    21\n",
       "        15세이상관람가    44\n",
       "        전체관람가        3\n",
       "        청소년관람불가     14\n",
       "11.0    12세이상관람가    16\n",
       "        15세이상관람가     9\n",
       "        전체관람가        1\n",
       "        청소년관람불가      3\n",
       "Name: 영화명, dtype: int64"
      ]
     },
     "execution_count": 89,
     "metadata": {},
     "output_type": "execute_result"
    }
   ],
   "source": [
    "# df_in_digit = df_in_digit.merge(df[['영화코드', '장르']], how='left', on='영화코드')\n",
    "# df_in_digit = df_in_digit.merge(df[['영화코드', '등급']], how='left', on='영화코드')\n",
    "# df_in_digit = df_in_digit.drop(['장르_x', '장르_y'], axis=1)\n",
    "\n",
    "# df_in_digit[df_in_digit['상영횟수등급'] == 2]['장르'].value_counts()\n",
    "# df_in_digit[df_in_digit['상영횟수등급'] == 2][['영화명', '장르']]\n",
    "\n",
    "df_in_digit[df_in_digit['상영횟수등급'] == 2]['등급'].value_counts()\n",
    "df_in_digit.groupby(['상영횟수등급', '등급'])['영화명'].size()"
   ]
  },
  {
   "cell_type": "code",
   "execution_count": 108,
   "metadata": {},
   "outputs": [
    {
     "data": {
      "text/plain": [
       "<Figure size 1152x432 with 0 Axes>"
      ]
     },
     "metadata": {},
     "output_type": "display_data"
    },
    {
     "data": {
      "image/png": "[encoded data removed]",
      "text/plain": [
       "<Figure size 1440x360 with 4 Axes>"
      ]
     },
     "metadata": {
      "needs_background": "light"
     },
     "output_type": "display_data"
    }
   ],
   "source": [
    "plt.figure(figsize=[16, 6])\n",
    "\n",
    "sns.catplot(x='등급', col='F-rated', y='상영횟수등급',kind='violin', data=df_in_digit)\n",
    "plt.show()"
   ]
  },
  {
   "cell_type": "code",
   "execution_count": 111,
   "metadata": {},
   "outputs": [
    {
     "data": {
      "text/plain": [
       "<matplotlib.axes._subplots.AxesSubplot at 0x10d097ec080>"
      ]
     },
     "execution_count": 111,
     "metadata": {},
     "output_type": "execute_result"
    },
    {
     "data": {
      "image/png": "[encoded data removed]",
      "text/plain": [
       "<Figure size 432x288 with 1 Axes>"
      ]
     },
     "metadata": {
      "needs_background": "light"
     },
     "output_type": "display_data"
    }
   ],
   "source": [
    "df_in_digit[df_in_digit['F-rated'] == 3]['상영횟수등급'].hist()"
   ]
  },
  {
   "cell_type": "code",
   "execution_count": 112,
   "metadata": {},
   "outputs": [
    {
     "data": {
      "text/plain": [
       "<matplotlib.axes._subplots.AxesSubplot at 0x10d098652e8>"
      ]
     },
     "execution_count": 112,
     "metadata": {},
     "output_type": "execute_result"
    },
    {
     "data": {
      "image/png": "[encoded data removed]",
      "text/plain": [
       "<Figure size 432x288 with 1 Axes>"
      ]
     },
     "metadata": {
      "needs_background": "light"
     },
     "output_type": "display_data"
    }
   ],
   "source": [
    "df_in_digit[df_in_digit['F-rated'] == 2]['상영횟수등급'].hist()"
   ]
  },
  {
   "cell_type": "code",
   "execution_count": 113,
   "metadata": {},
   "outputs": [
    {
     "data": {
      "text/plain": [
       "<matplotlib.axes._subplots.AxesSubplot at 0x10d098bea90>"
      ]
     },
     "execution_count": 113,
     "metadata": {},
     "output_type": "execute_result"
    },
    {
     "data": {
      "image/png": "[encoded data removed]",
      "text/plain": [
       "<Figure size 432x288 with 1 Axes>"
      ]
     },
     "metadata": {
      "needs_background": "light"
     },
     "output_type": "display_data"
    }
   ],
   "source": [
    "df_in_digit[df_in_digit['F-rated'] == 1]['상영횟수등급'].hist()"
   ]
  },
  {
   "cell_type": "code",
   "execution_count": 114,
   "metadata": {},
   "outputs": [
    {
     "data": {
      "text/plain": [
       "<matplotlib.axes._subplots.AxesSubplot at 0x10d0990d080>"
      ]
     },
     "execution_count": 114,
     "metadata": {},
     "output_type": "execute_result"
    },
    {
     "data": {
      "image/png": "[encoded data removed]",
      "text/plain": [
       "<Figure size 432x288 with 1 Axes>"
      ]
     },
     "metadata": {
      "needs_background": "light"
     },
     "output_type": "display_data"
    }
   ],
   "source": [
    "df_in_digit[df_in_digit['F-rated'] == 0]['상영횟수등급'].hist()"
   ]
  },
  {
   "cell_type": "markdown",
   "metadata": {},
   "source": [
    "# films.csv 에서 감독 작가 Null 값 확인"
   ]
  },
  {
   "cell_type": "code",
   "execution_count": null,
   "metadata": {},
   "outputs": [],
   "source": []
  }
 ],
 "metadata": {
  "kernelspec": {
   "display_name": "Python 3",
   "language": "python",
   "name": "python3"
  },
  "language_info": {
   "codemirror_mode": {
    "name": "ipython",
    "version": 3
   },
   "file_extension": ".py",
   "mimetype": "text/x-python",
   "name": "python",
   "nbconvert_exporter": "python",
   "pygments_lexer": "ipython3",
   "version": "3.7.4"
  }
 },
 "nbformat": 4,
 "nbformat_minor": 2
}
